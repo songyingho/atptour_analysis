{
 "cells": [
  {
   "cell_type": "markdown",
   "metadata": {
    "heading_collapsed": true
   },
   "source": [
    "# Import Libraries"
   ]
  },
  {
   "cell_type": "code",
   "execution_count": 1,
   "metadata": {
    "ExecuteTime": {
     "end_time": "2020-04-14T18:06:24.646447Z",
     "start_time": "2020-04-14T18:06:16.466690Z"
    },
    "hidden": true
   },
   "outputs": [],
   "source": [
    "import matplotlib.pyplot as plt\n",
    "import numpy as np\n",
    "import pandas as pd\n",
    "import seaborn as sns\n",
    "%matplotlib inline\n",
    "sns.set_style(\"darkgrid\")\n",
    "\n",
    "from IPython.display import Image\n",
    "from pydotplus import graph_from_dot_data\n",
    "from sklearn import metrics\n",
    "\n",
    "from sklearn.ensemble import RandomForestClassifier\n",
    "from sklearn.ensemble import AdaBoostClassifier\n",
    "\n",
    "from sklearn.linear_model import LogisticRegression\n",
    "\n",
    "from sklearn.metrics import accuracy_score\n",
    "from sklearn.metrics import confusion_matrix\n",
    "from sklearn.metrics import roc_curve\n",
    "from sklearn.metrics import auc\n",
    "from sklearn.metrics import roc_auc_score\n",
    "\n",
    "from sklearn.model_selection import cross_val_score\n",
    "from sklearn.model_selection import GridSearchCV\n",
    "from sklearn.model_selection import KFold\n",
    "from sklearn.model_selection import train_test_split\n",
    "\n",
    "from sklearn.preprocessing import OneHotEncoder\n",
    "from sklearn.preprocessing import StandardScaler\n",
    "from sklearn.preprocessing import MinMaxScaler\n",
    "\n",
    "from sklearn.tree import DecisionTreeClassifier\n",
    "from sklearn.tree import export_graphviz\n",
    "\n",
    "from statsmodels.stats.outliers_influence import variance_inflation_factor\n",
    "\n",
    "from xgboost import XGBClassifier\n",
    "\n",
    "import joblib\n",
    "\n",
    "pd.set_option('display.max_columns', 50)\n",
    "pd.set_option('display.max_rows', 500)\n",
    "plt.rcParams['figure.figsize'] = (30,30)\n",
    "\n",
    "import warnings\n",
    "warnings.filterwarnings(\"ignore\")\n",
    "\n",
    "# Define path for saving files\n",
    "import os\n",
    "path=r'C:\\Users\\songying7\\Desktop\\Projects\\atptour_analysis\\index_csv'"
   ]
  },
  {
   "cell_type": "markdown",
   "metadata": {
    "heading_collapsed": true
   },
   "source": [
    "# Data Preparation"
   ]
  },
  {
   "cell_type": "code",
   "execution_count": 7,
   "metadata": {
    "ExecuteTime": {
     "end_time": "2020-04-12T15:51:52.786120Z",
     "start_time": "2020-04-12T15:51:51.165275Z"
    },
    "hidden": true
   },
   "outputs": [],
   "source": [
    "# Prepare both csv for matches and clustered players\n",
    "df_match = pd.read_csv('index_csv/clean_df_v3.0.csv')\n",
    "df_cluster = pd.read_csv('index_csv/player_with_labels.csv')"
   ]
  },
  {
   "cell_type": "markdown",
   "metadata": {
    "heading_collapsed": true,
    "hidden": true
   },
   "source": [
    "## Case Study: Wimbledon 2019 Final"
   ]
  },
  {
   "cell_type": "code",
   "execution_count": 9,
   "metadata": {
    "ExecuteTime": {
     "end_time": "2020-04-12T15:52:02.682517Z",
     "start_time": "2020-04-12T15:52:02.591569Z"
    },
    "hidden": true
   },
   "outputs": [],
   "source": [
    "df_wim_2019_final = df_match[df_match['match_id'] == '2019-540-MS001-10-1-d643-f324']\n",
    "\n",
    "# Remove case study from dataset\n",
    "df_match = df_match[df_match['match_id'] != '2019-540-MS001-10-1-d643-f324']\n",
    "df_match.reset_index(drop = True, inplace = True)"
   ]
  },
  {
   "cell_type": "markdown",
   "metadata": {
    "heading_collapsed": true,
    "hidden": true
   },
   "source": [
    "## Mapping Cluster Group Values & Imputing Missing Data"
   ]
  },
  {
   "cell_type": "code",
   "execution_count": 10,
   "metadata": {
    "ExecuteTime": {
     "end_time": "2020-04-12T15:54:50.264417Z",
     "start_time": "2020-04-12T15:52:09.243669Z"
    },
    "hidden": true
   },
   "outputs": [],
   "source": [
    "# Map clustered group onto matches data\n",
    "slug_list = list(df_cluster['slug'])\n",
    "df = df_match\n",
    "df['group'] = np.nan\n",
    "for i in range(0,len(df_match)):\n",
    "    if df_match['slug'][i] in slug_list:\n",
    "        df['group'][i] = df_cluster[df_cluster['slug'] == df_match['slug'][i]]['group'].values[0]\n",
    "    else:\n",
    "        df['group'][i] = np.nan\n",
    "\n",
    "# First run takes 2 minutes"
   ]
  },
  {
   "cell_type": "code",
   "execution_count": 11,
   "metadata": {
    "ExecuteTime": {
     "end_time": "2020-04-12T15:54:50.762639Z",
     "start_time": "2020-04-12T15:54:50.267394Z"
    },
    "hidden": true
   },
   "outputs": [],
   "source": [
    "# Impute for missing values with weighted probabilities of each clustered group\n",
    "choice = [0,1]\n",
    "prob = df[df['group'].isna() == False]['group'].value_counts(normalize=True).sort_index()\n",
    "df['group'].fillna(np.random.choice(choice, 1, p= prob)[0], inplace = True)"
   ]
  },
  {
   "cell_type": "code",
   "execution_count": 14,
   "metadata": {
    "ExecuteTime": {
     "end_time": "2020-04-12T15:59:16.788655Z",
     "start_time": "2020-04-12T15:59:05.584362Z"
    },
    "hidden": true
   },
   "outputs": [],
   "source": [
    "df.to_csv(os.path.join(path,r'merged_df.csv'), index = False)"
   ]
  },
  {
   "cell_type": "markdown",
   "metadata": {
    "heading_collapsed": true
   },
   "source": [
    "# Initial Data Analysis"
   ]
  },
  {
   "cell_type": "code",
   "execution_count": 15,
   "metadata": {
    "ExecuteTime": {
     "end_time": "2020-04-12T16:00:52.539524Z",
     "start_time": "2020-04-12T16:00:51.095367Z"
    },
    "hidden": true
   },
   "outputs": [],
   "source": [
    "df = pd.read_csv('index_csv/merged_df.csv')"
   ]
  },
  {
   "cell_type": "code",
   "execution_count": 16,
   "metadata": {
    "ExecuteTime": {
     "end_time": "2020-04-12T16:00:53.363569Z",
     "start_time": "2020-04-12T16:00:53.326591Z"
    },
    "hidden": true
   },
   "outputs": [
    {
     "data": {
      "text/plain": [
       "Hard      95020\n",
       "Clay      60534\n",
       "Grass     19272\n",
       "Carpet     9490\n",
       "Name: surface, dtype: int64"
      ]
     },
     "execution_count": 16,
     "metadata": {},
     "output_type": "execute_result"
    }
   ],
   "source": [
    "# Court distribution\n",
    "df['surface'].value_counts()"
   ]
  },
  {
   "cell_type": "markdown",
   "metadata": {
    "heading_collapsed": true,
    "hidden": true
   },
   "source": [
    "## Performance of Player Groups on 3 Different Surfaces"
   ]
  },
  {
   "cell_type": "code",
   "execution_count": 17,
   "metadata": {
    "ExecuteTime": {
     "end_time": "2020-04-12T16:00:56.278996Z",
     "start_time": "2020-04-12T16:00:56.064117Z"
    },
    "hidden": true
   },
   "outputs": [],
   "source": [
    "# Hard court statistics per cluster group\n",
    "hard_df = df[df.surface == 'Hard']\n",
    "val_count_group_hard_group0 = hard_df[hard_df.group == 1.0]['winner'].value_counts()\n",
    "val_count_group_hard_group1 = hard_df[hard_df.group == 0.0]['winner'].value_counts()\n",
    "\n",
    "# Clay court statistics per cluster group\n",
    "clay_df = df[df.surface == 'Clay']\n",
    "val_count_group_clay_group0 = clay_df[clay_df.group == 0.0]['winner'].value_counts()\n",
    "val_count_group_clay_group1 = clay_df[clay_df.group == 1.0]['winner'].value_counts()\n",
    "\n",
    "# Grass court statistics per cluster group\n",
    "grass_df = df[df.surface == 'Grass']\n",
    "val_count_group_grass_group0 = grass_df[grass_df.group == 0.0]['winner'].value_counts()\n",
    "val_count_group_grass_group1 = grass_df[grass_df.group == 1.0]['winner'].value_counts()"
   ]
  },
  {
   "cell_type": "code",
   "execution_count": 18,
   "metadata": {
    "ExecuteTime": {
     "end_time": "2020-04-12T16:00:57.607997Z",
     "start_time": "2020-04-12T16:00:57.473567Z"
    },
    "hidden": true,
    "scrolled": false
   },
   "outputs": [
    {
     "name": "stdout",
     "output_type": "stream",
     "text": [
      "Average base win rate on each surface by each player group \n",
      " Group0 = Players with a balanced service-return game \n",
      " Group1 = Players with a service-dominant game\n"
     ]
    },
    {
     "data": {
      "text/html": [
       "<div>\n",
       "<style scoped>\n",
       "    .dataframe tbody tr th:only-of-type {\n",
       "        vertical-align: middle;\n",
       "    }\n",
       "\n",
       "    .dataframe tbody tr th {\n",
       "        vertical-align: top;\n",
       "    }\n",
       "\n",
       "    .dataframe thead th {\n",
       "        text-align: right;\n",
       "    }\n",
       "</style>\n",
       "<table border=\"1\" class=\"dataframe\">\n",
       "  <thead>\n",
       "    <tr style=\"text-align: right;\">\n",
       "      <th></th>\n",
       "      <th>player_group</th>\n",
       "      <th>clay</th>\n",
       "      <th>hard</th>\n",
       "      <th>grass</th>\n",
       "    </tr>\n",
       "  </thead>\n",
       "  <tbody>\n",
       "    <tr>\n",
       "      <td>0</td>\n",
       "      <td>group0</td>\n",
       "      <td>0.502646</td>\n",
       "      <td>0.518036</td>\n",
       "      <td>0.491106</td>\n",
       "    </tr>\n",
       "    <tr>\n",
       "      <td>1</td>\n",
       "      <td>group1</td>\n",
       "      <td>0.479294</td>\n",
       "      <td>0.495843</td>\n",
       "      <td>0.533565</td>\n",
       "    </tr>\n",
       "  </tbody>\n",
       "</table>\n",
       "</div>"
      ],
      "text/plain": [
       "  player_group      clay      hard     grass\n",
       "0       group0  0.502646  0.518036  0.491106\n",
       "1       group1  0.479294  0.495843  0.533565"
      ]
     },
     "execution_count": 18,
     "metadata": {},
     "output_type": "execute_result"
    }
   ],
   "source": [
    "# Base win rate per player group per surface\n",
    "\n",
    "base_win_rate_per_surface = pd.DataFrame(columns = ['player_group', 'clay', 'hard', 'grass'])\n",
    "\n",
    "base_win_rate_per_surface = base_win_rate_per_surface.append(pd.Series(), ignore_index=True)\n",
    "base_win_rate_per_surface = base_win_rate_per_surface.append(pd.Series(), ignore_index=True)\n",
    "base_win_rate_per_surface['player_group'] = ['group0', 'group1']\n",
    "\n",
    "base_win_rate_per_surface['hard'] = [val_count_group_hard_group0.loc[1.0] / val_count_group_hard_group0.sum(),\n",
    "                                     val_count_group_hard_group1.loc[1.0] / val_count_group_hard_group1.sum()]\n",
    "\n",
    "base_win_rate_per_surface['clay'] = [val_count_group_clay_group0.loc[1.0] / val_count_group_clay_group0.sum(),\n",
    "                                     val_count_group_clay_group1.loc[1.0] / val_count_group_clay_group1.sum()]\n",
    "\n",
    "base_win_rate_per_surface['grass'] = [val_count_group_grass_group0.loc[1.0] / val_count_group_grass_group0.sum(),\n",
    "                                     val_count_group_grass_group1.loc[1.0] / val_count_group_grass_group1.sum()]\n",
    "\n",
    "print(\"Average base win rate on each surface by each player group \\n \\\n",
    "Group0 = Players with a balanced service-return game \\n \\\n",
    "Group1 = Players with a service-dominant game\")\n",
    "\n",
    "base_win_rate_per_surface"
   ]
  },
  {
   "cell_type": "markdown",
   "metadata": {
    "hidden": true
   },
   "source": [
    "The result shown above is consistent:\n",
    "\n",
    "Clay courts are played the slowest, which reduces the effectiveness of service-dominant players; Group 1 players (Service-dominant players) perform the worst on clay surfaces.\n",
    "\n",
    "Hard court plays faster than clay but slower than grass, which supposedly is the most balanced court available, hence a balanced service-return game is required to excel on this surface; Evidently, Group 0 players (Balanced players) perform the best on hard surfaces. \n",
    "\n",
    "Grass court is the fastest surface available on tour, hence it heavily benefits service-dominant players; As shown in the result, Group 1 players has the highest base win rate of any combination, with a 53.4 % chance of winning a match on grass courts, significantly higher than their performance on clay and hard courts, which both are more likely to result in losses, with only 47.9 % chance of winning a match on clay court and 49.6 % on hard court."
   ]
  },
  {
   "cell_type": "markdown",
   "metadata": {
    "heading_collapsed": true,
    "hidden": true
   },
   "source": [
    "## Service & Return Performance Required to Win a Match"
   ]
  },
  {
   "cell_type": "code",
   "execution_count": 19,
   "metadata": {
    "ExecuteTime": {
     "end_time": "2020-04-12T16:01:03.201746Z",
     "start_time": "2020-04-12T16:01:03.026669Z"
    },
    "hidden": true,
    "scrolled": true
   },
   "outputs": [
    {
     "name": "stdout",
     "output_type": "stream",
     "text": [
      "Average service point % required to win:\n",
      "On a clay court match: 66.45 %.\n",
      "On a hard court match: 68.71 %.\n",
      "On a grass court match: 70.31 %.\n",
      "\n",
      "\n",
      "Average return point % required to win:\n",
      "On a clay court match: 45.3 %.\n",
      "On a hard court match: 42.73 %.\n",
      "On a grass court match: 40.69 %.\n"
     ]
    }
   ],
   "source": [
    "# Average Service Performance Required to Win A Match On Different Surfaces\n",
    "\n",
    "print(\"Average service point % required to win:\")\n",
    "\n",
    "print(f\"On a clay court match: {round(clay_df[clay_df['winner'] == 1.0]['service_points_won_%'].mean() * 100,2)} %.\")\n",
    "\n",
    "print(f\"On a hard court match: {round(hard_df[hard_df['winner'] == 1.0]['service_points_won_%'].mean() * 100,2)} %.\")\n",
    "\n",
    "print(f\"On a grass court match: {round(grass_df[grass_df['winner'] == 1.0]['service_points_won_%'].mean() * 100,2)} %.\")\n",
    "\n",
    "print(\"\\n\")\n",
    "      \n",
    "# Average Return Performance Required to Win A Match On Different Surfaces\n",
    "\n",
    "print(\"Average return point % required to win:\")\n",
    "\n",
    "print(f\"On a clay court match: {round(clay_df[clay_df['winner'] == 1.0]['return_points_won_%'].mean() * 100,2)} %.\")\n",
    "\n",
    "print(f\"On a hard court match: {round(hard_df[hard_df['winner'] == 1.0]['return_points_won_%'].mean() * 100,2)} %.\")\n",
    "\n",
    "print(f\"On a grass court match: {round(grass_df[grass_df['winner'] == 1.0]['return_points_won_%'].mean() * 100,2)} %.\")"
   ]
  },
  {
   "cell_type": "markdown",
   "metadata": {
    "hidden": true
   },
   "source": [
    "## Break Points"
   ]
  },
  {
   "cell_type": "code",
   "execution_count": 20,
   "metadata": {
    "ExecuteTime": {
     "end_time": "2020-04-12T16:01:06.932934Z",
     "start_time": "2020-04-12T16:01:06.769044Z"
    },
    "hidden": true,
    "scrolled": false
   },
   "outputs": [
    {
     "name": "stdout",
     "output_type": "stream",
     "text": [
      "Number of players winning the match without having any break point chance: 0\n",
      "\n",
      "Average break points required to win a match:\n",
      "On All Courts: 3.95\n",
      "On Clay Courts: 4.34\n",
      "On Hard Courts: 3.81\n",
      "On Grass Courts: 3.73\n"
     ]
    }
   ],
   "source": [
    "print(f\"Number of players winning the match without having any break point chance: \\\n",
    "{df[df['any_break_points_chance?'] == 0.0]['winner'].value_counts().sum() - df[df['any_break_points_chance?'] == 0.0]['winner'].value_counts().loc[0.0]}\")\n",
    "\n",
    "print(\"\")\n",
    "print(\"Average break points required to win a match:\")\n",
    "print(f\"On All Courts: {round(df[df['winner'] == 1.0]['break_points_converted'].mean(), 2)}\")\n",
    "print(f\"On Clay Courts: {round(clay_df[clay_df['winner'] == 1.0]['break_points_converted'].mean(), 2)}\")\n",
    "print(f\"On Hard Courts: {round(hard_df[hard_df['winner'] == 1.0]['break_points_converted'].mean(), 2)}\")\n",
    "print(f\"On Grass Courts: {round(grass_df[grass_df['winner'] == 1.0]['break_points_converted'].mean(), 2)}\")"
   ]
  },
  {
   "cell_type": "markdown",
   "metadata": {
    "heading_collapsed": true,
    "hidden": true
   },
   "source": [
    "## Winning a Match with Total Point Deficit"
   ]
  },
  {
   "cell_type": "code",
   "execution_count": 30,
   "metadata": {
    "ExecuteTime": {
     "end_time": "2020-04-12T16:08:46.290827Z",
     "start_time": "2020-04-12T16:08:46.235858Z"
    },
    "hidden": true
   },
   "outputs": [
    {
     "name": "stdout",
     "output_type": "stream",
     "text": [
      "Total matches included in dataset: 92158\n",
      "\n",
      "Total winners winning a match with less points won than opponent: 4218\n",
      "\n",
      "Percentage of winner with a total point deficit: 4.58 %\n"
     ]
    }
   ],
   "source": [
    "winner_df = df[df['winner'] == 1.0]\n",
    "print(f\"Total matches included in dataset: {winner_df.shape[0]}\")\n",
    "print(\"\")\n",
    "print(f\"Total winners winning a match with less points won than opponent: {winner_df[winner_df['total_points_won_%'] < 0.5].shape[0]}\")\n",
    "print(\"\")\n",
    "print(f\"Percentage of winner with a total point deficit: {round(winner_df[winner_df['total_points_won_%'] < 0.5].shape[0] / winner_df.shape[0] * 100, 2)} %\")    "
   ]
  },
  {
   "cell_type": "markdown",
   "metadata": {
    "heading_collapsed": true
   },
   "source": [
    "# Feature Importance Analysis"
   ]
  },
  {
   "cell_type": "code",
   "execution_count": 31,
   "metadata": {
    "ExecuteTime": {
     "end_time": "2020-04-12T16:12:05.335929Z",
     "start_time": "2020-04-12T16:12:03.749817Z"
    },
    "hidden": true
   },
   "outputs": [],
   "source": [
    "# Reload dataframe\n",
    "df = pd.read_csv('index_csv/merged_df.csv')"
   ]
  },
  {
   "cell_type": "markdown",
   "metadata": {
    "heading_collapsed": true,
    "hidden": true
   },
   "source": [
    "## Preliminary Data Cleaning"
   ]
  },
  {
   "cell_type": "code",
   "execution_count": 32,
   "metadata": {
    "ExecuteTime": {
     "end_time": "2020-04-12T16:12:40.152882Z",
     "start_time": "2020-04-12T16:12:09.187852Z"
    },
    "hidden": true
   },
   "outputs": [],
   "source": [
    "df['total_return_points_played_%'] = np.nan\n",
    "\n",
    "for i in range(0, len(df)):\n",
    "    df['total_return_points_played_%'][i] = df['return_points_total'][i] / df['total_points_total'][i]"
   ]
  },
  {
   "cell_type": "code",
   "execution_count": 33,
   "metadata": {
    "ExecuteTime": {
     "end_time": "2020-04-12T16:12:40.180867Z",
     "start_time": "2020-04-12T16:12:40.154881Z"
    },
    "hidden": true,
    "scrolled": true
   },
   "outputs": [],
   "source": [
    "df_continuous_target = df['total_points_won_%']\n",
    "\n",
    "to_drop = ['match_id', 'conditions', 'year', 'tourney_slug', 'slug', 'aces_df_ratio',\n",
    "          'first_serves_in', 'first_serves_total', 'first_serve_points_won', 'first_serve_points_total',\n",
    "          'second_serve_points_won', 'second_serve_points_total', \n",
    "           'break_points_saved', 'service_games_played', 'return_games_played', 'first_serve_return_won',\n",
    "          'first_serve_return_total', 'second_serve_return_won', 'second_serve_return_total',\n",
    "          'break_points_converted', 'service_points_won', 'return_points_won', \n",
    "           'total_points_won', 'total_points_won_%',\n",
    "           \n",
    "          'serve_rating', 'return_rating', 'service_points_total', 'aces', 'return_points_total', 'total_points_total',\n",
    "          \n",
    "          'service_points_won_%', 'return_points_won_%', 'serve_return_rating_ratio',\n",
    "          \n",
    "          'diff_in_return_points_played', 'any_break_points_chance?', 'faced_break_points?',\n",
    "          \n",
    "          'break_points_serve_total', 'group', 'double_faults', 'match_duration',\n",
    "          \n",
    "          'serve_return_points_won_ratio', 'aces_per_min']\n",
    "\n",
    "df.drop(columns = to_drop, axis = 1, inplace= True)"
   ]
  },
  {
   "cell_type": "code",
   "execution_count": 34,
   "metadata": {
    "ExecuteTime": {
     "end_time": "2020-04-12T16:12:51.491871Z",
     "start_time": "2020-04-12T16:12:48.133794Z"
    },
    "hidden": true
   },
   "outputs": [],
   "source": [
    "df.to_csv(os.path.join(path,r'merged_df_v1.1.csv'), index = False)"
   ]
  },
  {
   "cell_type": "markdown",
   "metadata": {
    "heading_collapsed": true,
    "hidden": true
   },
   "source": [
    "## Multicollinearity"
   ]
  },
  {
   "cell_type": "markdown",
   "metadata": {
    "heading_collapsed": true,
    "hidden": true
   },
   "source": [
    "### Correlation Matrix (Visual Inspection)"
   ]
  },
  {
   "cell_type": "code",
   "execution_count": 35,
   "metadata": {
    "ExecuteTime": {
     "end_time": "2020-04-12T16:13:00.285538Z",
     "start_time": "2020-04-12T16:12:59.092975Z"
    },
    "hidden": true,
    "scrolled": false
   },
   "outputs": [
    {
     "data": {
      "text/html": [
       "<style  type=\"text/css\" >\n",
       "    #T_7ac55a2c_7cd8_11ea_8c4f_485ab6c46f1arow0_col0 {\n",
       "            background-color:  #b40426;\n",
       "            color:  #f1f1f1;\n",
       "        }    #T_7ac55a2c_7cd8_11ea_8c4f_485ab6c46f1arow0_col1 {\n",
       "            background-color:  #3b4cc0;\n",
       "            color:  #f1f1f1;\n",
       "        }    #T_7ac55a2c_7cd8_11ea_8c4f_485ab6c46f1arow0_col2 {\n",
       "            background-color:  #536edd;\n",
       "            color:  #000000;\n",
       "        }    #T_7ac55a2c_7cd8_11ea_8c4f_485ab6c46f1arow0_col3 {\n",
       "            background-color:  #89acfd;\n",
       "            color:  #000000;\n",
       "        }    #T_7ac55a2c_7cd8_11ea_8c4f_485ab6c46f1arow0_col4 {\n",
       "            background-color:  #5875e1;\n",
       "            color:  #000000;\n",
       "        }    #T_7ac55a2c_7cd8_11ea_8c4f_485ab6c46f1arow0_col5 {\n",
       "            background-color:  #536edd;\n",
       "            color:  #000000;\n",
       "        }    #T_7ac55a2c_7cd8_11ea_8c4f_485ab6c46f1arow0_col6 {\n",
       "            background-color:  #536edd;\n",
       "            color:  #000000;\n",
       "        }    #T_7ac55a2c_7cd8_11ea_8c4f_485ab6c46f1arow0_col7 {\n",
       "            background-color:  #5e7de7;\n",
       "            color:  #000000;\n",
       "        }    #T_7ac55a2c_7cd8_11ea_8c4f_485ab6c46f1arow0_col8 {\n",
       "            background-color:  #4257c9;\n",
       "            color:  #f1f1f1;\n",
       "        }    #T_7ac55a2c_7cd8_11ea_8c4f_485ab6c46f1arow0_col9 {\n",
       "            background-color:  #5b7ae5;\n",
       "            color:  #000000;\n",
       "        }    #T_7ac55a2c_7cd8_11ea_8c4f_485ab6c46f1arow0_col10 {\n",
       "            background-color:  #92b4fe;\n",
       "            color:  #000000;\n",
       "        }    #T_7ac55a2c_7cd8_11ea_8c4f_485ab6c46f1arow1_col0 {\n",
       "            background-color:  #3b4cc0;\n",
       "            color:  #f1f1f1;\n",
       "        }    #T_7ac55a2c_7cd8_11ea_8c4f_485ab6c46f1arow1_col1 {\n",
       "            background-color:  #b40426;\n",
       "            color:  #f1f1f1;\n",
       "        }    #T_7ac55a2c_7cd8_11ea_8c4f_485ab6c46f1arow1_col2 {\n",
       "            background-color:  #abc8fd;\n",
       "            color:  #000000;\n",
       "        }    #T_7ac55a2c_7cd8_11ea_8c4f_485ab6c46f1arow1_col3 {\n",
       "            background-color:  #8db0fe;\n",
       "            color:  #000000;\n",
       "        }    #T_7ac55a2c_7cd8_11ea_8c4f_485ab6c46f1arow1_col4 {\n",
       "            background-color:  #779af7;\n",
       "            color:  #000000;\n",
       "        }    #T_7ac55a2c_7cd8_11ea_8c4f_485ab6c46f1arow1_col5 {\n",
       "            background-color:  #82a6fb;\n",
       "            color:  #000000;\n",
       "        }    #T_7ac55a2c_7cd8_11ea_8c4f_485ab6c46f1arow1_col6 {\n",
       "            background-color:  #7396f5;\n",
       "            color:  #000000;\n",
       "        }    #T_7ac55a2c_7cd8_11ea_8c4f_485ab6c46f1arow1_col7 {\n",
       "            background-color:  #7597f6;\n",
       "            color:  #000000;\n",
       "        }    #T_7ac55a2c_7cd8_11ea_8c4f_485ab6c46f1arow1_col8 {\n",
       "            background-color:  #465ecf;\n",
       "            color:  #f1f1f1;\n",
       "        }    #T_7ac55a2c_7cd8_11ea_8c4f_485ab6c46f1arow1_col9 {\n",
       "            background-color:  #e2dad5;\n",
       "            color:  #000000;\n",
       "        }    #T_7ac55a2c_7cd8_11ea_8c4f_485ab6c46f1arow1_col10 {\n",
       "            background-color:  #d2dbe8;\n",
       "            color:  #000000;\n",
       "        }    #T_7ac55a2c_7cd8_11ea_8c4f_485ab6c46f1arow2_col0 {\n",
       "            background-color:  #6687ed;\n",
       "            color:  #000000;\n",
       "        }    #T_7ac55a2c_7cd8_11ea_8c4f_485ab6c46f1arow2_col1 {\n",
       "            background-color:  #bad0f8;\n",
       "            color:  #000000;\n",
       "        }    #T_7ac55a2c_7cd8_11ea_8c4f_485ab6c46f1arow2_col2 {\n",
       "            background-color:  #b40426;\n",
       "            color:  #f1f1f1;\n",
       "        }    #T_7ac55a2c_7cd8_11ea_8c4f_485ab6c46f1arow2_col3 {\n",
       "            background-color:  #88abfd;\n",
       "            color:  #000000;\n",
       "        }    #T_7ac55a2c_7cd8_11ea_8c4f_485ab6c46f1arow2_col4 {\n",
       "            background-color:  #84a7fc;\n",
       "            color:  #000000;\n",
       "        }    #T_7ac55a2c_7cd8_11ea_8c4f_485ab6c46f1arow2_col5 {\n",
       "            background-color:  #89acfd;\n",
       "            color:  #000000;\n",
       "        }    #T_7ac55a2c_7cd8_11ea_8c4f_485ab6c46f1arow2_col6 {\n",
       "            background-color:  #7699f6;\n",
       "            color:  #000000;\n",
       "        }    #T_7ac55a2c_7cd8_11ea_8c4f_485ab6c46f1arow2_col7 {\n",
       "            background-color:  #799cf8;\n",
       "            color:  #000000;\n",
       "        }    #T_7ac55a2c_7cd8_11ea_8c4f_485ab6c46f1arow2_col8 {\n",
       "            background-color:  #4055c8;\n",
       "            color:  #f1f1f1;\n",
       "        }    #T_7ac55a2c_7cd8_11ea_8c4f_485ab6c46f1arow2_col9 {\n",
       "            background-color:  #d8dce2;\n",
       "            color:  #000000;\n",
       "        }    #T_7ac55a2c_7cd8_11ea_8c4f_485ab6c46f1arow2_col10 {\n",
       "            background-color:  #d2dbe8;\n",
       "            color:  #000000;\n",
       "        }    #T_7ac55a2c_7cd8_11ea_8c4f_485ab6c46f1arow3_col0 {\n",
       "            background-color:  #5a78e4;\n",
       "            color:  #000000;\n",
       "        }    #T_7ac55a2c_7cd8_11ea_8c4f_485ab6c46f1arow3_col1 {\n",
       "            background-color:  #5f7fe8;\n",
       "            color:  #000000;\n",
       "        }    #T_7ac55a2c_7cd8_11ea_8c4f_485ab6c46f1arow3_col2 {\n",
       "            background-color:  #465ecf;\n",
       "            color:  #f1f1f1;\n",
       "        }    #T_7ac55a2c_7cd8_11ea_8c4f_485ab6c46f1arow3_col3 {\n",
       "            background-color:  #b40426;\n",
       "            color:  #f1f1f1;\n",
       "        }    #T_7ac55a2c_7cd8_11ea_8c4f_485ab6c46f1arow3_col4 {\n",
       "            background-color:  #3b4cc0;\n",
       "            color:  #f1f1f1;\n",
       "        }    #T_7ac55a2c_7cd8_11ea_8c4f_485ab6c46f1arow3_col5 {\n",
       "            background-color:  #3b4cc0;\n",
       "            color:  #f1f1f1;\n",
       "        }    #T_7ac55a2c_7cd8_11ea_8c4f_485ab6c46f1arow3_col6 {\n",
       "            background-color:  #4a63d3;\n",
       "            color:  #f1f1f1;\n",
       "        }    #T_7ac55a2c_7cd8_11ea_8c4f_485ab6c46f1arow3_col7 {\n",
       "            background-color:  #506bda;\n",
       "            color:  #000000;\n",
       "        }    #T_7ac55a2c_7cd8_11ea_8c4f_485ab6c46f1arow3_col8 {\n",
       "            background-color:  #3e51c5;\n",
       "            color:  #f1f1f1;\n",
       "        }    #T_7ac55a2c_7cd8_11ea_8c4f_485ab6c46f1arow3_col9 {\n",
       "            background-color:  #506bda;\n",
       "            color:  #000000;\n",
       "        }    #T_7ac55a2c_7cd8_11ea_8c4f_485ab6c46f1arow3_col10 {\n",
       "            background-color:  #3b4cc0;\n",
       "            color:  #f1f1f1;\n",
       "        }    #T_7ac55a2c_7cd8_11ea_8c4f_485ab6c46f1arow4_col0 {\n",
       "            background-color:  #6384eb;\n",
       "            color:  #000000;\n",
       "        }    #T_7ac55a2c_7cd8_11ea_8c4f_485ab6c46f1arow4_col1 {\n",
       "            background-color:  #82a6fb;\n",
       "            color:  #000000;\n",
       "        }    #T_7ac55a2c_7cd8_11ea_8c4f_485ab6c46f1arow4_col2 {\n",
       "            background-color:  #7da0f9;\n",
       "            color:  #000000;\n",
       "        }    #T_7ac55a2c_7cd8_11ea_8c4f_485ab6c46f1arow4_col3 {\n",
       "            background-color:  #7699f6;\n",
       "            color:  #000000;\n",
       "        }    #T_7ac55a2c_7cd8_11ea_8c4f_485ab6c46f1arow4_col4 {\n",
       "            background-color:  #b40426;\n",
       "            color:  #f1f1f1;\n",
       "        }    #T_7ac55a2c_7cd8_11ea_8c4f_485ab6c46f1arow4_col5 {\n",
       "            background-color:  #aec9fc;\n",
       "            color:  #000000;\n",
       "        }    #T_7ac55a2c_7cd8_11ea_8c4f_485ab6c46f1arow4_col6 {\n",
       "            background-color:  #e8d6cc;\n",
       "            color:  #000000;\n",
       "        }    #T_7ac55a2c_7cd8_11ea_8c4f_485ab6c46f1arow4_col7 {\n",
       "            background-color:  #c9d7f0;\n",
       "            color:  #000000;\n",
       "        }    #T_7ac55a2c_7cd8_11ea_8c4f_485ab6c46f1arow4_col8 {\n",
       "            background-color:  #4055c8;\n",
       "            color:  #f1f1f1;\n",
       "        }    #T_7ac55a2c_7cd8_11ea_8c4f_485ab6c46f1arow4_col9 {\n",
       "            background-color:  #e1dad6;\n",
       "            color:  #000000;\n",
       "        }    #T_7ac55a2c_7cd8_11ea_8c4f_485ab6c46f1arow4_col10 {\n",
       "            background-color:  #d2dbe8;\n",
       "            color:  #000000;\n",
       "        }    #T_7ac55a2c_7cd8_11ea_8c4f_485ab6c46f1arow5_col0 {\n",
       "            background-color:  #6180e9;\n",
       "            color:  #000000;\n",
       "        }    #T_7ac55a2c_7cd8_11ea_8c4f_485ab6c46f1arow5_col1 {\n",
       "            background-color:  #8fb1fe;\n",
       "            color:  #000000;\n",
       "        }    #T_7ac55a2c_7cd8_11ea_8c4f_485ab6c46f1arow5_col2 {\n",
       "            background-color:  #85a8fc;\n",
       "            color:  #000000;\n",
       "        }    #T_7ac55a2c_7cd8_11ea_8c4f_485ab6c46f1arow5_col3 {\n",
       "            background-color:  #799cf8;\n",
       "            color:  #000000;\n",
       "        }    #T_7ac55a2c_7cd8_11ea_8c4f_485ab6c46f1arow5_col4 {\n",
       "            background-color:  #afcafc;\n",
       "            color:  #000000;\n",
       "        }    #T_7ac55a2c_7cd8_11ea_8c4f_485ab6c46f1arow5_col5 {\n",
       "            background-color:  #b40426;\n",
       "            color:  #f1f1f1;\n",
       "        }    #T_7ac55a2c_7cd8_11ea_8c4f_485ab6c46f1arow5_col6 {\n",
       "            background-color:  #d8dce2;\n",
       "            color:  #000000;\n",
       "        }    #T_7ac55a2c_7cd8_11ea_8c4f_485ab6c46f1arow5_col7 {\n",
       "            background-color:  #bfd3f6;\n",
       "            color:  #000000;\n",
       "        }    #T_7ac55a2c_7cd8_11ea_8c4f_485ab6c46f1arow5_col8 {\n",
       "            background-color:  #485fd1;\n",
       "            color:  #f1f1f1;\n",
       "        }    #T_7ac55a2c_7cd8_11ea_8c4f_485ab6c46f1arow5_col9 {\n",
       "            background-color:  #d7dce3;\n",
       "            color:  #000000;\n",
       "        }    #T_7ac55a2c_7cd8_11ea_8c4f_485ab6c46f1arow5_col10 {\n",
       "            background-color:  #d2dbe8;\n",
       "            color:  #000000;\n",
       "        }    #T_7ac55a2c_7cd8_11ea_8c4f_485ab6c46f1arow6_col0 {\n",
       "            background-color:  #5f7fe8;\n",
       "            color:  #000000;\n",
       "        }    #T_7ac55a2c_7cd8_11ea_8c4f_485ab6c46f1arow6_col1 {\n",
       "            background-color:  #80a3fa;\n",
       "            color:  #000000;\n",
       "        }    #T_7ac55a2c_7cd8_11ea_8c4f_485ab6c46f1arow6_col2 {\n",
       "            background-color:  #6f92f3;\n",
       "            color:  #000000;\n",
       "        }    #T_7ac55a2c_7cd8_11ea_8c4f_485ab6c46f1arow6_col3 {\n",
       "            background-color:  #86a9fc;\n",
       "            color:  #000000;\n",
       "        }    #T_7ac55a2c_7cd8_11ea_8c4f_485ab6c46f1arow6_col4 {\n",
       "            background-color:  #e8d6cc;\n",
       "            color:  #000000;\n",
       "        }    #T_7ac55a2c_7cd8_11ea_8c4f_485ab6c46f1arow6_col5 {\n",
       "            background-color:  #d7dce3;\n",
       "            color:  #000000;\n",
       "        }    #T_7ac55a2c_7cd8_11ea_8c4f_485ab6c46f1arow6_col6 {\n",
       "            background-color:  #b40426;\n",
       "            color:  #f1f1f1;\n",
       "        }    #T_7ac55a2c_7cd8_11ea_8c4f_485ab6c46f1arow6_col7 {\n",
       "            background-color:  #6282ea;\n",
       "            color:  #000000;\n",
       "        }    #T_7ac55a2c_7cd8_11ea_8c4f_485ab6c46f1arow6_col8 {\n",
       "            background-color:  #3b4cc0;\n",
       "            color:  #f1f1f1;\n",
       "        }    #T_7ac55a2c_7cd8_11ea_8c4f_485ab6c46f1arow6_col9 {\n",
       "            background-color:  #cbd8ee;\n",
       "            color:  #000000;\n",
       "        }    #T_7ac55a2c_7cd8_11ea_8c4f_485ab6c46f1arow6_col10 {\n",
       "            background-color:  #e8d6cc;\n",
       "            color:  #000000;\n",
       "        }    #T_7ac55a2c_7cd8_11ea_8c4f_485ab6c46f1arow7_col0 {\n",
       "            background-color:  #5673e0;\n",
       "            color:  #000000;\n",
       "        }    #T_7ac55a2c_7cd8_11ea_8c4f_485ab6c46f1arow7_col1 {\n",
       "            background-color:  #6c8ff1;\n",
       "            color:  #000000;\n",
       "        }    #T_7ac55a2c_7cd8_11ea_8c4f_485ab6c46f1arow7_col2 {\n",
       "            background-color:  #5e7de7;\n",
       "            color:  #000000;\n",
       "        }    #T_7ac55a2c_7cd8_11ea_8c4f_485ab6c46f1arow7_col3 {\n",
       "            background-color:  #799cf8;\n",
       "            color:  #000000;\n",
       "        }    #T_7ac55a2c_7cd8_11ea_8c4f_485ab6c46f1arow7_col4 {\n",
       "            background-color:  #bbd1f8;\n",
       "            color:  #000000;\n",
       "        }    #T_7ac55a2c_7cd8_11ea_8c4f_485ab6c46f1arow7_col5 {\n",
       "            background-color:  #afcafc;\n",
       "            color:  #000000;\n",
       "        }    #T_7ac55a2c_7cd8_11ea_8c4f_485ab6c46f1arow7_col6 {\n",
       "            background-color:  #4c66d6;\n",
       "            color:  #000000;\n",
       "        }    #T_7ac55a2c_7cd8_11ea_8c4f_485ab6c46f1arow7_col7 {\n",
       "            background-color:  #b40426;\n",
       "            color:  #f1f1f1;\n",
       "        }    #T_7ac55a2c_7cd8_11ea_8c4f_485ab6c46f1arow7_col8 {\n",
       "            background-color:  #4257c9;\n",
       "            color:  #f1f1f1;\n",
       "        }    #T_7ac55a2c_7cd8_11ea_8c4f_485ab6c46f1arow7_col9 {\n",
       "            background-color:  #a3c2fe;\n",
       "            color:  #000000;\n",
       "        }    #T_7ac55a2c_7cd8_11ea_8c4f_485ab6c46f1arow7_col10 {\n",
       "            background-color:  #6384eb;\n",
       "            color:  #000000;\n",
       "        }    #T_7ac55a2c_7cd8_11ea_8c4f_485ab6c46f1arow8_col0 {\n",
       "            background-color:  #4f69d9;\n",
       "            color:  #000000;\n",
       "        }    #T_7ac55a2c_7cd8_11ea_8c4f_485ab6c46f1arow8_col1 {\n",
       "            background-color:  #5470de;\n",
       "            color:  #000000;\n",
       "        }    #T_7ac55a2c_7cd8_11ea_8c4f_485ab6c46f1arow8_col2 {\n",
       "            background-color:  #3b4cc0;\n",
       "            color:  #f1f1f1;\n",
       "        }    #T_7ac55a2c_7cd8_11ea_8c4f_485ab6c46f1arow8_col3 {\n",
       "            background-color:  #7b9ff9;\n",
       "            color:  #000000;\n",
       "        }    #T_7ac55a2c_7cd8_11ea_8c4f_485ab6c46f1arow8_col4 {\n",
       "            background-color:  #4257c9;\n",
       "            color:  #f1f1f1;\n",
       "        }    #T_7ac55a2c_7cd8_11ea_8c4f_485ab6c46f1arow8_col5 {\n",
       "            background-color:  #455cce;\n",
       "            color:  #f1f1f1;\n",
       "        }    #T_7ac55a2c_7cd8_11ea_8c4f_485ab6c46f1arow8_col6 {\n",
       "            background-color:  #3b4cc0;\n",
       "            color:  #f1f1f1;\n",
       "        }    #T_7ac55a2c_7cd8_11ea_8c4f_485ab6c46f1arow8_col7 {\n",
       "            background-color:  #5673e0;\n",
       "            color:  #000000;\n",
       "        }    #T_7ac55a2c_7cd8_11ea_8c4f_485ab6c46f1arow8_col8 {\n",
       "            background-color:  #b40426;\n",
       "            color:  #f1f1f1;\n",
       "        }    #T_7ac55a2c_7cd8_11ea_8c4f_485ab6c46f1arow8_col9 {\n",
       "            background-color:  #3b4cc0;\n",
       "            color:  #f1f1f1;\n",
       "        }    #T_7ac55a2c_7cd8_11ea_8c4f_485ab6c46f1arow8_col10 {\n",
       "            background-color:  #81a4fb;\n",
       "            color:  #000000;\n",
       "        }    #T_7ac55a2c_7cd8_11ea_8c4f_485ab6c46f1arow9_col0 {\n",
       "            background-color:  #7093f3;\n",
       "            color:  #000000;\n",
       "        }    #T_7ac55a2c_7cd8_11ea_8c4f_485ab6c46f1arow9_col1 {\n",
       "            background-color:  #ead4c8;\n",
       "            color:  #000000;\n",
       "        }    #T_7ac55a2c_7cd8_11ea_8c4f_485ab6c46f1arow9_col2 {\n",
       "            background-color:  #d9dce1;\n",
       "            color:  #000000;\n",
       "        }    #T_7ac55a2c_7cd8_11ea_8c4f_485ab6c46f1arow9_col3 {\n",
       "            background-color:  #94b6ff;\n",
       "            color:  #000000;\n",
       "        }    #T_7ac55a2c_7cd8_11ea_8c4f_485ab6c46f1arow9_col4 {\n",
       "            background-color:  #e5d8d1;\n",
       "            color:  #000000;\n",
       "        }    #T_7ac55a2c_7cd8_11ea_8c4f_485ab6c46f1arow9_col5 {\n",
       "            background-color:  #dbdcde;\n",
       "            color:  #000000;\n",
       "        }    #T_7ac55a2c_7cd8_11ea_8c4f_485ab6c46f1arow9_col6 {\n",
       "            background-color:  #d1dae9;\n",
       "            color:  #000000;\n",
       "        }    #T_7ac55a2c_7cd8_11ea_8c4f_485ab6c46f1arow9_col7 {\n",
       "            background-color:  #bad0f8;\n",
       "            color:  #000000;\n",
       "        }    #T_7ac55a2c_7cd8_11ea_8c4f_485ab6c46f1arow9_col8 {\n",
       "            background-color:  #445acc;\n",
       "            color:  #f1f1f1;\n",
       "        }    #T_7ac55a2c_7cd8_11ea_8c4f_485ab6c46f1arow9_col9 {\n",
       "            background-color:  #b40426;\n",
       "            color:  #f1f1f1;\n",
       "        }    #T_7ac55a2c_7cd8_11ea_8c4f_485ab6c46f1arow9_col10 {\n",
       "            background-color:  #c6d6f1;\n",
       "            color:  #000000;\n",
       "        }    #T_7ac55a2c_7cd8_11ea_8c4f_485ab6c46f1arow10_col0 {\n",
       "            background-color:  #6384eb;\n",
       "            color:  #000000;\n",
       "        }    #T_7ac55a2c_7cd8_11ea_8c4f_485ab6c46f1arow10_col1 {\n",
       "            background-color:  #b3cdfb;\n",
       "            color:  #000000;\n",
       "        }    #T_7ac55a2c_7cd8_11ea_8c4f_485ab6c46f1arow10_col2 {\n",
       "            background-color:  #a5c3fe;\n",
       "            color:  #000000;\n",
       "        }    #T_7ac55a2c_7cd8_11ea_8c4f_485ab6c46f1arow10_col3 {\n",
       "            background-color:  #3b4cc0;\n",
       "            color:  #f1f1f1;\n",
       "        }    #T_7ac55a2c_7cd8_11ea_8c4f_485ab6c46f1arow10_col4 {\n",
       "            background-color:  #aac7fd;\n",
       "            color:  #000000;\n",
       "        }    #T_7ac55a2c_7cd8_11ea_8c4f_485ab6c46f1arow10_col5 {\n",
       "            background-color:  #a9c6fd;\n",
       "            color:  #000000;\n",
       "        }    #T_7ac55a2c_7cd8_11ea_8c4f_485ab6c46f1arow10_col6 {\n",
       "            background-color:  #cbd8ee;\n",
       "            color:  #000000;\n",
       "        }    #T_7ac55a2c_7cd8_11ea_8c4f_485ab6c46f1arow10_col7 {\n",
       "            background-color:  #3b4cc0;\n",
       "            color:  #f1f1f1;\n",
       "        }    #T_7ac55a2c_7cd8_11ea_8c4f_485ab6c46f1arow10_col8 {\n",
       "            background-color:  #445acc;\n",
       "            color:  #f1f1f1;\n",
       "        }    #T_7ac55a2c_7cd8_11ea_8c4f_485ab6c46f1arow10_col9 {\n",
       "            background-color:  #90b2fe;\n",
       "            color:  #000000;\n",
       "        }    #T_7ac55a2c_7cd8_11ea_8c4f_485ab6c46f1arow10_col10 {\n",
       "            background-color:  #b40426;\n",
       "            color:  #f1f1f1;\n",
       "        }</style><table id=\"T_7ac55a2c_7cd8_11ea_8c4f_485ab6c46f1a\" ><thead>    <tr>        <th class=\"blank level0\" ></th>        <th class=\"col_heading level0 col0\" >first_serves_in_%</th>        <th class=\"col_heading level0 col1\" >first_serves_points_won_%</th>        <th class=\"col_heading level0 col2\" >second_serves_points_won_%</th>        <th class=\"col_heading level0 col3\" >break_point_save_%</th>        <th class=\"col_heading level0 col4\" >first_serves_return_points_won_%</th>        <th class=\"col_heading level0 col5\" >second_serves_return_points_won_%</th>        <th class=\"col_heading level0 col6\" >break_points_return_total</th>        <th class=\"col_heading level0 col7\" >break_point_convert_%</th>        <th class=\"col_heading level0 col8\" >diff_in_first_serves_in_%</th>        <th class=\"col_heading level0 col9\" >winner</th>        <th class=\"col_heading level0 col10\" >total_return_points_played_%</th>    </tr></thead><tbody>\n",
       "                <tr>\n",
       "                        <th id=\"T_7ac55a2c_7cd8_11ea_8c4f_485ab6c46f1alevel0_row0\" class=\"row_heading level0 row0\" >first_serves_in_%</th>\n",
       "                        <td id=\"T_7ac55a2c_7cd8_11ea_8c4f_485ab6c46f1arow0_col0\" class=\"data row0 col0\" >1</td>\n",
       "                        <td id=\"T_7ac55a2c_7cd8_11ea_8c4f_485ab6c46f1arow0_col1\" class=\"data row0 col1\" >-0.0790399</td>\n",
       "                        <td id=\"T_7ac55a2c_7cd8_11ea_8c4f_485ab6c46f1arow0_col2\" class=\"data row0 col2\" >0.0695833</td>\n",
       "                        <td id=\"T_7ac55a2c_7cd8_11ea_8c4f_485ab6c46f1arow0_col3\" class=\"data row0 col3\" >0.0345145</td>\n",
       "                        <td id=\"T_7ac55a2c_7cd8_11ea_8c4f_485ab6c46f1arow0_col4\" class=\"data row0 col4\" >0.0607624</td>\n",
       "                        <td id=\"T_7ac55a2c_7cd8_11ea_8c4f_485ab6c46f1arow0_col5\" class=\"data row0 col5\" >0.0556801</td>\n",
       "                        <td id=\"T_7ac55a2c_7cd8_11ea_8c4f_485ab6c46f1arow0_col6\" class=\"data row0 col6\" >0.0503825</td>\n",
       "                        <td id=\"T_7ac55a2c_7cd8_11ea_8c4f_485ab6c46f1arow0_col7\" class=\"data row0 col7\" >0.0207009</td>\n",
       "                        <td id=\"T_7ac55a2c_7cd8_11ea_8c4f_485ab6c46f1arow0_col8\" class=\"data row0 col8\" >-0.00736759</td>\n",
       "                        <td id=\"T_7ac55a2c_7cd8_11ea_8c4f_485ab6c46f1arow0_col9\" class=\"data row0 col9\" >0.106087</td>\n",
       "                        <td id=\"T_7ac55a2c_7cd8_11ea_8c4f_485ab6c46f1arow0_col10\" class=\"data row0 col10\" >0.0611436</td>\n",
       "            </tr>\n",
       "            <tr>\n",
       "                        <th id=\"T_7ac55a2c_7cd8_11ea_8c4f_485ab6c46f1alevel0_row1\" class=\"row_heading level0 row1\" >first_serves_points_won_%</th>\n",
       "                        <td id=\"T_7ac55a2c_7cd8_11ea_8c4f_485ab6c46f1arow1_col0\" class=\"data row1 col0\" >-0.0790399</td>\n",
       "                        <td id=\"T_7ac55a2c_7cd8_11ea_8c4f_485ab6c46f1arow1_col1\" class=\"data row1 col1\" >1</td>\n",
       "                        <td id=\"T_7ac55a2c_7cd8_11ea_8c4f_485ab6c46f1arow1_col2\" class=\"data row1 col2\" >0.33118</td>\n",
       "                        <td id=\"T_7ac55a2c_7cd8_11ea_8c4f_485ab6c46f1arow1_col3\" class=\"data row1 col3\" >0.0475061</td>\n",
       "                        <td id=\"T_7ac55a2c_7cd8_11ea_8c4f_485ab6c46f1arow1_col4\" class=\"data row1 col4\" >0.160899</td>\n",
       "                        <td id=\"T_7ac55a2c_7cd8_11ea_8c4f_485ab6c46f1arow1_col5\" class=\"data row1 col5\" >0.198631</td>\n",
       "                        <td id=\"T_7ac55a2c_7cd8_11ea_8c4f_485ab6c46f1arow1_col6\" class=\"data row1 col6\" >0.151819</td>\n",
       "                        <td id=\"T_7ac55a2c_7cd8_11ea_8c4f_485ab6c46f1arow1_col7\" class=\"data row1 col7\" >0.091578</td>\n",
       "                        <td id=\"T_7ac55a2c_7cd8_11ea_8c4f_485ab6c46f1arow1_col8\" class=\"data row1 col8\" >0.0100647</td>\n",
       "                        <td id=\"T_7ac55a2c_7cd8_11ea_8c4f_485ab6c46f1arow1_col9\" class=\"data row1 col9\" >0.522402</td>\n",
       "                        <td id=\"T_7ac55a2c_7cd8_11ea_8c4f_485ab6c46f1arow1_col10\" class=\"data row1 col10\" >0.312365</td>\n",
       "            </tr>\n",
       "            <tr>\n",
       "                        <th id=\"T_7ac55a2c_7cd8_11ea_8c4f_485ab6c46f1alevel0_row2\" class=\"row_heading level0 row2\" >second_serves_points_won_%</th>\n",
       "                        <td id=\"T_7ac55a2c_7cd8_11ea_8c4f_485ab6c46f1arow2_col0\" class=\"data row2 col0\" >0.0695833</td>\n",
       "                        <td id=\"T_7ac55a2c_7cd8_11ea_8c4f_485ab6c46f1arow2_col1\" class=\"data row2 col1\" >0.33118</td>\n",
       "                        <td id=\"T_7ac55a2c_7cd8_11ea_8c4f_485ab6c46f1arow2_col2\" class=\"data row2 col2\" >1</td>\n",
       "                        <td id=\"T_7ac55a2c_7cd8_11ea_8c4f_485ab6c46f1arow2_col3\" class=\"data row2 col3\" >0.0291032</td>\n",
       "                        <td id=\"T_7ac55a2c_7cd8_11ea_8c4f_485ab6c46f1arow2_col4\" class=\"data row2 col4\" >0.195847</td>\n",
       "                        <td id=\"T_7ac55a2c_7cd8_11ea_8c4f_485ab6c46f1arow2_col5\" class=\"data row2 col5\" >0.218608</td>\n",
       "                        <td id=\"T_7ac55a2c_7cd8_11ea_8c4f_485ab6c46f1arow2_col6\" class=\"data row2 col6\" >0.157173</td>\n",
       "                        <td id=\"T_7ac55a2c_7cd8_11ea_8c4f_485ab6c46f1arow2_col7\" class=\"data row2 col7\" >0.105651</td>\n",
       "                        <td id=\"T_7ac55a2c_7cd8_11ea_8c4f_485ab6c46f1arow2_col8\" class=\"data row2 col8\" >-0.0120084</td>\n",
       "                        <td id=\"T_7ac55a2c_7cd8_11ea_8c4f_485ab6c46f1arow2_col9\" class=\"data row2 col9\" >0.481118</td>\n",
       "                        <td id=\"T_7ac55a2c_7cd8_11ea_8c4f_485ab6c46f1arow2_col10\" class=\"data row2 col10\" >0.311727</td>\n",
       "            </tr>\n",
       "            <tr>\n",
       "                        <th id=\"T_7ac55a2c_7cd8_11ea_8c4f_485ab6c46f1alevel0_row3\" class=\"row_heading level0 row3\" >break_point_save_%</th>\n",
       "                        <td id=\"T_7ac55a2c_7cd8_11ea_8c4f_485ab6c46f1arow3_col0\" class=\"data row3 col0\" >0.0345145</td>\n",
       "                        <td id=\"T_7ac55a2c_7cd8_11ea_8c4f_485ab6c46f1arow3_col1\" class=\"data row3 col1\" >0.0475061</td>\n",
       "                        <td id=\"T_7ac55a2c_7cd8_11ea_8c4f_485ab6c46f1arow3_col2\" class=\"data row3 col2\" >0.0291032</td>\n",
       "                        <td id=\"T_7ac55a2c_7cd8_11ea_8c4f_485ab6c46f1arow3_col3\" class=\"data row3 col3\" >1</td>\n",
       "                        <td id=\"T_7ac55a2c_7cd8_11ea_8c4f_485ab6c46f1arow3_col4\" class=\"data row3 col4\" >-0.0366239</td>\n",
       "                        <td id=\"T_7ac55a2c_7cd8_11ea_8c4f_485ab6c46f1arow3_col5\" class=\"data row3 col5\" >-0.0265148</td>\n",
       "                        <td id=\"T_7ac55a2c_7cd8_11ea_8c4f_485ab6c46f1arow3_col6\" class=\"data row3 col6\" >0.0214964</td>\n",
       "                        <td id=\"T_7ac55a2c_7cd8_11ea_8c4f_485ab6c46f1arow3_col7\" class=\"data row3 col7\" >-0.0278293</td>\n",
       "                        <td id=\"T_7ac55a2c_7cd8_11ea_8c4f_485ab6c46f1arow3_col8\" class=\"data row3 col8\" >-0.018828</td>\n",
       "                        <td id=\"T_7ac55a2c_7cd8_11ea_8c4f_485ab6c46f1arow3_col9\" class=\"data row3 col9\" >0.0708372</td>\n",
       "                        <td id=\"T_7ac55a2c_7cd8_11ea_8c4f_485ab6c46f1arow3_col10\" class=\"data row3 col10\" >-0.273756</td>\n",
       "            </tr>\n",
       "            <tr>\n",
       "                        <th id=\"T_7ac55a2c_7cd8_11ea_8c4f_485ab6c46f1alevel0_row4\" class=\"row_heading level0 row4\" >first_serves_return_points_won_%</th>\n",
       "                        <td id=\"T_7ac55a2c_7cd8_11ea_8c4f_485ab6c46f1arow4_col0\" class=\"data row4 col0\" >0.0607624</td>\n",
       "                        <td id=\"T_7ac55a2c_7cd8_11ea_8c4f_485ab6c46f1arow4_col1\" class=\"data row4 col1\" >0.160899</td>\n",
       "                        <td id=\"T_7ac55a2c_7cd8_11ea_8c4f_485ab6c46f1arow4_col2\" class=\"data row4 col2\" >0.195847</td>\n",
       "                        <td id=\"T_7ac55a2c_7cd8_11ea_8c4f_485ab6c46f1arow4_col3\" class=\"data row4 col3\" >-0.0366239</td>\n",
       "                        <td id=\"T_7ac55a2c_7cd8_11ea_8c4f_485ab6c46f1arow4_col4\" class=\"data row4 col4\" >1</td>\n",
       "                        <td id=\"T_7ac55a2c_7cd8_11ea_8c4f_485ab6c46f1arow4_col5\" class=\"data row4 col5\" >0.327248</td>\n",
       "                        <td id=\"T_7ac55a2c_7cd8_11ea_8c4f_485ab6c46f1arow4_col6\" class=\"data row4 col6\" >0.530045</td>\n",
       "                        <td id=\"T_7ac55a2c_7cd8_11ea_8c4f_485ab6c46f1arow4_col7\" class=\"data row4 col7\" >0.36411</td>\n",
       "                        <td id=\"T_7ac55a2c_7cd8_11ea_8c4f_485ab6c46f1arow4_col8\" class=\"data row4 col8\" >-0.00903649</td>\n",
       "                        <td id=\"T_7ac55a2c_7cd8_11ea_8c4f_485ab6c46f1arow4_col9\" class=\"data row4 col9\" >0.516248</td>\n",
       "                        <td id=\"T_7ac55a2c_7cd8_11ea_8c4f_485ab6c46f1arow4_col10\" class=\"data row4 col10\" >0.308551</td>\n",
       "            </tr>\n",
       "            <tr>\n",
       "                        <th id=\"T_7ac55a2c_7cd8_11ea_8c4f_485ab6c46f1alevel0_row5\" class=\"row_heading level0 row5\" >second_serves_return_points_won_%</th>\n",
       "                        <td id=\"T_7ac55a2c_7cd8_11ea_8c4f_485ab6c46f1arow5_col0\" class=\"data row5 col0\" >0.0556801</td>\n",
       "                        <td id=\"T_7ac55a2c_7cd8_11ea_8c4f_485ab6c46f1arow5_col1\" class=\"data row5 col1\" >0.198631</td>\n",
       "                        <td id=\"T_7ac55a2c_7cd8_11ea_8c4f_485ab6c46f1arow5_col2\" class=\"data row5 col2\" >0.218608</td>\n",
       "                        <td id=\"T_7ac55a2c_7cd8_11ea_8c4f_485ab6c46f1arow5_col3\" class=\"data row5 col3\" >-0.0265148</td>\n",
       "                        <td id=\"T_7ac55a2c_7cd8_11ea_8c4f_485ab6c46f1arow5_col4\" class=\"data row5 col4\" >0.327248</td>\n",
       "                        <td id=\"T_7ac55a2c_7cd8_11ea_8c4f_485ab6c46f1arow5_col5\" class=\"data row5 col5\" >1</td>\n",
       "                        <td id=\"T_7ac55a2c_7cd8_11ea_8c4f_485ab6c46f1arow5_col6\" class=\"data row5 col6\" >0.4655</td>\n",
       "                        <td id=\"T_7ac55a2c_7cd8_11ea_8c4f_485ab6c46f1arow5_col7\" class=\"data row5 col7\" >0.331809</td>\n",
       "                        <td id=\"T_7ac55a2c_7cd8_11ea_8c4f_485ab6c46f1arow5_col8\" class=\"data row5 col8\" >0.0119951</td>\n",
       "                        <td id=\"T_7ac55a2c_7cd8_11ea_8c4f_485ab6c46f1arow5_col9\" class=\"data row5 col9\" >0.479797</td>\n",
       "                        <td id=\"T_7ac55a2c_7cd8_11ea_8c4f_485ab6c46f1arow5_col10\" class=\"data row5 col10\" >0.310617</td>\n",
       "            </tr>\n",
       "            <tr>\n",
       "                        <th id=\"T_7ac55a2c_7cd8_11ea_8c4f_485ab6c46f1alevel0_row6\" class=\"row_heading level0 row6\" >break_points_return_total</th>\n",
       "                        <td id=\"T_7ac55a2c_7cd8_11ea_8c4f_485ab6c46f1arow6_col0\" class=\"data row6 col0\" >0.0503825</td>\n",
       "                        <td id=\"T_7ac55a2c_7cd8_11ea_8c4f_485ab6c46f1arow6_col1\" class=\"data row6 col1\" >0.151819</td>\n",
       "                        <td id=\"T_7ac55a2c_7cd8_11ea_8c4f_485ab6c46f1arow6_col2\" class=\"data row6 col2\" >0.157173</td>\n",
       "                        <td id=\"T_7ac55a2c_7cd8_11ea_8c4f_485ab6c46f1arow6_col3\" class=\"data row6 col3\" >0.0214964</td>\n",
       "                        <td id=\"T_7ac55a2c_7cd8_11ea_8c4f_485ab6c46f1arow6_col4\" class=\"data row6 col4\" >0.530045</td>\n",
       "                        <td id=\"T_7ac55a2c_7cd8_11ea_8c4f_485ab6c46f1arow6_col5\" class=\"data row6 col5\" >0.4655</td>\n",
       "                        <td id=\"T_7ac55a2c_7cd8_11ea_8c4f_485ab6c46f1arow6_col6\" class=\"data row6 col6\" >1</td>\n",
       "                        <td id=\"T_7ac55a2c_7cd8_11ea_8c4f_485ab6c46f1arow6_col7\" class=\"data row6 col7\" >0.0315934</td>\n",
       "                        <td id=\"T_7ac55a2c_7cd8_11ea_8c4f_485ab6c46f1arow6_col8\" class=\"data row6 col8\" >-0.0327306</td>\n",
       "                        <td id=\"T_7ac55a2c_7cd8_11ea_8c4f_485ab6c46f1arow6_col9\" class=\"data row6 col9\" >0.436226</td>\n",
       "                        <td id=\"T_7ac55a2c_7cd8_11ea_8c4f_485ab6c46f1arow6_col10\" class=\"data row6 col10\" >0.418815</td>\n",
       "            </tr>\n",
       "            <tr>\n",
       "                        <th id=\"T_7ac55a2c_7cd8_11ea_8c4f_485ab6c46f1alevel0_row7\" class=\"row_heading level0 row7\" >break_point_convert_%</th>\n",
       "                        <td id=\"T_7ac55a2c_7cd8_11ea_8c4f_485ab6c46f1arow7_col0\" class=\"data row7 col0\" >0.0207009</td>\n",
       "                        <td id=\"T_7ac55a2c_7cd8_11ea_8c4f_485ab6c46f1arow7_col1\" class=\"data row7 col1\" >0.091578</td>\n",
       "                        <td id=\"T_7ac55a2c_7cd8_11ea_8c4f_485ab6c46f1arow7_col2\" class=\"data row7 col2\" >0.105651</td>\n",
       "                        <td id=\"T_7ac55a2c_7cd8_11ea_8c4f_485ab6c46f1arow7_col3\" class=\"data row7 col3\" >-0.0278293</td>\n",
       "                        <td id=\"T_7ac55a2c_7cd8_11ea_8c4f_485ab6c46f1arow7_col4\" class=\"data row7 col4\" >0.36411</td>\n",
       "                        <td id=\"T_7ac55a2c_7cd8_11ea_8c4f_485ab6c46f1arow7_col5\" class=\"data row7 col5\" >0.331809</td>\n",
       "                        <td id=\"T_7ac55a2c_7cd8_11ea_8c4f_485ab6c46f1arow7_col6\" class=\"data row7 col6\" >0.0315934</td>\n",
       "                        <td id=\"T_7ac55a2c_7cd8_11ea_8c4f_485ab6c46f1arow7_col7\" class=\"data row7 col7\" >1</td>\n",
       "                        <td id=\"T_7ac55a2c_7cd8_11ea_8c4f_485ab6c46f1arow7_col8\" class=\"data row7 col8\" >-0.00679945</td>\n",
       "                        <td id=\"T_7ac55a2c_7cd8_11ea_8c4f_485ab6c46f1arow7_col9\" class=\"data row7 col9\" >0.313983</td>\n",
       "                        <td id=\"T_7ac55a2c_7cd8_11ea_8c4f_485ab6c46f1arow7_col10\" class=\"data row7 col10\" >-0.108014</td>\n",
       "            </tr>\n",
       "            <tr>\n",
       "                        <th id=\"T_7ac55a2c_7cd8_11ea_8c4f_485ab6c46f1alevel0_row8\" class=\"row_heading level0 row8\" >diff_in_first_serves_in_%</th>\n",
       "                        <td id=\"T_7ac55a2c_7cd8_11ea_8c4f_485ab6c46f1arow8_col0\" class=\"data row8 col0\" >-0.00736759</td>\n",
       "                        <td id=\"T_7ac55a2c_7cd8_11ea_8c4f_485ab6c46f1arow8_col1\" class=\"data row8 col1\" >0.0100647</td>\n",
       "                        <td id=\"T_7ac55a2c_7cd8_11ea_8c4f_485ab6c46f1arow8_col2\" class=\"data row8 col2\" >-0.0120084</td>\n",
       "                        <td id=\"T_7ac55a2c_7cd8_11ea_8c4f_485ab6c46f1arow8_col3\" class=\"data row8 col3\" >-0.018828</td>\n",
       "                        <td id=\"T_7ac55a2c_7cd8_11ea_8c4f_485ab6c46f1arow8_col4\" class=\"data row8 col4\" >-0.00903649</td>\n",
       "                        <td id=\"T_7ac55a2c_7cd8_11ea_8c4f_485ab6c46f1arow8_col5\" class=\"data row8 col5\" >0.0119951</td>\n",
       "                        <td id=\"T_7ac55a2c_7cd8_11ea_8c4f_485ab6c46f1arow8_col6\" class=\"data row8 col6\" >-0.0327306</td>\n",
       "                        <td id=\"T_7ac55a2c_7cd8_11ea_8c4f_485ab6c46f1arow8_col7\" class=\"data row8 col7\" >-0.00679945</td>\n",
       "                        <td id=\"T_7ac55a2c_7cd8_11ea_8c4f_485ab6c46f1arow8_col8\" class=\"data row8 col8\" >1</td>\n",
       "                        <td id=\"T_7ac55a2c_7cd8_11ea_8c4f_485ab6c46f1arow8_col9\" class=\"data row8 col9\" >4.86827e-17</td>\n",
       "                        <td id=\"T_7ac55a2c_7cd8_11ea_8c4f_485ab6c46f1arow8_col10\" class=\"data row8 col10\" >6.48804e-07</td>\n",
       "            </tr>\n",
       "            <tr>\n",
       "                        <th id=\"T_7ac55a2c_7cd8_11ea_8c4f_485ab6c46f1alevel0_row9\" class=\"row_heading level0 row9\" >winner</th>\n",
       "                        <td id=\"T_7ac55a2c_7cd8_11ea_8c4f_485ab6c46f1arow9_col0\" class=\"data row9 col0\" >0.106087</td>\n",
       "                        <td id=\"T_7ac55a2c_7cd8_11ea_8c4f_485ab6c46f1arow9_col1\" class=\"data row9 col1\" >0.522402</td>\n",
       "                        <td id=\"T_7ac55a2c_7cd8_11ea_8c4f_485ab6c46f1arow9_col2\" class=\"data row9 col2\" >0.481118</td>\n",
       "                        <td id=\"T_7ac55a2c_7cd8_11ea_8c4f_485ab6c46f1arow9_col3\" class=\"data row9 col3\" >0.0708372</td>\n",
       "                        <td id=\"T_7ac55a2c_7cd8_11ea_8c4f_485ab6c46f1arow9_col4\" class=\"data row9 col4\" >0.516248</td>\n",
       "                        <td id=\"T_7ac55a2c_7cd8_11ea_8c4f_485ab6c46f1arow9_col5\" class=\"data row9 col5\" >0.479797</td>\n",
       "                        <td id=\"T_7ac55a2c_7cd8_11ea_8c4f_485ab6c46f1arow9_col6\" class=\"data row9 col6\" >0.436226</td>\n",
       "                        <td id=\"T_7ac55a2c_7cd8_11ea_8c4f_485ab6c46f1arow9_col7\" class=\"data row9 col7\" >0.313983</td>\n",
       "                        <td id=\"T_7ac55a2c_7cd8_11ea_8c4f_485ab6c46f1arow9_col8\" class=\"data row9 col8\" >4.86827e-17</td>\n",
       "                        <td id=\"T_7ac55a2c_7cd8_11ea_8c4f_485ab6c46f1arow9_col9\" class=\"data row9 col9\" >1</td>\n",
       "                        <td id=\"T_7ac55a2c_7cd8_11ea_8c4f_485ab6c46f1arow9_col10\" class=\"data row9 col10\" >0.260332</td>\n",
       "            </tr>\n",
       "            <tr>\n",
       "                        <th id=\"T_7ac55a2c_7cd8_11ea_8c4f_485ab6c46f1alevel0_row10\" class=\"row_heading level0 row10\" >total_return_points_played_%</th>\n",
       "                        <td id=\"T_7ac55a2c_7cd8_11ea_8c4f_485ab6c46f1arow10_col0\" class=\"data row10 col0\" >0.0611436</td>\n",
       "                        <td id=\"T_7ac55a2c_7cd8_11ea_8c4f_485ab6c46f1arow10_col1\" class=\"data row10 col1\" >0.312365</td>\n",
       "                        <td id=\"T_7ac55a2c_7cd8_11ea_8c4f_485ab6c46f1arow10_col2\" class=\"data row10 col2\" >0.311727</td>\n",
       "                        <td id=\"T_7ac55a2c_7cd8_11ea_8c4f_485ab6c46f1arow10_col3\" class=\"data row10 col3\" >-0.273756</td>\n",
       "                        <td id=\"T_7ac55a2c_7cd8_11ea_8c4f_485ab6c46f1arow10_col4\" class=\"data row10 col4\" >0.308551</td>\n",
       "                        <td id=\"T_7ac55a2c_7cd8_11ea_8c4f_485ab6c46f1arow10_col5\" class=\"data row10 col5\" >0.310617</td>\n",
       "                        <td id=\"T_7ac55a2c_7cd8_11ea_8c4f_485ab6c46f1arow10_col6\" class=\"data row10 col6\" >0.418815</td>\n",
       "                        <td id=\"T_7ac55a2c_7cd8_11ea_8c4f_485ab6c46f1arow10_col7\" class=\"data row10 col7\" >-0.108014</td>\n",
       "                        <td id=\"T_7ac55a2c_7cd8_11ea_8c4f_485ab6c46f1arow10_col8\" class=\"data row10 col8\" >6.48804e-07</td>\n",
       "                        <td id=\"T_7ac55a2c_7cd8_11ea_8c4f_485ab6c46f1arow10_col9\" class=\"data row10 col9\" >0.260332</td>\n",
       "                        <td id=\"T_7ac55a2c_7cd8_11ea_8c4f_485ab6c46f1arow10_col10\" class=\"data row10 col10\" >1</td>\n",
       "            </tr>\n",
       "    </tbody></table>"
      ],
      "text/plain": [
       "<pandas.io.formats.style.Styler at 0x2be138c3208>"
      ]
     },
     "execution_count": 35,
     "metadata": {},
     "output_type": "execute_result"
    }
   ],
   "source": [
    "corr = df.corr()\n",
    "corr.style.background_gradient(cmap='coolwarm')"
   ]
  },
  {
   "cell_type": "markdown",
   "metadata": {
    "heading_collapsed": true,
    "hidden": true
   },
   "source": [
    "### Variance Inflation Factor"
   ]
  },
  {
   "cell_type": "code",
   "execution_count": 36,
   "metadata": {
    "ExecuteTime": {
     "end_time": "2020-04-12T16:13:04.483787Z",
     "start_time": "2020-04-12T16:13:03.095690Z"
    },
    "hidden": true
   },
   "outputs": [],
   "source": [
    "surface_dummies = df['surface'].str.get_dummies()\n",
    "df_vif = df.join(surface_dummies)\n",
    "df_vif.drop('surface', axis = 1, inplace = True)"
   ]
  },
  {
   "cell_type": "code",
   "execution_count": 37,
   "metadata": {
    "ExecuteTime": {
     "end_time": "2020-04-12T16:13:09.440894Z",
     "start_time": "2020-04-12T16:13:04.486786Z"
    },
    "hidden": true,
    "scrolled": false
   },
   "outputs": [
    {
     "data": {
      "text/plain": [
       "[('first_serves_in_%', 1.058443997192937),\n",
       " ('first_serves_points_won_%', 1.6710574944786194),\n",
       " ('second_serves_points_won_%', 1.4220835323777399),\n",
       " ('break_point_save_%', 1.1608506705303552),\n",
       " ('first_serves_return_points_won_%', 2.0195498116039583),\n",
       " ('second_serves_return_points_won_%', 1.6781031646335982),\n",
       " ('break_points_return_total', 1.943785362754005),\n",
       " ('break_point_convert_%', 1.5074047158873145),\n",
       " ('diff_in_first_serves_in_%', 1.0034674902056933),\n",
       " ('winner', 2.644068844025644),\n",
       " ('total_return_points_played_%', 1.7830149209192725),\n",
       " ('Carpet', 14.860851222404804),\n",
       " ('Clay', 88.99203152033029),\n",
       " ('Grass', 29.808409672335692),\n",
       " ('Hard', 140.15761370005313)]"
      ]
     },
     "execution_count": 37,
     "metadata": {},
     "output_type": "execute_result"
    }
   ],
   "source": [
    "vif = [variance_inflation_factor(df_vif.values, i) for i in range(df_vif.shape[1])]\n",
    "list(zip(df_vif.columns, vif))"
   ]
  },
  {
   "cell_type": "markdown",
   "metadata": {
    "hidden": true
   },
   "source": [
    "All VIF values below 5, we will proceed to checking feature importance."
   ]
  },
  {
   "cell_type": "markdown",
   "metadata": {
    "heading_collapsed": true,
    "hidden": true
   },
   "source": [
    "## Feature Importance via Decision Tree"
   ]
  },
  {
   "cell_type": "code",
   "execution_count": 38,
   "metadata": {
    "ExecuteTime": {
     "end_time": "2020-04-12T16:13:15.795418Z",
     "start_time": "2020-04-12T16:13:15.484580Z"
    },
    "hidden": true
   },
   "outputs": [],
   "source": [
    "df = pd.read_csv('index_csv/merged_df_v1.1.csv')"
   ]
  },
  {
   "cell_type": "markdown",
   "metadata": {
    "heading_collapsed": true,
    "hidden": true
   },
   "source": [
    "### Filter Model by Surfaces (Optional)"
   ]
  },
  {
   "cell_type": "code",
   "execution_count": 39,
   "metadata": {
    "ExecuteTime": {
     "end_time": "2020-04-12T16:13:19.359379Z",
     "start_time": "2020-04-12T16:13:19.278927Z"
    },
    "hidden": true
   },
   "outputs": [],
   "source": [
    "clay_df = df[df['surface'] == 'Clay']\n",
    "hard_df = df[df['surface'] == 'Hard']\n",
    "grass_df = df[df['surface'] == 'Grass']"
   ]
  },
  {
   "cell_type": "markdown",
   "metadata": {
    "heading_collapsed": true,
    "hidden": true
   },
   "source": [
    "### Train-Validation-Test Split"
   ]
  },
  {
   "cell_type": "code",
   "execution_count": 40,
   "metadata": {
    "ExecuteTime": {
     "end_time": "2020-04-12T16:13:23.359168Z",
     "start_time": "2020-04-12T16:13:23.342178Z"
    },
    "hidden": true
   },
   "outputs": [],
   "source": [
    "df.drop('surface', axis = 1, inplace = True)"
   ]
  },
  {
   "cell_type": "code",
   "execution_count": 41,
   "metadata": {
    "ExecuteTime": {
     "end_time": "2020-04-12T16:13:24.080273Z",
     "start_time": "2020-04-12T16:13:23.782005Z"
    },
    "hidden": true,
    "scrolled": false
   },
   "outputs": [
    {
     "data": {
      "text/plain": [
       "array([[0.49423248, 0.66470588, 0.42105263, ..., 0.05      , 0.48750794,\n",
       "        0.3218921 ],\n",
       "       [0.12207358, 0.81314879, 0.71428571, ..., 0.0625    , 0.24925892,\n",
       "        0.54434334],\n",
       "       [0.38618926, 0.88235294, 0.625     , ..., 0.07142857, 0.48309171,\n",
       "        0.61374822],\n",
       "       ...,\n",
       "       [0.39130435, 0.77941176, 0.71428571, ..., 0.05555556, 0.58249969,\n",
       "        0.64912059],\n",
       "       [0.61277174, 0.52941176, 0.21052632, ..., 0.125     , 0.40368851,\n",
       "        0.32213487],\n",
       "       [0.5256917 , 0.81848739, 0.45      , ..., 0.05      , 0.51562501,\n",
       "        0.57849867]])"
      ]
     },
     "execution_count": 41,
     "metadata": {},
     "output_type": "execute_result"
    }
   ],
   "source": [
    "# Define independent and dependent variable\n",
    "y = df['winner']\n",
    "X = df.drop('winner', axis = 1)\n",
    "\n",
    "# 80:20 Train Test Split\n",
    "X_train, X_test, y_train, y_test = train_test_split(X,\n",
    "                                                    y,\n",
    "                                                    test_size=0.2,\n",
    "                                                    random_state=42\n",
    "                                                   )\n",
    "\n",
    "# 80:20 Train Validation Split\n",
    "X_train, X_validate, y_train, y_validate = train_test_split(X_train,\n",
    "                                                            y_train,\n",
    "                                                            test_size=0.2,\n",
    "                                                            random_state=42\n",
    "                                                            )\n",
    "\n",
    "# Initialising K-Folds\n",
    "kfold = KFold(n_splits=5,\n",
    "              random_state=42,\n",
    "              shuffle=True\n",
    "             )\n",
    "\n",
    "# Re-index y_validate, y_test\n",
    "y_validate.reset_index(drop = True, inplace = True)\n",
    "y_test.reset_index(drop = True, inplace = True)\n",
    "\n",
    "# Apply MinMaxScaler on Train, Validate, Test Data\n",
    "scaler = MinMaxScaler()\n",
    "scaler.fit_transform(X_train)\n",
    "scaler.transform(X_validate)\n",
    "scaler.transform(X_test)"
   ]
  },
  {
   "cell_type": "markdown",
   "metadata": {
    "heading_collapsed": true,
    "hidden": true
   },
   "source": [
    "### Feature Importance"
   ]
  },
  {
   "cell_type": "code",
   "execution_count": 204,
   "metadata": {
    "ExecuteTime": {
     "end_time": "2020-04-10T15:05:32.055776Z",
     "start_time": "2020-04-10T15:05:31.026107Z"
    },
    "hidden": true,
    "scrolled": false
   },
   "outputs": [
    {
     "data": {
      "text/plain": [
       "DecisionTreeClassifier(class_weight=None, criterion='gini', max_depth=None,\n",
       "                       max_features=None, max_leaf_nodes=None,\n",
       "                       min_impurity_decrease=0.0, min_impurity_split=None,\n",
       "                       min_samples_leaf=1, min_samples_split=2,\n",
       "                       min_weight_fraction_leaf=0.0, presort=False,\n",
       "                       random_state=None, splitter='best')"
      ]
     },
     "execution_count": 204,
     "metadata": {},
     "output_type": "execute_result"
    }
   ],
   "source": [
    "# Train Decision tree\n",
    "clf = DecisionTreeClassifier()\n",
    "clf.fit(X_train, y_train)"
   ]
  },
  {
   "cell_type": "code",
   "execution_count": 205,
   "metadata": {
    "ExecuteTime": {
     "end_time": "2020-04-10T15:05:32.847818Z",
     "start_time": "2020-04-10T15:05:32.057761Z"
    },
    "hidden": true
   },
   "outputs": [
    {
     "data": {
      "image/png": "[encoded data removed]",
      "text/plain": [
       "<Figure size 2160x2160 with 1 Axes>"
      ]
     },
     "metadata": {},
     "output_type": "display_data"
    }
   ],
   "source": [
    "features = X_train.columns\n",
    "importances = clf.feature_importances_\n",
    "indices = np.argsort(importances)\n",
    "\n",
    "plt.barh(range(len(indices)),importances[indices], align='center');\n",
    "plt.yticks(range(len(indices)), [features[i] for i in indices]);\n",
    "plt.title('Feature Importance For All Surfaces')\n",
    "plt.rcParams.update({'font.size': 26})"
   ]
  },
  {
   "cell_type": "markdown",
   "metadata": {
    "heading_collapsed": true
   },
   "source": [
    "# Match Analysis Models"
   ]
  },
  {
   "cell_type": "code",
   "execution_count": 174,
   "metadata": {
    "ExecuteTime": {
     "end_time": "2020-04-11T08:20:07.318303Z",
     "start_time": "2020-04-11T08:20:07.000471Z"
    },
    "hidden": true
   },
   "outputs": [],
   "source": [
    "# Read CSV\n",
    "df = pd.read_csv('index_csv/merged_df_v1.1.csv')"
   ]
  },
  {
   "cell_type": "code",
   "execution_count": 175,
   "metadata": {
    "ExecuteTime": {
     "end_time": "2020-04-11T08:20:07.519885Z",
     "start_time": "2020-04-11T08:20:07.515888Z"
    },
    "hidden": true
   },
   "outputs": [],
   "source": [
    "# Define features for 2 different analysis\n",
    "improvable_serve_stats = ['first_serves_in_%', 'first_serves_points_won_%', \n",
    "                          'second_serves_points_won_%', 'break_point_save_%']\n",
    "\n",
    "improvable_return_stats = ['first_serves_return_points_won_%', 'second_serves_return_points_won_%', \n",
    "                           'break_point_convert_%']\n",
    "\n",
    "improvable_stats = improvable_serve_stats + improvable_return_stats\n",
    "\n",
    "match_analysis = improvable_stats + \\\n",
    "                ['total_return_points_played_%', 'diff_in_first_serves_in_%',\n",
    "                 'break_points_return_total']"
   ]
  },
  {
   "cell_type": "code",
   "execution_count": 176,
   "metadata": {
    "ExecuteTime": {
     "end_time": "2020-04-11T08:20:07.893771Z",
     "start_time": "2020-04-11T08:20:07.790831Z"
    },
    "hidden": true,
    "scrolled": false
   },
   "outputs": [
    {
     "data": {
      "text/plain": [
       "array([[0.49423248, 0.66470588, 0.42105263, ..., 0.3218921 , 0.48750794,\n",
       "        0.14705882],\n",
       "       [0.12207358, 0.81314879, 0.71428571, ..., 0.54434334, 0.24925892,\n",
       "        0.17647059],\n",
       "       [0.38618926, 0.88235294, 0.625     , ..., 0.61374822, 0.48309171,\n",
       "        0.20588235],\n",
       "       ...,\n",
       "       [0.39130435, 0.77941176, 0.71428571, ..., 0.64912059, 0.58249969,\n",
       "        0.26470588],\n",
       "       [0.61277174, 0.52941176, 0.21052632, ..., 0.32213487, 0.40368851,\n",
       "        0.02941176],\n",
       "       [0.5256917 , 0.81848739, 0.45      , ..., 0.57849867, 0.51562501,\n",
       "        0.29411765]])"
      ]
     },
     "execution_count": 176,
     "metadata": {},
     "output_type": "execute_result"
    }
   ],
   "source": [
    "# Define independent and dependent variable\n",
    "y = df['winner']\n",
    "X = df[match_analysis]\n",
    "\n",
    "# 80:20 Train Test Split\n",
    "X_train, X_test, y_train, y_test = train_test_split(X,\n",
    "                                                    y,\n",
    "                                                    test_size=0.2,\n",
    "                                                    random_state=42\n",
    "                                                   )\n",
    "\n",
    "# 80:20 Train Validation Split\n",
    "X_train, X_validate, y_train, y_validate = train_test_split(X_train,\n",
    "                                                            y_train,\n",
    "                                                            test_size=0.2,\n",
    "                                                            random_state=42\n",
    "                                                            )\n",
    "\n",
    "# Initialising K-Folds\n",
    "kfold = KFold(n_splits=5,\n",
    "              random_state=42,\n",
    "              shuffle=True\n",
    "             )\n",
    "\n",
    "# Re-index y_validate, y_test\n",
    "y_validate.reset_index(drop = True, inplace = True)\n",
    "y_test.reset_index(drop = True, inplace = True)\n",
    "\n",
    "# Apply MinMaxScaler on Train, Validate, Test Data\n",
    "scaler = MinMaxScaler()\n",
    "scaler.fit_transform(X_train)\n",
    "scaler.transform(X_validate)\n",
    "scaler.transform(X_test)"
   ]
  },
  {
   "cell_type": "markdown",
   "metadata": {
    "heading_collapsed": true,
    "hidden": true
   },
   "source": [
    "## Logistic Regression"
   ]
  },
  {
   "cell_type": "code",
   "execution_count": 317,
   "metadata": {
    "ExecuteTime": {
     "end_time": "2020-04-10T17:20:06.526708Z",
     "start_time": "2020-04-10T17:20:05.615246Z"
    },
    "hidden": true
   },
   "outputs": [
    {
     "data": {
      "text/plain": [
       "LogisticRegression(C=1000000000000.0, class_weight=None, dual=False,\n",
       "                   fit_intercept=False, intercept_scaling=1, l1_ratio=None,\n",
       "                   max_iter=100, multi_class='warn', n_jobs=None, penalty='l2',\n",
       "                   random_state=None, solver='liblinear', tol=0.0001, verbose=0,\n",
       "                   warm_start=False)"
      ]
     },
     "execution_count": 317,
     "metadata": {},
     "output_type": "execute_result"
    }
   ],
   "source": [
    "logreg = LogisticRegression(fit_intercept=False, C=1e12, solver='liblinear')\n",
    "model_log = logreg.fit(X_train, y_train)\n",
    "model_log"
   ]
  },
  {
   "cell_type": "code",
   "execution_count": 318,
   "metadata": {
    "ExecuteTime": {
     "end_time": "2020-04-10T17:20:14.167307Z",
     "start_time": "2020-04-10T17:20:06.528710Z"
    },
    "hidden": true
   },
   "outputs": [
    {
     "name": "stdout",
     "output_type": "stream",
     "text": [
      "[0.95038041 0.94884523 0.94860417 0.94770896 0.94723091]\n",
      "Average Train AUC: 0.9485539371986682\n"
     ]
    }
   ],
   "source": [
    "print(cross_val_score(logreg, X_train, y_train, scoring='roc_auc', cv=kfold))\n",
    "\n",
    "print(f\"Average Train AUC: {sum(cross_val_score(logreg, X_train, y_train, scoring='roc_auc', cv=kfold))/5}\")"
   ]
  },
  {
   "cell_type": "code",
   "execution_count": 319,
   "metadata": {
    "ExecuteTime": {
     "end_time": "2020-04-10T17:20:15.094773Z",
     "start_time": "2020-04-10T17:20:14.169306Z"
    },
    "hidden": true
   },
   "outputs": [
    {
     "name": "stdout",
     "output_type": "stream",
     "text": [
      "Validation AUC: 0.949208027984249\n"
     ]
    }
   ],
   "source": [
    "y_score = logreg.fit(X_train, y_train).decision_function(X_validate)\n",
    "\n",
    "fpr, tpr, thresholds = roc_curve(y_validate, y_score)\n",
    "print(f\"Validation AUC: {auc(fpr, tpr)}\")"
   ]
  },
  {
   "cell_type": "markdown",
   "metadata": {
    "hidden": true
   },
   "source": [
    "__Train AUC: 94.86 %__\n",
    "\n",
    "__Validation AUC: 94.92 %__"
   ]
  },
  {
   "cell_type": "code",
   "execution_count": 320,
   "metadata": {
    "ExecuteTime": {
     "end_time": "2020-04-10T17:20:15.419605Z",
     "start_time": "2020-04-10T17:20:15.096772Z"
    },
    "hidden": true
   },
   "outputs": [
    {
     "name": "stdout",
     "output_type": "stream",
     "text": [
      "Validation Prediction Accuracy = 0.8751483503441728\n"
     ]
    }
   ],
   "source": [
    "y_predict = logreg.predict(X_validate)\n",
    "\n",
    "prediction = []\n",
    "for i in range(0, len(y_validate)):\n",
    "    if y_predict[i] == y_validate[i]:\n",
    "        prediction.append(1)\n",
    "    else:\n",
    "        prediction.append(0)\n",
    "        \n",
    "pred = pd.DataFrame(prediction)\n",
    "print(f\"Validation Prediction Accuracy = {pred[0].sum()/pred[0].value_counts().sum()}\")"
   ]
  },
  {
   "cell_type": "markdown",
   "metadata": {
    "heading_collapsed": true,
    "hidden": true
   },
   "source": [
    "## Decision Tree"
   ]
  },
  {
   "cell_type": "markdown",
   "metadata": {
    "heading_collapsed": true,
    "hidden": true
   },
   "source": [
    "### Parameter Set 1"
   ]
  },
  {
   "cell_type": "code",
   "execution_count": 363,
   "metadata": {
    "ExecuteTime": {
     "end_time": "2020-04-10T17:38:54.997710Z",
     "start_time": "2020-04-10T17:38:54.992711Z"
    },
    "hidden": true
   },
   "outputs": [],
   "source": [
    "param_grid = {'criterion' : ['gini','entropy'],\n",
    "              'max_depth' : [x for x in range(5,20)],\n",
    "              'min_samples_leaf' : [100, 500, 1000, 5000]}"
   ]
  },
  {
   "cell_type": "code",
   "execution_count": 364,
   "metadata": {
    "ExecuteTime": {
     "end_time": "2020-04-10T17:38:55.456418Z",
     "start_time": "2020-04-10T17:38:55.451422Z"
    },
    "hidden": true
   },
   "outputs": [],
   "source": [
    "dtree = DecisionTreeClassifier()\n",
    "\n",
    "grid = GridSearchCV(estimator = dtree, \n",
    "                    param_grid = param_grid, \n",
    "                    scoring = 'roc_auc',\n",
    "                    cv = kfold,\n",
    "                    n_jobs = -1,\n",
    "                    return_train_score=True\n",
    "                   )"
   ]
  },
  {
   "cell_type": "code",
   "execution_count": 365,
   "metadata": {
    "ExecuteTime": {
     "end_time": "2020-04-10T17:40:28.812792Z",
     "start_time": "2020-04-10T17:38:55.959347Z"
    },
    "hidden": true
   },
   "outputs": [
    {
     "name": "stdout",
     "output_type": "stream",
     "text": [
      "criterion: entropy\n",
      "max_depth: 17\n",
      "min_samples_leaf: 100\n",
      "ROC_AUC: 0.97348\n"
     ]
    }
   ],
   "source": [
    "grid = grid.fit(X_train, y_train)\n",
    "criterion = grid.best_params_['criterion']\n",
    "max_depth = grid.best_params_['max_depth']\n",
    "min_samples_leaf = grid.best_params_['min_samples_leaf']\n",
    "\n",
    "print(f'criterion: {criterion}')\n",
    "print(f'max_depth: {round(max_depth,5)}')\n",
    "print(f'min_samples_leaf: {round(min_samples_leaf,5)}')\n",
    "print(f'ROC_AUC: {round(grid.best_score_,5)}')"
   ]
  },
  {
   "cell_type": "code",
   "execution_count": 366,
   "metadata": {
    "ExecuteTime": {
     "end_time": "2020-04-10T17:40:37.509163Z",
     "start_time": "2020-04-10T17:40:37.493176Z"
    },
    "hidden": true
   },
   "outputs": [
    {
     "name": "stdout",
     "output_type": "stream",
     "text": [
      "Validation AUC: 0.9132375142265816\n"
     ]
    }
   ],
   "source": [
    "y_score = grid.predict(X_validate)\n",
    "\n",
    "fpr, tpr, thresholds = roc_curve(y_validate, y_score)\n",
    "print(f\"Validation AUC: {auc(fpr, tpr)}\")"
   ]
  },
  {
   "cell_type": "markdown",
   "metadata": {
    "heading_collapsed": true,
    "hidden": true
   },
   "source": [
    "### Parameter Set 2"
   ]
  },
  {
   "cell_type": "code",
   "execution_count": 322,
   "metadata": {
    "ExecuteTime": {
     "end_time": "2020-04-10T17:20:29.708776Z",
     "start_time": "2020-04-10T17:20:29.704774Z"
    },
    "hidden": true
   },
   "outputs": [],
   "source": [
    "param_grid = {'criterion' : ['entropy'],\n",
    "              'max_depth' : [15, 16, 17, 18, 19],\n",
    "              'min_samples_leaf' : [30, 50, 100, 150, 200]}"
   ]
  },
  {
   "cell_type": "code",
   "execution_count": 323,
   "metadata": {
    "ExecuteTime": {
     "end_time": "2020-04-10T17:20:29.920627Z",
     "start_time": "2020-04-10T17:20:29.915631Z"
    },
    "hidden": true
   },
   "outputs": [],
   "source": [
    "dtree = DecisionTreeClassifier()\n",
    "\n",
    "grid = GridSearchCV(estimator = dtree, \n",
    "                    param_grid = param_grid, \n",
    "                    scoring = 'roc_auc',\n",
    "                    cv = kfold,\n",
    "                    n_jobs = -1,\n",
    "                    return_train_score=True\n",
    "                   )"
   ]
  },
  {
   "cell_type": "code",
   "execution_count": 324,
   "metadata": {
    "ExecuteTime": {
     "end_time": "2020-04-10T17:20:58.169224Z",
     "start_time": "2020-04-10T17:20:30.276514Z"
    },
    "hidden": true
   },
   "outputs": [
    {
     "name": "stdout",
     "output_type": "stream",
     "text": [
      "criterion: entropy\n",
      "max_depth: 18\n",
      "min_samples_leaf: 50\n",
      "ROC_AUC: 0.97507\n"
     ]
    }
   ],
   "source": [
    "grid = grid.fit(X_train, y_train)\n",
    "criterion = grid.best_params_['criterion']\n",
    "max_depth = grid.best_params_['max_depth']\n",
    "min_samples_leaf = grid.best_params_['min_samples_leaf']\n",
    "\n",
    "print(f'criterion: {criterion}')\n",
    "print(f'max_depth: {round(max_depth,5)}')\n",
    "print(f'min_samples_leaf: {round(min_samples_leaf,5)}')\n",
    "print(f'ROC_AUC: {round(grid.best_score_,5)}')"
   ]
  },
  {
   "cell_type": "code",
   "execution_count": 325,
   "metadata": {
    "ExecuteTime": {
     "end_time": "2020-04-10T17:20:58.184228Z",
     "start_time": "2020-04-10T17:20:58.171224Z"
    },
    "hidden": true
   },
   "outputs": [
    {
     "name": "stdout",
     "output_type": "stream",
     "text": [
      "Validation AUC: 0.9201377759610041\n"
     ]
    }
   ],
   "source": [
    "y_score = grid.predict(X_validate)\n",
    "\n",
    "fpr, tpr, thresholds = roc_curve(y_validate, y_score)\n",
    "print(f\"Validation AUC: {auc(fpr, tpr)}\")"
   ]
  },
  {
   "cell_type": "markdown",
   "metadata": {
    "ExecuteTime": {
     "end_time": "2020-04-10T16:23:04.650964Z",
     "start_time": "2020-04-10T16:23:04.644968Z"
    },
    "hidden": true
   },
   "source": [
    "__Train AUC: 97.51 %__\n",
    "\n",
    "__Validation AUC: 92.01 %__"
   ]
  },
  {
   "cell_type": "markdown",
   "metadata": {
    "heading_collapsed": true,
    "hidden": true
   },
   "source": [
    "## Random Forest"
   ]
  },
  {
   "cell_type": "markdown",
   "metadata": {
    "heading_collapsed": true,
    "hidden": true
   },
   "source": [
    "### Parameter Set 1"
   ]
  },
  {
   "cell_type": "code",
   "execution_count": 332,
   "metadata": {
    "ExecuteTime": {
     "end_time": "2020-04-10T17:23:54.913924Z",
     "start_time": "2020-04-10T17:23:54.908941Z"
    },
    "hidden": true
   },
   "outputs": [],
   "source": [
    "param_grid = {'criterion' : ['gini','entropy'],\n",
    "              'max_depth' : [x for x in range(5, 20)],\n",
    "              'min_samples_leaf' : [100, 500, 1000, 5000]\n",
    "             }"
   ]
  },
  {
   "cell_type": "code",
   "execution_count": 333,
   "metadata": {
    "ExecuteTime": {
     "end_time": "2020-04-10T17:23:55.566165Z",
     "start_time": "2020-04-10T17:23:55.560158Z"
    },
    "hidden": true
   },
   "outputs": [],
   "source": [
    "rfc = RandomForestClassifier()\n",
    "\n",
    "grid = GridSearchCV(estimator = rfc, \n",
    "                    param_grid = param_grid, \n",
    "                    scoring = 'roc_auc',\n",
    "                    cv = kfold,\n",
    "                    n_jobs = -1,\n",
    "                    return_train_score=True\n",
    "                   )"
   ]
  },
  {
   "cell_type": "code",
   "execution_count": 334,
   "metadata": {
    "ExecuteTime": {
     "end_time": "2020-04-10T17:27:19.950137Z",
     "start_time": "2020-04-10T17:23:55.987272Z"
    },
    "hidden": true
   },
   "outputs": [
    {
     "name": "stdout",
     "output_type": "stream",
     "text": [
      "criterion: entropy\n",
      "max_depth: 13\n",
      "min_samples_leaf: 100\n",
      "ROC_AUC: 0.98416\n"
     ]
    }
   ],
   "source": [
    "grid = grid.fit(X_train, y_train)\n",
    "max_depth = grid.best_params_['max_depth']\n",
    "min_samples_leaf = grid.best_params_['min_samples_leaf']\n",
    "\n",
    "print(f'criterion: {criterion}')\n",
    "print(f'max_depth: {round(max_depth,5)}')\n",
    "print(f'min_samples_leaf: {round(min_samples_leaf,5)}')\n",
    "print(f'ROC_AUC: {round(grid.best_score_,5)}')"
   ]
  },
  {
   "cell_type": "code",
   "execution_count": 335,
   "metadata": {
    "ExecuteTime": {
     "end_time": "2020-04-10T17:27:20.008105Z",
     "start_time": "2020-04-10T17:27:19.951137Z"
    },
    "hidden": true
   },
   "outputs": [
    {
     "name": "stdout",
     "output_type": "stream",
     "text": [
      "Validation AUC: 0.9324100144022508\n"
     ]
    }
   ],
   "source": [
    "y_score = grid.predict(X_validate)\n",
    "\n",
    "fpr, tpr, thresholds = roc_curve(y_validate, y_score)\n",
    "print(f\"Validation AUC: {auc(fpr, tpr)}\")"
   ]
  },
  {
   "cell_type": "markdown",
   "metadata": {
    "heading_collapsed": true,
    "hidden": true
   },
   "source": [
    "### Parameter Set 2"
   ]
  },
  {
   "cell_type": "code",
   "execution_count": 328,
   "metadata": {
    "ExecuteTime": {
     "end_time": "2020-04-10T17:21:20.702499Z",
     "start_time": "2020-04-10T17:21:20.697490Z"
    },
    "hidden": true
   },
   "outputs": [],
   "source": [
    "param_grid = {'criterion' : ['entropy'],\n",
    "              'max_depth' : [15, 16, 17, 18, 19, 20, 21],\n",
    "              'min_samples_leaf' : [15, 30, 50, 100, 150, 200]\n",
    "             }"
   ]
  },
  {
   "cell_type": "code",
   "execution_count": 329,
   "metadata": {
    "ExecuteTime": {
     "end_time": "2020-04-10T17:21:21.102439Z",
     "start_time": "2020-04-10T17:21:21.096442Z"
    },
    "hidden": true
   },
   "outputs": [],
   "source": [
    "rfc = RandomForestClassifier()\n",
    "\n",
    "grid = GridSearchCV(estimator = rfc, \n",
    "                    param_grid = param_grid, \n",
    "                    scoring = 'roc_auc',\n",
    "                    cv = kfold,\n",
    "                    n_jobs = -1,\n",
    "                    return_train_score=True\n",
    "                   )"
   ]
  },
  {
   "cell_type": "code",
   "execution_count": 330,
   "metadata": {
    "ExecuteTime": {
     "end_time": "2020-04-10T17:23:06.129376Z",
     "start_time": "2020-04-10T17:21:21.682520Z"
    },
    "hidden": true
   },
   "outputs": [
    {
     "name": "stdout",
     "output_type": "stream",
     "text": [
      "criterion: entropy\n",
      "max_depth: 15\n",
      "min_samples_leaf: 15\n",
      "ROC_AUC: 0.9887\n"
     ]
    }
   ],
   "source": [
    "grid = grid.fit(X_train, y_train)\n",
    "max_depth = grid.best_params_['max_depth']\n",
    "min_samples_leaf = grid.best_params_['min_samples_leaf']\n",
    "\n",
    "print(f'criterion: {criterion}')\n",
    "print(f'max_depth: {round(max_depth,5)}')\n",
    "print(f'min_samples_leaf: {round(min_samples_leaf,5)}')\n",
    "print(f'ROC_AUC: {round(grid.best_score_,5)}')"
   ]
  },
  {
   "cell_type": "code",
   "execution_count": 331,
   "metadata": {
    "ExecuteTime": {
     "end_time": "2020-04-10T17:23:06.198332Z",
     "start_time": "2020-04-10T17:23:06.131373Z"
    },
    "hidden": true
   },
   "outputs": [
    {
     "name": "stdout",
     "output_type": "stream",
     "text": [
      "Validation AUC: 0.944791135996972\n"
     ]
    }
   ],
   "source": [
    "y_score = grid.predict(X_validate)\n",
    "\n",
    "fpr, tpr, thresholds = roc_curve(y_validate, y_score)\n",
    "print(f\"Validation AUC: {auc(fpr, tpr)}\")"
   ]
  },
  {
   "cell_type": "markdown",
   "metadata": {
    "hidden": true
   },
   "source": [
    "__Train AUC: 98.87 %__\n",
    "\n",
    "__Validation AUC: 94.48 %__"
   ]
  },
  {
   "cell_type": "markdown",
   "metadata": {
    "heading_collapsed": true,
    "hidden": true
   },
   "source": [
    "## AdaBoost"
   ]
  },
  {
   "cell_type": "markdown",
   "metadata": {
    "heading_collapsed": true,
    "hidden": true
   },
   "source": [
    "### AdaBoost Baseline Model"
   ]
  },
  {
   "cell_type": "code",
   "execution_count": 468,
   "metadata": {
    "ExecuteTime": {
     "end_time": "2020-04-10T19:10:19.852735Z",
     "start_time": "2020-04-10T19:10:14.662727Z"
    },
    "hidden": true
   },
   "outputs": [
    {
     "data": {
      "text/plain": [
       "AdaBoostClassifier(algorithm='SAMME.R', base_estimator=None, learning_rate=1.0,\n",
       "                   n_estimators=50, random_state=None)"
      ]
     },
     "execution_count": 468,
     "metadata": {},
     "output_type": "execute_result"
    }
   ],
   "source": [
    "ada_clf = AdaBoostClassifier()\n",
    "\n",
    "ada_clf.fit(X_train, y_train)"
   ]
  },
  {
   "cell_type": "code",
   "execution_count": 469,
   "metadata": {
    "ExecuteTime": {
     "end_time": "2020-04-10T19:10:21.009069Z",
     "start_time": "2020-04-10T19:10:19.854735Z"
    },
    "hidden": true
   },
   "outputs": [
    {
     "name": "stdout",
     "output_type": "stream",
     "text": [
      "Training ROC_AUC: 93.24%\n",
      "Validation ROC_AUC: 93.26%\n"
     ]
    }
   ],
   "source": [
    "# Predict for Train & Validation Data\n",
    "training_preds = ada_clf.predict(X_train)\n",
    "validate_preds = ada_clf.predict(X_validate)\n",
    "\n",
    "# Calculate Accuracy for Train & Validation Data\n",
    "training_roc_auc = roc_auc_score(y_train, training_preds)\n",
    "validate_roc_auc = roc_auc_score(y_validate, validate_preds)\n",
    "\n",
    "print('Training ROC_AUC: {:.4}%'.format(training_roc_auc * 100))\n",
    "print('Validation ROC_AUC: {:.4}%'.format(validate_roc_auc * 100))"
   ]
  },
  {
   "cell_type": "code",
   "execution_count": 470,
   "metadata": {
    "ExecuteTime": {
     "end_time": "2020-04-10T19:10:23.844814Z",
     "start_time": "2020-04-10T19:10:23.837819Z"
    },
    "hidden": true,
    "scrolled": true
   },
   "outputs": [
    {
     "data": {
      "text/plain": [
       "array([0.06, 0.16, 0.16, 0.1 , 0.12, 0.08, 0.12, 0.06, 0.  , 0.14])"
      ]
     },
     "execution_count": 470,
     "metadata": {},
     "output_type": "execute_result"
    }
   ],
   "source": [
    "ada_clf.feature_importances_"
   ]
  },
  {
   "cell_type": "markdown",
   "metadata": {
    "heading_collapsed": true,
    "hidden": true
   },
   "source": [
    "### Feature Reduction 1"
   ]
  },
  {
   "cell_type": "code",
   "execution_count": 472,
   "metadata": {
    "ExecuteTime": {
     "end_time": "2020-04-10T19:13:00.265093Z",
     "start_time": "2020-04-10T19:13:00.251102Z"
    },
    "hidden": true
   },
   "outputs": [],
   "source": [
    "to_drop = ['first_serves_in_%', 'second_serves_return_points_won_%',\n",
    "          'total_return_points_played_%', 'diff_in_first_serves_in_%']\n",
    "\n",
    "X_train.drop(to_drop, axis = 1, inplace = True)\n",
    "X_validate.drop(to_drop, axis = 1, inplace = True)"
   ]
  },
  {
   "cell_type": "code",
   "execution_count": 473,
   "metadata": {
    "ExecuteTime": {
     "end_time": "2020-04-10T19:13:10.432062Z",
     "start_time": "2020-04-10T19:13:07.145949Z"
    },
    "hidden": true
   },
   "outputs": [
    {
     "data": {
      "text/plain": [
       "AdaBoostClassifier(algorithm='SAMME.R', base_estimator=None, learning_rate=1.0,\n",
       "                   n_estimators=50, random_state=None)"
      ]
     },
     "execution_count": 473,
     "metadata": {},
     "output_type": "execute_result"
    }
   ],
   "source": [
    "ada_clf = AdaBoostClassifier()\n",
    "\n",
    "ada_clf.fit(X_train, y_train)"
   ]
  },
  {
   "cell_type": "code",
   "execution_count": 474,
   "metadata": {
    "ExecuteTime": {
     "end_time": "2020-04-10T19:13:14.906402Z",
     "start_time": "2020-04-10T19:13:13.879010Z"
    },
    "hidden": true
   },
   "outputs": [
    {
     "name": "stdout",
     "output_type": "stream",
     "text": [
      "Training ROC_AUC: 92.01%\n",
      "Validation ROC_AUC: 91.94%\n"
     ]
    }
   ],
   "source": [
    "# Predict for Train & Validation Data\n",
    "training_preds = ada_clf.predict(X_train)\n",
    "validate_preds = ada_clf.predict(X_validate)\n",
    "\n",
    "# Calculate Accuracy for Train & Validation Data\n",
    "training_roc_auc = roc_auc_score(y_train, training_preds)\n",
    "validate_roc_auc = roc_auc_score(y_validate, validate_preds)\n",
    "\n",
    "print('Training ROC_AUC: {:.4}%'.format(training_roc_auc * 100))\n",
    "print('Validation ROC_AUC: {:.4}%'.format(validate_roc_auc * 100))"
   ]
  },
  {
   "cell_type": "markdown",
   "metadata": {
    "heading_collapsed": true,
    "hidden": true
   },
   "source": [
    "### Parameter Set 1"
   ]
  },
  {
   "cell_type": "code",
   "execution_count": 475,
   "metadata": {
    "ExecuteTime": {
     "end_time": "2020-04-10T19:13:27.274188Z",
     "start_time": "2020-04-10T19:13:27.270191Z"
    },
    "hidden": true
   },
   "outputs": [],
   "source": [
    "param_grid = {\n",
    "    'learning_rate': [0.1, 0.3, 0.5, 0.7, 1.0],\n",
    "    'n_estimators': [30, 50, 70, 100],\n",
    "}"
   ]
  },
  {
   "cell_type": "code",
   "execution_count": 476,
   "metadata": {
    "ExecuteTime": {
     "end_time": "2020-04-10T19:15:49.720174Z",
     "start_time": "2020-04-10T19:13:27.559232Z"
    },
    "hidden": true
   },
   "outputs": [
    {
     "data": {
      "text/plain": [
       "{'learning_rate': 0.3, 'n_estimators': 100}"
      ]
     },
     "execution_count": 476,
     "metadata": {},
     "output_type": "execute_result"
    }
   ],
   "source": [
    "grid_clf = GridSearchCV(ada_clf, param_grid, scoring='roc_auc', cv=kfold, n_jobs=-1)\n",
    "grid_clf.fit(X_train, y_train)\n",
    "\n",
    "grid_clf.best_params_"
   ]
  },
  {
   "cell_type": "code",
   "execution_count": 477,
   "metadata": {
    "ExecuteTime": {
     "end_time": "2020-04-10T19:15:51.958857Z",
     "start_time": "2020-04-10T19:15:49.722173Z"
    },
    "hidden": true,
    "scrolled": true
   },
   "outputs": [
    {
     "name": "stdout",
     "output_type": "stream",
     "text": [
      "Training ROC_AUC: 92.43%\n",
      "Validation ROC_AUC: 92.45%\n"
     ]
    }
   ],
   "source": [
    "# Predict for Train & Validation Data\n",
    "training_preds = grid_clf.predict(X_train)\n",
    "validate_preds = grid_clf.predict(X_validate)\n",
    "\n",
    "# Calculate Accuracy for Train & Validation Data\n",
    "training_roc_auc = roc_auc_score(y_train, training_preds)\n",
    "validate_roc_auc = roc_auc_score(y_validate, validate_preds)\n",
    "\n",
    "print('Training ROC_AUC: {:.4}%'.format(training_roc_auc * 100))\n",
    "print('Validation ROC_AUC: {:.4}%'.format(validate_roc_auc * 100))"
   ]
  },
  {
   "cell_type": "markdown",
   "metadata": {
    "heading_collapsed": true,
    "hidden": true
   },
   "source": [
    "### Parameter Set 2"
   ]
  },
  {
   "cell_type": "code",
   "execution_count": 479,
   "metadata": {
    "ExecuteTime": {
     "end_time": "2020-04-10T19:16:38.782113Z",
     "start_time": "2020-04-10T19:16:38.778103Z"
    },
    "hidden": true
   },
   "outputs": [],
   "source": [
    "param_grid = {\n",
    "    'learning_rate': [0.2, 0.3, 0.4],\n",
    "    'n_estimators': [100, 150, 200, 250],\n",
    "}"
   ]
  },
  {
   "cell_type": "code",
   "execution_count": 480,
   "metadata": {
    "ExecuteTime": {
     "end_time": "2020-04-10T19:19:21.334332Z",
     "start_time": "2020-04-10T19:16:40.166667Z"
    },
    "hidden": true
   },
   "outputs": [
    {
     "data": {
      "text/plain": [
       "{'learning_rate': 0.3, 'n_estimators': 200}"
      ]
     },
     "execution_count": 480,
     "metadata": {},
     "output_type": "execute_result"
    }
   ],
   "source": [
    "grid_clf = GridSearchCV(ada_clf, param_grid, scoring='roc_auc', cv=kfold, n_jobs=-1)\n",
    "grid_clf.fit(X_train, y_train)\n",
    "\n",
    "grid_clf.best_params_"
   ]
  },
  {
   "cell_type": "code",
   "execution_count": 482,
   "metadata": {
    "ExecuteTime": {
     "end_time": "2020-04-10T19:19:58.128782Z",
     "start_time": "2020-04-10T19:19:53.958848Z"
    },
    "hidden": true
   },
   "outputs": [
    {
     "name": "stdout",
     "output_type": "stream",
     "text": [
      "Training ROC_AUC: 92.53%\n",
      "Validation ROC_AUC: 92.6%\n"
     ]
    }
   ],
   "source": [
    "# Predict for Train & Validation Data\n",
    "training_preds = grid_clf.predict(X_train)\n",
    "validate_preds = grid_clf.predict(X_validate)\n",
    "\n",
    "# Calculate Accuracy for Train & Validation Data\n",
    "training_roc_auc = roc_auc_score(y_train, training_preds)\n",
    "validate_roc_auc = roc_auc_score(y_validate, validate_preds)\n",
    "\n",
    "print('Training ROC_AUC: {:.4}%'.format(training_roc_auc * 100))\n",
    "print('Validation ROC_AUC: {:.4}%'.format(validate_roc_auc * 100))"
   ]
  },
  {
   "cell_type": "markdown",
   "metadata": {
    "heading_collapsed": true,
    "hidden": true
   },
   "source": [
    "## XGBoost"
   ]
  },
  {
   "cell_type": "markdown",
   "metadata": {
    "heading_collapsed": true,
    "hidden": true
   },
   "source": [
    "### XGBoost Baseline Model"
   ]
  },
  {
   "cell_type": "code",
   "execution_count": 372,
   "metadata": {
    "ExecuteTime": {
     "end_time": "2020-04-10T17:41:57.969299Z",
     "start_time": "2020-04-10T17:41:52.171487Z"
    },
    "hidden": true
   },
   "outputs": [
    {
     "data": {
      "text/plain": [
       "XGBClassifier(base_score=0.5, booster='gbtree', colsample_bylevel=1,\n",
       "              colsample_bynode=1, colsample_bytree=1, gamma=0,\n",
       "              learning_rate=0.1, max_delta_step=0, max_depth=3,\n",
       "              min_child_weight=1, missing=None, n_estimators=100, n_jobs=1,\n",
       "              nthread=None, objective='binary:logistic', random_state=0,\n",
       "              reg_alpha=0, reg_lambda=1, scale_pos_weight=1, seed=None,\n",
       "              silent=None, subsample=1, verbosity=1)"
      ]
     },
     "execution_count": 372,
     "metadata": {},
     "output_type": "execute_result"
    }
   ],
   "source": [
    "# Instantiate XGBoost & Fit Train Data\n",
    "clf = XGBClassifier()\n",
    "clf.fit(X_train, y_train)"
   ]
  },
  {
   "cell_type": "code",
   "execution_count": 373,
   "metadata": {
    "ExecuteTime": {
     "end_time": "2020-04-10T17:41:58.475008Z",
     "start_time": "2020-04-10T17:41:57.970298Z"
    },
    "hidden": true
   },
   "outputs": [
    {
     "name": "stdout",
     "output_type": "stream",
     "text": [
      "Training ROC_AUC: 94.93%\n",
      "Validation ROC_AUC: 94.67%\n"
     ]
    }
   ],
   "source": [
    "# Predict for Train & Validation Data\n",
    "training_preds = clf.predict(X_train)\n",
    "validate_preds = clf.predict(X_validate)\n",
    "\n",
    "# Calculate Accuracy for Train & Validation Data\n",
    "training_roc_auc = roc_auc_score(y_train, training_preds)\n",
    "validate_roc_auc = roc_auc_score(y_validate, validate_preds)\n",
    "\n",
    "print('Training ROC_AUC: {:.4}%'.format(training_roc_auc * 100))\n",
    "print('Validation ROC_AUC: {:.4}%'.format(validate_roc_auc * 100))"
   ]
  },
  {
   "cell_type": "code",
   "execution_count": 374,
   "metadata": {
    "ExecuteTime": {
     "end_time": "2020-04-10T17:42:05.706132Z",
     "start_time": "2020-04-10T17:42:05.686144Z"
    },
    "hidden": true,
    "scrolled": true
   },
   "outputs": [
    {
     "data": {
      "text/plain": [
       "array([0.0226086 , 0.12215342, 0.13387422, 0.08531456, 0.1123847 ,\n",
       "       0.1512565 , 0.1116992 , 0.01318798, 0.05084506, 0.19667573],\n",
       "      dtype=float32)"
      ]
     },
     "execution_count": 374,
     "metadata": {},
     "output_type": "execute_result"
    }
   ],
   "source": [
    "clf.feature_importances_"
   ]
  },
  {
   "cell_type": "markdown",
   "metadata": {
    "heading_collapsed": true,
    "hidden": true
   },
   "source": [
    "### Feature Reduction 1"
   ]
  },
  {
   "cell_type": "code",
   "execution_count": 375,
   "metadata": {
    "ExecuteTime": {
     "end_time": "2020-04-10T17:42:07.411446Z",
     "start_time": "2020-04-10T17:42:07.398466Z"
    },
    "hidden": true
   },
   "outputs": [],
   "source": [
    "to_drop = ['first_serves_in_%', 'break_point_save_%',\n",
    "          'total_return_points_played_%', 'diff_in_first_serves_in_%']\n",
    "\n",
    "X_train.drop(to_drop, axis = 1, inplace = True)\n",
    "X_validate.drop(to_drop, axis = 1, inplace = True)"
   ]
  },
  {
   "cell_type": "code",
   "execution_count": 376,
   "metadata": {
    "ExecuteTime": {
     "end_time": "2020-04-10T17:42:13.913272Z",
     "start_time": "2020-04-10T17:42:09.993518Z"
    },
    "hidden": true
   },
   "outputs": [
    {
     "data": {
      "text/plain": [
       "XGBClassifier(base_score=0.5, booster='gbtree', colsample_bylevel=1,\n",
       "              colsample_bynode=1, colsample_bytree=1, gamma=0,\n",
       "              learning_rate=0.1, max_delta_step=0, max_depth=3,\n",
       "              min_child_weight=1, missing=None, n_estimators=100, n_jobs=1,\n",
       "              nthread=None, objective='binary:logistic', random_state=0,\n",
       "              reg_alpha=0, reg_lambda=1, scale_pos_weight=1, seed=None,\n",
       "              silent=None, subsample=1, verbosity=1)"
      ]
     },
     "execution_count": 376,
     "metadata": {},
     "output_type": "execute_result"
    }
   ],
   "source": [
    "# Instantiate XGBoost & Fit Train Data\n",
    "clf = XGBClassifier()\n",
    "clf.fit(X_train, y_train)"
   ]
  },
  {
   "cell_type": "code",
   "execution_count": 377,
   "metadata": {
    "ExecuteTime": {
     "end_time": "2020-04-10T17:42:14.383017Z",
     "start_time": "2020-04-10T17:42:13.915254Z"
    },
    "hidden": true
   },
   "outputs": [
    {
     "name": "stdout",
     "output_type": "stream",
     "text": [
      "Training ROC_AUC: 92.59%\n",
      "Validation ROC_AUC: 92.34%\n"
     ]
    }
   ],
   "source": [
    "# Predict for Train & Validation Data\n",
    "training_preds = clf.predict(X_train)\n",
    "validate_preds = clf.predict(X_validate)\n",
    "\n",
    "# Calculate Accuracy for Train & Validation Data\n",
    "training_roc_auc = roc_auc_score(y_train, training_preds)\n",
    "validate_roc_auc = roc_auc_score(y_validate, validate_preds)\n",
    "\n",
    "print('Training ROC_AUC: {:.4}%'.format(training_roc_auc * 100))\n",
    "print('Validation ROC_AUC: {:.4}%'.format(validate_roc_auc * 100))"
   ]
  },
  {
   "cell_type": "code",
   "execution_count": 378,
   "metadata": {
    "ExecuteTime": {
     "end_time": "2020-04-10T17:42:30.153317Z",
     "start_time": "2020-04-10T17:42:30.138329Z"
    },
    "hidden": true,
    "scrolled": true
   },
   "outputs": [
    {
     "data": {
      "text/plain": [
       "array([0.15173542, 0.16110462, 0.1472048 , 0.1698678 , 0.14377822,\n",
       "       0.22630912], dtype=float32)"
      ]
     },
     "execution_count": 378,
     "metadata": {},
     "output_type": "execute_result"
    }
   ],
   "source": [
    "clf.feature_importances_"
   ]
  },
  {
   "cell_type": "markdown",
   "metadata": {
    "heading_collapsed": true,
    "hidden": true
   },
   "source": [
    "### Parameter Set 1"
   ]
  },
  {
   "cell_type": "code",
   "execution_count": 384,
   "metadata": {
    "ExecuteTime": {
     "end_time": "2020-04-10T17:45:18.796867Z",
     "start_time": "2020-04-10T17:45:18.791870Z"
    },
    "hidden": true
   },
   "outputs": [],
   "source": [
    "param_grid = {\n",
    "    'learning_rate': [0.05, 0.1, 0.25, 0.5],\n",
    "    'max_depth': [5, 8, 10, 13],\n",
    "    'min_child_weight': [0.1, 0.5, 1.0],\n",
    "    'subsample': [1.0],\n",
    "    'n_estimators': [100],\n",
    "}"
   ]
  },
  {
   "cell_type": "code",
   "execution_count": 385,
   "metadata": {
    "ExecuteTime": {
     "end_time": "2020-04-10T17:59:41.166300Z",
     "start_time": "2020-04-10T17:46:31.999445Z"
    },
    "hidden": true
   },
   "outputs": [],
   "source": [
    "grid_clf = GridSearchCV(clf, param_grid, scoring='roc_auc', cv=kfold, n_jobs=-1)\n",
    "grid_clf.fit(X_train, y_train)\n",
    "\n",
    "best_parameters = grid_clf.best_params_"
   ]
  },
  {
   "cell_type": "code",
   "execution_count": 386,
   "metadata": {
    "ExecuteTime": {
     "end_time": "2020-04-10T17:59:47.349327Z",
     "start_time": "2020-04-10T17:59:46.639727Z"
    },
    "hidden": true,
    "scrolled": true
   },
   "outputs": [
    {
     "name": "stdout",
     "output_type": "stream",
     "text": [
      "Grid Search found the following optimal parameters: \n",
      "learning_rate: 0.1\n",
      "max_depth: 5\n",
      "min_child_weight: 1.0\n",
      "n_estimators: 100\n",
      "subsample: 1.0\n",
      "Training ROC_AUC: 92.88%\n",
      "Validation ROC_AUC: 92.49%\n"
     ]
    }
   ],
   "source": [
    "print('Grid Search found the following optimal parameters: ')\n",
    "for param_name in sorted(best_parameters.keys()):\n",
    "    print('%s: %r' % (param_name, best_parameters[param_name]))\n",
    "\n",
    "training_preds = grid_clf.predict(X_train)\n",
    "validate_preds = grid_clf.predict(X_validate)\n",
    "\n",
    "training_roc_auc = roc_auc_score(y_train, training_preds)\n",
    "validate_roc_auc = roc_auc_score(y_validate, validate_preds)\n",
    "\n",
    "print('Training ROC_AUC: {:.4}%'.format(training_roc_auc * 100))\n",
    "print('Validation ROC_AUC: {:.4}%'.format(validate_roc_auc * 100))"
   ]
  },
  {
   "cell_type": "markdown",
   "metadata": {
    "heading_collapsed": true,
    "hidden": true
   },
   "source": [
    "### Parameter Set 2"
   ]
  },
  {
   "cell_type": "code",
   "execution_count": 388,
   "metadata": {
    "ExecuteTime": {
     "end_time": "2020-04-10T18:01:21.845836Z",
     "start_time": "2020-04-10T18:01:21.841838Z"
    },
    "hidden": true
   },
   "outputs": [],
   "source": [
    "param_grid = {\n",
    "    'learning_rate': [0.1],\n",
    "    'max_depth': [3, 4, 5, 6, 7],\n",
    "    'min_child_weight': [1.0],\n",
    "    'subsample': [1.0],\n",
    "    'n_estimators': [100],\n",
    "}"
   ]
  },
  {
   "cell_type": "code",
   "execution_count": 389,
   "metadata": {
    "ExecuteTime": {
     "end_time": "2020-04-10T18:02:22.603319Z",
     "start_time": "2020-04-10T18:01:27.392237Z"
    },
    "hidden": true
   },
   "outputs": [],
   "source": [
    "grid_clf = GridSearchCV(clf, param_grid, scoring='roc_auc', cv=kfold, n_jobs=-1)\n",
    "grid_clf.fit(X_train, y_train)\n",
    "\n",
    "best_parameters = grid_clf.best_params_"
   ]
  },
  {
   "cell_type": "code",
   "execution_count": 390,
   "metadata": {
    "ExecuteTime": {
     "end_time": "2020-04-10T18:04:25.352301Z",
     "start_time": "2020-04-10T18:04:24.642700Z"
    },
    "hidden": true,
    "scrolled": true
   },
   "outputs": [
    {
     "name": "stdout",
     "output_type": "stream",
     "text": [
      "Grid Search found the following optimal parameters: \n",
      "learning_rate: 0.1\n",
      "max_depth: 5\n",
      "min_child_weight: 1.0\n",
      "n_estimators: 100\n",
      "subsample: 1.0\n",
      "Training ROC_AUC: 92.88%\n",
      "Validation ROC_AUC: 92.49%\n"
     ]
    }
   ],
   "source": [
    "print('Grid Search found the following optimal parameters: ')\n",
    "for param_name in sorted(best_parameters.keys()):\n",
    "    print('%s: %r' % (param_name, best_parameters[param_name]))\n",
    "\n",
    "training_preds = grid_clf.predict(X_train)\n",
    "validate_preds = grid_clf.predict(X_validate)\n",
    "\n",
    "training_roc_auc = roc_auc_score(y_train, training_preds)\n",
    "validate_roc_auc = roc_auc_score(y_validate, validate_preds)\n",
    "\n",
    "print('Training ROC_AUC: {:.4}%'.format(training_roc_auc * 100))\n",
    "print('Validation ROC_AUC: {:.4}%'.format(validate_roc_auc * 100))"
   ]
  },
  {
   "cell_type": "markdown",
   "metadata": {
    "heading_collapsed": true,
    "hidden": true
   },
   "source": [
    "## Logistic Regression with Feature Reduction"
   ]
  },
  {
   "cell_type": "code",
   "execution_count": 100,
   "metadata": {
    "ExecuteTime": {
     "end_time": "2020-04-11T07:39:40.771268Z",
     "start_time": "2020-04-11T07:39:40.758277Z"
    },
    "hidden": true
   },
   "outputs": [],
   "source": [
    "to_drop = ['first_serves_in_%', 'break_point_save_%',\n",
    "          'total_return_points_played_%', 'diff_in_first_serves_in_%']\n",
    "\n",
    "X_train.drop(to_drop, axis = 1, inplace = True)\n",
    "X_validate.drop(to_drop, axis = 1, inplace = True)"
   ]
  },
  {
   "cell_type": "code",
   "execution_count": 101,
   "metadata": {
    "ExecuteTime": {
     "end_time": "2020-04-11T07:39:59.984206Z",
     "start_time": "2020-04-11T07:39:59.409737Z"
    },
    "hidden": true
   },
   "outputs": [
    {
     "data": {
      "text/plain": [
       "LogisticRegression(C=1000000000000.0, class_weight=None, dual=False,\n",
       "                   fit_intercept=False, intercept_scaling=1, l1_ratio=None,\n",
       "                   max_iter=100, multi_class='warn', n_jobs=None, penalty='l2',\n",
       "                   random_state=None, solver='liblinear', tol=0.0001, verbose=0,\n",
       "                   warm_start=False)"
      ]
     },
     "execution_count": 101,
     "metadata": {},
     "output_type": "execute_result"
    }
   ],
   "source": [
    "logreg = LogisticRegression(fit_intercept=False, C=1e12, solver='liblinear')\n",
    "model_log = logreg.fit(X_train, y_train)\n",
    "model_log"
   ]
  },
  {
   "cell_type": "code",
   "execution_count": 102,
   "metadata": {
    "ExecuteTime": {
     "end_time": "2020-04-11T07:40:12.574859Z",
     "start_time": "2020-04-11T07:40:09.461979Z"
    },
    "hidden": true
   },
   "outputs": [
    {
     "name": "stdout",
     "output_type": "stream",
     "text": [
      "[0.73947372 0.73732801 0.73818023 0.72963376 0.73048147]\n",
      "Average Train AUC: 0.7350194401084339\n"
     ]
    }
   ],
   "source": [
    "print(cross_val_score(logreg, X_train, y_train, scoring='roc_auc', cv=kfold))\n",
    "\n",
    "print(f\"Average Train AUC: {sum(cross_val_score(logreg, X_train, y_train, scoring='roc_auc', cv=kfold))/5}\")"
   ]
  },
  {
   "cell_type": "code",
   "execution_count": 103,
   "metadata": {
    "ExecuteTime": {
     "end_time": "2020-04-11T07:40:29.902307Z",
     "start_time": "2020-04-11T07:40:29.528522Z"
    },
    "hidden": true
   },
   "outputs": [
    {
     "name": "stdout",
     "output_type": "stream",
     "text": [
      "Validation AUC: 0.736586475332557\n"
     ]
    }
   ],
   "source": [
    "y_score = logreg.fit(X_train, y_train).decision_function(X_validate)\n",
    "\n",
    "fpr, tpr, thresholds = roc_curve(y_validate, y_score)\n",
    "print(f\"Validation AUC: {auc(fpr, tpr)}\")"
   ]
  },
  {
   "cell_type": "markdown",
   "metadata": {
    "hidden": true
   },
   "source": [
    "__Train AUC: 73.50 %__\n",
    "\n",
    "__Validation AUC: 73.66 %__"
   ]
  },
  {
   "cell_type": "code",
   "execution_count": 104,
   "metadata": {
    "ExecuteTime": {
     "end_time": "2020-04-11T07:41:09.326754Z",
     "start_time": "2020-04-11T07:41:08.932843Z"
    },
    "hidden": true
   },
   "outputs": [
    {
     "name": "stdout",
     "output_type": "stream",
     "text": [
      "Validation Prediction Accuracy = 0.6718320843647214\n"
     ]
    }
   ],
   "source": [
    "y_predict = logreg.predict(X_validate)\n",
    "\n",
    "prediction = []\n",
    "for i in range(0, len(y_validate)):\n",
    "    if y_predict[i] == y_validate[i]:\n",
    "        prediction.append(1)\n",
    "    else:\n",
    "        prediction.append(0)\n",
    "        \n",
    "pred = pd.DataFrame(prediction)\n",
    "print(f\"Validation Prediction Accuracy = {pred[0].sum()/pred[0].value_counts().sum()}\")"
   ]
  },
  {
   "cell_type": "markdown",
   "metadata": {
    "heading_collapsed": true,
    "hidden": true
   },
   "source": [
    "## Decision Tree with Feature Reduction"
   ]
  },
  {
   "cell_type": "code",
   "execution_count": 108,
   "metadata": {
    "ExecuteTime": {
     "end_time": "2020-04-11T07:42:04.321674Z",
     "start_time": "2020-04-11T07:42:04.309667Z"
    },
    "hidden": true
   },
   "outputs": [],
   "source": [
    "to_drop = ['first_serves_in_%', 'break_point_save_%',\n",
    "          'total_return_points_played_%', 'diff_in_first_serves_in_%']\n",
    "\n",
    "X_train.drop(to_drop, axis = 1, inplace = True)\n",
    "X_validate.drop(to_drop, axis = 1, inplace = True)"
   ]
  },
  {
   "cell_type": "markdown",
   "metadata": {
    "heading_collapsed": true,
    "hidden": true
   },
   "source": [
    "### Parameter Set 1"
   ]
  },
  {
   "cell_type": "code",
   "execution_count": 109,
   "metadata": {
    "ExecuteTime": {
     "end_time": "2020-04-11T07:42:08.983783Z",
     "start_time": "2020-04-11T07:42:08.978787Z"
    },
    "hidden": true
   },
   "outputs": [],
   "source": [
    "param_grid = {'criterion' : ['gini','entropy'],\n",
    "              'max_depth' : [x for x in range(5,20)],\n",
    "              'min_samples_leaf' : [100, 500, 1000, 5000]}"
   ]
  },
  {
   "cell_type": "code",
   "execution_count": 110,
   "metadata": {
    "ExecuteTime": {
     "end_time": "2020-04-11T07:42:11.468365Z",
     "start_time": "2020-04-11T07:42:11.463353Z"
    },
    "hidden": true
   },
   "outputs": [],
   "source": [
    "dtree = DecisionTreeClassifier()\n",
    "\n",
    "grid = GridSearchCV(estimator = dtree, \n",
    "                    param_grid = param_grid, \n",
    "                    scoring = 'roc_auc',\n",
    "                    cv = kfold,\n",
    "                    n_jobs = -1,\n",
    "                    return_train_score=True\n",
    "                   )"
   ]
  },
  {
   "cell_type": "code",
   "execution_count": 111,
   "metadata": {
    "ExecuteTime": {
     "end_time": "2020-04-11T07:43:15.927596Z",
     "start_time": "2020-04-11T07:42:22.683356Z"
    },
    "hidden": true
   },
   "outputs": [
    {
     "name": "stdout",
     "output_type": "stream",
     "text": [
      "criterion: entropy\n",
      "max_depth: 17\n",
      "min_samples_leaf: 100\n",
      "ROC_AUC: 0.96953\n"
     ]
    }
   ],
   "source": [
    "grid = grid.fit(X_train, y_train)\n",
    "criterion = grid.best_params_['criterion']\n",
    "max_depth = grid.best_params_['max_depth']\n",
    "min_samples_leaf = grid.best_params_['min_samples_leaf']\n",
    "\n",
    "print(f'criterion: {criterion}')\n",
    "print(f'max_depth: {round(max_depth,5)}')\n",
    "print(f'min_samples_leaf: {round(min_samples_leaf,5)}')\n",
    "print(f'ROC_AUC: {round(grid.best_score_,5)}')"
   ]
  },
  {
   "cell_type": "code",
   "execution_count": 112,
   "metadata": {
    "ExecuteTime": {
     "end_time": "2020-04-11T07:43:30.921370Z",
     "start_time": "2020-04-11T07:43:30.907375Z"
    },
    "hidden": true
   },
   "outputs": [
    {
     "name": "stdout",
     "output_type": "stream",
     "text": [
      "Validation AUC: 0.904476246965757\n"
     ]
    }
   ],
   "source": [
    "y_score = grid.predict(X_validate)\n",
    "\n",
    "fpr, tpr, thresholds = roc_curve(y_validate, y_score)\n",
    "print(f\"Validation AUC: {auc(fpr, tpr)}\")"
   ]
  },
  {
   "cell_type": "markdown",
   "metadata": {
    "heading_collapsed": true,
    "hidden": true
   },
   "source": [
    "### Parameter Set 2"
   ]
  },
  {
   "cell_type": "code",
   "execution_count": 124,
   "metadata": {
    "ExecuteTime": {
     "end_time": "2020-04-11T07:46:51.834690Z",
     "start_time": "2020-04-11T07:46:51.830694Z"
    },
    "hidden": true
   },
   "outputs": [],
   "source": [
    "param_grid = {'criterion' : ['entropy'],\n",
    "              'max_depth' : [16, 17, 18],\n",
    "              'min_samples_leaf' : [100]}"
   ]
  },
  {
   "cell_type": "code",
   "execution_count": 125,
   "metadata": {
    "ExecuteTime": {
     "end_time": "2020-04-11T07:46:52.860189Z",
     "start_time": "2020-04-11T07:46:52.855192Z"
    },
    "hidden": true
   },
   "outputs": [],
   "source": [
    "dtree = DecisionTreeClassifier()\n",
    "\n",
    "grid = GridSearchCV(estimator = dtree, \n",
    "                    param_grid = param_grid, \n",
    "                    scoring = 'roc_auc',\n",
    "                    cv = kfold,\n",
    "                    n_jobs = -1,\n",
    "                    return_train_score=True\n",
    "                   )"
   ]
  },
  {
   "cell_type": "code",
   "execution_count": 126,
   "metadata": {
    "ExecuteTime": {
     "end_time": "2020-04-11T07:46:55.256066Z",
     "start_time": "2020-04-11T07:46:53.458084Z"
    },
    "hidden": true
   },
   "outputs": [
    {
     "name": "stdout",
     "output_type": "stream",
     "text": [
      "criterion: entropy\n",
      "max_depth: 18\n",
      "min_samples_leaf: 100\n",
      "ROC_AUC: 0.96952\n"
     ]
    }
   ],
   "source": [
    "grid = grid.fit(X_train, y_train)\n",
    "criterion = grid.best_params_['criterion']\n",
    "max_depth = grid.best_params_['max_depth']\n",
    "min_samples_leaf = grid.best_params_['min_samples_leaf']\n",
    "\n",
    "print(f'criterion: {criterion}')\n",
    "print(f'max_depth: {round(max_depth,5)}')\n",
    "print(f'min_samples_leaf: {round(min_samples_leaf,5)}')\n",
    "print(f'ROC_AUC: {round(grid.best_score_,5)}')"
   ]
  },
  {
   "cell_type": "code",
   "execution_count": 127,
   "metadata": {
    "ExecuteTime": {
     "end_time": "2020-04-11T07:46:55.271044Z",
     "start_time": "2020-04-11T07:46:55.258052Z"
    },
    "hidden": true
   },
   "outputs": [
    {
     "name": "stdout",
     "output_type": "stream",
     "text": [
      "Validation AUC: 0.904476246965757\n"
     ]
    }
   ],
   "source": [
    "y_score = grid.predict(X_validate)\n",
    "\n",
    "fpr, tpr, thresholds = roc_curve(y_validate, y_score)\n",
    "print(f\"Validation AUC: {auc(fpr, tpr)}\")"
   ]
  },
  {
   "cell_type": "markdown",
   "metadata": {
    "heading_collapsed": true,
    "hidden": true
   },
   "source": [
    "## Random Forest with Feature Reduction"
   ]
  },
  {
   "cell_type": "code",
   "execution_count": 177,
   "metadata": {
    "ExecuteTime": {
     "end_time": "2020-04-11T08:20:15.364207Z",
     "start_time": "2020-04-11T08:20:15.351215Z"
    },
    "hidden": true
   },
   "outputs": [],
   "source": [
    "to_drop = ['first_serves_in_%', 'break_point_save_%',\n",
    "          'total_return_points_played_%', 'diff_in_first_serves_in_%']\n",
    "\n",
    "X_train.drop(to_drop, axis = 1, inplace = True)\n",
    "X_validate.drop(to_drop, axis = 1, inplace = True)"
   ]
  },
  {
   "cell_type": "markdown",
   "metadata": {
    "heading_collapsed": true,
    "hidden": true
   },
   "source": [
    "### Parameter Set 1"
   ]
  },
  {
   "cell_type": "code",
   "execution_count": 130,
   "metadata": {
    "ExecuteTime": {
     "end_time": "2020-04-11T07:47:44.073164Z",
     "start_time": "2020-04-11T07:47:44.069154Z"
    },
    "hidden": true
   },
   "outputs": [],
   "source": [
    "param_grid = {'criterion' : ['gini','entropy'],\n",
    "              'max_depth' : [x for x in range(5, 20)],\n",
    "              'min_samples_leaf' : [100, 500, 1000, 5000]\n",
    "             }"
   ]
  },
  {
   "cell_type": "code",
   "execution_count": 131,
   "metadata": {
    "ExecuteTime": {
     "end_time": "2020-04-11T07:47:44.852501Z",
     "start_time": "2020-04-11T07:47:44.848501Z"
    },
    "hidden": true
   },
   "outputs": [],
   "source": [
    "rfc = RandomForestClassifier()\n",
    "\n",
    "grid = GridSearchCV(estimator = rfc, \n",
    "                    param_grid = param_grid, \n",
    "                    scoring = 'roc_auc',\n",
    "                    cv = kfold,\n",
    "                    n_jobs = -1,\n",
    "                    return_train_score=True\n",
    "                   )"
   ]
  },
  {
   "cell_type": "code",
   "execution_count": 132,
   "metadata": {
    "ExecuteTime": {
     "end_time": "2020-04-11T07:49:59.841155Z",
     "start_time": "2020-04-11T07:47:45.914048Z"
    },
    "hidden": true
   },
   "outputs": [
    {
     "name": "stdout",
     "output_type": "stream",
     "text": [
      "criterion: entropy\n",
      "max_depth: 14\n",
      "min_samples_leaf: 100\n",
      "ROC_AUC: 0.97662\n"
     ]
    }
   ],
   "source": [
    "grid = grid.fit(X_train, y_train)\n",
    "max_depth = grid.best_params_['max_depth']\n",
    "min_samples_leaf = grid.best_params_['min_samples_leaf']\n",
    "\n",
    "print(f'criterion: {criterion}')\n",
    "print(f'max_depth: {round(max_depth,5)}')\n",
    "print(f'min_samples_leaf: {round(min_samples_leaf,5)}')\n",
    "print(f'ROC_AUC: {round(grid.best_score_,5)}')"
   ]
  },
  {
   "cell_type": "code",
   "execution_count": 133,
   "metadata": {
    "ExecuteTime": {
     "end_time": "2020-04-11T07:49:59.900122Z",
     "start_time": "2020-04-11T07:49:59.843154Z"
    },
    "hidden": true
   },
   "outputs": [
    {
     "name": "stdout",
     "output_type": "stream",
     "text": [
      "Validation AUC: 0.9167873285544511\n"
     ]
    }
   ],
   "source": [
    "y_score = grid.predict(X_validate)\n",
    "\n",
    "fpr, tpr, thresholds = roc_curve(y_validate, y_score)\n",
    "print(f\"Validation AUC: {auc(fpr, tpr)}\")"
   ]
  },
  {
   "cell_type": "markdown",
   "metadata": {
    "heading_collapsed": true,
    "hidden": true
   },
   "source": [
    "### Parameter Set 2"
   ]
  },
  {
   "cell_type": "code",
   "execution_count": 134,
   "metadata": {
    "ExecuteTime": {
     "end_time": "2020-04-11T07:51:06.764105Z",
     "start_time": "2020-04-11T07:51:06.760090Z"
    },
    "hidden": true
   },
   "outputs": [],
   "source": [
    "param_grid = {'criterion' : ['entropy'],\n",
    "              'max_depth' : [13, 14, 15],\n",
    "              'min_samples_leaf' : [100]\n",
    "             }"
   ]
  },
  {
   "cell_type": "code",
   "execution_count": 135,
   "metadata": {
    "ExecuteTime": {
     "end_time": "2020-04-11T07:51:21.002549Z",
     "start_time": "2020-04-11T07:51:20.996552Z"
    },
    "hidden": true
   },
   "outputs": [],
   "source": [
    "rfc = RandomForestClassifier()\n",
    "\n",
    "grid = GridSearchCV(estimator = rfc, \n",
    "                    param_grid = param_grid, \n",
    "                    scoring = 'roc_auc',\n",
    "                    cv = kfold,\n",
    "                    n_jobs = -1,\n",
    "                    return_train_score=True\n",
    "                   )"
   ]
  },
  {
   "cell_type": "code",
   "execution_count": 136,
   "metadata": {
    "ExecuteTime": {
     "end_time": "2020-04-11T07:51:27.162081Z",
     "start_time": "2020-04-11T07:51:21.885084Z"
    },
    "hidden": true
   },
   "outputs": [
    {
     "name": "stdout",
     "output_type": "stream",
     "text": [
      "criterion: entropy\n",
      "max_depth: 14\n",
      "min_samples_leaf: 100\n",
      "ROC_AUC: 0.97658\n"
     ]
    }
   ],
   "source": [
    "grid = grid.fit(X_train, y_train)\n",
    "max_depth = grid.best_params_['max_depth']\n",
    "min_samples_leaf = grid.best_params_['min_samples_leaf']\n",
    "\n",
    "print(f'criterion: {criterion}')\n",
    "print(f'max_depth: {round(max_depth,5)}')\n",
    "print(f'min_samples_leaf: {round(min_samples_leaf,5)}')\n",
    "print(f'ROC_AUC: {round(grid.best_score_,5)}')"
   ]
  },
  {
   "cell_type": "code",
   "execution_count": 137,
   "metadata": {
    "ExecuteTime": {
     "end_time": "2020-04-11T07:51:27.215065Z",
     "start_time": "2020-04-11T07:51:27.164067Z"
    },
    "hidden": true
   },
   "outputs": [
    {
     "name": "stdout",
     "output_type": "stream",
     "text": [
      "Validation AUC: 0.9164030824170412\n"
     ]
    }
   ],
   "source": [
    "y_score = grid.predict(X_validate)\n",
    "\n",
    "fpr, tpr, thresholds = roc_curve(y_validate, y_score)\n",
    "print(f\"Validation AUC: {auc(fpr, tpr)}\")"
   ]
  },
  {
   "cell_type": "markdown",
   "metadata": {
    "heading_collapsed": true,
    "hidden": true
   },
   "source": [
    "## Model Selection"
   ]
  },
  {
   "cell_type": "markdown",
   "metadata": {
    "hidden": true
   },
   "source": [
    "|        Model        | Train AUC | Validation AUC |\n",
    "|:-------------------:|:---------:|:--------------:|\n",
    "| Logistic Regression |   73.50   |      73.66     |\n",
    "|    Decision Tree    |   96.95   |      90.45     |\n",
    "|    Random Forest    |   97.66   |      91.64     |\n",
    "|       AdaBoost      |   92.53   |      92.60     |\n",
    "|       XGBoost       |   92.88   |      92.49     |"
   ]
  },
  {
   "cell_type": "markdown",
   "metadata": {
    "hidden": true
   },
   "source": [
    "__All models compared above only uses 6 features.__\n",
    "\n",
    "__AdaBoost was selected as it optimizes both performance and robustness between different data points.__"
   ]
  },
  {
   "cell_type": "markdown",
   "metadata": {
    "heading_collapsed": true,
    "hidden": true
   },
   "source": [
    "## Final Model on Test Data"
   ]
  },
  {
   "cell_type": "code",
   "execution_count": 6,
   "metadata": {
    "ExecuteTime": {
     "end_time": "2020-04-13T12:42:29.769487Z",
     "start_time": "2020-04-13T12:42:27.598978Z"
    },
    "hidden": true
   },
   "outputs": [],
   "source": [
    "# Read CSV\n",
    "df = pd.read_csv('index_csv/merged_df_v1.1.csv')"
   ]
  },
  {
   "cell_type": "code",
   "execution_count": 7,
   "metadata": {
    "ExecuteTime": {
     "end_time": "2020-04-13T12:42:29.776467Z",
     "start_time": "2020-04-13T12:42:29.771468Z"
    },
    "hidden": true
   },
   "outputs": [],
   "source": [
    "# Define features for 2 different analysis\n",
    "improvable_serve_stats = ['first_serves_in_%', 'first_serves_points_won_%', \n",
    "                          'second_serves_points_won_%', 'break_point_save_%']\n",
    "\n",
    "improvable_return_stats = ['first_serves_return_points_won_%', 'second_serves_return_points_won_%', \n",
    "                           'break_point_convert_%']\n",
    "\n",
    "improvable_stats = improvable_serve_stats + improvable_return_stats\n",
    "\n",
    "match_analysis = improvable_stats + \\\n",
    "                ['total_return_points_played_%', 'diff_in_first_serves_in_%',\n",
    "                 'break_points_return_total']"
   ]
  },
  {
   "cell_type": "code",
   "execution_count": 8,
   "metadata": {
    "ExecuteTime": {
     "end_time": "2020-04-13T12:42:30.469450Z",
     "start_time": "2020-04-13T12:42:29.885288Z"
    },
    "hidden": true,
    "scrolled": false
   },
   "outputs": [
    {
     "data": {
      "text/plain": [
       "array([[0.49423248, 0.66470588, 0.42105263, ..., 0.3218921 , 0.48750794,\n",
       "        0.14705882],\n",
       "       [0.12207358, 0.81314879, 0.71428571, ..., 0.54434334, 0.24925892,\n",
       "        0.17647059],\n",
       "       [0.38618926, 0.88235294, 0.625     , ..., 0.61374822, 0.48309171,\n",
       "        0.20588235],\n",
       "       ...,\n",
       "       [0.39130435, 0.77941176, 0.71428571, ..., 0.64912059, 0.58249969,\n",
       "        0.26470588],\n",
       "       [0.61277174, 0.52941176, 0.21052632, ..., 0.32213487, 0.40368851,\n",
       "        0.02941176],\n",
       "       [0.5256917 , 0.81848739, 0.45      , ..., 0.57849867, 0.51562501,\n",
       "        0.29411765]])"
      ]
     },
     "execution_count": 8,
     "metadata": {},
     "output_type": "execute_result"
    }
   ],
   "source": [
    "# Define independent and dependent variable\n",
    "y = df['winner']\n",
    "X = df[match_analysis]\n",
    "\n",
    "# 80:20 Train Test Split\n",
    "X_train, X_test, y_train, y_test = train_test_split(X,\n",
    "                                                    y,\n",
    "                                                    test_size=0.2,\n",
    "                                                    random_state=42\n",
    "                                                   )\n",
    "\n",
    "# 80:20 Train Validation Split\n",
    "X_train, X_validate, y_train, y_validate = train_test_split(X_train,\n",
    "                                                            y_train,\n",
    "                                                            test_size=0.2,\n",
    "                                                            random_state=42\n",
    "                                                            )\n",
    "\n",
    "# Initialising K-Folds\n",
    "kfold = KFold(n_splits=5,\n",
    "              random_state=42,\n",
    "              shuffle=True\n",
    "             )\n",
    "\n",
    "# Re-index y_validate, y_test\n",
    "y_validate.reset_index(drop = True, inplace = True)\n",
    "y_test.reset_index(drop = True, inplace = True)\n",
    "\n",
    "# Apply MinMaxScaler on Train, Validate, Test Data\n",
    "scaler = MinMaxScaler()\n",
    "scaler.fit_transform(X_train)\n",
    "scaler.transform(X_validate)\n",
    "scaler.transform(X_test)"
   ]
  },
  {
   "cell_type": "code",
   "execution_count": 9,
   "metadata": {
    "ExecuteTime": {
     "end_time": "2020-04-13T12:42:31.114967Z",
     "start_time": "2020-04-13T12:42:31.102973Z"
    },
    "hidden": true
   },
   "outputs": [],
   "source": [
    "to_drop = ['first_serves_in_%', 'second_serves_return_points_won_%',\n",
    "          'total_return_points_played_%', 'diff_in_first_serves_in_%']\n",
    "\n",
    "X_train.drop(to_drop, axis = 1, inplace = True)\n",
    "X_validate.drop(to_drop, axis = 1, inplace = True)\n",
    "X_test.drop(to_drop, axis = 1, inplace = True)"
   ]
  },
  {
   "cell_type": "markdown",
   "metadata": {
    "heading_collapsed": true,
    "hidden": true
   },
   "source": [
    "### Final Model on All Surfaces"
   ]
  },
  {
   "cell_type": "code",
   "execution_count": 10,
   "metadata": {
    "ExecuteTime": {
     "end_time": "2020-04-13T12:42:37.613311Z",
     "start_time": "2020-04-13T12:42:33.751904Z"
    },
    "hidden": true
   },
   "outputs": [
    {
     "data": {
      "text/plain": [
       "AdaBoostClassifier(algorithm='SAMME.R', base_estimator=None, learning_rate=1.0,\n",
       "                   n_estimators=50, random_state=None)"
      ]
     },
     "execution_count": 10,
     "metadata": {},
     "output_type": "execute_result"
    }
   ],
   "source": [
    "ada_clf = AdaBoostClassifier()\n",
    "\n",
    "ada_clf.fit(X_train, y_train)"
   ]
  },
  {
   "cell_type": "code",
   "execution_count": 11,
   "metadata": {
    "ExecuteTime": {
     "end_time": "2020-04-13T12:43:18.431817Z",
     "start_time": "2020-04-13T12:42:37.615308Z"
    },
    "hidden": true
   },
   "outputs": [
    {
     "data": {
      "text/plain": [
       "GridSearchCV(cv=KFold(n_splits=5, random_state=42, shuffle=True),\n",
       "             error_score='raise-deprecating',\n",
       "             estimator=AdaBoostClassifier(algorithm='SAMME.R',\n",
       "                                          base_estimator=None,\n",
       "                                          learning_rate=1.0, n_estimators=50,\n",
       "                                          random_state=None),\n",
       "             iid='warn', n_jobs=-1,\n",
       "             param_grid={'learning_rate': [0.3], 'n_estimators': [200]},\n",
       "             pre_dispatch='2*n_jobs', refit=True, return_train_score=False,\n",
       "             scoring='roc_auc', verbose=0)"
      ]
     },
     "execution_count": 11,
     "metadata": {},
     "output_type": "execute_result"
    }
   ],
   "source": [
    "param_grid = {\n",
    "    'learning_rate': [0.3],\n",
    "    'n_estimators': [200],\n",
    "}\n",
    "\n",
    "grid_clf = GridSearchCV(ada_clf, param_grid, scoring='roc_auc', cv=kfold, n_jobs=-1)\n",
    "grid_clf.fit(X_train, y_train)"
   ]
  },
  {
   "cell_type": "code",
   "execution_count": 12,
   "metadata": {
    "ExecuteTime": {
     "end_time": "2020-04-13T12:43:23.481908Z",
     "start_time": "2020-04-13T12:43:18.433816Z"
    },
    "hidden": true,
    "scrolled": true
   },
   "outputs": [
    {
     "name": "stdout",
     "output_type": "stream",
     "text": [
      "Training ROC_AUC: 92.53%\n",
      "Validation ROC_AUC: 92.6%\n"
     ]
    }
   ],
   "source": [
    "# Predict for Train & Validation Data\n",
    "training_preds = grid_clf.predict(X_train)\n",
    "validate_preds = grid_clf.predict(X_validate)\n",
    "\n",
    "# Calculate Accuracy for Train & Validation Data\n",
    "training_roc_auc = roc_auc_score(y_train, training_preds)\n",
    "validate_roc_auc = roc_auc_score(y_validate, validate_preds)\n",
    "\n",
    "print('Training ROC_AUC: {:.4}%'.format(training_roc_auc * 100))\n",
    "print('Validation ROC_AUC: {:.4}%'.format(validate_roc_auc * 100))"
   ]
  },
  {
   "cell_type": "code",
   "execution_count": 13,
   "metadata": {
    "ExecuteTime": {
     "end_time": "2020-04-13T12:43:34.621490Z",
     "start_time": "2020-04-13T12:43:33.698025Z"
    },
    "hidden": true
   },
   "outputs": [
    {
     "name": "stdout",
     "output_type": "stream",
     "text": [
      "Test ROC_AUC: 92.63%\n"
     ]
    }
   ],
   "source": [
    "test_preds = grid_clf.predict(X_test)\n",
    "test_roc_auc = roc_auc_score(y_test, test_preds)\n",
    "\n",
    "print('Test ROC_AUC: {:.4}%'.format(test_roc_auc * 100))"
   ]
  },
  {
   "cell_type": "code",
   "execution_count": 14,
   "metadata": {
    "ExecuteTime": {
     "end_time": "2020-04-13T12:43:36.709287Z",
     "start_time": "2020-04-13T12:43:35.678882Z"
    },
    "hidden": true,
    "scrolled": true
   },
   "outputs": [
    {
     "data": {
      "text/plain": [
       "array([[16970,  1478],\n",
       "       [ 1240, 17176]], dtype=int64)"
      ]
     },
     "execution_count": 14,
     "metadata": {},
     "output_type": "execute_result"
    }
   ],
   "source": [
    "predictions = grid_clf.predict(X_test)\n",
    "\n",
    "confusion_matrix(y_test, predictions)"
   ]
  },
  {
   "cell_type": "markdown",
   "metadata": {
    "heading_collapsed": true,
    "hidden": true
   },
   "source": [
    "### Save Model via Joblib"
   ]
  },
  {
   "cell_type": "code",
   "execution_count": 127,
   "metadata": {
    "ExecuteTime": {
     "end_time": "2020-04-11T19:03:12.369318Z",
     "start_time": "2020-04-11T19:03:12.237394Z"
    },
    "hidden": true,
    "scrolled": true
   },
   "outputs": [
    {
     "data": {
      "text/plain": [
       "['analysis.pkl']"
      ]
     },
     "execution_count": 127,
     "metadata": {},
     "output_type": "execute_result"
    }
   ],
   "source": [
    "# Save final trained model\n",
    "joblib.dump(grid_clf, 'analysis.pkl')"
   ]
  },
  {
   "cell_type": "code",
   "execution_count": 128,
   "metadata": {
    "ExecuteTime": {
     "end_time": "2020-04-11T19:03:12.450275Z",
     "start_time": "2020-04-11T19:03:12.371319Z"
    },
    "hidden": true
   },
   "outputs": [],
   "source": [
    "# To load the fully trained model\n",
    "analysis = joblib.load('analysis.pkl')"
   ]
  },
  {
   "cell_type": "markdown",
   "metadata": {
    "heading_collapsed": true
   },
   "source": [
    "# Pre-Match Prediction Models"
   ]
  },
  {
   "cell_type": "code",
   "execution_count": 29,
   "metadata": {
    "ExecuteTime": {
     "end_time": "2020-04-13T12:51:37.169032Z",
     "start_time": "2020-04-13T12:51:36.859226Z"
    },
    "hidden": true
   },
   "outputs": [],
   "source": [
    "# Read CSV\n",
    "df = pd.read_csv('index_csv/merged_df_v1.1.csv')"
   ]
  },
  {
   "cell_type": "code",
   "execution_count": 30,
   "metadata": {
    "ExecuteTime": {
     "end_time": "2020-04-13T12:51:37.177026Z",
     "start_time": "2020-04-13T12:51:37.171029Z"
    },
    "hidden": true
   },
   "outputs": [],
   "source": [
    "# Define features for 2 different analysis\n",
    "improvable_serve_stats = ['first_serves_in_%', 'first_serves_points_won_%', \n",
    "                          'second_serves_points_won_%', 'break_point_save_%']\n",
    "\n",
    "improvable_return_stats = ['first_serves_return_points_won_%', 'second_serves_return_points_won_%', \n",
    "                           'break_point_convert_%']\n",
    "\n",
    "improvable_stats = improvable_serve_stats + improvable_return_stats\n",
    "\n",
    "match_analysis = improvable_stats + \\\n",
    "                ['total_return_points_played_%', 'diff_in_first_serves_in_%',\n",
    "                 'break_points_return_total']"
   ]
  },
  {
   "cell_type": "code",
   "execution_count": 31,
   "metadata": {
    "ExecuteTime": {
     "end_time": "2020-04-13T12:51:37.441384Z",
     "start_time": "2020-04-13T12:51:37.357447Z"
    },
    "hidden": true
   },
   "outputs": [
    {
     "data": {
      "text/plain": [
       "array([[0.49423248, 0.66470588, 0.42105263, ..., 0.2877193 , 0.33333333,\n",
       "        0.05      ],\n",
       "       [0.12207358, 0.81314879, 0.71428571, ..., 0.4495614 , 0.54545455,\n",
       "        0.0625    ],\n",
       "       [0.38618926, 0.88235294, 0.625     , ..., 0.33909774, 0.65517241,\n",
       "        0.07142857],\n",
       "       ...,\n",
       "       [0.39130435, 0.77941176, 0.71428571, ..., 0.29048583, 0.70588235,\n",
       "        0.05555556],\n",
       "       [0.61277174, 0.52941176, 0.21052632, ..., 0.26043557, 0.4       ,\n",
       "        0.125     ],\n",
       "       [0.5256917 , 0.81848739, 0.45      , ..., 0.43157895, 0.56      ,\n",
       "        0.05      ]])"
      ]
     },
     "execution_count": 31,
     "metadata": {},
     "output_type": "execute_result"
    }
   ],
   "source": [
    "# Define independent and dependent variable\n",
    "y = df['winner']\n",
    "X = df[improvable_stats]\n",
    "\n",
    "# 80:20 Train Test Split\n",
    "X_train, X_test, y_train, y_test = train_test_split(X,\n",
    "                                                    y,\n",
    "                                                    test_size=0.2,\n",
    "                                                    random_state=42\n",
    "                                                   )\n",
    "\n",
    "# 80:20 Train Validation Split\n",
    "X_train, X_validate, y_train, y_validate = train_test_split(X_train,\n",
    "                                                            y_train,\n",
    "                                                            test_size=0.2,\n",
    "                                                            random_state=42\n",
    "                                                            )\n",
    "\n",
    "# Initialising K-Folds\n",
    "kfold = KFold(n_splits=5,\n",
    "              random_state=42,\n",
    "              shuffle=True\n",
    "             )\n",
    "\n",
    "# Re-index y_validate, y_test\n",
    "y_validate.reset_index(drop = True, inplace = True)\n",
    "y_test.reset_index(drop = True, inplace = True)\n",
    "\n",
    "# Apply MinMaxScaler on Train, Validate, Test Data\n",
    "scaler = MinMaxScaler()\n",
    "scaler.fit_transform(X_train)\n",
    "scaler.transform(X_validate)\n",
    "scaler.transform(X_test)"
   ]
  },
  {
   "cell_type": "markdown",
   "metadata": {
    "heading_collapsed": true,
    "hidden": true
   },
   "source": [
    "## Logistic Regression"
   ]
  },
  {
   "cell_type": "code",
   "execution_count": 25,
   "metadata": {
    "ExecuteTime": {
     "end_time": "2020-04-13T12:51:28.581605Z",
     "start_time": "2020-04-13T12:51:27.994243Z"
    },
    "hidden": true
   },
   "outputs": [
    {
     "data": {
      "text/plain": [
       "LogisticRegression(C=1000000000000.0, class_weight=None, dual=False,\n",
       "                   fit_intercept=False, intercept_scaling=1, l1_ratio=None,\n",
       "                   max_iter=100, multi_class='warn', n_jobs=None, penalty='l2',\n",
       "                   random_state=None, solver='liblinear', tol=0.0001, verbose=0,\n",
       "                   warm_start=False)"
      ]
     },
     "execution_count": 25,
     "metadata": {},
     "output_type": "execute_result"
    }
   ],
   "source": [
    "logreg = LogisticRegression(fit_intercept=False, C=1e12, solver='liblinear')\n",
    "model_log = logreg.fit(X_train, y_train)\n",
    "model_log"
   ]
  },
  {
   "cell_type": "code",
   "execution_count": 26,
   "metadata": {
    "ExecuteTime": {
     "end_time": "2020-04-13T12:51:31.580963Z",
     "start_time": "2020-04-13T12:51:28.583590Z"
    },
    "hidden": true
   },
   "outputs": [
    {
     "name": "stdout",
     "output_type": "stream",
     "text": [
      "[0.82005035 0.81472872 0.81956567 0.81354218 0.81007687]\n",
      "Average Train AUC: 0.815592756906217\n"
     ]
    }
   ],
   "source": [
    "print(cross_val_score(logreg, X_train, y_train, scoring='roc_auc', cv=kfold))\n",
    "\n",
    "print(f\"Average Train AUC: {sum(cross_val_score(logreg, X_train, y_train, scoring='roc_auc', cv=kfold))/5}\")"
   ]
  },
  {
   "cell_type": "code",
   "execution_count": 27,
   "metadata": {
    "ExecuteTime": {
     "end_time": "2020-04-13T12:51:31.961743Z",
     "start_time": "2020-04-13T12:51:31.582960Z"
    },
    "hidden": true
   },
   "outputs": [
    {
     "name": "stdout",
     "output_type": "stream",
     "text": [
      "Validation AUC: 0.8190735036162093\n"
     ]
    }
   ],
   "source": [
    "y_score = logreg.fit(X_train, y_train).decision_function(X_validate)\n",
    "\n",
    "fpr, tpr, thresholds = roc_curve(y_validate, y_score)\n",
    "print(f\"Validation AUC: {auc(fpr, tpr)}\")"
   ]
  },
  {
   "cell_type": "code",
   "execution_count": 28,
   "metadata": {
    "ExecuteTime": {
     "end_time": "2020-04-13T12:51:32.300550Z",
     "start_time": "2020-04-13T12:51:31.963742Z"
    },
    "hidden": true
   },
   "outputs": [
    {
     "name": "stdout",
     "output_type": "stream",
     "text": [
      "Validation Prediction Accuracy = 0.7365636973992066\n"
     ]
    }
   ],
   "source": [
    "y_predict = logreg.predict(X_validate)\n",
    "\n",
    "prediction = []\n",
    "for i in range(0, len(y_validate)):\n",
    "    if y_predict[i] == y_validate[i]:\n",
    "        prediction.append(1)\n",
    "    else:\n",
    "        prediction.append(0)\n",
    "        \n",
    "pred = pd.DataFrame(prediction)\n",
    "print(f\"Validation Prediction Accuracy = {pred[0].sum()/pred[0].value_counts().sum()}\")"
   ]
  },
  {
   "cell_type": "markdown",
   "metadata": {
    "heading_collapsed": true,
    "hidden": true
   },
   "source": [
    "## Decision Tree"
   ]
  },
  {
   "cell_type": "markdown",
   "metadata": {
    "heading_collapsed": true,
    "hidden": true
   },
   "source": [
    "### Parameter Set 1"
   ]
  },
  {
   "cell_type": "code",
   "execution_count": 264,
   "metadata": {
    "ExecuteTime": {
     "end_time": "2020-04-10T16:31:34.470911Z",
     "start_time": "2020-04-10T16:31:34.465900Z"
    },
    "hidden": true
   },
   "outputs": [],
   "source": [
    "param_grid = {'criterion' : ['gini','entropy'],\n",
    "              'max_depth' : [x for x in range(5,20)],\n",
    "              'min_samples_leaf' : [100, 500, 1000, 5000]}"
   ]
  },
  {
   "cell_type": "code",
   "execution_count": 265,
   "metadata": {
    "ExecuteTime": {
     "end_time": "2020-04-10T16:31:34.870934Z",
     "start_time": "2020-04-10T16:31:34.865939Z"
    },
    "hidden": true
   },
   "outputs": [],
   "source": [
    "dtree = DecisionTreeClassifier()\n",
    "\n",
    "grid = GridSearchCV(estimator = dtree, \n",
    "                    param_grid = param_grid, \n",
    "                    scoring = 'roc_auc',\n",
    "                    cv = kfold,\n",
    "                    n_jobs = -1,\n",
    "                    return_train_score=True\n",
    "                   )"
   ]
  },
  {
   "cell_type": "code",
   "execution_count": 266,
   "metadata": {
    "ExecuteTime": {
     "end_time": "2020-04-10T16:32:43.104078Z",
     "start_time": "2020-04-10T16:31:35.292157Z"
    },
    "hidden": true
   },
   "outputs": [
    {
     "name": "stdout",
     "output_type": "stream",
     "text": [
      "criterion: entropy\n",
      "max_depth: 16\n",
      "min_samples_leaf: 100\n",
      "ROC_AUC: 0.96989\n"
     ]
    }
   ],
   "source": [
    "grid = grid.fit(X_train, y_train)\n",
    "criterion = grid.best_params_['criterion']\n",
    "max_depth = grid.best_params_['max_depth']\n",
    "min_samples_leaf = grid.best_params_['min_samples_leaf']\n",
    "\n",
    "print(f'criterion: {criterion}')\n",
    "print(f'max_depth: {round(max_depth,5)}')\n",
    "print(f'min_samples_leaf: {round(min_samples_leaf,5)}')\n",
    "print(f'ROC_AUC: {round(grid.best_score_,5)}')"
   ]
  },
  {
   "cell_type": "code",
   "execution_count": 267,
   "metadata": {
    "ExecuteTime": {
     "end_time": "2020-04-10T16:33:03.402815Z",
     "start_time": "2020-04-10T16:33:03.384824Z"
    },
    "hidden": true
   },
   "outputs": [
    {
     "name": "stdout",
     "output_type": "stream",
     "text": [
      "Validation AUC: 0.906789087223887\n"
     ]
    }
   ],
   "source": [
    "y_score = grid.predict(X_validate)\n",
    "\n",
    "fpr, tpr, thresholds = roc_curve(y_validate, y_score)\n",
    "print(f\"Validation AUC: {auc(fpr, tpr)}\")"
   ]
  },
  {
   "cell_type": "markdown",
   "metadata": {
    "heading_collapsed": true,
    "hidden": true
   },
   "source": [
    "### Parameter Set 2"
   ]
  },
  {
   "cell_type": "code",
   "execution_count": 268,
   "metadata": {
    "ExecuteTime": {
     "end_time": "2020-04-10T16:33:55.845427Z",
     "start_time": "2020-04-10T16:33:55.841445Z"
    },
    "hidden": true
   },
   "outputs": [],
   "source": [
    "param_grid = {'criterion' : ['entropy'],\n",
    "              'max_depth' : [15, 16, 17, 18, 19],\n",
    "              'min_samples_leaf' : [30, 50, 100, 150, 200]}"
   ]
  },
  {
   "cell_type": "code",
   "execution_count": 269,
   "metadata": {
    "ExecuteTime": {
     "end_time": "2020-04-10T16:33:56.177959Z",
     "start_time": "2020-04-10T16:33:56.173960Z"
    },
    "hidden": true
   },
   "outputs": [],
   "source": [
    "dtree = DecisionTreeClassifier()\n",
    "\n",
    "grid = GridSearchCV(estimator = dtree, \n",
    "                    param_grid = param_grid, \n",
    "                    scoring = 'roc_auc',\n",
    "                    cv = kfold,\n",
    "                    n_jobs = -1,\n",
    "                    return_train_score=True\n",
    "                   )"
   ]
  },
  {
   "cell_type": "code",
   "execution_count": 270,
   "metadata": {
    "ExecuteTime": {
     "end_time": "2020-04-10T16:34:11.813909Z",
     "start_time": "2020-04-10T16:33:56.797777Z"
    },
    "hidden": true
   },
   "outputs": [
    {
     "name": "stdout",
     "output_type": "stream",
     "text": [
      "criterion: entropy\n",
      "max_depth: 16\n",
      "min_samples_leaf: 50\n",
      "ROC_AUC: 0.97078\n"
     ]
    }
   ],
   "source": [
    "grid = grid.fit(X_train, y_train)\n",
    "criterion = grid.best_params_['criterion']\n",
    "max_depth = grid.best_params_['max_depth']\n",
    "min_samples_leaf = grid.best_params_['min_samples_leaf']\n",
    "\n",
    "print(f'criterion: {criterion}')\n",
    "print(f'max_depth: {round(max_depth,5)}')\n",
    "print(f'min_samples_leaf: {round(min_samples_leaf,5)}')\n",
    "print(f'ROC_AUC: {round(grid.best_score_,5)}')"
   ]
  },
  {
   "cell_type": "code",
   "execution_count": 271,
   "metadata": {
    "ExecuteTime": {
     "end_time": "2020-04-10T16:34:24.639282Z",
     "start_time": "2020-04-10T16:34:24.621292Z"
    },
    "hidden": true
   },
   "outputs": [
    {
     "name": "stdout",
     "output_type": "stream",
     "text": [
      "Validation AUC: 0.9111204212630981\n"
     ]
    }
   ],
   "source": [
    "y_score = grid.predict(X_validate)\n",
    "\n",
    "fpr, tpr, thresholds = roc_curve(y_validate, y_score)\n",
    "print(f\"Validation AUC: {auc(fpr, tpr)}\")"
   ]
  },
  {
   "cell_type": "markdown",
   "metadata": {
    "heading_collapsed": true,
    "hidden": true
   },
   "source": [
    "## Random Forest"
   ]
  },
  {
   "cell_type": "markdown",
   "metadata": {
    "heading_collapsed": true,
    "hidden": true
   },
   "source": [
    "### Parameter Set 1"
   ]
  },
  {
   "cell_type": "code",
   "execution_count": 296,
   "metadata": {
    "ExecuteTime": {
     "end_time": "2020-04-10T17:02:15.073820Z",
     "start_time": "2020-04-10T17:02:15.069808Z"
    },
    "hidden": true
   },
   "outputs": [],
   "source": [
    "param_grid = {'criterion' : ['gini','entropy'],\n",
    "              'max_depth' : [x for x in range(5, 20)],\n",
    "              'min_samples_leaf' : [100, 500, 1000, 5000]\n",
    "             }"
   ]
  },
  {
   "cell_type": "code",
   "execution_count": 297,
   "metadata": {
    "ExecuteTime": {
     "end_time": "2020-04-10T17:02:15.658667Z",
     "start_time": "2020-04-10T17:02:15.653670Z"
    },
    "hidden": true
   },
   "outputs": [],
   "source": [
    "rfc = RandomForestClassifier()\n",
    "\n",
    "grid = GridSearchCV(estimator = rfc, \n",
    "                    param_grid = param_grid, \n",
    "                    scoring = 'roc_auc',\n",
    "                    cv = kfold,\n",
    "                    n_jobs = -1,\n",
    "                    return_train_score=True\n",
    "                   )"
   ]
  },
  {
   "cell_type": "code",
   "execution_count": 298,
   "metadata": {
    "ExecuteTime": {
     "end_time": "2020-04-10T17:04:47.600332Z",
     "start_time": "2020-04-10T17:02:16.430251Z"
    },
    "hidden": true
   },
   "outputs": [
    {
     "name": "stdout",
     "output_type": "stream",
     "text": [
      "criterion: entropy\n",
      "max_depth: 16\n",
      "min_samples_leaf: 100\n",
      "ROC_AUC: 0.98017\n"
     ]
    }
   ],
   "source": [
    "grid = grid.fit(X_train, y_train)\n",
    "max_depth = grid.best_params_['max_depth']\n",
    "min_samples_leaf = grid.best_params_['min_samples_leaf']\n",
    "\n",
    "print(f'criterion: {criterion}')\n",
    "print(f'max_depth: {round(max_depth,5)}')\n",
    "print(f'min_samples_leaf: {round(min_samples_leaf,5)}')\n",
    "print(f'ROC_AUC: {round(grid.best_score_,5)}')"
   ]
  },
  {
   "cell_type": "code",
   "execution_count": 299,
   "metadata": {
    "ExecuteTime": {
     "end_time": "2020-04-10T17:04:53.028193Z",
     "start_time": "2020-04-10T17:04:52.972227Z"
    },
    "hidden": true
   },
   "outputs": [
    {
     "name": "stdout",
     "output_type": "stream",
     "text": [
      "Validation AUC: 0.9250354918882695\n"
     ]
    }
   ],
   "source": [
    "y_score = grid.predict(X_validate)\n",
    "\n",
    "fpr, tpr, thresholds = roc_curve(y_validate, y_score)\n",
    "print(f\"Validation AUC: {auc(fpr, tpr)}\")"
   ]
  },
  {
   "cell_type": "markdown",
   "metadata": {
    "heading_collapsed": true,
    "hidden": true
   },
   "source": [
    "### Parameter Set 2"
   ]
  },
  {
   "cell_type": "code",
   "execution_count": 300,
   "metadata": {
    "ExecuteTime": {
     "end_time": "2020-04-10T17:06:29.020203Z",
     "start_time": "2020-04-10T17:06:29.015206Z"
    },
    "hidden": true
   },
   "outputs": [],
   "source": [
    "param_grid = {'criterion' : ['entropy'],\n",
    "              'max_depth' : [15, 16, 17],\n",
    "              'min_samples_leaf' : [15, 30, 50, 100, 150, 200]\n",
    "             }"
   ]
  },
  {
   "cell_type": "code",
   "execution_count": 301,
   "metadata": {
    "ExecuteTime": {
     "end_time": "2020-04-10T17:06:29.443445Z",
     "start_time": "2020-04-10T17:06:29.438448Z"
    },
    "hidden": true
   },
   "outputs": [],
   "source": [
    "rfc = RandomForestClassifier()\n",
    "\n",
    "grid = GridSearchCV(estimator = rfc, \n",
    "                    param_grid = param_grid, \n",
    "                    scoring = 'roc_auc',\n",
    "                    cv = kfold,\n",
    "                    n_jobs = -1,\n",
    "                    return_train_score=True\n",
    "                   )"
   ]
  },
  {
   "cell_type": "code",
   "execution_count": 302,
   "metadata": {
    "ExecuteTime": {
     "end_time": "2020-04-10T17:07:00.998629Z",
     "start_time": "2020-04-10T17:06:30.068136Z"
    },
    "hidden": true
   },
   "outputs": [
    {
     "name": "stdout",
     "output_type": "stream",
     "text": [
      "criterion: entropy\n",
      "max_depth: 16\n",
      "min_samples_leaf: 15\n",
      "ROC_AUC: 0.98263\n"
     ]
    }
   ],
   "source": [
    "grid = grid.fit(X_train, y_train)\n",
    "max_depth = grid.best_params_['max_depth']\n",
    "min_samples_leaf = grid.best_params_['min_samples_leaf']\n",
    "\n",
    "print(f'criterion: {criterion}')\n",
    "print(f'max_depth: {round(max_depth,5)}')\n",
    "print(f'min_samples_leaf: {round(min_samples_leaf,5)}')\n",
    "print(f'ROC_AUC: {round(grid.best_score_,5)}')"
   ]
  },
  {
   "cell_type": "code",
   "execution_count": 303,
   "metadata": {
    "ExecuteTime": {
     "end_time": "2020-04-10T17:07:09.587881Z",
     "start_time": "2020-04-10T17:07:09.523914Z"
    },
    "hidden": true
   },
   "outputs": [
    {
     "name": "stdout",
     "output_type": "stream",
     "text": [
      "Validation AUC: 0.9301556469823274\n"
     ]
    }
   ],
   "source": [
    "y_score = grid.predict(X_validate)\n",
    "\n",
    "fpr, tpr, thresholds = roc_curve(y_validate, y_score)\n",
    "print(f\"Validation AUC: {auc(fpr, tpr)}\")"
   ]
  },
  {
   "cell_type": "markdown",
   "metadata": {
    "ExecuteTime": {
     "end_time": "2020-04-10T17:08:25.687630Z",
     "start_time": "2020-04-10T17:08:25.682614Z"
    },
    "hidden": true
   },
   "source": [
    "__Train AUC: 98.26 %__\n",
    "\n",
    "__Validation AUC: 93.02 %__"
   ]
  },
  {
   "cell_type": "markdown",
   "metadata": {
    "heading_collapsed": true,
    "hidden": true
   },
   "source": [
    "## AdaBoost"
   ]
  },
  {
   "cell_type": "code",
   "execution_count": 70,
   "metadata": {
    "ExecuteTime": {
     "end_time": "2020-04-11T07:20:24.375745Z",
     "start_time": "2020-04-11T07:20:20.258116Z"
    },
    "hidden": true
   },
   "outputs": [
    {
     "data": {
      "text/plain": [
       "AdaBoostClassifier(algorithm='SAMME.R', base_estimator=None, learning_rate=1.0,\n",
       "                   n_estimators=50, random_state=None)"
      ]
     },
     "execution_count": 70,
     "metadata": {},
     "output_type": "execute_result"
    }
   ],
   "source": [
    "ada_clf = AdaBoostClassifier()\n",
    "\n",
    "ada_clf.fit(X_train, y_train)"
   ]
  },
  {
   "cell_type": "code",
   "execution_count": 71,
   "metadata": {
    "ExecuteTime": {
     "end_time": "2020-04-11T07:20:25.529084Z",
     "start_time": "2020-04-11T07:20:24.377746Z"
    },
    "hidden": true
   },
   "outputs": [
    {
     "name": "stdout",
     "output_type": "stream",
     "text": [
      "Training ROC_AUC: 92.69%\n",
      "Validation ROC_AUC: 92.6%\n"
     ]
    }
   ],
   "source": [
    "# Predict for Train & Validation Data\n",
    "training_preds = ada_clf.predict(X_train)\n",
    "validate_preds = ada_clf.predict(X_validate)\n",
    "\n",
    "# Calculate Accuracy for Train & Validation Data\n",
    "training_roc_auc = roc_auc_score(y_train, training_preds)\n",
    "validate_roc_auc = roc_auc_score(y_validate, validate_preds)\n",
    "\n",
    "print('Training ROC_AUC: {:.4}%'.format(training_roc_auc * 100))\n",
    "print('Validation ROC_AUC: {:.4}%'.format(validate_roc_auc * 100))"
   ]
  },
  {
   "cell_type": "code",
   "execution_count": 72,
   "metadata": {
    "ExecuteTime": {
     "end_time": "2020-04-11T07:20:25.538080Z",
     "start_time": "2020-04-11T07:20:25.531084Z"
    },
    "hidden": true,
    "scrolled": true
   },
   "outputs": [
    {
     "data": {
      "text/plain": [
       "array([0.06, 0.18, 0.18, 0.12, 0.2 , 0.14, 0.12])"
      ]
     },
     "execution_count": 72,
     "metadata": {},
     "output_type": "execute_result"
    }
   ],
   "source": [
    "ada_clf.feature_importances_"
   ]
  },
  {
   "cell_type": "markdown",
   "metadata": {
    "heading_collapsed": true,
    "hidden": true
   },
   "source": [
    "### Feature Reduction 1"
   ]
  },
  {
   "cell_type": "code",
   "execution_count": 73,
   "metadata": {
    "ExecuteTime": {
     "end_time": "2020-04-11T07:20:33.740155Z",
     "start_time": "2020-04-11T07:20:33.731177Z"
    },
    "hidden": true
   },
   "outputs": [],
   "source": [
    "to_drop = ['first_serves_in_%', 'first_serves_points_won_%', 'first_serves_return_points_won_%', 'break_point_save_%',\n",
    "           'second_serves_points_won_%']\n",
    "\n",
    "X_train.drop(to_drop, axis = 1, inplace = True)\n",
    "X_validate.drop(to_drop, axis = 1, inplace = True)"
   ]
  },
  {
   "cell_type": "code",
   "execution_count": 74,
   "metadata": {
    "ExecuteTime": {
     "end_time": "2020-04-11T07:20:37.264027Z",
     "start_time": "2020-04-11T07:20:35.150236Z"
    },
    "hidden": true
   },
   "outputs": [
    {
     "data": {
      "text/plain": [
       "AdaBoostClassifier(algorithm='SAMME.R', base_estimator=None, learning_rate=1.0,\n",
       "                   n_estimators=50, random_state=None)"
      ]
     },
     "execution_count": 74,
     "metadata": {},
     "output_type": "execute_result"
    }
   ],
   "source": [
    "ada_clf = AdaBoostClassifier()\n",
    "\n",
    "ada_clf.fit(X_train, y_train)"
   ]
  },
  {
   "cell_type": "code",
   "execution_count": 75,
   "metadata": {
    "ExecuteTime": {
     "end_time": "2020-04-11T07:20:38.233472Z",
     "start_time": "2020-04-11T07:20:37.266026Z"
    },
    "hidden": true
   },
   "outputs": [
    {
     "name": "stdout",
     "output_type": "stream",
     "text": [
      "Training ROC_AUC: 75.95%\n",
      "Validation ROC_AUC: 75.9%\n"
     ]
    }
   ],
   "source": [
    "# Predict for Train & Validation Data\n",
    "training_preds = ada_clf.predict(X_train)\n",
    "validate_preds = ada_clf.predict(X_validate)\n",
    "\n",
    "# Calculate Accuracy for Train & Validation Data\n",
    "training_roc_auc = roc_auc_score(y_train, training_preds)\n",
    "validate_roc_auc = roc_auc_score(y_validate, validate_preds)\n",
    "\n",
    "print('Training ROC_AUC: {:.4}%'.format(training_roc_auc * 100))\n",
    "print('Validation ROC_AUC: {:.4}%'.format(validate_roc_auc * 100))"
   ]
  },
  {
   "cell_type": "markdown",
   "metadata": {
    "heading_collapsed": true,
    "hidden": true
   },
   "source": [
    "### Parameter Set 1"
   ]
  },
  {
   "cell_type": "code",
   "execution_count": 76,
   "metadata": {
    "ExecuteTime": {
     "end_time": "2020-04-11T07:20:52.942821Z",
     "start_time": "2020-04-11T07:20:52.938824Z"
    },
    "hidden": true
   },
   "outputs": [],
   "source": [
    "param_grid = {\n",
    "    'learning_rate': [0.1, 0.3, 0.5, 0.7, 1.0],\n",
    "    'n_estimators': [30, 50, 70, 100],\n",
    "}"
   ]
  },
  {
   "cell_type": "code",
   "execution_count": 77,
   "metadata": {
    "ExecuteTime": {
     "end_time": "2020-04-11T07:22:16.012612Z",
     "start_time": "2020-04-11T07:20:53.811619Z"
    },
    "hidden": true
   },
   "outputs": [
    {
     "data": {
      "text/plain": [
       "{'learning_rate': 1.0, 'n_estimators': 100}"
      ]
     },
     "execution_count": 77,
     "metadata": {},
     "output_type": "execute_result"
    }
   ],
   "source": [
    "grid_clf = GridSearchCV(ada_clf, param_grid, scoring='roc_auc', cv=kfold, n_jobs=-1)\n",
    "grid_clf.fit(X_train, y_train)\n",
    "\n",
    "grid_clf.best_params_"
   ]
  },
  {
   "cell_type": "code",
   "execution_count": 78,
   "metadata": {
    "ExecuteTime": {
     "end_time": "2020-04-11T07:22:22.474898Z",
     "start_time": "2020-04-11T07:22:20.626955Z"
    },
    "hidden": true,
    "scrolled": true
   },
   "outputs": [
    {
     "name": "stdout",
     "output_type": "stream",
     "text": [
      "Training ROC_AUC: 76.25%\n",
      "Validation ROC_AUC: 76.32%\n"
     ]
    }
   ],
   "source": [
    "# Predict for Train & Validation Data\n",
    "training_preds = grid_clf.predict(X_train)\n",
    "validate_preds = grid_clf.predict(X_validate)\n",
    "\n",
    "# Calculate Accuracy for Train & Validation Data\n",
    "training_roc_auc = roc_auc_score(y_train, training_preds)\n",
    "validate_roc_auc = roc_auc_score(y_validate, validate_preds)\n",
    "\n",
    "print('Training ROC_AUC: {:.4}%'.format(training_roc_auc * 100))\n",
    "print('Validation ROC_AUC: {:.4}%'.format(validate_roc_auc * 100))"
   ]
  },
  {
   "cell_type": "markdown",
   "metadata": {
    "heading_collapsed": true,
    "hidden": true
   },
   "source": [
    "### Parameter Set 2"
   ]
  },
  {
   "cell_type": "code",
   "execution_count": 79,
   "metadata": {
    "ExecuteTime": {
     "end_time": "2020-04-11T07:22:52.793882Z",
     "start_time": "2020-04-11T07:22:52.788885Z"
    },
    "hidden": true
   },
   "outputs": [],
   "source": [
    "param_grid = {\n",
    "    'learning_rate': [1.0, 1.5, 2.0],\n",
    "    'n_estimators': [100, 150, 200, 250],\n",
    "}"
   ]
  },
  {
   "cell_type": "code",
   "execution_count": 80,
   "metadata": {
    "ExecuteTime": {
     "end_time": "2020-04-11T07:24:21.169880Z",
     "start_time": "2020-04-11T07:22:53.371105Z"
    },
    "hidden": true
   },
   "outputs": [
    {
     "data": {
      "text/plain": [
       "{'learning_rate': 1.5, 'n_estimators': 200}"
      ]
     },
     "execution_count": 80,
     "metadata": {},
     "output_type": "execute_result"
    }
   ],
   "source": [
    "grid_clf = GridSearchCV(ada_clf, param_grid, scoring='roc_auc', cv=kfold, n_jobs=-1)\n",
    "grid_clf.fit(X_train, y_train)\n",
    "\n",
    "grid_clf.best_params_"
   ]
  },
  {
   "cell_type": "code",
   "execution_count": 81,
   "metadata": {
    "ExecuteTime": {
     "end_time": "2020-04-11T07:24:32.147214Z",
     "start_time": "2020-04-11T07:24:28.531282Z"
    },
    "hidden": true,
    "scrolled": true
   },
   "outputs": [
    {
     "name": "stdout",
     "output_type": "stream",
     "text": [
      "Training ROC_AUC: 76.47%\n",
      "Validation ROC_AUC: 76.54%\n"
     ]
    }
   ],
   "source": [
    "# Predict for Train & Validation Data\n",
    "training_preds = grid_clf.predict(X_train)\n",
    "validate_preds = grid_clf.predict(X_validate)\n",
    "\n",
    "# Calculate Accuracy for Train & Validation Data\n",
    "training_roc_auc = roc_auc_score(y_train, training_preds)\n",
    "validate_roc_auc = roc_auc_score(y_validate, validate_preds)\n",
    "\n",
    "print('Training ROC_AUC: {:.4}%'.format(training_roc_auc * 100))\n",
    "print('Validation ROC_AUC: {:.4}%'.format(validate_roc_auc * 100))"
   ]
  },
  {
   "cell_type": "markdown",
   "metadata": {
    "heading_collapsed": true,
    "hidden": true
   },
   "source": [
    "## XGBoost"
   ]
  },
  {
   "cell_type": "markdown",
   "metadata": {
    "heading_collapsed": true,
    "hidden": true
   },
   "source": [
    "### XGBoost Baseline Model"
   ]
  },
  {
   "cell_type": "code",
   "execution_count": 85,
   "metadata": {
    "ExecuteTime": {
     "end_time": "2020-04-11T07:25:40.232229Z",
     "start_time": "2020-04-11T07:25:36.013642Z"
    },
    "hidden": true
   },
   "outputs": [
    {
     "data": {
      "text/plain": [
       "XGBClassifier(base_score=0.5, booster='gbtree', colsample_bylevel=1,\n",
       "              colsample_bynode=1, colsample_bytree=1, gamma=0,\n",
       "              learning_rate=0.1, max_delta_step=0, max_depth=3,\n",
       "              min_child_weight=1, missing=None, n_estimators=100, n_jobs=1,\n",
       "              nthread=None, objective='binary:logistic', random_state=0,\n",
       "              reg_alpha=0, reg_lambda=1, scale_pos_weight=1, seed=None,\n",
       "              silent=None, subsample=1, verbosity=1)"
      ]
     },
     "execution_count": 85,
     "metadata": {},
     "output_type": "execute_result"
    }
   ],
   "source": [
    "# Instantiate XGBoost & Fit Train Data\n",
    "clf = XGBClassifier()\n",
    "clf.fit(X_train, y_train)"
   ]
  },
  {
   "cell_type": "code",
   "execution_count": 86,
   "metadata": {
    "ExecuteTime": {
     "end_time": "2020-04-11T07:25:40.695977Z",
     "start_time": "2020-04-11T07:25:40.234230Z"
    },
    "hidden": true
   },
   "outputs": [
    {
     "name": "stdout",
     "output_type": "stream",
     "text": [
      "Training ROC_AUC: 93.54%\n",
      "Validation ROC_AUC: 93.33%\n"
     ]
    }
   ],
   "source": [
    "# Predict for Train & Validation Data\n",
    "training_preds = clf.predict(X_train)\n",
    "validate_preds = clf.predict(X_validate)\n",
    "\n",
    "# Calculate Accuracy for Train & Validation Data\n",
    "training_roc_auc = roc_auc_score(y_train, training_preds)\n",
    "validate_roc_auc = roc_auc_score(y_validate, validate_preds)\n",
    "\n",
    "print('Training ROC_AUC: {:.4}%'.format(training_roc_auc * 100))\n",
    "print('Validation ROC_AUC: {:.4}%'.format(validate_roc_auc * 100))"
   ]
  },
  {
   "cell_type": "code",
   "execution_count": 87,
   "metadata": {
    "ExecuteTime": {
     "end_time": "2020-04-11T07:25:40.710969Z",
     "start_time": "2020-04-11T07:25:40.697965Z"
    },
    "hidden": true,
    "scrolled": false
   },
   "outputs": [
    {
     "data": {
      "text/plain": [
       "array([0.03227242, 0.18603456, 0.15467806, 0.11379876, 0.1671531 ,\n",
       "       0.19471933, 0.15134376], dtype=float32)"
      ]
     },
     "execution_count": 87,
     "metadata": {},
     "output_type": "execute_result"
    }
   ],
   "source": [
    "clf.feature_importances_"
   ]
  },
  {
   "cell_type": "markdown",
   "metadata": {
    "heading_collapsed": true,
    "hidden": true
   },
   "source": [
    "### Feature Reduction 1"
   ]
  },
  {
   "cell_type": "code",
   "execution_count": 88,
   "metadata": {
    "ExecuteTime": {
     "end_time": "2020-04-11T07:26:44.833867Z",
     "start_time": "2020-04-11T07:26:44.823873Z"
    },
    "hidden": true
   },
   "outputs": [],
   "source": [
    "to_drop = ['first_serves_in_%', 'first_serves_points_won_%', 'first_serves_return_points_won_%', 'break_point_save_%',\n",
    "           'second_serves_points_won_%']\n",
    "\n",
    "X_train.drop(to_drop, axis = 1, inplace = True)\n",
    "X_validate.drop(to_drop, axis = 1, inplace = True)"
   ]
  },
  {
   "cell_type": "code",
   "execution_count": 89,
   "metadata": {
    "ExecuteTime": {
     "end_time": "2020-04-11T07:26:48.529809Z",
     "start_time": "2020-04-11T07:26:46.168143Z"
    },
    "hidden": true
   },
   "outputs": [
    {
     "data": {
      "text/plain": [
       "XGBClassifier(base_score=0.5, booster='gbtree', colsample_bylevel=1,\n",
       "              colsample_bynode=1, colsample_bytree=1, gamma=0,\n",
       "              learning_rate=0.1, max_delta_step=0, max_depth=3,\n",
       "              min_child_weight=1, missing=None, n_estimators=100, n_jobs=1,\n",
       "              nthread=None, objective='binary:logistic', random_state=0,\n",
       "              reg_alpha=0, reg_lambda=1, scale_pos_weight=1, seed=None,\n",
       "              silent=None, subsample=1, verbosity=1)"
      ]
     },
     "execution_count": 89,
     "metadata": {},
     "output_type": "execute_result"
    }
   ],
   "source": [
    "# Instantiate XGBoost & Fit Train Data\n",
    "clf = XGBClassifier()\n",
    "clf.fit(X_train, y_train)"
   ]
  },
  {
   "cell_type": "code",
   "execution_count": 90,
   "metadata": {
    "ExecuteTime": {
     "end_time": "2020-04-11T07:26:48.900580Z",
     "start_time": "2020-04-11T07:26:48.530791Z"
    },
    "hidden": true
   },
   "outputs": [
    {
     "name": "stdout",
     "output_type": "stream",
     "text": [
      "Training ROC_AUC: 76.5%\n",
      "Validation ROC_AUC: 76.5%\n"
     ]
    }
   ],
   "source": [
    "# Predict for Train & Validation Data\n",
    "training_preds = clf.predict(X_train)\n",
    "validate_preds = clf.predict(X_validate)\n",
    "\n",
    "# Calculate Accuracy for Train & Validation Data\n",
    "training_roc_auc = roc_auc_score(y_train, training_preds)\n",
    "validate_roc_auc = roc_auc_score(y_validate, validate_preds)\n",
    "\n",
    "print('Training ROC_AUC: {:.4}%'.format(training_roc_auc * 100))\n",
    "print('Validation ROC_AUC: {:.4}%'.format(validate_roc_auc * 100))"
   ]
  },
  {
   "cell_type": "markdown",
   "metadata": {
    "heading_collapsed": true,
    "hidden": true
   },
   "source": [
    "### Parameter Set 1"
   ]
  },
  {
   "cell_type": "code",
   "execution_count": 91,
   "metadata": {
    "ExecuteTime": {
     "end_time": "2020-04-11T07:27:33.662392Z",
     "start_time": "2020-04-11T07:27:33.657410Z"
    },
    "hidden": true
   },
   "outputs": [],
   "source": [
    "param_grid = {\n",
    "    'learning_rate': [0.05, 0.1, 0.25],\n",
    "    'max_depth': [5, 8, 10, 13],\n",
    "    'min_child_weight': [0.1, 0.5, 1.0],\n",
    "    'subsample': [1.0],\n",
    "    'n_estimators': [100],\n",
    "}"
   ]
  },
  {
   "cell_type": "code",
   "execution_count": 92,
   "metadata": {
    "ExecuteTime": {
     "end_time": "2020-04-11T07:31:14.060609Z",
     "start_time": "2020-04-11T07:27:34.115341Z"
    },
    "hidden": true
   },
   "outputs": [],
   "source": [
    "grid_clf = GridSearchCV(clf, param_grid, scoring='roc_auc', cv=kfold, n_jobs=-1)\n",
    "grid_clf.fit(X_train, y_train)\n",
    "\n",
    "best_parameters = grid_clf.best_params_"
   ]
  },
  {
   "cell_type": "code",
   "execution_count": 93,
   "metadata": {
    "ExecuteTime": {
     "end_time": "2020-04-11T07:32:21.516508Z",
     "start_time": "2020-04-11T07:32:21.001799Z"
    },
    "hidden": true,
    "scrolled": true
   },
   "outputs": [
    {
     "name": "stdout",
     "output_type": "stream",
     "text": [
      "Grid Search found the following optimal parameters: \n",
      "learning_rate: 0.25\n",
      "max_depth: 5\n",
      "min_child_weight: 0.5\n",
      "n_estimators: 100\n",
      "subsample: 1.0\n",
      "Training ROC_AUC: 77.03%\n",
      "Validation ROC_AUC: 76.82%\n"
     ]
    }
   ],
   "source": [
    "print('Grid Search found the following optimal parameters: ')\n",
    "for param_name in sorted(best_parameters.keys()):\n",
    "    print('%s: %r' % (param_name, best_parameters[param_name]))\n",
    "\n",
    "training_preds = grid_clf.predict(X_train)\n",
    "validate_preds = grid_clf.predict(X_validate)\n",
    "\n",
    "training_roc_auc = roc_auc_score(y_train, training_preds)\n",
    "validate_roc_auc = roc_auc_score(y_validate, validate_preds)\n",
    "\n",
    "print('Training ROC_AUC: {:.4}%'.format(training_roc_auc * 100))\n",
    "print('Validation ROC_AUC: {:.4}%'.format(validate_roc_auc * 100))"
   ]
  },
  {
   "cell_type": "markdown",
   "metadata": {
    "heading_collapsed": true,
    "hidden": true
   },
   "source": [
    "### Parameter Set 2"
   ]
  },
  {
   "cell_type": "code",
   "execution_count": 94,
   "metadata": {
    "ExecuteTime": {
     "end_time": "2020-04-11T07:33:50.721019Z",
     "start_time": "2020-04-11T07:33:50.716023Z"
    },
    "hidden": true
   },
   "outputs": [],
   "source": [
    "param_grid = {\n",
    "    'learning_rate': [0.2, 0.25, 0.3],\n",
    "    'max_depth': [3, 4, 5, 6],\n",
    "    'min_child_weight': [0.3, 0.4, 0.5, 0.6],\n",
    "    'subsample': [1.0],\n",
    "    'n_estimators': [100],\n",
    "}"
   ]
  },
  {
   "cell_type": "code",
   "execution_count": 95,
   "metadata": {
    "ExecuteTime": {
     "end_time": "2020-04-11T07:36:25.377528Z",
     "start_time": "2020-04-11T07:33:51.653391Z"
    },
    "hidden": true
   },
   "outputs": [],
   "source": [
    "grid_clf = GridSearchCV(clf, param_grid, scoring='roc_auc', cv=kfold, n_jobs=-1)\n",
    "grid_clf.fit(X_train, y_train)\n",
    "\n",
    "best_parameters = grid_clf.best_params_"
   ]
  },
  {
   "cell_type": "code",
   "execution_count": 96,
   "metadata": {
    "ExecuteTime": {
     "end_time": "2020-04-11T07:36:25.829245Z",
     "start_time": "2020-04-11T07:36:25.379496Z"
    },
    "hidden": true,
    "scrolled": true
   },
   "outputs": [
    {
     "name": "stdout",
     "output_type": "stream",
     "text": [
      "Grid Search found the following optimal parameters: \n",
      "learning_rate: 0.2\n",
      "max_depth: 4\n",
      "min_child_weight: 0.5\n",
      "n_estimators: 100\n",
      "subsample: 1.0\n",
      "Training ROC_AUC: 76.89%\n",
      "Validation ROC_AUC: 76.73%\n"
     ]
    }
   ],
   "source": [
    "print('Grid Search found the following optimal parameters: ')\n",
    "for param_name in sorted(best_parameters.keys()):\n",
    "    print('%s: %r' % (param_name, best_parameters[param_name]))\n",
    "\n",
    "training_preds = grid_clf.predict(X_train)\n",
    "validate_preds = grid_clf.predict(X_validate)\n",
    "\n",
    "training_roc_auc = roc_auc_score(y_train, training_preds)\n",
    "validate_roc_auc = roc_auc_score(y_validate, validate_preds)\n",
    "\n",
    "print('Training ROC_AUC: {:.4}%'.format(training_roc_auc * 100))\n",
    "print('Validation ROC_AUC: {:.4}%'.format(validate_roc_auc * 100))"
   ]
  },
  {
   "cell_type": "markdown",
   "metadata": {
    "heading_collapsed": true,
    "hidden": true
   },
   "source": [
    "## Logistic Regression with Feature Reduction"
   ]
  },
  {
   "cell_type": "code",
   "execution_count": 144,
   "metadata": {
    "ExecuteTime": {
     "end_time": "2020-04-11T08:04:19.340728Z",
     "start_time": "2020-04-11T08:04:19.331749Z"
    },
    "hidden": true
   },
   "outputs": [],
   "source": [
    "to_drop = ['first_serves_in_%', 'first_serves_points_won_%', 'first_serves_return_points_won_%', 'break_point_save_%',\n",
    "           'second_serves_points_won_%']\n",
    "\n",
    "X_train.drop(to_drop, axis = 1, inplace = True)\n",
    "X_validate.drop(to_drop, axis = 1, inplace = True)"
   ]
  },
  {
   "cell_type": "code",
   "execution_count": 145,
   "metadata": {
    "ExecuteTime": {
     "end_time": "2020-04-11T08:04:20.651726Z",
     "start_time": "2020-04-11T08:04:20.536807Z"
    },
    "hidden": true
   },
   "outputs": [
    {
     "data": {
      "text/plain": [
       "LogisticRegression(C=1000000000000.0, class_weight=None, dual=False,\n",
       "                   fit_intercept=False, intercept_scaling=1, l1_ratio=None,\n",
       "                   max_iter=100, multi_class='warn', n_jobs=None, penalty='l2',\n",
       "                   random_state=None, solver='liblinear', tol=0.0001, verbose=0,\n",
       "                   warm_start=False)"
      ]
     },
     "execution_count": 145,
     "metadata": {},
     "output_type": "execute_result"
    }
   ],
   "source": [
    "logreg = LogisticRegression(fit_intercept=False, C=1e12, solver='liblinear')\n",
    "model_log = logreg.fit(X_train, y_train)\n",
    "model_log"
   ]
  },
  {
   "cell_type": "code",
   "execution_count": 146,
   "metadata": {
    "ExecuteTime": {
     "end_time": "2020-04-11T08:04:22.591754Z",
     "start_time": "2020-04-11T08:04:21.571339Z"
    },
    "hidden": true
   },
   "outputs": [
    {
     "name": "stdout",
     "output_type": "stream",
     "text": [
      "[0.6786007  0.67077326 0.67271871 0.66096869 0.6654967 ]\n",
      "Average Train AUC: 0.6697116117881912\n"
     ]
    }
   ],
   "source": [
    "print(cross_val_score(logreg, X_train, y_train, scoring='roc_auc', cv=kfold))\n",
    "\n",
    "print(f\"Average Train AUC: {sum(cross_val_score(logreg, X_train, y_train, scoring='roc_auc', cv=kfold))/5}\")"
   ]
  },
  {
   "cell_type": "code",
   "execution_count": 147,
   "metadata": {
    "ExecuteTime": {
     "end_time": "2020-04-11T08:04:26.316268Z",
     "start_time": "2020-04-11T08:04:26.199334Z"
    },
    "hidden": true
   },
   "outputs": [
    {
     "name": "stdout",
     "output_type": "stream",
     "text": [
      "Validation AUC: 0.6732143114537801\n"
     ]
    }
   ],
   "source": [
    "y_score = logreg.fit(X_train, y_train).decision_function(X_validate)\n",
    "\n",
    "fpr, tpr, thresholds = roc_curve(y_validate, y_score)\n",
    "print(f\"Validation AUC: {auc(fpr, tpr)}\")"
   ]
  },
  {
   "cell_type": "code",
   "execution_count": 148,
   "metadata": {
    "ExecuteTime": {
     "end_time": "2020-04-11T08:04:28.769819Z",
     "start_time": "2020-04-11T08:04:28.463996Z"
    },
    "hidden": true
   },
   "outputs": [
    {
     "name": "stdout",
     "output_type": "stream",
     "text": [
      "Validation Prediction Accuracy = 0.6533179614119562\n"
     ]
    }
   ],
   "source": [
    "y_predict = logreg.predict(X_validate)\n",
    "\n",
    "prediction = []\n",
    "for i in range(0, len(y_validate)):\n",
    "    if y_predict[i] == y_validate[i]:\n",
    "        prediction.append(1)\n",
    "    else:\n",
    "        prediction.append(0)\n",
    "        \n",
    "pred = pd.DataFrame(prediction)\n",
    "print(f\"Validation Prediction Accuracy = {pred[0].sum()/pred[0].value_counts().sum()}\")"
   ]
  },
  {
   "cell_type": "markdown",
   "metadata": {
    "heading_collapsed": true,
    "hidden": true
   },
   "source": [
    "## Decision Tree with Feature Reduction"
   ]
  },
  {
   "cell_type": "code",
   "execution_count": 152,
   "metadata": {
    "ExecuteTime": {
     "end_time": "2020-04-11T08:05:31.674246Z",
     "start_time": "2020-04-11T08:05:31.665237Z"
    },
    "hidden": true
   },
   "outputs": [],
   "source": [
    "to_drop = ['first_serves_in_%', 'first_serves_points_won_%', 'first_serves_return_points_won_%', 'break_point_save_%',\n",
    "           'second_serves_points_won_%']\n",
    "\n",
    "X_train.drop(to_drop, axis = 1, inplace = True)\n",
    "X_validate.drop(to_drop, axis = 1, inplace = True)"
   ]
  },
  {
   "cell_type": "markdown",
   "metadata": {
    "heading_collapsed": true,
    "hidden": true
   },
   "source": [
    "### Parameter Set 1"
   ]
  },
  {
   "cell_type": "code",
   "execution_count": 153,
   "metadata": {
    "ExecuteTime": {
     "end_time": "2020-04-11T08:05:32.510636Z",
     "start_time": "2020-04-11T08:05:32.505639Z"
    },
    "hidden": true
   },
   "outputs": [],
   "source": [
    "param_grid = {'criterion' : ['gini','entropy'],\n",
    "              'max_depth' : [x for x in range(5,20)],\n",
    "              'min_samples_leaf' : [100, 500, 1000, 5000]}"
   ]
  },
  {
   "cell_type": "code",
   "execution_count": 154,
   "metadata": {
    "ExecuteTime": {
     "end_time": "2020-04-11T08:05:32.918835Z",
     "start_time": "2020-04-11T08:05:32.914850Z"
    },
    "hidden": true
   },
   "outputs": [],
   "source": [
    "dtree = DecisionTreeClassifier()\n",
    "\n",
    "grid = GridSearchCV(estimator = dtree, \n",
    "                    param_grid = param_grid, \n",
    "                    scoring = 'roc_auc',\n",
    "                    cv = kfold,\n",
    "                    n_jobs = -1,\n",
    "                    return_train_score=True\n",
    "                   )"
   ]
  },
  {
   "cell_type": "code",
   "execution_count": 155,
   "metadata": {
    "ExecuteTime": {
     "end_time": "2020-04-11T08:06:10.268651Z",
     "start_time": "2020-04-11T08:05:33.384235Z"
    },
    "hidden": true
   },
   "outputs": [
    {
     "name": "stdout",
     "output_type": "stream",
     "text": [
      "criterion: gini\n",
      "max_depth: 11\n",
      "min_samples_leaf: 100\n",
      "ROC_AUC: 0.84946\n"
     ]
    }
   ],
   "source": [
    "grid = grid.fit(X_train, y_train)\n",
    "criterion = grid.best_params_['criterion']\n",
    "max_depth = grid.best_params_['max_depth']\n",
    "min_samples_leaf = grid.best_params_['min_samples_leaf']\n",
    "\n",
    "print(f'criterion: {criterion}')\n",
    "print(f'max_depth: {round(max_depth,5)}')\n",
    "print(f'min_samples_leaf: {round(min_samples_leaf,5)}')\n",
    "print(f'ROC_AUC: {round(grid.best_score_,5)}')"
   ]
  },
  {
   "cell_type": "code",
   "execution_count": 156,
   "metadata": {
    "ExecuteTime": {
     "end_time": "2020-04-11T08:06:10.284642Z",
     "start_time": "2020-04-11T08:06:10.270650Z"
    },
    "hidden": true
   },
   "outputs": [
    {
     "name": "stdout",
     "output_type": "stream",
     "text": [
      "Validation AUC: 0.7668134418382427\n"
     ]
    }
   ],
   "source": [
    "y_score = grid.predict(X_validate)\n",
    "\n",
    "fpr, tpr, thresholds = roc_curve(y_validate, y_score)\n",
    "print(f\"Validation AUC: {auc(fpr, tpr)}\")"
   ]
  },
  {
   "cell_type": "markdown",
   "metadata": {
    "heading_collapsed": true,
    "hidden": true
   },
   "source": [
    "### Parameter Set 2"
   ]
  },
  {
   "cell_type": "code",
   "execution_count": 157,
   "metadata": {
    "ExecuteTime": {
     "end_time": "2020-04-11T08:07:38.130459Z",
     "start_time": "2020-04-11T08:07:38.125463Z"
    },
    "hidden": true
   },
   "outputs": [],
   "source": [
    "param_grid = {'criterion' : ['gini'],\n",
    "              'max_depth' : [10, 11, 12],\n",
    "              'min_samples_leaf' : [50, 70, 100]}"
   ]
  },
  {
   "cell_type": "code",
   "execution_count": 158,
   "metadata": {
    "ExecuteTime": {
     "end_time": "2020-04-11T08:07:39.041298Z",
     "start_time": "2020-04-11T08:07:39.036286Z"
    },
    "hidden": true
   },
   "outputs": [],
   "source": [
    "dtree = DecisionTreeClassifier()\n",
    "\n",
    "grid = GridSearchCV(estimator = dtree, \n",
    "                    param_grid = param_grid, \n",
    "                    scoring = 'roc_auc',\n",
    "                    cv = kfold,\n",
    "                    n_jobs = -1,\n",
    "                    return_train_score=True\n",
    "                   )"
   ]
  },
  {
   "cell_type": "code",
   "execution_count": 159,
   "metadata": {
    "ExecuteTime": {
     "end_time": "2020-04-11T08:07:42.099483Z",
     "start_time": "2020-04-11T08:07:39.897743Z"
    },
    "hidden": true
   },
   "outputs": [
    {
     "name": "stdout",
     "output_type": "stream",
     "text": [
      "criterion: gini\n",
      "max_depth: 11\n",
      "min_samples_leaf: 100\n",
      "ROC_AUC: 0.84946\n"
     ]
    }
   ],
   "source": [
    "grid = grid.fit(X_train, y_train)\n",
    "criterion = grid.best_params_['criterion']\n",
    "max_depth = grid.best_params_['max_depth']\n",
    "min_samples_leaf = grid.best_params_['min_samples_leaf']\n",
    "\n",
    "print(f'criterion: {criterion}')\n",
    "print(f'max_depth: {round(max_depth,5)}')\n",
    "print(f'min_samples_leaf: {round(min_samples_leaf,5)}')\n",
    "print(f'ROC_AUC: {round(grid.best_score_,5)}')"
   ]
  },
  {
   "cell_type": "code",
   "execution_count": 160,
   "metadata": {
    "ExecuteTime": {
     "end_time": "2020-04-11T08:07:42.113488Z",
     "start_time": "2020-04-11T08:07:42.100481Z"
    },
    "hidden": true
   },
   "outputs": [
    {
     "name": "stdout",
     "output_type": "stream",
     "text": [
      "Validation AUC: 0.7668134418382427\n"
     ]
    }
   ],
   "source": [
    "y_score = grid.predict(X_validate)\n",
    "\n",
    "fpr, tpr, thresholds = roc_curve(y_validate, y_score)\n",
    "print(f\"Validation AUC: {auc(fpr, tpr)}\")"
   ]
  },
  {
   "cell_type": "markdown",
   "metadata": {
    "heading_collapsed": true,
    "hidden": true
   },
   "source": [
    "## Random Forest with Feature Reduction"
   ]
  },
  {
   "cell_type": "code",
   "execution_count": 164,
   "metadata": {
    "ExecuteTime": {
     "end_time": "2020-04-11T08:08:37.119091Z",
     "start_time": "2020-04-11T08:08:37.107096Z"
    },
    "hidden": true
   },
   "outputs": [],
   "source": [
    "to_drop = ['first_serves_in_%', 'first_serves_points_won_%', 'first_serves_return_points_won_%', 'break_point_save_%',\n",
    "           'second_serves_points_won_%']\n",
    "\n",
    "X_train.drop(to_drop, axis = 1, inplace = True)\n",
    "X_validate.drop(to_drop, axis = 1, inplace = True)"
   ]
  },
  {
   "cell_type": "markdown",
   "metadata": {
    "heading_collapsed": true,
    "hidden": true
   },
   "source": [
    "### Parameter Set 1"
   ]
  },
  {
   "cell_type": "code",
   "execution_count": 165,
   "metadata": {
    "ExecuteTime": {
     "end_time": "2020-04-11T08:08:40.449969Z",
     "start_time": "2020-04-11T08:08:40.444960Z"
    },
    "hidden": true
   },
   "outputs": [],
   "source": [
    "param_grid = {'criterion' : ['gini','entropy'],\n",
    "              'max_depth' : [x for x in range(5, 20)],\n",
    "              'min_samples_leaf' : [100, 500, 1000, 5000]\n",
    "             }"
   ]
  },
  {
   "cell_type": "code",
   "execution_count": 166,
   "metadata": {
    "ExecuteTime": {
     "end_time": "2020-04-11T08:08:41.160226Z",
     "start_time": "2020-04-11T08:08:41.155215Z"
    },
    "hidden": true
   },
   "outputs": [],
   "source": [
    "rfc = RandomForestClassifier()\n",
    "\n",
    "grid = GridSearchCV(estimator = rfc, \n",
    "                    param_grid = param_grid, \n",
    "                    scoring = 'roc_auc',\n",
    "                    cv = kfold,\n",
    "                    n_jobs = -1,\n",
    "                    return_train_score=True\n",
    "                   )"
   ]
  },
  {
   "cell_type": "code",
   "execution_count": 167,
   "metadata": {
    "ExecuteTime": {
     "end_time": "2020-04-11T08:10:16.654718Z",
     "start_time": "2020-04-11T08:08:41.856242Z"
    },
    "hidden": true
   },
   "outputs": [
    {
     "name": "stdout",
     "output_type": "stream",
     "text": [
      "criterion: gini\n",
      "max_depth: 15\n",
      "min_samples_leaf: 100\n",
      "ROC_AUC: 0.84925\n"
     ]
    }
   ],
   "source": [
    "grid = grid.fit(X_train, y_train)\n",
    "max_depth = grid.best_params_['max_depth']\n",
    "min_samples_leaf = grid.best_params_['min_samples_leaf']\n",
    "\n",
    "print(f'criterion: {criterion}')\n",
    "print(f'max_depth: {round(max_depth,5)}')\n",
    "print(f'min_samples_leaf: {round(min_samples_leaf,5)}')\n",
    "print(f'ROC_AUC: {round(grid.best_score_,5)}')"
   ]
  },
  {
   "cell_type": "code",
   "execution_count": 168,
   "metadata": {
    "ExecuteTime": {
     "end_time": "2020-04-11T08:10:16.711687Z",
     "start_time": "2020-04-11T08:10:16.656717Z"
    },
    "hidden": true
   },
   "outputs": [
    {
     "name": "stdout",
     "output_type": "stream",
     "text": [
      "Validation AUC: 0.767455412753388\n"
     ]
    }
   ],
   "source": [
    "y_score = grid.predict(X_validate)\n",
    "\n",
    "fpr, tpr, thresholds = roc_curve(y_validate, y_score)\n",
    "print(f\"Validation AUC: {auc(fpr, tpr)}\")"
   ]
  },
  {
   "cell_type": "markdown",
   "metadata": {
    "heading_collapsed": true,
    "hidden": true
   },
   "source": [
    "### Parameter Set 2"
   ]
  },
  {
   "cell_type": "code",
   "execution_count": 169,
   "metadata": {
    "ExecuteTime": {
     "end_time": "2020-04-11T08:11:49.351198Z",
     "start_time": "2020-04-11T08:11:49.348183Z"
    },
    "hidden": true
   },
   "outputs": [],
   "source": [
    "param_grid = {'criterion' : ['gini'],\n",
    "              'max_depth' : [14, 15, 16],\n",
    "              'min_samples_leaf' : [50, 70, 100]\n",
    "             }"
   ]
  },
  {
   "cell_type": "code",
   "execution_count": 170,
   "metadata": {
    "ExecuteTime": {
     "end_time": "2020-04-11T08:11:49.815936Z",
     "start_time": "2020-04-11T08:11:49.809940Z"
    },
    "hidden": true
   },
   "outputs": [],
   "source": [
    "rfc = RandomForestClassifier()\n",
    "\n",
    "grid = GridSearchCV(estimator = rfc, \n",
    "                    param_grid = param_grid, \n",
    "                    scoring = 'roc_auc',\n",
    "                    cv = kfold,\n",
    "                    n_jobs = -1,\n",
    "                    return_train_score=True\n",
    "                   )"
   ]
  },
  {
   "cell_type": "code",
   "execution_count": 171,
   "metadata": {
    "ExecuteTime": {
     "end_time": "2020-04-11T08:11:59.503397Z",
     "start_time": "2020-04-11T08:11:50.206697Z"
    },
    "hidden": true
   },
   "outputs": [
    {
     "name": "stdout",
     "output_type": "stream",
     "text": [
      "criterion: gini\n",
      "max_depth: 14\n",
      "min_samples_leaf: 50\n",
      "ROC_AUC: 0.84978\n"
     ]
    }
   ],
   "source": [
    "grid = grid.fit(X_train, y_train)\n",
    "max_depth = grid.best_params_['max_depth']\n",
    "min_samples_leaf = grid.best_params_['min_samples_leaf']\n",
    "\n",
    "print(f'criterion: {criterion}')\n",
    "print(f'max_depth: {round(max_depth,5)}')\n",
    "print(f'min_samples_leaf: {round(min_samples_leaf,5)}')\n",
    "print(f'ROC_AUC: {round(grid.best_score_,5)}')"
   ]
  },
  {
   "cell_type": "code",
   "execution_count": 172,
   "metadata": {
    "ExecuteTime": {
     "end_time": "2020-04-11T08:12:23.443665Z",
     "start_time": "2020-04-11T08:12:23.383689Z"
    },
    "hidden": true
   },
   "outputs": [
    {
     "name": "stdout",
     "output_type": "stream",
     "text": [
      "Validation AUC: 0.7663973618431503\n"
     ]
    }
   ],
   "source": [
    "y_score = grid.predict(X_validate)\n",
    "\n",
    "fpr, tpr, thresholds = roc_curve(y_validate, y_score)\n",
    "print(f\"Validation AUC: {auc(fpr, tpr)}\")"
   ]
  },
  {
   "cell_type": "markdown",
   "metadata": {
    "hidden": true
   },
   "source": [
    "* Parameter Set 1 performed better than Set 2"
   ]
  },
  {
   "cell_type": "markdown",
   "metadata": {
    "heading_collapsed": true,
    "hidden": true
   },
   "source": [
    "## Model Selection"
   ]
  },
  {
   "cell_type": "markdown",
   "metadata": {
    "hidden": true
   },
   "source": [
    "|        Model        | Train AUC | Validation AUC |\n",
    "|:-------------------:|:---------:|:--------------:|\n",
    "| Logistic Regression |   66.97   |      67.32     |\n",
    "|    Decision Tree    |   84.95   |      76.68     |\n",
    "|    Random Forest    |   84.93   |      76.75     |\n",
    "|       AdaBoost      |   76.47   |      76.54     |\n",
    "|       XGBoost       |   76.89   |      76.73     |"
   ]
  },
  {
   "cell_type": "markdown",
   "metadata": {
    "hidden": true
   },
   "source": [
    "__All models compared above only uses 2 features.__\n",
    "\n",
    "__XGBoost was selected as it optimizes both performance and robustness between different data points.__"
   ]
  },
  {
   "cell_type": "markdown",
   "metadata": {
    "heading_collapsed": true,
    "hidden": true
   },
   "source": [
    "## Final Model on Test Data"
   ]
  },
  {
   "cell_type": "code",
   "execution_count": 32,
   "metadata": {
    "ExecuteTime": {
     "end_time": "2020-04-13T12:51:42.202244Z",
     "start_time": "2020-04-13T12:51:41.887406Z"
    },
    "hidden": true
   },
   "outputs": [],
   "source": [
    "# Read CSV\n",
    "df = pd.read_csv('index_csv/merged_df_v1.1.csv')"
   ]
  },
  {
   "cell_type": "code",
   "execution_count": 33,
   "metadata": {
    "ExecuteTime": {
     "end_time": "2020-04-13T12:51:42.208235Z",
     "start_time": "2020-04-13T12:51:42.204224Z"
    },
    "hidden": true
   },
   "outputs": [],
   "source": [
    "# Define features for 2 different analysis\n",
    "improvable_serve_stats = ['first_serves_in_%', 'first_serves_points_won_%', \n",
    "                          'second_serves_points_won_%', 'break_point_save_%']\n",
    "\n",
    "improvable_return_stats = ['first_serves_return_points_won_%', 'second_serves_return_points_won_%', \n",
    "                           'break_point_convert_%']\n",
    "\n",
    "improvable_stats = improvable_serve_stats + improvable_return_stats\n",
    "\n",
    "match_analysis = improvable_stats + \\\n",
    "                ['total_return_points_played_%', 'diff_in_first_serves_in_%',\n",
    "                 'break_points_return_total']"
   ]
  },
  {
   "cell_type": "code",
   "execution_count": 34,
   "metadata": {
    "ExecuteTime": {
     "end_time": "2020-04-13T12:51:42.906500Z",
     "start_time": "2020-04-13T12:51:42.819565Z"
    },
    "hidden": true
   },
   "outputs": [
    {
     "data": {
      "text/plain": [
       "array([[0.49423248, 0.66470588, 0.42105263, ..., 0.2877193 , 0.33333333,\n",
       "        0.05      ],\n",
       "       [0.12207358, 0.81314879, 0.71428571, ..., 0.4495614 , 0.54545455,\n",
       "        0.0625    ],\n",
       "       [0.38618926, 0.88235294, 0.625     , ..., 0.33909774, 0.65517241,\n",
       "        0.07142857],\n",
       "       ...,\n",
       "       [0.39130435, 0.77941176, 0.71428571, ..., 0.29048583, 0.70588235,\n",
       "        0.05555556],\n",
       "       [0.61277174, 0.52941176, 0.21052632, ..., 0.26043557, 0.4       ,\n",
       "        0.125     ],\n",
       "       [0.5256917 , 0.81848739, 0.45      , ..., 0.43157895, 0.56      ,\n",
       "        0.05      ]])"
      ]
     },
     "execution_count": 34,
     "metadata": {},
     "output_type": "execute_result"
    }
   ],
   "source": [
    "# Define independent and dependent variable\n",
    "y = df['winner']\n",
    "X = df[improvable_stats]\n",
    "\n",
    "# 80:20 Train Test Split\n",
    "X_train, X_test, y_train, y_test = train_test_split(X,\n",
    "                                                    y,\n",
    "                                                    test_size=0.2,\n",
    "                                                    random_state=42\n",
    "                                                   )\n",
    "\n",
    "# 80:20 Train Validation Split\n",
    "X_train, X_validate, y_train, y_validate = train_test_split(X_train,\n",
    "                                                            y_train,\n",
    "                                                            test_size=0.2,\n",
    "                                                            random_state=42\n",
    "                                                            )\n",
    "\n",
    "# Initialising K-Folds\n",
    "kfold = KFold(n_splits=5,\n",
    "              random_state=42,\n",
    "              shuffle=True\n",
    "             )\n",
    "\n",
    "# Re-index y_validate, y_test\n",
    "y_validate.reset_index(drop = True, inplace = True)\n",
    "y_test.reset_index(drop = True, inplace = True)\n",
    "\n",
    "# Apply MinMaxScaler on Train, Validate, Test Data\n",
    "scaler = MinMaxScaler()\n",
    "scaler.fit_transform(X_train)\n",
    "scaler.transform(X_validate)\n",
    "scaler.transform(X_test)"
   ]
  },
  {
   "cell_type": "code",
   "execution_count": 134,
   "metadata": {
    "ExecuteTime": {
     "end_time": "2020-04-11T19:04:19.327671Z",
     "start_time": "2020-04-11T19:04:19.317676Z"
    },
    "hidden": true
   },
   "outputs": [],
   "source": [
    "to_drop = ['first_serves_in_%', 'first_serves_points_won_%', 'first_serves_return_points_won_%', 'break_point_save_%',\n",
    "           'second_serves_points_won_%']\n",
    "\n",
    "X_train.drop(to_drop, axis = 1, inplace = True)\n",
    "X_validate.drop(to_drop, axis = 1, inplace = True)\n",
    "X_test.drop(to_drop, axis = 1, inplace = True)"
   ]
  },
  {
   "cell_type": "markdown",
   "metadata": {
    "heading_collapsed": true,
    "hidden": true
   },
   "source": [
    "### Final Model On All Surfaces"
   ]
  },
  {
   "cell_type": "code",
   "execution_count": 35,
   "metadata": {
    "ExecuteTime": {
     "end_time": "2020-04-13T12:51:50.445899Z",
     "start_time": "2020-04-13T12:51:46.081324Z"
    },
    "hidden": true
   },
   "outputs": [
    {
     "data": {
      "text/plain": [
       "XGBClassifier(base_score=0.5, booster='gbtree', colsample_bylevel=1,\n",
       "              colsample_bynode=1, colsample_bytree=1, gamma=0,\n",
       "              learning_rate=0.1, max_delta_step=0, max_depth=3,\n",
       "              min_child_weight=1, missing=None, n_estimators=100, n_jobs=1,\n",
       "              nthread=None, objective='binary:logistic', random_state=0,\n",
       "              reg_alpha=0, reg_lambda=1, scale_pos_weight=1, seed=None,\n",
       "              silent=None, subsample=1, verbosity=1)"
      ]
     },
     "execution_count": 35,
     "metadata": {},
     "output_type": "execute_result"
    }
   ],
   "source": [
    "# Instantiate XGBoost & Fit Train Data\n",
    "clf = XGBClassifier()\n",
    "clf.fit(X_train, y_train)"
   ]
  },
  {
   "cell_type": "code",
   "execution_count": 36,
   "metadata": {
    "ExecuteTime": {
     "end_time": "2020-04-13T12:51:50.451915Z",
     "start_time": "2020-04-13T12:51:50.447901Z"
    },
    "hidden": true
   },
   "outputs": [],
   "source": [
    "param_grid = {\n",
    "    'learning_rate': [0.2],\n",
    "    'max_depth': [4],\n",
    "    'min_child_weight': [0.5],\n",
    "    'subsample': [1.0],\n",
    "    'n_estimators': [100],\n",
    "}"
   ]
  },
  {
   "cell_type": "code",
   "execution_count": 37,
   "metadata": {
    "ExecuteTime": {
     "end_time": "2020-04-13T12:52:04.978774Z",
     "start_time": "2020-04-13T12:51:50.453897Z"
    },
    "hidden": true
   },
   "outputs": [],
   "source": [
    "grid_clf = GridSearchCV(clf, param_grid, scoring='roc_auc', cv=kfold, n_jobs=-1)\n",
    "grid_clf.fit(X_train, y_train)\n",
    "\n",
    "best_parameters = grid_clf.best_params_"
   ]
  },
  {
   "cell_type": "code",
   "execution_count": 38,
   "metadata": {
    "ExecuteTime": {
     "end_time": "2020-04-13T12:52:05.717223Z",
     "start_time": "2020-04-13T12:52:04.980542Z"
    },
    "hidden": true
   },
   "outputs": [
    {
     "name": "stdout",
     "output_type": "stream",
     "text": [
      "Training ROC_AUC: 93.98%\n",
      "Validation ROC_AUC: 93.53%\n"
     ]
    }
   ],
   "source": [
    "training_preds = grid_clf.predict(X_train)\n",
    "validate_preds = grid_clf.predict(X_validate)\n",
    "\n",
    "training_roc_auc = roc_auc_score(y_train, training_preds)\n",
    "validate_roc_auc = roc_auc_score(y_validate, validate_preds)\n",
    "\n",
    "print('Training ROC_AUC: {:.4}%'.format(training_roc_auc * 100))\n",
    "print('Validation ROC_AUC: {:.4}%'.format(validate_roc_auc * 100))"
   ]
  },
  {
   "cell_type": "code",
   "execution_count": 39,
   "metadata": {
    "ExecuteTime": {
     "end_time": "2020-04-13T12:52:05.881129Z",
     "start_time": "2020-04-13T12:52:05.719223Z"
    },
    "hidden": true
   },
   "outputs": [
    {
     "name": "stdout",
     "output_type": "stream",
     "text": [
      "Test ROC_AUC: 93.47%\n"
     ]
    }
   ],
   "source": [
    "test_preds = grid_clf.predict(X_test)\n",
    "test_roc_auc = roc_auc_score(y_test, test_preds)\n",
    "\n",
    "print('Test ROC_AUC: {:.4}%'.format(test_roc_auc * 100))"
   ]
  },
  {
   "cell_type": "code",
   "execution_count": 48,
   "metadata": {
    "ExecuteTime": {
     "end_time": "2020-04-13T14:54:42.361670Z",
     "start_time": "2020-04-13T14:54:42.178762Z"
    },
    "hidden": true
   },
   "outputs": [
    {
     "data": {
      "text/plain": [
       "array([[17204,  1244],\n",
       "       [ 1162, 17254]], dtype=int64)"
      ]
     },
     "execution_count": 48,
     "metadata": {},
     "output_type": "execute_result"
    }
   ],
   "source": [
    "predictions = grid_clf.predict(X_test)\n",
    "\n",
    "confusion_matrix(y_test, predictions)"
   ]
  },
  {
   "cell_type": "markdown",
   "metadata": {
    "heading_collapsed": true,
    "hidden": true
   },
   "source": [
    "### Save Model via Joblib"
   ]
  },
  {
   "cell_type": "code",
   "execution_count": 116,
   "metadata": {
    "ExecuteTime": {
     "end_time": "2020-04-11T19:01:55.671363Z",
     "start_time": "2020-04-11T19:01:55.662369Z"
    },
    "hidden": true
   },
   "outputs": [
    {
     "data": {
      "text/plain": [
       "['prediction.pkl']"
      ]
     },
     "execution_count": 116,
     "metadata": {},
     "output_type": "execute_result"
    }
   ],
   "source": [
    "# Save final trained model\n",
    "joblib.dump(grid_clf, 'prediction.pkl')"
   ]
  },
  {
   "cell_type": "code",
   "execution_count": 117,
   "metadata": {
    "ExecuteTime": {
     "end_time": "2020-04-11T19:01:56.240992Z",
     "start_time": "2020-04-11T19:01:56.232997Z"
    },
    "hidden": true
   },
   "outputs": [],
   "source": [
    "# To load the fully trained model\n",
    "prediction = joblib.load('prediction.pkl')"
   ]
  },
  {
   "cell_type": "markdown",
   "metadata": {},
   "source": [
    "# Case Study : Wimbledon 2019 Final"
   ]
  },
  {
   "cell_type": "markdown",
   "metadata": {},
   "source": [
    "We will conduct the case study in 2 parts, the first part is the pre-match prediction and the second part is the post-match analysis.\n",
    "\n",
    "__Djokovic beats Federer in Wimbledon 2019 Final over 5 sets in 4 hours and 57 minutes__\n",
    "\n",
    "__Final Score: Djokovic 7-6(5) 1-6 7-6(4) 4-6 13-12(3) Federer__\n",
    "\n",
    "--------------------------------------------------------------------------------------------------------------\n",
    "\n",
    "The pre-match prediction model uses only 2 metrics: \n",
    "* __second_serves_return_points_won_%__\n",
    "* __break_point_convert_%__\n",
    "\n",
    "For this case study, we will use the following pre-match statistics available to us:\n",
    "* __Tournament Average across first 6 matches before final__\n",
    "* __YTD (2019) Player Statistics__\n",
    "* __Previous H2H Accumulated Statistics prior to the match__\n",
    "\n",
    "--------------------------------------------------------------------------------------------------------------\n",
    "\n",
    "The match analysis model uses 6 metrics:\n",
    "* __first_serves_points_won_%__\n",
    "* __second_serves_points_won_%__\n",
    "* __break_point_save_%__\n",
    "* __first_serves_return_points_won_%__\n",
    "* __break_point_convert_%__\n",
    "* __break_points_return_total__\n",
    "\n",
    "For this case study, we will use the following match statistics available to us:\n",
    "* __Full Match Statistics__\n",
    "* __Individual Sets Statistics__\n",
    "* __Cumulative Win Probability over 5 sets__"
   ]
  },
  {
   "cell_type": "markdown",
   "metadata": {
    "heading_collapsed": true
   },
   "source": [
    "## Extract Trained Models "
   ]
  },
  {
   "cell_type": "code",
   "execution_count": 3,
   "metadata": {
    "ExecuteTime": {
     "end_time": "2020-04-14T18:07:11.571398Z",
     "start_time": "2020-04-14T18:07:11.338534Z"
    },
    "hidden": true
   },
   "outputs": [],
   "source": [
    "# Load the trained models\n",
    "prediction = joblib.load('prediction.pkl')  # for pre-match prediction\n",
    "\n",
    "analysis = joblib.load('analysis.pkl')      # for match analysis"
   ]
  },
  {
   "cell_type": "markdown",
   "metadata": {
    "heading_collapsed": true
   },
   "source": [
    "## Data Preparation"
   ]
  },
  {
   "cell_type": "code",
   "execution_count": 4,
   "metadata": {
    "ExecuteTime": {
     "end_time": "2020-04-14T18:07:15.238397Z",
     "start_time": "2020-04-14T18:07:11.664363Z"
    },
    "hidden": true
   },
   "outputs": [],
   "source": [
    "# Load main dataset on matches\n",
    "df_match = pd.read_csv('index_csv/clean_df_v3.0.csv')"
   ]
  },
  {
   "cell_type": "code",
   "execution_count": 5,
   "metadata": {
    "ExecuteTime": {
     "end_time": "2020-04-14T18:07:15.716109Z",
     "start_time": "2020-04-14T18:07:15.241382Z"
    },
    "hidden": true
   },
   "outputs": [],
   "source": [
    "# Load case study file\n",
    "df_wim_2019_final = df_match[df_match['match_id'] == '2019-540-MS001-10-1-d643-f324']\n",
    "\n",
    "# Remove from matches data\n",
    "df_match = df_match[df_match['match_id'] != '2019-540-MS001-10-1-d643-f324']\n",
    "df_match.reset_index(drop = True, inplace = True)"
   ]
  },
  {
   "cell_type": "code",
   "execution_count": 6,
   "metadata": {
    "ExecuteTime": {
     "end_time": "2020-04-14T18:07:15.745092Z",
     "start_time": "2020-04-14T18:07:15.718107Z"
    },
    "hidden": true
   },
   "outputs": [],
   "source": [
    "# Define features required for each analysis\n",
    "pre_match = ['second_serves_return_points_won_%', 'break_point_convert_%']\n",
    "\n",
    "match_analysis = ['first_serves_points_won_%', 'second_serves_points_won_%', 'break_point_save_%',\n",
    "                  'first_serves_return_points_won_%', 'break_point_convert_%', 'break_points_return_total']"
   ]
  },
  {
   "cell_type": "markdown",
   "metadata": {
    "heading_collapsed": true,
    "hidden": true
   },
   "source": [
    "### Tournament Performance"
   ]
  },
  {
   "cell_type": "markdown",
   "metadata": {
    "hidden": true
   },
   "source": [
    "Here we wil extract the 6 matches for both players, Novak Djokovic and Roger Federer, leading up to the final. We will calculate the performance of the 2 features required by the model from the first 6 matches, which would account for their form going into the final."
   ]
  },
  {
   "cell_type": "code",
   "execution_count": 7,
   "metadata": {
    "ExecuteTime": {
     "end_time": "2020-04-14T18:07:15.972121Z",
     "start_time": "2020-04-14T18:07:15.747089Z"
    },
    "hidden": true
   },
   "outputs": [],
   "source": [
    "# Extract the 6 matches that both players played before final\n",
    "\n",
    "df_2019 = df_match[df_match['year'] == 2019]\n",
    "df_wim_2019 = df_2019[df_2019['tourney_slug'] == 'wimbledon']\n",
    "\n",
    "df_djokovic = df_wim_2019[df_wim_2019['slug'] == 'd643']\n",
    "df_federer = df_wim_2019[df_wim_2019['slug'] == 'f324']"
   ]
  },
  {
   "cell_type": "code",
   "execution_count": 8,
   "metadata": {
    "ExecuteTime": {
     "end_time": "2020-04-14T18:07:16.269042Z",
     "start_time": "2020-04-14T18:07:15.978118Z"
    },
    "hidden": true
   },
   "outputs": [],
   "source": [
    "# Extract raw stats required to compute statistics\n",
    "\n",
    "raw_stats = ['second_serve_return_won', 'second_serve_return_total',\n",
    "            'break_points_converted', 'break_points_return_total']\n",
    "\n",
    "df_djokovic = df_djokovic[raw_stats]\n",
    "df_federer = df_federer[raw_stats]"
   ]
  },
  {
   "cell_type": "code",
   "execution_count": 9,
   "metadata": {
    "ExecuteTime": {
     "end_time": "2020-04-14T18:07:16.563858Z",
     "start_time": "2020-04-14T18:07:16.270042Z"
    },
    "hidden": true
   },
   "outputs": [],
   "source": [
    "djokovic_1 = df_djokovic.sum()[0] / df_djokovic.sum()[1]\n",
    "djokovic_2 = df_djokovic.sum()[2] / df_djokovic.sum()[3]\n",
    "\n",
    "federer_1 = df_federer.sum()[0] / df_federer.sum()[1]\n",
    "federer_2 = df_federer.sum()[2] / df_federer.sum()[3]\n",
    "\n",
    "feature_1 = list([djokovic_1, federer_1])\n",
    "feature_2 = list([djokovic_2, federer_2])"
   ]
  },
  {
   "cell_type": "code",
   "execution_count": 10,
   "metadata": {
    "ExecuteTime": {
     "end_time": "2020-04-14T18:07:16.717769Z",
     "start_time": "2020-04-14T18:07:16.565859Z"
    },
    "hidden": true
   },
   "outputs": [],
   "source": [
    "tourney_average = pd.DataFrame(columns = pre_match)\n",
    "\n",
    "tourney_average['second_serves_return_points_won_%'] = feature_1\n",
    "tourney_average['break_point_convert_%'] = feature_2"
   ]
  },
  {
   "cell_type": "markdown",
   "metadata": {
    "heading_collapsed": true,
    "hidden": true
   },
   "source": [
    "### YTD Player Statistics (01 Jan 2019 - 13 July 2019)"
   ]
  },
  {
   "cell_type": "markdown",
   "metadata": {
    "hidden": true
   },
   "source": [
    "YTD Player Statistics from __1/1/2019 - 13/07/2019__\n",
    "\n",
    "Wimbledon Final Date: __14/07/2019__\n",
    "\n",
    "Extracted from: \n",
    "- Djokovic: https://www.ultimatetennisstatistics.com/playerProfile?playerId=4920\n",
    "- Federer: https://www.ultimatetennisstatistics.com/playerProfile?playerId=3819"
   ]
  },
  {
   "cell_type": "code",
   "execution_count": 11,
   "metadata": {
    "ExecuteTime": {
     "end_time": "2020-04-14T18:07:16.874680Z",
     "start_time": "2020-04-14T18:07:16.718768Z"
    },
    "hidden": true
   },
   "outputs": [],
   "source": [
    "feature_1 = [0.551, 0.503]\n",
    "feature_2 = [0.50, 0.396]\n",
    "\n",
    "ytd_average = pd.DataFrame(columns = pre_match)\n",
    "\n",
    "ytd_average['second_serves_return_points_won_%'] = feature_1\n",
    "ytd_average['break_point_convert_%'] = feature_2"
   ]
  },
  {
   "cell_type": "markdown",
   "metadata": {
    "heading_collapsed": true,
    "hidden": true
   },
   "source": [
    "### Previous H2H Accumulated Statistics"
   ]
  },
  {
   "cell_type": "markdown",
   "metadata": {
    "hidden": true
   },
   "source": [
    "This section aims to account for both players' performance when they face each other in previous head-to-head matches prior to the match. This dataframe would capture the match dynamic to be expected in this match."
   ]
  },
  {
   "cell_type": "code",
   "execution_count": 12,
   "metadata": {
    "ExecuteTime": {
     "end_time": "2020-04-14T18:07:17.101621Z",
     "start_time": "2020-04-14T18:07:16.877677Z"
    },
    "hidden": true
   },
   "outputs": [],
   "source": [
    "df_djokovic = df_match[df_match['slug'] == 'd643']\n",
    "df_federer = df_match[df_match['slug'] == 'f324']\n",
    "\n",
    "df_djokovic.reset_index(drop = True, inplace = True)\n",
    "df_federer.reset_index(drop = True, inplace = True)"
   ]
  },
  {
   "cell_type": "code",
   "execution_count": 13,
   "metadata": {
    "ExecuteTime": {
     "end_time": "2020-04-14T18:07:19.676879Z",
     "start_time": "2020-04-14T18:07:17.102623Z"
    },
    "hidden": true
   },
   "outputs": [],
   "source": [
    "# Filter only djokovic-federer match\n",
    "for i in range(0,len(df_djokovic)):\n",
    "    if 'f324' in df_djokovic['match_id'][i]:\n",
    "        pass\n",
    "    else:\n",
    "        df_djokovic.drop(i, inplace = True)\n",
    "        \n",
    "# Filter only federer-djokovic match\n",
    "for i in range(0,len(df_federer)):\n",
    "    if 'd643' in df_federer['match_id'][i]:\n",
    "        pass\n",
    "    else:\n",
    "        df_federer.drop(i, inplace = True)\n",
    "        \n",
    "# Remove the only other match they played in 2019\n",
    "df_djokovic = df_djokovic[df_djokovic['match_id'] != '2019-605-MS016-1-10-f324-d643']\n",
    "df_federer = df_federer[df_federer['match_id'] != '2019-605-MS016-1-10-f324-d643']"
   ]
  },
  {
   "cell_type": "code",
   "execution_count": 14,
   "metadata": {
    "ExecuteTime": {
     "end_time": "2020-04-14T18:07:19.686856Z",
     "start_time": "2020-04-14T18:07:19.678862Z"
    },
    "hidden": true
   },
   "outputs": [],
   "source": [
    "# Extract raw stats required to compute statistics\n",
    "\n",
    "raw_stats = ['second_serve_return_won', 'second_serve_return_total',\n",
    "            'break_points_converted', 'break_points_return_total']\n",
    "\n",
    "df_djokovic = df_djokovic[raw_stats]\n",
    "df_federer = df_federer[raw_stats]"
   ]
  },
  {
   "cell_type": "code",
   "execution_count": 15,
   "metadata": {
    "ExecuteTime": {
     "end_time": "2020-04-14T18:07:19.773956Z",
     "start_time": "2020-04-14T18:07:19.689854Z"
    },
    "hidden": true
   },
   "outputs": [],
   "source": [
    "djokovic_1 = df_djokovic.sum()[0] / df_djokovic.sum()[1]\n",
    "djokovic_2 = df_djokovic.sum()[2] / df_djokovic.sum()[3]\n",
    "\n",
    "federer_1 = df_federer.sum()[0] / df_federer.sum()[1]\n",
    "federer_2 = df_federer.sum()[2] / df_federer.sum()[3]\n",
    "\n",
    "feature_1 = list([djokovic_1, federer_1])\n",
    "feature_2 = list([djokovic_2, federer_2])"
   ]
  },
  {
   "cell_type": "code",
   "execution_count": 16,
   "metadata": {
    "ExecuteTime": {
     "end_time": "2020-04-14T18:07:19.889953Z",
     "start_time": "2020-04-14T18:07:19.775941Z"
    },
    "hidden": true
   },
   "outputs": [],
   "source": [
    "h2h_average = pd.DataFrame(columns = pre_match)\n",
    "\n",
    "h2h_average['second_serves_return_points_won_%'] = feature_1\n",
    "h2h_average['break_point_convert_%'] = feature_2"
   ]
  },
  {
   "cell_type": "markdown",
   "metadata": {
    "heading_collapsed": true,
    "hidden": true
   },
   "source": [
    "### Full Match Statistics"
   ]
  },
  {
   "cell_type": "markdown",
   "metadata": {
    "hidden": true
   },
   "source": [
    "This dataframe consists of 2 lines of data describing the player's individual full match statistics. Player 0 is Novak Djokovic and Player 1 is Roger Federer."
   ]
  },
  {
   "cell_type": "code",
   "execution_count": 17,
   "metadata": {
    "ExecuteTime": {
     "end_time": "2020-04-14T18:07:19.994930Z",
     "start_time": "2020-04-14T18:07:19.892938Z"
    },
    "hidden": true,
    "scrolled": true
   },
   "outputs": [],
   "source": [
    "df_full_match = df_wim_2019_final[match_analysis]"
   ]
  },
  {
   "cell_type": "markdown",
   "metadata": {
    "heading_collapsed": true,
    "hidden": true
   },
   "source": [
    "### Individual Set Statistics"
   ]
  },
  {
   "cell_type": "markdown",
   "metadata": {
    "hidden": true
   },
   "source": [
    "This dataset aims to capture the performance of both players by individual set during the match. Each set is represented as a row."
   ]
  },
  {
   "cell_type": "code",
   "execution_count": 18,
   "metadata": {
    "ExecuteTime": {
     "end_time": "2020-04-14T18:07:20.105166Z",
     "start_time": "2020-04-14T18:07:19.996928Z"
    },
    "hidden": true
   },
   "outputs": [],
   "source": [
    "df_djokovic_individual_stats = pd.DataFrame(columns = match_analysis)\n",
    "\n",
    "df_djokovic_individual_stats['first_serves_points_won_%']        = [0.88, 0.27, 0.78, 0.80, 0.74]\n",
    "df_djokovic_individual_stats['second_serves_points_won_%']       = [0.52, 0.33, 0.69, 0.30, 0.43]\n",
    "df_djokovic_individual_stats['break_point_save_%']               = [1.00, 0.25, 1.00, 0.00, 0.60]\n",
    "df_djokovic_individual_stats['first_serves_return_points_won_%'] = [0.25, 0.00, 0.13, 0.24, 0.27]\n",
    "df_djokovic_individual_stats['break_point_convert_%']            = [0.00, 0.00, 0.00, 0.50, 0.33]\n",
    "df_djokovic_individual_stats['break_points_return_total']        = [0.00, 0.00, 0.00, 2.00, 6.00]\n",
    "\n",
    "df_federer_individual_stats = pd.DataFrame(columns = match_analysis)\n",
    "\n",
    "df_federer_individual_stats['first_serves_points_won_%']        = [0.75, 1.00, 0.88, 0.76, 0.73]\n",
    "df_federer_individual_stats['second_serves_points_won_%']       = [0.54, 0.33, 0.67, 0.54, 0.50]\n",
    "df_federer_individual_stats['break_point_save_%']               = [0.00, 0.00, 0.00, 0.50, 0.67]\n",
    "df_federer_individual_stats['first_serves_return_points_won_%'] = [0.12, 0.73, 0.22, 0.20, 0.26]\n",
    "df_federer_individual_stats['break_point_convert_%']            = [0.00, 0.75, 0.00, 1.00, 0.40]\n",
    "df_federer_individual_stats['break_points_return_total']        = [1.00, 4.00, 1.00, 2.00, 5.00]"
   ]
  },
  {
   "cell_type": "markdown",
   "metadata": {
    "heading_collapsed": true,
    "hidden": true
   },
   "source": [
    "### Cumulative Over Set Statistics"
   ]
  },
  {
   "cell_type": "markdown",
   "metadata": {
    "hidden": true
   },
   "source": [
    "This section aims to capture the cumulative performance as the match progresses each set, each row will describe the cumulative statistics at the conclusion of each set."
   ]
  },
  {
   "cell_type": "code",
   "execution_count": 19,
   "metadata": {
    "ExecuteTime": {
     "end_time": "2020-04-14T18:07:20.209130Z",
     "start_time": "2020-04-14T18:07:20.108161Z"
    },
    "hidden": true
   },
   "outputs": [],
   "source": [
    "df_djokovic_cumulative_stats = pd.DataFrame(columns = match_analysis)\n",
    "\n",
    "df_djokovic_cumulative_stats['first_serves_points_won_%']        = [0.88, 0.694, 0.73, 0.7435, 0.743]\n",
    "df_djokovic_cumulative_stats['second_serves_points_won_%']       = [0.52, 0.466, 0.535, 0.4905, 0.47]\n",
    "df_djokovic_cumulative_stats['break_point_save_%']               = [1.00, 0.4, 0.5, 0.375, 0.46]\n",
    "df_djokovic_cumulative_stats['first_serves_return_points_won_%'] = [0.25, 0.189, 0.164, 0.179, 0.21]\n",
    "df_djokovic_cumulative_stats['break_point_convert_%']            = [0.00, 0.00, 0.00, 0.50, 0.375]\n",
    "df_djokovic_cumulative_stats['break_points_return_total']        = [0.00, 0.00, 0.00, 2.00, 8.00]\n",
    "\n",
    "df_federer_cumulative_stats = pd.DataFrame(columns = match_analysis)\n",
    "\n",
    "df_federer_cumulative_stats['first_serves_points_won_%']        = [0.75, 0.811, 0.836, 0.821, 0.79]\n",
    "df_federer_cumulative_stats['second_serves_points_won_%']       = [0.54, 0.455, 0.516, 0.523, 0.51]\n",
    "df_federer_cumulative_stats['break_point_save_%']               = [0.00, 0.00, 0.00, 0.50, 0.625]\n",
    "df_federer_cumulative_stats['first_serves_return_points_won_%'] = [0.12, 0.306, 0.27, 0.256, 0.26]\n",
    "df_federer_cumulative_stats['break_point_convert_%']            = [0.00, 0.6, 0.5, 0.625, 0.54]\n",
    "df_federer_cumulative_stats['break_points_return_total']        = [1.00, 5.00, 6.00, 8.00, 13.0]"
   ]
  },
  {
   "cell_type": "markdown",
   "metadata": {},
   "source": [
    "## Case Study "
   ]
  },
  {
   "cell_type": "markdown",
   "metadata": {
    "heading_collapsed": true
   },
   "source": [
    "### Prediction Model (XGBoost with Validation AUC: 76.73 %)"
   ]
  },
  {
   "cell_type": "markdown",
   "metadata": {
    "hidden": true
   },
   "source": [
    "As requested, we have prepared 3 sets of data for this case study:\n",
    "* <code> tourney_average </code> : This data describes both players' performance across first 6 matches leading up to the final\n",
    "* <code> ytd_average     </code> : This data describes both players' performance from the year 2019 up until the final\n",
    "* <code> h2h_average     </code> : This data describes both players' performance from all the past head-to-head matches\n",
    "\n",
    "\n",
    "* Player 0 = Novak Djokovic\n",
    "* Player 1 = Roger Federer"
   ]
  },
  {
   "cell_type": "markdown",
   "metadata": {
    "hidden": true
   },
   "source": [
    "First we look at the prediction on the tourney average:"
   ]
  },
  {
   "cell_type": "code",
   "execution_count": 20,
   "metadata": {
    "ExecuteTime": {
     "end_time": "2020-04-14T18:07:28.633263Z",
     "start_time": "2020-04-14T18:07:28.624254Z"
    },
    "hidden": true
   },
   "outputs": [
    {
     "data": {
      "text/plain": [
       "array([1., 1.])"
      ]
     },
     "execution_count": 20,
     "metadata": {},
     "output_type": "execute_result"
    }
   ],
   "source": [
    "prediction.predict(tourney_average)"
   ]
  },
  {
   "cell_type": "code",
   "execution_count": 21,
   "metadata": {
    "ExecuteTime": {
     "end_time": "2020-04-14T18:07:55.252875Z",
     "start_time": "2020-04-14T18:07:55.245880Z"
    },
    "hidden": true,
    "scrolled": true
   },
   "outputs": [
    {
     "data": {
      "text/plain": [
       "array([[0.2885536 , 0.7114464 ],\n",
       "       [0.22685748, 0.7731425 ]], dtype=float32)"
      ]
     },
     "execution_count": 21,
     "metadata": {},
     "output_type": "execute_result"
    }
   ],
   "source": [
    "prediction.predict_proba(tourney_average)"
   ]
  },
  {
   "cell_type": "markdown",
   "metadata": {
    "hidden": true
   },
   "source": [
    "As this is the accumulated statistics from their first 6 wins of the tournament, the .predict method becomes trivial as they are obviously expected to win with the statistics collected from their wins. \n",
    "\n",
    "However, more information can be obtained from the .predict_proba method as we can see who had played better during their first 6 matches before the final. As shown above, we can see Federer being more dominant in his wins, with his statistics describing a __77.31 %__ match win rate compared to Djokovic's __71.14 %__.\n",
    "\n",
    "This becomes more impressive when taken into account that Federer had also face harder opponents on his run to the final compared to Djokovic.\n",
    "\n",
    "__Paths To Final:__\n",
    "\n",
    "| Rounds |       Novak Djokovic       |      Roger Federer     |\n",
    "|:------:|:--------------------------:|:----------------------:|\n",
    "|   R1   |    Philipp Kohlschreiber   |      Lloyd Harris      |\n",
    "|   R2   |         Denis Kudla        |       Jay Clarke       |\n",
    "|   R3   |       Hubert Hurkacz       |   Lucas Pouille [27]   |\n",
    "|   R4   |         Ugo Humbert        | Matteo Berrettini [17] |\n",
    "|   QF   |      David Goffin [21]     |    Kei Nishikori [8]   |\n",
    "|   SF   | Roberto Bautista-Agut [23] |    Rafael Nadal [3]    |\n",
    "\n",
    "Federer had faced 4 seeded players and 2 top 10 players (including Rafael Nadal) while Djokovic had not faced any top 20 players before the final. \n",
    "\n",
    "Using this dataset as a prediction for the match would give Federer an edge of 2 to 4 % against Djokovic.\n",
    "\n",
    "Next, we look at the prediction based on their Year-to-Date statistics prior to this final."
   ]
  },
  {
   "cell_type": "code",
   "execution_count": 22,
   "metadata": {
    "ExecuteTime": {
     "end_time": "2020-04-14T18:09:14.862387Z",
     "start_time": "2020-04-14T18:09:14.851412Z"
    },
    "hidden": true
   },
   "outputs": [
    {
     "data": {
      "text/plain": [
       "array([1., 1.])"
      ]
     },
     "execution_count": 22,
     "metadata": {},
     "output_type": "execute_result"
    }
   ],
   "source": [
    "prediction.predict(ytd_average)"
   ]
  },
  {
   "cell_type": "code",
   "execution_count": 23,
   "metadata": {
    "ExecuteTime": {
     "end_time": "2020-04-14T18:09:15.274973Z",
     "start_time": "2020-04-14T18:09:15.265983Z"
    },
    "hidden": true,
    "scrolled": false
   },
   "outputs": [
    {
     "data": {
      "text/plain": [
       "array([[0.32971066, 0.67028934],\n",
       "       [0.44875884, 0.55124116]], dtype=float32)"
      ]
     },
     "execution_count": 23,
     "metadata": {},
     "output_type": "execute_result"
    }
   ],
   "source": [
    "prediction.predict_proba(ytd_average)"
   ]
  },
  {
   "cell_type": "markdown",
   "metadata": {
    "hidden": true
   },
   "source": [
    "Prior to this match, Federer had accumulated 32 Wins and 4 Losses (88.89 %) in 2019 while Djokovic had accumulated 28 Wins and 6 Losses (82.35 %). With this information, the .predict method once again becomes trivial as they both had a successful season at 80 + % win rate. \n",
    "\n",
    "However, we can see some interesting figures when we look at the .predict_proba method. Though Federer had a more successful season with higher win rate, Djokovic actually had been more dominant with his game on-court throughout the year, his average match stats gives him a __67.03 %__ of winning any match while Federer had __55.12 %__, indicating less dominant wins in the year compared to Djokovic.\n",
    "\n",
    "Based on this dataset, we would expect Djokovic to win the final with an edge of 5-10 % over Federer.\n",
    "\n",
    "Finally, we look at their previous head-to-head records to better capture their contrasting playing style and the match dynamic when the two of them face each other."
   ]
  },
  {
   "cell_type": "code",
   "execution_count": 24,
   "metadata": {
    "ExecuteTime": {
     "end_time": "2020-04-14T18:09:31.805570Z",
     "start_time": "2020-04-14T18:09:31.799562Z"
    },
    "hidden": true
   },
   "outputs": [
    {
     "data": {
      "text/plain": [
       "array([1., 1.])"
      ]
     },
     "execution_count": 24,
     "metadata": {},
     "output_type": "execute_result"
    }
   ],
   "source": [
    "prediction.predict(h2h_average)"
   ]
  },
  {
   "cell_type": "code",
   "execution_count": 25,
   "metadata": {
    "ExecuteTime": {
     "end_time": "2020-04-14T18:09:32.243746Z",
     "start_time": "2020-04-14T18:09:32.235765Z"
    },
    "hidden": true,
    "scrolled": false
   },
   "outputs": [
    {
     "data": {
      "text/plain": [
       "array([[0.48957372, 0.5104263 ],\n",
       "       [0.39767414, 0.60232586]], dtype=float32)"
      ]
     },
     "execution_count": 25,
     "metadata": {},
     "output_type": "execute_result"
    }
   ],
   "source": [
    "prediction.predict_proba(h2h_average)"
   ]
  },
  {
   "cell_type": "markdown",
   "metadata": {
    "hidden": true
   },
   "source": [
    "Before this match, Djokovic held a 25-22 winning record over Federer.\n",
    "\n",
    "With the .predict method, we can see that both players bring a good level of tennis when they face each other, as both compiled statistics are capable of winning matches based on the model. \n",
    "\n",
    "Next, we look at the .predict_proba results, we can see that Federer stats had been more dominant than Djokovic in their past matches, at __60.23 %__ against Djokovic's __51.04 %__. This is a relative dominance ratio of 54:46 in favor to Federer. This is an interesting statistic as Djokovic held a 25-22 winning head-to-head against Federer. \n",
    "\n",
    "*This may be due to the matches earlier in their career when Federer was at his prime while Djokovic is still struggling to challenge Federer or Nadal.*\n",
    "\n",
    "Using this model, Federer would be expected to win the final with an edge of 5-10%. However, this is the least accurate model of the 3 as we are taking into account matches from 2006 - 2018 between them, with no additional bias given to the recent matches, as there had been a dynamic switch during the time period."
   ]
  },
  {
   "cell_type": "markdown",
   "metadata": {},
   "source": [
    "### Analysis Model (AdaBoost with Validation AUC: 92.60 %)"
   ]
  },
  {
   "cell_type": "markdown",
   "metadata": {},
   "source": [
    "As requested, we have prepared 3 sets of data for this case study:\n",
    "* <code> df_full_match                </code> : This data describes both players' performance during the final\n",
    "* <code> df_djokovic_individual_stats </code> : This data describes djokovic's performance in each of the 5 sets played\n",
    "* <code> df_federer_individual_stats </code>  : This data describes federer's performance in each of the 5 sets played\n",
    "* <code> df_djokovic_cumulative_stats </code> : This data describes djokovic's performance cumulatively at end of each set\n",
    "* <code> df_federer_cumulative_stats </code>  : This data describes federer's performance cumulatively at end of each set\n",
    "\n",
    "\n",
    "* Player 0 = Novak Djokovic\n",
    "* Player 1 = Roger Federer\n",
    "\n",
    "First, we look at the full match stats."
   ]
  },
  {
   "cell_type": "code",
   "execution_count": 76,
   "metadata": {
    "ExecuteTime": {
     "end_time": "2020-04-13T15:02:45.040125Z",
     "start_time": "2020-04-13T15:02:45.009157Z"
    }
   },
   "outputs": [
    {
     "data": {
      "text/plain": [
       "array([0., 1.])"
      ]
     },
     "execution_count": 76,
     "metadata": {},
     "output_type": "execute_result"
    }
   ],
   "source": [
    "analysis.predict(df_full_match)"
   ]
  },
  {
   "cell_type": "code",
   "execution_count": 77,
   "metadata": {
    "ExecuteTime": {
     "end_time": "2020-04-13T15:03:07.355245Z",
     "start_time": "2020-04-13T15:03:07.327244Z"
    },
    "scrolled": true
   },
   "outputs": [
    {
     "data": {
      "text/plain": [
       "array([[0.50579989, 0.49420011],\n",
       "       [0.48443594, 0.51556406]])"
      ]
     },
     "execution_count": 77,
     "metadata": {},
     "output_type": "execute_result"
    }
   ],
   "source": [
    "analysis.predict_proba(df_full_match)"
   ]
  },
  {
   "cell_type": "markdown",
   "metadata": {},
   "source": [
    "The analysis model that we built predicted a win for Federer based on the full match stats, which perhaps deservedly so as Federer was the better player throughout the whole match, won 14 more points than Djokovic and had 2 match points on his own serve but failed to convert in the final set. This would be a false prediction by the analysis model but it does give insights into the relative performance and which player's performance is more deserving for victory. \n",
    "\n",
    "When we look at the win probability for each player, we can see the model predicted a 49.42 % chance of winning for Djokovic and a 51.56 % chance of winning for Federer, which translates to a relative win rate of 51 % to 49 % in favor of Federer. Therefore, Federer did play better than Djokovic and would have probably won the match any other day, but the model shows that Djokovic did not play terrible but was about 4 % below Federer's level on the day. The difference was Djokovic increased his level when it comes to pressure points like facing Federer's break points and match points opportunities. This helped him stay in the match until the 5th set despite playing at a lower level than Federer, we will look into a more detailed set-by-set analysis now."
   ]
  },
  {
   "cell_type": "markdown",
   "metadata": {},
   "source": [
    "__Final Score:__\n",
    "- __Set 1: Djokovic won 7-6(5)__\n",
    "- __Set 2: Federer won 6-1__\n",
    "- __Set 3: Djokovic won 7-6(4)__\n",
    "- __Set 4: Federer won 6-4__\n",
    "- __Set 5: Djokovic won 13-12(3)__"
   ]
  },
  {
   "cell_type": "code",
   "execution_count": 172,
   "metadata": {
    "ExecuteTime": {
     "end_time": "2020-04-13T17:37:14.092855Z",
     "start_time": "2020-04-13T17:37:13.807944Z"
    },
    "scrolled": false
   },
   "outputs": [
    {
     "name": "stdout",
     "output_type": "stream",
     "text": [
      "Djokovic prediction on each set:[0. 0. 0. 1. 0.]\n",
      "Federer prediction on each set: [1. 1. 1. 0. 0.]\n",
      "\n",
      "Djokovic Chance of Winning in Each Set\n",
      "Set 1: 45.3 %\n",
      "Set 2: 38.38 %\n",
      "Set 3: 45.51 %\n",
      "Set 4: 52.2 %\n",
      "Set 5: 49.04 %\n",
      "\n",
      "Federer Chance of Winning in Each Set\n",
      "Set 1: 51.54 %\n",
      "Set 2: 55.36 %\n",
      "Set 3: 53.16 %\n",
      "Set 4: 46.73 %\n",
      "Set 5: 49.64 %\n",
      "\n",
      "Number of Break Point Opportunities:\n",
      "\n",
      "Set 1: Djokovic   0.0      Federer   1.0\n",
      "Set 2: Djokovic   0.0      Federer   4.0\n",
      "Set 3: Djokovic   0.0      Federer   1.0\n",
      "Set 4: Djokovic   2.0      Federer   2.0\n",
      "Set 5: Djokovic   6.0      Federer   5.0\n",
      "-----------------------------------------\n",
      "Total: Djokovic   8.0      Federer  13.0\n"
     ]
    }
   ],
   "source": [
    "# Individual Set Outcome Prediction\n",
    "print(f\"Djokovic prediction on each set:{analysis.predict(df_djokovic_individual_stats)}\")\n",
    "print(f\"Federer prediction on each set: {analysis.predict(df_federer_individual_stats)}\")\n",
    "print(\"\")\n",
    "\n",
    "# Chance of Winning in Eact Set by Djokovic\n",
    "print(\"Djokovic Chance of Winning in Each Set\")\n",
    "for i in range(0, len(analysis.predict_proba(df_djokovic_individual_stats))):\n",
    "    print(f\"Set {str(1 + i)}: {round(analysis.predict_proba(df_djokovic_individual_stats)[i][1] * 100, 2)} %\")\n",
    "    \n",
    "print(\"\")\n",
    "\n",
    "# Chance of Winning in Eact Set by Federer\n",
    "print(\"Federer Chance of Winning in Each Set\")\n",
    "for i in range(0, len(analysis.predict_proba(df_federer_individual_stats))):\n",
    "    print(f\"Set {str(1 + i)}: {round(analysis.predict_proba(df_federer_individual_stats)[i][1] * 100, 2)} %\")\n",
    "\n",
    "print(\"\")\n",
    "\n",
    "# Break Point Chances by Both Players\n",
    "print (f\"Number of Break Point Opportunities:\\n\")\n",
    "\n",
    "for i in range(0, len(df_djokovic_individual_stats['break_points_return_total'])):\n",
    "    print (f\"Set {1 + i}: Djokovic   {df_djokovic_individual_stats['break_points_return_total'][i]}      Federer   {df_federer_individual_stats['break_points_return_total'][i]}\")\n",
    "\n",
    "print(\"-----------------------------------------\")\n",
    "print(f\"Total: Djokovic   {df_djokovic_individual_stats['break_points_return_total'].sum()}      Federer  {df_federer_individual_stats['break_points_return_total'].sum()}\")"
   ]
  },
  {
   "cell_type": "markdown",
   "metadata": {},
   "source": [
    "As we conducted an initial analysis on ~100k matches on Section 3 of this document, no player had ever won a match without breaking opponent's serve from 1990-2019. It is theoretically possible but highly improbable as the statistics shows, but assuming they played a normal Best-of-3 Sets match, Djokovic would have been the only player in 2 decades to accomplish that feat. Djokovic had 0 break point opportunities in the first 3 sets as compared to Federer's 6, but ended the set 3 with a 2-1 lead in sets, winning the first and third set via tiebreakers.\n",
    "\n",
    "As we can see from the predict function above, based on their performance, Federer was forecasted to win the first 3 sets while Djokovic was forecasted to lose all 3 sets. Most tennis speculators think Federer lost the match in the 5th set when he led 8:7 in games and 40:15 in points with 2 match points on his serve, but in reality Federer lost his match in 1st and 3rd set where he played significantly better than Djokovic in the 2 sets but failed to convert his break points to capitalize on his superior performance over djokovic, and partially due to Djokovic stepping up his game in crucial moments to win all 3 tiebreakers that led him to the victory.\n",
    "\n",
    "When we look at the win probability of each player in each set, we can see fluctuating performance from Djokovic and a consistent performance from Federer before falling in set 4 and 5. This is not surprising as Federer was turning 38 years old in a month during that match and Djokovic was 6 years younger than him, thus giving Djokovic an advantage as the matches went over 3-4 hours as he had better physical endurance.\n",
    "\n",
    "When we look at the final set, we can see that the model predicted both players to lose, with a probability of winning at 49.04 % for Djokovic and 49.64 % for Federer, signifying that both player's performance are not worthy of winning, but it also shows that both players are playing at a similar level, hence the game went on to the 12-12 in games, requiring a final set tiebreaker to decide the winner. \n",
    "\n",
    "Though they played at a similar level in the final set, Djokovic's final set performance was his personal 2nd best set in terms of level of play, while Federer's final set performance was his personal 2nd worst set, indicating Djokovic improved his performance after set 3 and Federer's level falling gradually after set 3. We will try to investigate this further in our next analysis, which looks at the cumulative performance at the conclusion of each set."
   ]
  },
  {
   "cell_type": "code",
   "execution_count": 168,
   "metadata": {
    "ExecuteTime": {
     "end_time": "2020-04-13T17:07:55.732672Z",
     "start_time": "2020-04-13T17:07:55.041040Z"
    },
    "scrolled": false
   },
   "outputs": [
    {
     "data": {
      "text/plain": [
       "Text(0, 0.5, 'Relative Performance')"
      ]
     },
     "execution_count": 168,
     "metadata": {},
     "output_type": "execute_result"
    },
    {
     "data": {
      "image/png": "[encoded data removed]",
      "text/plain": [
       "<Figure size 1296x1296 with 1 Axes>"
      ]
     },
     "metadata": {},
     "output_type": "display_data"
    }
   ],
   "source": [
    "# Calculating relative performance between 2 players\n",
    "\n",
    "djo_cumulative_performance = []\n",
    "fed_cumulative_performance = []\n",
    "for i in range(0, len(analysis.predict_proba(df_djokovic_cumulative_stats))):\n",
    "    djo_cumulative_performance.append(analysis.predict_proba(df_djokovic_cumulative_stats)[i][1])\n",
    "    fed_cumulative_performance.append(analysis.predict_proba(df_federer_cumulative_stats)[i][1])\n",
    "\n",
    "djo_relative_performance = [0.5]\n",
    "fed_relative_performance = [0.5]\n",
    "for i in range(0, len(djo_cumulative_performance)):\n",
    "    djo_relative_performance.append(round(djo_cumulative_performance[i] / (djo_cumulative_performance[i] + fed_cumulative_performance[i]), 2))\n",
    "    fed_relative_performance.append(round(fed_cumulative_performance[i] / (djo_cumulative_performance[i] + fed_cumulative_performance[i]), 2))\n",
    "\n",
    "\n",
    "# Plot 2 lines displaying momentum and performance change during the 5 sets\n",
    "sns.lineplot(x=range(0,6), y=djo_relative_performance)\n",
    "sns.lineplot(x=range(0,6), y=fed_relative_performance)\n",
    "plt.rcParams.update({'font.size': 20})\n",
    "plt.rcParams['figure.figsize'] = (18,18)\n",
    "plt.legend(['Djokovic', 'Federer'])\n",
    "plt.title(\"Momentum Shift in Wimbledon 2019 Final\")\n",
    "plt.xlabel(\"Sets\")\n",
    "plt.ylabel(\"Relative Performance\")"
   ]
  },
  {
   "cell_type": "markdown",
   "metadata": {},
   "source": [
    "Here, we can see the shift in their relative performance from start of the match to the end, showing that Federer gradually increase his dominance over Djokovic from the first point to the end of set 2, with the peak at 57% - 43 % in relative performance in favor of Federer, a staggering 14 % edge over Djokovic. \n",
    "\n",
    "After set 2, Federer's relative performance against Djokovic dipped slightly in set 3 and continued to drop further in set 4 and 5, but statistically remain the superior player throughout the whole match from first point to the last point."
   ]
  },
  {
   "cell_type": "markdown",
   "metadata": {},
   "source": [
    "### Improvements"
   ]
  },
  {
   "cell_type": "code",
   "execution_count": 221,
   "metadata": {
    "ExecuteTime": {
     "end_time": "2020-04-13T18:29:07.080830Z",
     "start_time": "2020-04-13T18:29:06.934931Z"
    },
    "scrolled": false
   },
   "outputs": [
    {
     "name": "stdout",
     "output_type": "stream",
     "text": [
      "Original chance of winning full match: 49.42 %\n",
      "\n",
      "first_serves_points_won_%: Chance of winning improved by 0.55 %\n",
      "second_serves_points_won_%: Chance of winning improved by 0.4 %\n",
      "break_point_save_%: Chance of winning improved by 0.19 %\n",
      "first_serves_return_points_won_%: Chance of winning improved by 0.0 %\n",
      "break_point_convert_%: Chance of winning improved by 0.19 %\n",
      "break_points_return_total: Chance of winning improved by 0.1 %\n"
     ]
    }
   ],
   "source": [
    "# Load djokovic full match stats\n",
    "df_djo_improve = df_full_match.drop(85168)\n",
    "\n",
    "# Improvement rate\n",
    "rate = 1.1\n",
    "baseline = round(analysis.predict_proba(df_djo_improve)[0][1] * 100, 2)\n",
    "print(f\"Original chance of winning full match: {baseline} %\\n\")\n",
    "\n",
    "# Analyze which feature most beneficial for increasing chance of winning\n",
    "for i in df_djo_improve.columns:\n",
    "    df_djo_improve = df_full_match.drop(85168)    # Reset values for comparison\n",
    "    df_djo_improve[i] = df_djo_improve[i] * rate\n",
    "    prediction = round(analysis.predict_proba(df_djo_improve)[0][1] * 100, 2)\n",
    "    print(f\"{i}: Chance of winning improved by {round((prediction - baseline), 2)} %\")"
   ]
  },
  {
   "cell_type": "markdown",
   "metadata": {},
   "source": [
    "As we can see from the output, Djokovic would benefit most from improving the first serves points won %. By improving that feature alone by 10 %, Djokovic would gain 0.55 % more chance of winning the match. If all 6 features were improved by 10 %, Djokovic would gain 1.43 % more chance of winning the match."
   ]
  },
  {
   "cell_type": "code",
   "execution_count": 222,
   "metadata": {
    "ExecuteTime": {
     "end_time": "2020-04-13T18:34:21.138558Z",
     "start_time": "2020-04-13T18:34:20.987647Z"
    },
    "scrolled": true
   },
   "outputs": [
    {
     "name": "stdout",
     "output_type": "stream",
     "text": [
      "Original chance of winning full match: 51.56 %\n",
      "\n",
      "first_serves_points_won_%: Chance of winning improved by 0.53 %\n",
      "second_serves_points_won_%: Chance of winning improved by 0.37 %\n",
      "break_point_save_%: Chance of winning improved by 0.24 %\n",
      "first_serves_return_points_won_%: Chance of winning improved by 0.15 %\n",
      "break_point_convert_%: Chance of winning improved by 0.0 %\n",
      "break_points_return_total: Chance of winning improved by 0.02 %\n"
     ]
    }
   ],
   "source": [
    "# Load federer full match stats\n",
    "df_fed_improve = df_full_match.drop(64598)\n",
    "\n",
    "# Improvement rate\n",
    "rate = 1.1\n",
    "baseline = round(analysis.predict_proba(df_fed_improve)[0][1] * 100, 2)\n",
    "print(f\"Original chance of winning full match: {baseline} %\\n\")\n",
    "\n",
    "# Analyze which feature most beneficial for increasing chance of winning\n",
    "for i in df_fed_improve.columns:\n",
    "    df_fed_improve = df_full_match.drop(64598)    # Reset values for comparison\n",
    "    df_fed_improve[i] = df_fed_improve[i] * rate\n",
    "    prediction = round(analysis.predict_proba(df_fed_improve)[0][1] * 100, 2)\n",
    "    print(f\"{i}: Chance of winning improved by {round((prediction - baseline), 2)} %\")"
   ]
  },
  {
   "cell_type": "markdown",
   "metadata": {},
   "source": [
    "Likewise, Federer would benefit most by improving the first serves points won %. By improving that feature alone by 10 %, Federer would gain 0.53 % more chance of winning the match. If all 6 features were improved by 10 %, Federer would gain 1.31 % more chance of winning the match."
   ]
  },
  {
   "cell_type": "markdown",
   "metadata": {},
   "source": [
    "## Summary & Recommendation"
   ]
  },
  {
   "cell_type": "markdown",
   "metadata": {},
   "source": [
    "__Facts & Findings:__\n",
    "1. Final Score: Djokovic 7-6(5) 1-6 7-6(4) 4-6 13-12(3) Federer\n",
    "2. Federer performed better in every statistics overall:\n",
    "    * Won 14 more total points (218 - 204)\n",
    "    * Higher Service Points Won % (68 % - 64 %)\n",
    "    * Higher Return Points Won % (36 % - 32 %)\n",
    "    * 5 more break point opportunities (13 - 8)\n",
    "    * Converted 4 more break points (7 - 3)\n",
    "    * Higher break point conversion rate (54 % - 38 %)\n",
    "    * Higher break point save rate (63 % - 46 %) \n",
    "3. Djokovic led by 2 sets to 1 without having a break point opportunity\n",
    "    * Theoretically won a BO3 match without breaking opponent's serve (Never happened in a single match from 1990 - 2019)    \n",
    "4. Djokovic won the match despite winning 14 less points in total\n",
    "    * Total % of matches where winners won with a point deficit: 4.58 %    \n",
    "5. Pre-match prediction model results:\n",
    "    * **Tournament Average: Federer with a 52.08 % chance of winning**\n",
    "    * **Year-To-Date      : Djokovic with a 54.87 % chance of winning**\n",
    "    * **Head-to-Head      : Federer with a 54.13 % chance of winning**\n",
    "    - *Head-to-head model not as reliable as tournament average and year-to-date data as it consists of data from 2006 - 2018 with no recency bias*\n",
    "6. Post-match analysis model results:\n",
    "    * **Set 1     : Federer with a 53.22 % chance of winning**\n",
    "    * **Set 2     : Federer with a 59.06 % chance of winning**\n",
    "    * **Set 3     : Federer with a 53.88 % chance of winning**\n",
    "    * **Set 4     : Djokovic with a 52.76 % chance of winning**\n",
    "    * **Set 5     : Federer with a 50.30 % chance of winning**\n",
    "    * **Full Match: Federer with a 51.06 % chance of winning**\n",
    "7. Recommendation For Improvements:\n",
    "    * **Based on the model, player would benefit most by improving win rate on the first serves point**"
   ]
  },
  {
   "cell_type": "markdown",
   "metadata": {
    "heading_collapsed": true
   },
   "source": [
    "# User Test Function"
   ]
  },
  {
   "cell_type": "markdown",
   "metadata": {
    "heading_collapsed": true,
    "hidden": true
   },
   "source": [
    "## Main Function"
   ]
  },
  {
   "cell_type": "code",
   "execution_count": 1,
   "metadata": {
    "ExecuteTime": {
     "end_time": "2020-04-12T15:26:43.418838Z",
     "start_time": "2020-04-12T15:26:43.396820Z"
    },
    "hidden": true
   },
   "outputs": [],
   "source": [
    "def user_test():\n",
    "    \n",
    "    # Import libraries\n",
    "    import pandas as pd\n",
    "    import joblib\n",
    "    \n",
    "    # Load trained model\n",
    "    prediction = joblib.load('prediction.pkl')\n",
    "    \n",
    "    analysis = joblib.load('analysis.pkl')\n",
    "    \n",
    "    # Define features required for analysis\n",
    "    pre_match = ['second_serves_return_points_won_%', 'break_point_convert_%']\n",
    "    \n",
    "    match_analysis = ['first_serves_points_won_%', 'second_serves_points_won_%', 'break_point_save_%',\n",
    "                      'first_serves_return_points_won_%', 'break_point_convert_%', 'break_points_return_total']\n",
    "    \n",
    "    # Model Selection Menu\n",
    "    print(\"Please select model:\")\n",
    "    print(\"Prediction: please enter '1'\")\n",
    "    print(\"Analysis: please enter '2'\")\n",
    "    \n",
    "    model_selection = input('Please state your choice: ')\n",
    "    \n",
    "    if model_selection == '1':\n",
    "        \n",
    "        # Prediction Model Selection Menu\n",
    "        print(\"\")\n",
    "        print(\"For predictions based on\")\n",
    "        print(\"1 player: please enter '1'\")\n",
    "        print(\"2 player: please enter '2'\")\n",
    "\n",
    "        number_of_players = input('Please state your choice: ')\n",
    "\n",
    "\n",
    "        # Function to predict chance of a player winning a match based on 2 features\n",
    "        if number_of_players == '1':\n",
    "\n",
    "            # Request user to input features\n",
    "            user_feature_1 = input('What is the second serve return points won % ? ')\n",
    "            user_feature_2 = input('What is the break point conversion rate ? ')\n",
    "\n",
    "\n",
    "            df_prediction_testing = pd.DataFrame(columns = pre_match)\n",
    "            df_prediction_testing['second_serves_return_points_won_%'] = [float(user_feature_1)]\n",
    "            df_prediction_testing['break_point_convert_%'] = [float(user_feature_2)]\n",
    "\n",
    "            user_test_prediction = prediction.predict_proba(df_prediction_testing)\n",
    "\n",
    "            print(\"\")\n",
    "            print(f\"The likelihood of the player winning is: {round(user_test_prediction[0][1] * 100, 2)} %\")\n",
    "\n",
    "\n",
    "        # Function to predict relative chance of a player winning a match based on 2 features from both players\n",
    "        elif number_of_players == '2':\n",
    "\n",
    "            # Request user to input features\n",
    "            player1_feature_1 = input('For player 1: What is the second serve return points won % ? ')\n",
    "            player1_feature_2 = input('For player 1: What is the break point conversion rate ? ')\n",
    "\n",
    "            player2_feature_1 = input('For player 2: What is the second serve return points won % ? ')\n",
    "            player2_feature_2 = input('For player 2: What is the break point conversion rate ? ')\n",
    "\n",
    "\n",
    "            df_player1 = pd.DataFrame(columns = pre_match)\n",
    "            df_player1['second_serves_return_points_won_%'] = [float(player1_feature_1)]\n",
    "            df_player1['break_point_convert_%'] = [float(player1_feature_2)]\n",
    "\n",
    "            df_player2 = pd.DataFrame(columns = pre_match)\n",
    "            df_player2['second_serves_return_points_won_%'] = [float(player2_feature_1)]\n",
    "            df_player2['break_point_convert_%'] = [float(player2_feature_2)]\n",
    "\n",
    "            player1_prediction = prediction.predict_proba(df_player1)\n",
    "            player2_prediction = prediction.predict_proba(df_player2)\n",
    "\n",
    "            player1_chance = player1_prediction[0][1] / (player1_prediction[0][1] + player2_prediction[0][1])\n",
    "            player2_chance = player2_prediction[0][1] / (player1_prediction[0][1] + player2_prediction[0][1])\n",
    "\n",
    "\n",
    "            print(\"\")\n",
    "            print(f\"The likelihood of the player 1 winning is: {round(player1_chance * 100, 2)} %\")\n",
    "            print(\"\")\n",
    "            print(f\"The likelihood of the player 2 winning is: {round(player2_chance * 100, 2)} %\")\n",
    "    \n",
    "    \n",
    "    # Function to analyze completed matches to view player performance during the match\n",
    "    # This function can be used on individual set statistics to measure momentum gain/loss during the match\n",
    "    \n",
    "    elif model_selection == '2':\n",
    "        \n",
    "        # Request user to input features\n",
    "        user_feature_1 = input('What is the first serves points won % ? ')\n",
    "        user_feature_2 = input('What is the second serves points won % ? ')\n",
    "        user_feature_3 = input('What is the break point save % ? ')\n",
    "        user_feature_4 = input('What is the first serve return points won % ? ')\n",
    "        user_feature_5 = input('What is the break point conversion rate ? ')\n",
    "        user_feature_6 = input('What is the total number of break point chances ? ')\n",
    "\n",
    "\n",
    "        df_analysis_testing = pd.DataFrame(columns = match_analysis)\n",
    "        df_analysis_testing['first_serves_points_won_%'] = [float(user_feature_1)]\n",
    "        df_analysis_testing['second_serves_points_won_%'] = [float(user_feature_2)]\n",
    "        df_analysis_testing['break_point_save_%'] = [float(user_feature_3)]\n",
    "        df_analysis_testing['first_serves_return_points_won_%'] = [float(user_feature_4)]\n",
    "        df_analysis_testing['break_point_convert_%'] = [float(user_feature_5)]\n",
    "        df_analysis_testing['break_points_return_total'] = [float(user_feature_6)]\n",
    "\n",
    "        user_test_analysis_result = analysis.predict(df_analysis_testing)\n",
    "\n",
    "        user_test_analysis_proba = analysis.predict_proba(df_analysis_testing)\n",
    "\n",
    "        if user_test_analysis_result[0] == 0:\n",
    "            print(\"\")\n",
    "            print(f\"This player most likely lost the match and he had a {round(user_test_analysis_proba[0][1] * 100, 2)} % chance of winning the match.\")\n",
    "        elif user_test_analysis_result[0] == 1:\n",
    "            print(\"\")\n",
    "            print(f\"This player most likely won the match and he had a {round(user_test_analysis_proba[0][1] * 100, 2)} % chance of winning the match.\")"
   ]
  },
  {
   "cell_type": "markdown",
   "metadata": {
    "heading_collapsed": true,
    "hidden": true
   },
   "source": [
    "## Import Function From .py "
   ]
  },
  {
   "cell_type": "code",
   "execution_count": 26,
   "metadata": {
    "ExecuteTime": {
     "end_time": "2020-04-14T18:14:15.682658Z",
     "start_time": "2020-04-14T18:14:15.671665Z"
    },
    "hidden": true
   },
   "outputs": [],
   "source": [
    "from user_test import user_test"
   ]
  },
  {
   "cell_type": "code",
   "execution_count": 27,
   "metadata": {
    "ExecuteTime": {
     "end_time": "2020-04-14T18:15:09.648359Z",
     "start_time": "2020-04-14T18:14:27.895212Z"
    },
    "hidden": true
   },
   "outputs": [
    {
     "name": "stdout",
     "output_type": "stream",
     "text": [
      "Please select model:\n",
      "Prediction: please enter '1'\n",
      "Analysis: please enter '2'\n",
      "Please state your choice: 1\n",
      "\n",
      "For predictions based on\n",
      "1 player: please enter '1'\n",
      "2 player: please enter '2'\n",
      "Please state your choice: 2\n",
      "For player 1: What is the second serve return points won % ? 0.5\n",
      "For player 1: What is the break point conversion rate ? 0.6\n",
      "For player 2: What is the second serve return points won % ? 0.4\n",
      "For player 2: What is the break point conversion rate ? 0.7\n",
      "\n",
      "The likelihood of the player 1 winning is: 52.72 %\n",
      "\n",
      "The likelihood of the player 2 winning is: 47.28 %\n"
     ]
    }
   ],
   "source": [
    "user_test()"
   ]
  }
 ],
 "metadata": {
  "kernelspec": {
   "display_name": "Python 3",
   "language": "python",
   "name": "python3"
  },
  "language_info": {
   "codemirror_mode": {
    "name": "ipython",
    "version": 3
   },
   "file_extension": ".py",
   "mimetype": "text/x-python",
   "name": "python",
   "nbconvert_exporter": "python",
   "pygments_lexer": "ipython3",
   "version": "3.7.4"
  },
  "toc": {
   "base_numbering": 1,
   "nav_menu": {},
   "number_sections": true,
   "sideBar": true,
   "skip_h1_title": false,
   "title_cell": "Table of Contents",
   "title_sidebar": "Contents",
   "toc_cell": false,
   "toc_position": {},
   "toc_section_display": true,
   "toc_window_display": false
  }
 },
 "nbformat": 4,
 "nbformat_minor": 2
}
