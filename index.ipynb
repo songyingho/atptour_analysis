{
 "cells": [
  {
   "cell_type": "markdown",
   "metadata": {
    "heading_collapsed": true
   },
   "source": [
    "# Import Libraries"
   ]
  },
  {
   "cell_type": "code",
   "execution_count": 2,
   "metadata": {
    "ExecuteTime": {
     "end_time": "2020-04-25T14:05:58.497830Z",
     "start_time": "2020-04-25T14:05:58.472836Z"
    },
    "hidden": true
   },
   "outputs": [],
   "source": [
    "import matplotlib.pyplot as plt\n",
    "import numpy as np\n",
    "import pandas as pd\n",
    "import seaborn as sns\n",
    "%matplotlib inline\n",
    "sns.set_style(\"darkgrid\")\n",
    "\n",
    "from IPython.display import Image\n",
    "from pydotplus import graph_from_dot_data\n",
    "from sklearn import metrics\n",
    "\n",
    "from sklearn.ensemble import RandomForestClassifier\n",
    "from sklearn.ensemble import AdaBoostClassifier\n",
    "\n",
    "from sklearn.linear_model import LogisticRegression\n",
    "\n",
    "from sklearn.metrics import accuracy_score\n",
    "from sklearn.metrics import confusion_matrix\n",
    "from sklearn.metrics import roc_curve\n",
    "from sklearn.metrics import auc\n",
    "from sklearn.metrics import roc_auc_score\n",
    "\n",
    "from sklearn.model_selection import cross_val_score\n",
    "from sklearn.model_selection import GridSearchCV\n",
    "from sklearn.model_selection import KFold\n",
    "from sklearn.model_selection import train_test_split\n",
    "\n",
    "from sklearn.preprocessing import OneHotEncoder\n",
    "from sklearn.preprocessing import StandardScaler\n",
    "from sklearn.preprocessing import MinMaxScaler\n",
    "\n",
    "from sklearn.tree import DecisionTreeClassifier\n",
    "from sklearn.tree import export_graphviz\n",
    "\n",
    "from statsmodels.stats.outliers_influence import variance_inflation_factor\n",
    "\n",
    "from xgboost import XGBClassifier\n",
    "\n",
    "import joblib\n",
    "\n",
    "pd.set_option('display.max_columns', 50)\n",
    "pd.set_option('display.max_rows', 500)\n",
    "plt.rcParams['figure.figsize'] = (30,30)\n",
    "\n",
    "import warnings\n",
    "warnings.filterwarnings(\"ignore\")"
   ]
  },
  {
   "cell_type": "markdown",
   "metadata": {
    "heading_collapsed": true
   },
   "source": [
    "# User Test Function"
   ]
  },
  {
   "cell_type": "markdown",
   "metadata": {
    "hidden": true
   },
   "source": [
    "Run the following 2 codes to have a test on the functions created:"
   ]
  },
  {
   "cell_type": "code",
   "execution_count": 1,
   "metadata": {
    "ExecuteTime": {
     "end_time": "2020-05-10T14:22:08.107749Z",
     "start_time": "2020-05-10T14:22:08.008325Z"
    },
    "hidden": true
   },
   "outputs": [],
   "source": [
    "from user_test import user_test"
   ]
  },
  {
   "cell_type": "code",
   "execution_count": 3,
   "metadata": {
    "ExecuteTime": {
     "end_time": "2020-05-10T14:23:07.042098Z",
     "start_time": "2020-05-10T14:23:02.753940Z"
    },
    "hidden": true,
    "scrolled": true
   },
   "outputs": [
    {
     "name": "stdout",
     "output_type": "stream",
     "text": [
      "Please select model:\n",
      "Prediction: please enter '1'\n",
      "Analysis: please enter '2'\n",
      "Please state your choice: 1\n",
      "\n",
      "For predictions based on\n",
      "1 player: please enter '1'\n",
      "2 player: please enter '2'\n",
      "Please state your choice: 1\n",
      "What is the second serve return points won % ? 0.5\n",
      "What is the break point conversion rate ? 0.5\n",
      "\n",
      "The likelihood of the player winning is: 55.55 %\n"
     ]
    }
   ],
   "source": [
    "user_test()"
   ]
  },
  {
   "cell_type": "markdown",
   "metadata": {},
   "source": [
    "# Summary of Project "
   ]
  },
  {
   "cell_type": "markdown",
   "metadata": {
    "heading_collapsed": true
   },
   "source": [
    "## Data Collection & Transformation"
   ]
  },
  {
   "cell_type": "markdown",
   "metadata": {
    "heading_collapsed": true
   },
   "source": [
    "## Clustering"
   ]
  },
  {
   "cell_type": "markdown",
   "metadata": {
    "heading_collapsed": true
   },
   "source": [
    "## Classification"
   ]
  },
  {
   "cell_type": "markdown",
   "metadata": {},
   "source": [
    "## Case Study"
   ]
  },
  {
   "cell_type": "markdown",
   "metadata": {
    "ExecuteTime": {
     "end_time": "2020-05-14T15:40:46.324197Z",
     "start_time": "2020-05-14T15:40:46.309205Z"
    }
   },
   "source": [
    "We will conduct the case study in 2 parts, the first part is the pre-match prediction and the second part is the post-match analysis.\n",
    "\n",
    "__Djokovic beats Federer in Wimbledon 2019 Final over 5 sets in 4 hours and 57 minutes__\n",
    "\n",
    "__Final Score: Djokovic 7-6(5) 1-6 7-6(4) 4-6 13-12(3) Federer__\n",
    "\n",
    "--------------------------------------------------------------------------------------------------------------\n",
    "\n",
    "The pre-match prediction model uses only 2 metrics: \n",
    "* __second_serves_return_points_won_%__\n",
    "* __break_point_convert_%__\n",
    "\n",
    "For this case study, we will use the following pre-match statistics available to us:\n",
    "* __Tournament Average across first 6 matches before final__\n",
    "* __YTD (2019) Player Statistics__\n",
    "* __Previous H2H Accumulated Statistics prior to the match__\n",
    "\n",
    "--------------------------------------------------------------------------------------------------------------\n",
    "\n",
    "The match analysis model uses 6 metrics:\n",
    "* __first_serves_points_won_%__\n",
    "* __second_serves_points_won_%__\n",
    "* __break_point_save_%__\n",
    "* __first_serves_return_points_won_%__\n",
    "* __break_point_convert_%__\n",
    "* __break_points_return_total__\n",
    "\n",
    "For this case study, we will use the following match statistics available to us:\n",
    "* __Full Match Statistics__\n",
    "* __Individual Sets Statistics__\n",
    "* __Cumulative Win Probability over 5 sets__"
   ]
  },
  {
   "cell_type": "code",
   "execution_count": null,
   "metadata": {},
   "outputs": [],
   "source": []
  }
 ],
 "metadata": {
  "kernelspec": {
   "display_name": "Python 3",
   "language": "python",
   "name": "python3"
  },
  "language_info": {
   "codemirror_mode": {
    "name": "ipython",
    "version": 3
   },
   "file_extension": ".py",
   "mimetype": "text/x-python",
   "name": "python",
   "nbconvert_exporter": "python",
   "pygments_lexer": "ipython3",
   "version": "3.7.4"
  },
  "toc": {
   "base_numbering": 1,
   "nav_menu": {},
   "number_sections": true,
   "sideBar": true,
   "skip_h1_title": false,
   "title_cell": "Table of Contents",
   "title_sidebar": "Contents",
   "toc_cell": false,
   "toc_position": {},
   "toc_section_display": true,
   "toc_window_display": false
  }
 },
 "nbformat": 4,
 "nbformat_minor": 2
}
