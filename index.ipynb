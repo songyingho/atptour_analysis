{
 "cells": [
  {
   "cell_type": "markdown",
   "metadata": {},
   "source": [
    "# Summary of Findings"
   ]
  },
  {
   "cell_type": "markdown",
   "metadata": {},
   "source": []
  },
  {
   "cell_type": "markdown",
   "metadata": {
    "heading_collapsed": true
   },
   "source": [
    "# Import Libraries"
   ]
  },
  {
   "cell_type": "code",
   "execution_count": 3,
   "metadata": {
    "ExecuteTime": {
     "end_time": "2020-05-23T11:29:03.810488Z",
     "start_time": "2020-05-23T11:28:14.809717Z"
    },
    "hidden": true
   },
   "outputs": [],
   "source": [
    "import matplotlib.pyplot as plt\n",
    "import numpy as np\n",
    "import pandas as pd\n",
    "import seaborn as sns\n",
    "%matplotlib inline\n",
    "sns.set_style(\"darkgrid\")\n",
    "\n",
    "from IPython.display import Image\n",
    "from pydotplus import graph_from_dot_data\n",
    "from sklearn import metrics\n",
    "\n",
    "from sklearn.ensemble import RandomForestClassifier\n",
    "from sklearn.ensemble import AdaBoostClassifier\n",
    "\n",
    "from sklearn.linear_model import LogisticRegression\n",
    "\n",
    "from sklearn.metrics import accuracy_score\n",
    "from sklearn.metrics import confusion_matrix\n",
    "from sklearn.metrics import roc_curve\n",
    "from sklearn.metrics import auc\n",
    "from sklearn.metrics import roc_auc_score\n",
    "\n",
    "from sklearn.model_selection import cross_val_score\n",
    "from sklearn.model_selection import GridSearchCV\n",
    "from sklearn.model_selection import KFold\n",
    "from sklearn.model_selection import train_test_split\n",
    "\n",
    "from sklearn.preprocessing import OneHotEncoder\n",
    "from sklearn.preprocessing import StandardScaler\n",
    "from sklearn.preprocessing import MinMaxScaler\n",
    "\n",
    "from sklearn.tree import DecisionTreeClassifier\n",
    "from sklearn.tree import export_graphviz\n",
    "\n",
    "from statsmodels.stats.outliers_influence import variance_inflation_factor\n",
    "\n",
    "from xgboost import XGBClassifier\n",
    "\n",
    "import joblib\n",
    "\n",
    "pd.set_option('display.max_columns', 50)\n",
    "pd.set_option('display.max_rows', 500)\n",
    "plt.rcParams['figure.figsize'] = (30,30)\n",
    "\n",
    "import warnings\n",
    "warnings.filterwarnings(\"ignore\")\n",
    "\n",
    "# Define path for saving files\n",
    "import os\n",
    "path=r'C:\\Users\\songying7\\Desktop\\Projects\\atptour_analysis\\index_csv'"
   ]
  },
  {
   "cell_type": "markdown",
   "metadata": {
    "heading_collapsed": true
   },
   "source": [
    "# User Test Function"
   ]
  },
  {
   "cell_type": "markdown",
   "metadata": {
    "hidden": true
   },
   "source": [
    "Run the following 2 codes to have a test on the functions created:"
   ]
  },
  {
   "cell_type": "code",
   "execution_count": 42,
   "metadata": {
    "ExecuteTime": {
     "end_time": "2020-05-22T09:51:20.140096Z",
     "start_time": "2020-05-22T09:51:20.015805Z"
    },
    "hidden": true
   },
   "outputs": [],
   "source": [
    "from user_test import user_test"
   ]
  },
  {
   "cell_type": "code",
   "execution_count": 43,
   "metadata": {
    "ExecuteTime": {
     "end_time": "2020-05-22T09:51:43.795172Z",
     "start_time": "2020-05-22T09:51:22.338985Z"
    },
    "hidden": true,
    "scrolled": true
   },
   "outputs": [
    {
     "name": "stdout",
     "output_type": "stream",
     "text": [
      "Please select model:\n",
      "Prediction: please enter '1'\n",
      "Analysis: please enter '2'\n",
      "Please state your choice: 1\n",
      "\n",
      "For predictions based on\n",
      "1 player: please enter '1'\n",
      "2 player: please enter '2'\n",
      "Please state your choice: 2\n",
      "For player 1: What is the second serve return points won % ? 0.5\n",
      "For player 1: What is the break point conversion rate ? 0.4\n",
      "For player 2: What is the second serve return points won % ? 0.6\n",
      "For player 2: What is the break point conversion rate ? 0.4\n",
      "\n",
      "The likelihood of the player 1 winning is: 42.44 %\n",
      "\n",
      "The likelihood of the player 2 winning is: 57.56 %\n"
     ]
    }
   ],
   "source": [
    "user_test()"
   ]
  },
  {
   "cell_type": "markdown",
   "metadata": {},
   "source": [
    "# Summary of Project "
   ]
  },
  {
   "cell_type": "markdown",
   "metadata": {},
   "source": [
    "## Data Collection & Transformation"
   ]
  },
  {
   "cell_type": "code",
   "execution_count": 5,
   "metadata": {
    "ExecuteTime": {
     "end_time": "2020-05-22T08:28:02.708533Z",
     "start_time": "2020-05-22T08:28:01.092373Z"
    }
   },
   "outputs": [],
   "source": [
    "# Prepare both csv for matches and clustered players\n",
    "df_match = pd.read_csv('index_csv/clean_df_v3.0.csv')\n",
    "df_cluster = pd.read_csv('index_csv/player_with_labels.csv')"
   ]
  },
  {
   "cell_type": "markdown",
   "metadata": {
    "heading_collapsed": true
   },
   "source": [
    "### Case Study: Wimbledon 2019 Final"
   ]
  },
  {
   "cell_type": "code",
   "execution_count": 6,
   "metadata": {
    "ExecuteTime": {
     "end_time": "2020-05-22T08:28:02.799466Z",
     "start_time": "2020-05-22T08:28:02.710532Z"
    },
    "hidden": true
   },
   "outputs": [],
   "source": [
    "df_wim_2019_final = df_match[df_match['match_id'] == '2019-540-MS001-10-1-d643-f324']\n",
    "\n",
    "# Remove case study from dataset\n",
    "df_match = df_match[df_match['match_id'] != '2019-540-MS001-10-1-d643-f324']\n",
    "df_match.reset_index(drop = True, inplace = True)"
   ]
  },
  {
   "cell_type": "markdown",
   "metadata": {
    "heading_collapsed": true
   },
   "source": [
    "### Mapping Cluster Group Values & Imputing Missing Data"
   ]
  },
  {
   "cell_type": "code",
   "execution_count": 7,
   "metadata": {
    "ExecuteTime": {
     "end_time": "2020-05-22T08:30:43.466455Z",
     "start_time": "2020-05-22T08:28:08.590612Z"
    },
    "hidden": true
   },
   "outputs": [],
   "source": [
    "# Map clustered group onto matches data\n",
    "slug_list = list(df_cluster['slug'])\n",
    "df = df_match\n",
    "df['group'] = np.nan\n",
    "for i in range(0,len(df_match)):\n",
    "    if df_match['slug'][i] in slug_list:\n",
    "        df['group'][i] = df_cluster[df_cluster['slug'] == df_match['slug'][i]]['group'].values[0]\n",
    "    else:\n",
    "        df['group'][i] = np.nan\n",
    "\n",
    "# First run takes 2 minutes"
   ]
  },
  {
   "cell_type": "code",
   "execution_count": 8,
   "metadata": {
    "ExecuteTime": {
     "end_time": "2020-05-22T08:30:44.347704Z",
     "start_time": "2020-05-22T08:30:43.468441Z"
    },
    "hidden": true
   },
   "outputs": [],
   "source": [
    "# Impute for missing values with weighted probabilities of each clustered group\n",
    "choice = [0,1]\n",
    "prob = df[df['group'].isna() == False]['group'].value_counts(normalize=True).sort_index()\n",
    "df['group'].fillna(np.random.choice(choice, 1, p= prob)[0], inplace = True)"
   ]
  },
  {
   "cell_type": "code",
   "execution_count": 13,
   "metadata": {
    "ExecuteTime": {
     "end_time": "2020-05-22T08:32:25.046017Z",
     "start_time": "2020-05-22T08:32:13.824927Z"
    },
    "hidden": true
   },
   "outputs": [],
   "source": [
    "df.to_csv(os.path.join(path,r'merged_df.csv'), index = False)"
   ]
  },
  {
   "cell_type": "markdown",
   "metadata": {},
   "source": [
    "## Initial Data Analysis"
   ]
  },
  {
   "cell_type": "code",
   "execution_count": 4,
   "metadata": {
    "ExecuteTime": {
     "end_time": "2020-05-23T11:29:10.323561Z",
     "start_time": "2020-05-23T11:29:03.817484Z"
    }
   },
   "outputs": [],
   "source": [
    "df = pd.read_csv('index_csv/merged_df.csv')"
   ]
  },
  {
   "cell_type": "code",
   "execution_count": 5,
   "metadata": {
    "ExecuteTime": {
     "end_time": "2020-05-23T11:29:10.390507Z",
     "start_time": "2020-05-23T11:29:10.325544Z"
    }
   },
   "outputs": [
    {
     "data": {
      "text/plain": [
       "Hard      95020\n",
       "Clay      60534\n",
       "Grass     19272\n",
       "Carpet     9490\n",
       "Name: surface, dtype: int64"
      ]
     },
     "execution_count": 5,
     "metadata": {},
     "output_type": "execute_result"
    }
   ],
   "source": [
    "# Court distribution\n",
    "df['surface'].value_counts()"
   ]
  },
  {
   "cell_type": "markdown",
   "metadata": {
    "heading_collapsed": true
   },
   "source": [
    "### Performance of Player Groups on 3 Different Surfaces"
   ]
  },
  {
   "cell_type": "code",
   "execution_count": 6,
   "metadata": {
    "ExecuteTime": {
     "end_time": "2020-05-23T11:29:10.775437Z",
     "start_time": "2020-05-23T11:29:10.392506Z"
    },
    "hidden": true
   },
   "outputs": [],
   "source": [
    "# Hard court statistics per cluster group\n",
    "hard_df = df[df.surface == 'Hard']\n",
    "val_count_group_hard_group0 = hard_df[hard_df.group == 1.0]['winner'].value_counts()\n",
    "val_count_group_hard_group1 = hard_df[hard_df.group == 0.0]['winner'].value_counts()\n",
    "\n",
    "# Clay court statistics per cluster group\n",
    "clay_df = df[df.surface == 'Clay']\n",
    "val_count_group_clay_group0 = clay_df[clay_df.group == 0.0]['winner'].value_counts()\n",
    "val_count_group_clay_group1 = clay_df[clay_df.group == 1.0]['winner'].value_counts()\n",
    "\n",
    "# Grass court statistics per cluster group\n",
    "grass_df = df[df.surface == 'Grass']\n",
    "val_count_group_grass_group0 = grass_df[grass_df.group == 0.0]['winner'].value_counts()\n",
    "val_count_group_grass_group1 = grass_df[grass_df.group == 1.0]['winner'].value_counts()"
   ]
  },
  {
   "cell_type": "code",
   "execution_count": 7,
   "metadata": {
    "ExecuteTime": {
     "end_time": "2020-05-23T11:29:10.936347Z",
     "start_time": "2020-05-23T11:29:10.777436Z"
    },
    "hidden": true
   },
   "outputs": [
    {
     "name": "stdout",
     "output_type": "stream",
     "text": [
      "Average base win rate on each surface by each player group \n",
      " Group0 = Players with a balanced service-return game \n",
      " Group1 = Players with a service-dominant game\n"
     ]
    },
    {
     "data": {
      "text/html": [
       "<div>\n",
       "<style scoped>\n",
       "    .dataframe tbody tr th:only-of-type {\n",
       "        vertical-align: middle;\n",
       "    }\n",
       "\n",
       "    .dataframe tbody tr th {\n",
       "        vertical-align: top;\n",
       "    }\n",
       "\n",
       "    .dataframe thead th {\n",
       "        text-align: right;\n",
       "    }\n",
       "</style>\n",
       "<table border=\"1\" class=\"dataframe\">\n",
       "  <thead>\n",
       "    <tr style=\"text-align: right;\">\n",
       "      <th></th>\n",
       "      <th>player_group</th>\n",
       "      <th>clay</th>\n",
       "      <th>hard</th>\n",
       "      <th>grass</th>\n",
       "    </tr>\n",
       "  </thead>\n",
       "  <tbody>\n",
       "    <tr>\n",
       "      <td>0</td>\n",
       "      <td>group0</td>\n",
       "      <td>0.547076</td>\n",
       "      <td>0.430495</td>\n",
       "      <td>0.537412</td>\n",
       "    </tr>\n",
       "    <tr>\n",
       "      <td>1</td>\n",
       "      <td>group1</td>\n",
       "      <td>0.400811</td>\n",
       "      <td>0.541592</td>\n",
       "      <td>0.451095</td>\n",
       "    </tr>\n",
       "  </tbody>\n",
       "</table>\n",
       "</div>"
      ],
      "text/plain": [
       "  player_group      clay      hard     grass\n",
       "0       group0  0.547076  0.430495  0.537412\n",
       "1       group1  0.400811  0.541592  0.451095"
      ]
     },
     "execution_count": 7,
     "metadata": {},
     "output_type": "execute_result"
    }
   ],
   "source": [
    "# Base win rate per player group per surface\n",
    "\n",
    "base_win_rate_per_surface = pd.DataFrame(columns = ['player_group', 'clay', 'hard', 'grass'])\n",
    "\n",
    "base_win_rate_per_surface = base_win_rate_per_surface.append(pd.Series(), ignore_index=True)\n",
    "base_win_rate_per_surface = base_win_rate_per_surface.append(pd.Series(), ignore_index=True)\n",
    "base_win_rate_per_surface['player_group'] = ['group0', 'group1']\n",
    "\n",
    "base_win_rate_per_surface['hard'] = [val_count_group_hard_group0.loc[1.0] / val_count_group_hard_group0.sum(),\n",
    "                                     val_count_group_hard_group1.loc[1.0] / val_count_group_hard_group1.sum()]\n",
    "\n",
    "base_win_rate_per_surface['clay'] = [val_count_group_clay_group0.loc[1.0] / val_count_group_clay_group0.sum(),\n",
    "                                     val_count_group_clay_group1.loc[1.0] / val_count_group_clay_group1.sum()]\n",
    "\n",
    "base_win_rate_per_surface['grass'] = [val_count_group_grass_group0.loc[1.0] / val_count_group_grass_group0.sum(),\n",
    "                                     val_count_group_grass_group1.loc[1.0] / val_count_group_grass_group1.sum()]\n",
    "\n",
    "print(\"Average base win rate on each surface by each player group \\n \\\n",
    "Group0 = Players with a balanced service-return game \\n \\\n",
    "Group1 = Players with a service-dominant game\")\n",
    "\n",
    "base_win_rate_per_surface"
   ]
  },
  {
   "cell_type": "markdown",
   "metadata": {
    "hidden": true
   },
   "source": [
    "The result shown above is consistent:\n",
    "\n",
    "Clay courts are played the slowest, which reduces the effectiveness of service-dominant players; Group 1 players (Service-dominant players) perform the worst on clay surfaces.\n",
    "\n",
    "Hard court plays faster than clay but slower than grass, which supposedly is the most balanced court available, hence a balanced service-return game is required to excel on this surface; Evidently, Group 0 players (Balanced players) perform the best on hard surfaces. \n",
    "\n",
    "Grass court is the fastest surface available on tour, hence it heavily benefits service-dominant players; As shown in the result, Group 1 players has the highest base win rate of any combination, with a 53.4 % chance of winning a match on grass courts, significantly higher than their performance on clay and hard courts, which both are more likely to result in losses, with only 47.9 % chance of winning a match on clay court and 49.6 % on hard court."
   ]
  },
  {
   "cell_type": "markdown",
   "metadata": {},
   "source": [
    "### Service & Return Performance Required to Win a Match"
   ]
  },
  {
   "cell_type": "code",
   "execution_count": 8,
   "metadata": {
    "ExecuteTime": {
     "end_time": "2020-05-23T11:30:59.521135Z",
     "start_time": "2020-05-23T11:30:59.423196Z"
    }
   },
   "outputs": [
    {
     "name": "stdout",
     "output_type": "stream",
     "text": [
      "Average service point % required to win:\n",
      "On a clay court match: 66.45 %.\n",
      "On a hard court match: 68.71 %.\n",
      "On a grass court match: 70.31 %.\n",
      "\n",
      "\n",
      "Average return point % required to win:\n",
      "On a clay court match: 45.3 %.\n",
      "On a hard court match: 42.73 %.\n",
      "On a grass court match: 40.69 %.\n"
     ]
    }
   ],
   "source": [
    "# Average Service Performance Required to Win A Match On Different Surfaces\n",
    "\n",
    "print(\"Average service point % required to win:\")\n",
    "\n",
    "print(f\"On a clay court match: {round(clay_df[clay_df['winner'] == 1.0]['service_points_won_%'].mean() * 100,2)} %.\")\n",
    "\n",
    "print(f\"On a hard court match: {round(hard_df[hard_df['winner'] == 1.0]['service_points_won_%'].mean() * 100,2)} %.\")\n",
    "\n",
    "print(f\"On a grass court match: {round(grass_df[grass_df['winner'] == 1.0]['service_points_won_%'].mean() * 100,2)} %.\")\n",
    "\n",
    "print(\"\\n\")\n",
    "      \n",
    "# Average Return Performance Required to Win A Match On Different Surfaces\n",
    "\n",
    "print(\"Average return point % required to win:\")\n",
    "\n",
    "print(f\"On a clay court match: {round(clay_df[clay_df['winner'] == 1.0]['return_points_won_%'].mean() * 100,2)} %.\")\n",
    "\n",
    "print(f\"On a hard court match: {round(hard_df[hard_df['winner'] == 1.0]['return_points_won_%'].mean() * 100,2)} %.\")\n",
    "\n",
    "print(f\"On a grass court match: {round(grass_df[grass_df['winner'] == 1.0]['return_points_won_%'].mean() * 100,2)} %.\")"
   ]
  },
  {
   "cell_type": "markdown",
   "metadata": {},
   "source": [
    "### Break Points"
   ]
  },
  {
   "cell_type": "code",
   "execution_count": 19,
   "metadata": {
    "ExecuteTime": {
     "end_time": "2020-05-22T08:33:03.966572Z",
     "start_time": "2020-05-22T08:33:03.857647Z"
    }
   },
   "outputs": [
    {
     "name": "stdout",
     "output_type": "stream",
     "text": [
      "Number of players winning the match without having any break point chance: 0\n",
      "\n",
      "Average break points required to win a match:\n",
      "On All Courts: 3.95\n",
      "On Clay Courts: 4.34\n",
      "On Hard Courts: 3.81\n",
      "On Grass Courts: 3.73\n"
     ]
    }
   ],
   "source": [
    "print(f\"Number of players winning the match without having any break point chance: \\\n",
    "{df[df['any_break_points_chance?'] == 0.0]['winner'].value_counts().sum() - df[df['any_break_points_chance?'] == 0.0]['winner'].value_counts().loc[0.0]}\")\n",
    "\n",
    "print(\"\")\n",
    "print(\"Average break points required to win a match:\")\n",
    "print(f\"On All Courts: {round(df[df['winner'] == 1.0]['break_points_converted'].mean(), 2)}\")\n",
    "print(f\"On Clay Courts: {round(clay_df[clay_df['winner'] == 1.0]['break_points_converted'].mean(), 2)}\")\n",
    "print(f\"On Hard Courts: {round(hard_df[hard_df['winner'] == 1.0]['break_points_converted'].mean(), 2)}\")\n",
    "print(f\"On Grass Courts: {round(grass_df[grass_df['winner'] == 1.0]['break_points_converted'].mean(), 2)}\")"
   ]
  },
  {
   "cell_type": "markdown",
   "metadata": {},
   "source": [
    "### Winning a Match with Total Point Deficit"
   ]
  },
  {
   "cell_type": "code",
   "execution_count": 25,
   "metadata": {
    "ExecuteTime": {
     "end_time": "2020-05-22T08:45:24.642896Z",
     "start_time": "2020-05-22T08:45:24.523966Z"
    }
   },
   "outputs": [
    {
     "name": "stdout",
     "output_type": "stream",
     "text": [
      "Total matches included in dataset: 92158\n",
      "\n",
      "Total winners winning a match with less points won than opponent: 4218\n",
      "\n",
      "Percentage of winner with a total point deficit by surface:\n",
      "\n",
      "All Courts: 4.58 %\n",
      "Clay: 4.44 %\n",
      "Hard: 4.58 %\n",
      "Glass: 4.9 %\n"
     ]
    }
   ],
   "source": [
    "winner_df = df[df['winner'] == 1.0]\n",
    "\n",
    "clay_winner_df = clay_df[clay_df['winner'] == 1.0]\n",
    "hard_winner_df = hard_df[hard_df['winner'] == 1.0]\n",
    "grass_winner_df = grass_df[grass_df['winner'] == 1.0]\n",
    "\n",
    "print(f\"Total matches included in dataset: {winner_df.shape[0]}\")\n",
    "print(\"\")\n",
    "print(f\"Total winners winning a match with less points won than opponent: {winner_df[winner_df['total_points_won_%'] < 0.5].shape[0]}\")\n",
    "print(\"\")\n",
    "print(f\"Percentage of winner with a total point deficit by surface:\")\n",
    "print(\"\")\n",
    "print(f\"All Courts: {round(winner_df[winner_df['total_points_won_%'] < 0.5].shape[0] / winner_df.shape[0] * 100, 2)} %\")\n",
    "print(f\"Clay: {round(clay_winner_df[clay_winner_df['total_points_won_%'] < 0.5].shape[0] / clay_winner_df.shape[0] * 100, 2)} %\")\n",
    "print(f\"Hard: {round(hard_winner_df[hard_winner_df['total_points_won_%'] < 0.5].shape[0] / hard_winner_df.shape[0] * 100, 2)} %\")   \n",
    "print(f\"Glass: {round(grass_winner_df[grass_winner_df['total_points_won_%'] < 0.5].shape[0] / grass_winner_df.shape[0] * 100, 2)} %\")      "
   ]
  },
  {
   "cell_type": "markdown",
   "metadata": {
    "heading_collapsed": true
   },
   "source": [
    "## Classification"
   ]
  },
  {
   "cell_type": "markdown",
   "metadata": {
    "hidden": true
   },
   "source": [
    "After conducting feature importance analysis, which includes data cleaning and feature reduction using multicollinearity and feature importance via Decision Trees, we arrive at a dataset ready for training classification models."
   ]
  },
  {
   "cell_type": "code",
   "execution_count": 26,
   "metadata": {
    "ExecuteTime": {
     "end_time": "2020-05-22T09:23:09.203796Z",
     "start_time": "2020-05-22T09:23:08.583566Z"
    },
    "hidden": true
   },
   "outputs": [],
   "source": [
    "# Read CSV\n",
    "df = pd.read_csv('index_csv/merged_df_v1.1.csv')"
   ]
  },
  {
   "cell_type": "code",
   "execution_count": 27,
   "metadata": {
    "ExecuteTime": {
     "end_time": "2020-05-22T09:23:17.898304Z",
     "start_time": "2020-05-22T09:23:17.892323Z"
    },
    "hidden": true
   },
   "outputs": [],
   "source": [
    "# Define features for 2 different analysis\n",
    "improvable_serve_stats = ['first_serves_in_%', 'first_serves_points_won_%', \n",
    "                          'second_serves_points_won_%', 'break_point_save_%']\n",
    "\n",
    "improvable_return_stats = ['first_serves_return_points_won_%', 'second_serves_return_points_won_%', \n",
    "                           'break_point_convert_%']\n",
    "\n",
    "improvable_stats = improvable_serve_stats + improvable_return_stats\n",
    "\n",
    "match_analysis = improvable_stats + \\\n",
    "                ['total_return_points_played_%', 'diff_in_first_serves_in_%',\n",
    "                 'break_points_return_total']"
   ]
  },
  {
   "cell_type": "markdown",
   "metadata": {
    "heading_collapsed": true,
    "hidden": true
   },
   "source": [
    "### Match Analysis Model"
   ]
  },
  {
   "cell_type": "markdown",
   "metadata": {
    "hidden": true
   },
   "source": [
    "After optimizing 5 different classification models, the results are compared below."
   ]
  },
  {
   "cell_type": "markdown",
   "metadata": {
    "hidden": true
   },
   "source": [
    "|        Model        | Train AUC | Validation AUC |\n",
    "|:-------------------:|:---------:|:--------------:|\n",
    "| Logistic Regression |   73.50   |      73.66     |\n",
    "|    Decision Tree    |   96.95   |      90.45     |\n",
    "|    Random Forest    |   97.66   |      91.64     |\n",
    "|       AdaBoost      |   92.53   |      92.60     |\n",
    "|       XGBoost       |   92.88   |      92.49     |\n",
    "\n",
    "__All models compared above only uses 6 features.__\n",
    "\n",
    "__AdaBoost was selected as it optimizes both performance and robustness between different data points.__\n",
    "\n",
    "The final analysis model setups and validation on test data are detailed in the section below."
   ]
  },
  {
   "cell_type": "markdown",
   "metadata": {
    "heading_collapsed": true,
    "hidden": true
   },
   "source": [
    "#### Final Analysis Model"
   ]
  },
  {
   "cell_type": "code",
   "execution_count": 28,
   "metadata": {
    "ExecuteTime": {
     "end_time": "2020-05-22T09:23:39.258255Z",
     "start_time": "2020-05-22T09:23:39.020033Z"
    },
    "hidden": true,
    "scrolled": false
   },
   "outputs": [
    {
     "data": {
      "text/plain": [
       "array([[0.49423248, 0.66470588, 0.42105263, ..., 0.3218921 , 0.48750794,\n",
       "        0.14705882],\n",
       "       [0.12207358, 0.81314879, 0.71428571, ..., 0.54434334, 0.24925892,\n",
       "        0.17647059],\n",
       "       [0.38618926, 0.88235294, 0.625     , ..., 0.61374822, 0.48309171,\n",
       "        0.20588235],\n",
       "       ...,\n",
       "       [0.39130435, 0.77941176, 0.71428571, ..., 0.64912059, 0.58249969,\n",
       "        0.26470588],\n",
       "       [0.61277174, 0.52941176, 0.21052632, ..., 0.32213487, 0.40368851,\n",
       "        0.02941176],\n",
       "       [0.5256917 , 0.81848739, 0.45      , ..., 0.57849867, 0.51562501,\n",
       "        0.29411765]])"
      ]
     },
     "execution_count": 28,
     "metadata": {},
     "output_type": "execute_result"
    }
   ],
   "source": [
    "# Define independent and dependent variable\n",
    "y = df['winner']\n",
    "X = df[match_analysis]\n",
    "\n",
    "# 80:20 Train Test Split\n",
    "X_train, X_test, y_train, y_test = train_test_split(X,\n",
    "                                                    y,\n",
    "                                                    test_size=0.2,\n",
    "                                                    random_state=42\n",
    "                                                   )\n",
    "\n",
    "# 80:20 Train Validation Split\n",
    "X_train, X_validate, y_train, y_validate = train_test_split(X_train,\n",
    "                                                            y_train,\n",
    "                                                            test_size=0.2,\n",
    "                                                            random_state=42\n",
    "                                                            )\n",
    "\n",
    "# Initialising K-Folds\n",
    "kfold = KFold(n_splits=5,\n",
    "              random_state=42,\n",
    "              shuffle=True\n",
    "             )\n",
    "\n",
    "# Re-index y_validate, y_test\n",
    "y_validate.reset_index(drop = True, inplace = True)\n",
    "y_test.reset_index(drop = True, inplace = True)\n",
    "\n",
    "# Apply MinMaxScaler on Train, Validate, Test Data\n",
    "scaler = MinMaxScaler()\n",
    "scaler.fit_transform(X_train)\n",
    "scaler.transform(X_validate)\n",
    "scaler.transform(X_test)"
   ]
  },
  {
   "cell_type": "code",
   "execution_count": 29,
   "metadata": {
    "ExecuteTime": {
     "end_time": "2020-05-22T09:31:50.412932Z",
     "start_time": "2020-05-22T09:31:50.390948Z"
    },
    "hidden": true
   },
   "outputs": [],
   "source": [
    "to_drop = ['first_serves_in_%', 'second_serves_return_points_won_%',\n",
    "          'total_return_points_played_%', 'diff_in_first_serves_in_%']\n",
    "\n",
    "X_train.drop(to_drop, axis = 1, inplace = True)\n",
    "X_validate.drop(to_drop, axis = 1, inplace = True)\n",
    "X_test.drop(to_drop, axis = 1, inplace = True)"
   ]
  },
  {
   "cell_type": "code",
   "execution_count": 30,
   "metadata": {
    "ExecuteTime": {
     "end_time": "2020-05-22T09:33:37.394184Z",
     "start_time": "2020-05-22T09:33:33.485216Z"
    },
    "hidden": true
   },
   "outputs": [
    {
     "data": {
      "text/plain": [
       "AdaBoostClassifier(algorithm='SAMME.R', base_estimator=None, learning_rate=1.0,\n",
       "                   n_estimators=50, random_state=None)"
      ]
     },
     "execution_count": 30,
     "metadata": {},
     "output_type": "execute_result"
    }
   ],
   "source": [
    "ada_clf = AdaBoostClassifier()\n",
    "\n",
    "ada_clf.fit(X_train, y_train)"
   ]
  },
  {
   "cell_type": "code",
   "execution_count": 31,
   "metadata": {
    "ExecuteTime": {
     "end_time": "2020-05-22T09:34:22.219874Z",
     "start_time": "2020-05-22T09:33:41.393576Z"
    },
    "hidden": true
   },
   "outputs": [
    {
     "data": {
      "text/plain": [
       "GridSearchCV(cv=KFold(n_splits=5, random_state=42, shuffle=True),\n",
       "             error_score='raise-deprecating',\n",
       "             estimator=AdaBoostClassifier(algorithm='SAMME.R',\n",
       "                                          base_estimator=None,\n",
       "                                          learning_rate=1.0, n_estimators=50,\n",
       "                                          random_state=None),\n",
       "             iid='warn', n_jobs=-1,\n",
       "             param_grid={'learning_rate': [0.3], 'n_estimators': [200]},\n",
       "             pre_dispatch='2*n_jobs', refit=True, return_train_score=False,\n",
       "             scoring='roc_auc', verbose=0)"
      ]
     },
     "execution_count": 31,
     "metadata": {},
     "output_type": "execute_result"
    }
   ],
   "source": [
    "param_grid = {\n",
    "    'learning_rate': [0.3],\n",
    "    'n_estimators': [200],\n",
    "}\n",
    "\n",
    "grid_clf = GridSearchCV(ada_clf, param_grid, scoring='roc_auc', cv=kfold, n_jobs=-1)\n",
    "grid_clf.fit(X_train, y_train)"
   ]
  },
  {
   "cell_type": "code",
   "execution_count": 32,
   "metadata": {
    "ExecuteTime": {
     "end_time": "2020-05-22T09:34:26.479819Z",
     "start_time": "2020-05-22T09:34:22.221873Z"
    },
    "hidden": true
   },
   "outputs": [
    {
     "name": "stdout",
     "output_type": "stream",
     "text": [
      "Training ROC_AUC: 92.53%\n",
      "Validation ROC_AUC: 92.6%\n"
     ]
    }
   ],
   "source": [
    "# Predict for Train & Validation Data\n",
    "training_preds = grid_clf.predict(X_train)\n",
    "validate_preds = grid_clf.predict(X_validate)\n",
    "\n",
    "# Calculate Accuracy for Train & Validation Data\n",
    "training_roc_auc = roc_auc_score(y_train, training_preds)\n",
    "validate_roc_auc = roc_auc_score(y_validate, validate_preds)\n",
    "\n",
    "print('Training ROC_AUC: {:.4}%'.format(training_roc_auc * 100))\n",
    "print('Validation ROC_AUC: {:.4}%'.format(validate_roc_auc * 100))"
   ]
  },
  {
   "cell_type": "code",
   "execution_count": 33,
   "metadata": {
    "ExecuteTime": {
     "end_time": "2020-05-22T09:34:27.307852Z",
     "start_time": "2020-05-22T09:34:26.480920Z"
    },
    "hidden": true
   },
   "outputs": [
    {
     "name": "stdout",
     "output_type": "stream",
     "text": [
      "Test ROC_AUC: 92.63%\n"
     ]
    }
   ],
   "source": [
    "test_preds = grid_clf.predict(X_test)\n",
    "test_roc_auc = roc_auc_score(y_test, test_preds)\n",
    "\n",
    "print('Test ROC_AUC: {:.4}%'.format(test_roc_auc * 100))"
   ]
  },
  {
   "cell_type": "code",
   "execution_count": 34,
   "metadata": {
    "ExecuteTime": {
     "end_time": "2020-05-22T09:34:28.168913Z",
     "start_time": "2020-05-22T09:34:27.309851Z"
    },
    "hidden": true
   },
   "outputs": [
    {
     "data": {
      "text/plain": [
       "array([[16970,  1478],\n",
       "       [ 1240, 17176]], dtype=int64)"
      ]
     },
     "execution_count": 34,
     "metadata": {},
     "output_type": "execute_result"
    }
   ],
   "source": [
    "predictions = grid_clf.predict(X_test)\n",
    "\n",
    "confusion_matrix(y_test, predictions)"
   ]
  },
  {
   "cell_type": "markdown",
   "metadata": {
    "heading_collapsed": true,
    "hidden": true
   },
   "source": [
    "### Pre-Match Prediction Model"
   ]
  },
  {
   "cell_type": "markdown",
   "metadata": {
    "hidden": true
   },
   "source": [
    "After optimizing 5 different classification models, the results are compared below."
   ]
  },
  {
   "cell_type": "markdown",
   "metadata": {
    "hidden": true
   },
   "source": [
    "|        Model        | Train AUC | Validation AUC |\n",
    "|:-------------------:|:---------:|:--------------:|\n",
    "| Logistic Regression |   66.97   |      67.32     |\n",
    "|    Decision Tree    |   84.95   |      76.68     |\n",
    "|    Random Forest    |   84.93   |      76.75     |\n",
    "|       AdaBoost      |   76.47   |      76.54     |\n",
    "|       XGBoost       |   76.89   |      76.73     |\n",
    "\n",
    "__All models compared above only uses 2 features.__\n",
    "\n",
    "__XGBoost was selected as it optimizes both performance and robustness between different data points.__\n",
    "\n",
    "The final prediction model setups and validation on test data are detailed in the section below."
   ]
  },
  {
   "cell_type": "markdown",
   "metadata": {
    "heading_collapsed": true,
    "hidden": true
   },
   "source": [
    "#### Final Prediction Model"
   ]
  },
  {
   "cell_type": "code",
   "execution_count": 35,
   "metadata": {
    "ExecuteTime": {
     "end_time": "2020-05-22T09:35:58.364064Z",
     "start_time": "2020-05-22T09:35:58.269122Z"
    },
    "hidden": true
   },
   "outputs": [
    {
     "data": {
      "text/plain": [
       "array([[0.49423248, 0.66470588, 0.42105263, ..., 0.2877193 , 0.33333333,\n",
       "        0.05      ],\n",
       "       [0.12207358, 0.81314879, 0.71428571, ..., 0.4495614 , 0.54545455,\n",
       "        0.0625    ],\n",
       "       [0.38618926, 0.88235294, 0.625     , ..., 0.33909774, 0.65517241,\n",
       "        0.07142857],\n",
       "       ...,\n",
       "       [0.39130435, 0.77941176, 0.71428571, ..., 0.29048583, 0.70588235,\n",
       "        0.05555556],\n",
       "       [0.61277174, 0.52941176, 0.21052632, ..., 0.26043557, 0.4       ,\n",
       "        0.125     ],\n",
       "       [0.5256917 , 0.81848739, 0.45      , ..., 0.43157895, 0.56      ,\n",
       "        0.05      ]])"
      ]
     },
     "execution_count": 35,
     "metadata": {},
     "output_type": "execute_result"
    }
   ],
   "source": [
    "# Define independent and dependent variable\n",
    "y = df['winner']\n",
    "X = df[improvable_stats]\n",
    "\n",
    "# 80:20 Train Test Split\n",
    "X_train, X_test, y_train, y_test = train_test_split(X,\n",
    "                                                    y,\n",
    "                                                    test_size=0.2,\n",
    "                                                    random_state=42\n",
    "                                                   )\n",
    "\n",
    "# 80:20 Train Validation Split\n",
    "X_train, X_validate, y_train, y_validate = train_test_split(X_train,\n",
    "                                                            y_train,\n",
    "                                                            test_size=0.2,\n",
    "                                                            random_state=42\n",
    "                                                            )\n",
    "\n",
    "# Initialising K-Folds\n",
    "kfold = KFold(n_splits=5,\n",
    "              random_state=42,\n",
    "              shuffle=True\n",
    "             )\n",
    "\n",
    "# Re-index y_validate, y_test\n",
    "y_validate.reset_index(drop = True, inplace = True)\n",
    "y_test.reset_index(drop = True, inplace = True)\n",
    "\n",
    "# Apply MinMaxScaler on Train, Validate, Test Data\n",
    "scaler = MinMaxScaler()\n",
    "scaler.fit_transform(X_train)\n",
    "scaler.transform(X_validate)\n",
    "scaler.transform(X_test)"
   ]
  },
  {
   "cell_type": "code",
   "execution_count": 36,
   "metadata": {
    "ExecuteTime": {
     "end_time": "2020-05-22T09:35:58.913230Z",
     "start_time": "2020-05-22T09:35:58.900220Z"
    },
    "hidden": true
   },
   "outputs": [],
   "source": [
    "to_drop = ['first_serves_in_%', 'first_serves_points_won_%', 'first_serves_return_points_won_%', 'break_point_save_%',\n",
    "           'second_serves_points_won_%']\n",
    "\n",
    "X_train.drop(to_drop, axis = 1, inplace = True)\n",
    "X_validate.drop(to_drop, axis = 1, inplace = True)\n",
    "X_test.drop(to_drop, axis = 1, inplace = True)"
   ]
  },
  {
   "cell_type": "code",
   "execution_count": 37,
   "metadata": {
    "ExecuteTime": {
     "end_time": "2020-05-22T09:36:14.183383Z",
     "start_time": "2020-05-22T09:36:11.435972Z"
    },
    "hidden": true
   },
   "outputs": [
    {
     "data": {
      "text/plain": [
       "XGBClassifier(base_score=0.5, booster='gbtree', colsample_bylevel=1,\n",
       "              colsample_bynode=1, colsample_bytree=1, gamma=0,\n",
       "              learning_rate=0.1, max_delta_step=0, max_depth=3,\n",
       "              min_child_weight=1, missing=None, n_estimators=100, n_jobs=1,\n",
       "              nthread=None, objective='binary:logistic', random_state=0,\n",
       "              reg_alpha=0, reg_lambda=1, scale_pos_weight=1, seed=None,\n",
       "              silent=None, subsample=1, verbosity=1)"
      ]
     },
     "execution_count": 37,
     "metadata": {},
     "output_type": "execute_result"
    }
   ],
   "source": [
    "# Instantiate XGBoost & Fit Train Data\n",
    "clf = XGBClassifier()\n",
    "clf.fit(X_train, y_train)"
   ]
  },
  {
   "cell_type": "code",
   "execution_count": 38,
   "metadata": {
    "ExecuteTime": {
     "end_time": "2020-05-22T09:36:49.287272Z",
     "start_time": "2020-05-22T09:36:33.323314Z"
    },
    "hidden": true
   },
   "outputs": [],
   "source": [
    "param_grid = {\n",
    "    'learning_rate': [0.2],\n",
    "    'max_depth': [4],\n",
    "    'min_child_weight': [0.5],\n",
    "    'subsample': [1.0],\n",
    "    'n_estimators': [100],\n",
    "}\n",
    "\n",
    "grid_clf = GridSearchCV(clf, param_grid, scoring='roc_auc', cv=kfold, n_jobs=-1)\n",
    "grid_clf.fit(X_train, y_train)\n",
    "\n",
    "best_parameters = grid_clf.best_params_"
   ]
  },
  {
   "cell_type": "code",
   "execution_count": 39,
   "metadata": {
    "ExecuteTime": {
     "end_time": "2020-05-22T09:36:49.763827Z",
     "start_time": "2020-05-22T09:36:49.289258Z"
    },
    "hidden": true
   },
   "outputs": [
    {
     "name": "stdout",
     "output_type": "stream",
     "text": [
      "Training ROC_AUC: 76.89%\n",
      "Validation ROC_AUC: 76.73%\n"
     ]
    }
   ],
   "source": [
    "training_preds = grid_clf.predict(X_train)\n",
    "validate_preds = grid_clf.predict(X_validate)\n",
    "\n",
    "training_roc_auc = roc_auc_score(y_train, training_preds)\n",
    "validate_roc_auc = roc_auc_score(y_validate, validate_preds)\n",
    "\n",
    "print('Training ROC_AUC: {:.4}%'.format(training_roc_auc * 100))\n",
    "print('Validation ROC_AUC: {:.4}%'.format(validate_roc_auc * 100))"
   ]
  },
  {
   "cell_type": "code",
   "execution_count": 40,
   "metadata": {
    "ExecuteTime": {
     "end_time": "2020-05-22T09:36:51.606723Z",
     "start_time": "2020-05-22T09:36:51.486793Z"
    },
    "hidden": true
   },
   "outputs": [
    {
     "name": "stdout",
     "output_type": "stream",
     "text": [
      "Test ROC_AUC: 76.83%\n"
     ]
    }
   ],
   "source": [
    "test_preds = grid_clf.predict(X_test)\n",
    "test_roc_auc = roc_auc_score(y_test, test_preds)\n",
    "\n",
    "print('Test ROC_AUC: {:.4}%'.format(test_roc_auc * 100))"
   ]
  },
  {
   "cell_type": "code",
   "execution_count": 41,
   "metadata": {
    "ExecuteTime": {
     "end_time": "2020-05-22T09:36:58.632838Z",
     "start_time": "2020-05-22T09:36:58.482925Z"
    },
    "hidden": true
   },
   "outputs": [
    {
     "data": {
      "text/plain": [
       "array([[13345,  5103],\n",
       "       [ 3440, 14976]], dtype=int64)"
      ]
     },
     "execution_count": 41,
     "metadata": {},
     "output_type": "execute_result"
    }
   ],
   "source": [
    "predictions = grid_clf.predict(X_test)\n",
    "\n",
    "confusion_matrix(y_test, predictions)"
   ]
  },
  {
   "cell_type": "markdown",
   "metadata": {
    "heading_collapsed": true
   },
   "source": [
    "## Case Study"
   ]
  },
  {
   "cell_type": "markdown",
   "metadata": {
    "ExecuteTime": {
     "end_time": "2020-05-14T15:40:46.324197Z",
     "start_time": "2020-05-14T15:40:46.309205Z"
    },
    "hidden": true
   },
   "source": [
    "We will conduct the case study in 2 parts, the first part is the pre-match prediction and the second part is the post-match analysis.\n",
    "\n",
    "__Djokovic beats Federer in Wimbledon 2019 Final over 5 sets in 4 hours and 57 minutes__\n",
    "\n",
    "__Final Score: Djokovic 7-6(5) 1-6 7-6(4) 4-6 13-12(3) Federer__\n",
    "\n",
    "--------------------------------------------------------------------------------------------------------------\n",
    "\n",
    "The pre-match prediction model uses only 2 metrics: \n",
    "* __second_serves_return_points_won_%__\n",
    "* __break_point_convert_%__\n",
    "\n",
    "For this case study, we will use the following pre-match statistics available to us:\n",
    "* __Tournament Average across first 6 matches before final__\n",
    "* __YTD (2019) Player Statistics__\n",
    "* __Previous H2H Accumulated Statistics prior to the match__\n",
    "\n",
    "--------------------------------------------------------------------------------------------------------------\n",
    "\n",
    "The match analysis model uses 6 metrics:\n",
    "* __first_serves_points_won_%__\n",
    "* __second_serves_points_won_%__\n",
    "* __break_point_save_%__\n",
    "* __first_serves_return_points_won_%__\n",
    "* __break_point_convert_%__\n",
    "* __break_points_return_total__\n",
    "\n",
    "For this case study, we will use the following match statistics available to us:\n",
    "* __Full Match Statistics__\n",
    "* __Individual Sets Statistics__\n",
    "* __Cumulative Win Probability over 5 sets__"
   ]
  },
  {
   "cell_type": "markdown",
   "metadata": {
    "heading_collapsed": true,
    "hidden": true
   },
   "source": [
    "### Extract Trained Models "
   ]
  },
  {
   "cell_type": "code",
   "execution_count": null,
   "metadata": {
    "ExecuteTime": {
     "start_time": "2020-05-15T13:59:31.721Z"
    },
    "hidden": true
   },
   "outputs": [],
   "source": [
    "# Load the trained models\n",
    "prediction = joblib.load('prediction.pkl')  # for pre-match prediction\n",
    "\n",
    "analysis = joblib.load('analysis.pkl')      # for match analysis"
   ]
  },
  {
   "cell_type": "markdown",
   "metadata": {
    "heading_collapsed": true,
    "hidden": true
   },
   "source": [
    "### Data Preparation"
   ]
  },
  {
   "cell_type": "code",
   "execution_count": null,
   "metadata": {
    "ExecuteTime": {
     "start_time": "2020-05-15T13:59:53.071Z"
    },
    "hidden": true
   },
   "outputs": [],
   "source": [
    "# Load main dataset on matches\n",
    "df_match = pd.read_csv('index_csv/clean_df_v3.0.csv')"
   ]
  },
  {
   "cell_type": "code",
   "execution_count": null,
   "metadata": {
    "hidden": true
   },
   "outputs": [],
   "source": [
    "# Load case study file\n",
    "df_wim_2019_final = df_match[df_match['match_id'] == '2019-540-MS001-10-1-d643-f324']\n",
    "\n",
    "# Remove from matches data\n",
    "df_match = df_match[df_match['match_id'] != '2019-540-MS001-10-1-d643-f324']\n",
    "df_match.reset_index(drop = True, inplace = True)"
   ]
  },
  {
   "cell_type": "code",
   "execution_count": null,
   "metadata": {
    "hidden": true
   },
   "outputs": [],
   "source": [
    "# Define features required for each analysis\n",
    "pre_match = ['second_serves_return_points_won_%', 'break_point_convert_%']\n",
    "\n",
    "match_analysis = ['first_serves_points_won_%', 'second_serves_points_won_%', 'break_point_save_%',\n",
    "                  'first_serves_return_points_won_%', 'break_point_convert_%', 'break_points_return_total']"
   ]
  },
  {
   "cell_type": "markdown",
   "metadata": {
    "heading_collapsed": true,
    "hidden": true
   },
   "source": [
    "#### Tournament Performance"
   ]
  },
  {
   "cell_type": "markdown",
   "metadata": {
    "hidden": true
   },
   "source": [
    "Here we wil extract the 6 matches for both players, Novak Djokovic and Roger Federer, leading up to the final. We will calculate the performance of the 2 features required by the model from the first 6 matches, which would account for their form going into the final."
   ]
  },
  {
   "cell_type": "code",
   "execution_count": null,
   "metadata": {
    "ExecuteTime": {
     "end_time": "2020-05-17T14:15:36.468746Z",
     "start_time": "2020-05-17T14:15:36.328467Z"
    },
    "hidden": true
   },
   "outputs": [],
   "source": [
    "# Extract the 6 matches that both players played before final\n",
    "\n",
    "df_2019 = df_match[df_match['year'] == 2019]\n",
    "df_wim_2019 = df_2019[df_2019['tourney_slug'] == 'wimbledon']\n",
    "\n",
    "df_djokovic = df_wim_2019[df_wim_2019['slug'] == 'd643']\n",
    "df_federer = df_wim_2019[df_wim_2019['slug'] == 'f324']"
   ]
  },
  {
   "cell_type": "code",
   "execution_count": null,
   "metadata": {
    "hidden": true
   },
   "outputs": [],
   "source": [
    "# Extract raw stats required to compute statistics\n",
    "\n",
    "raw_stats = ['second_serve_return_won', 'second_serve_return_total',\n",
    "            'break_points_converted', 'break_points_return_total']\n",
    "\n",
    "df_djokovic = df_djokovic[raw_stats]\n",
    "df_federer = df_federer[raw_stats]"
   ]
  },
  {
   "cell_type": "code",
   "execution_count": null,
   "metadata": {
    "hidden": true
   },
   "outputs": [],
   "source": [
    "djokovic_1 = df_djokovic.sum()[0] / df_djokovic.sum()[1]\n",
    "djokovic_2 = df_djokovic.sum()[2] / df_djokovic.sum()[3]\n",
    "\n",
    "federer_1 = df_federer.sum()[0] / df_federer.sum()[1]\n",
    "federer_2 = df_federer.sum()[2] / df_federer.sum()[3]\n",
    "\n",
    "feature_1 = list([djokovic_1, federer_1])\n",
    "feature_2 = list([djokovic_2, federer_2])"
   ]
  },
  {
   "cell_type": "code",
   "execution_count": null,
   "metadata": {
    "hidden": true
   },
   "outputs": [],
   "source": [
    "tourney_average = pd.DataFrame(columns = pre_match)\n",
    "\n",
    "tourney_average['second_serves_return_points_won_%'] = feature_1\n",
    "tourney_average['break_point_convert_%'] = feature_2"
   ]
  },
  {
   "cell_type": "markdown",
   "metadata": {
    "heading_collapsed": true,
    "hidden": true
   },
   "source": [
    "#### YTD Player Statistics (01 Jan 2019 - 13 July 2019)"
   ]
  },
  {
   "cell_type": "markdown",
   "metadata": {
    "hidden": true
   },
   "source": [
    "YTD Player Statistics from __1/1/2019 - 13/07/2019__\n",
    "\n",
    "Wimbledon Final Date: __14/07/2019__\n",
    "\n",
    "Extracted from: \n",
    "- Djokovic: https://www.ultimatetennisstatistics.com/playerProfile?playerId=4920\n",
    "- Federer: https://www.ultimatetennisstatistics.com/playerProfile?playerId=3819"
   ]
  },
  {
   "cell_type": "code",
   "execution_count": null,
   "metadata": {
    "ExecuteTime": {
     "end_time": "2020-05-17T14:17:00.386950Z",
     "start_time": "2020-05-17T14:17:00.287005Z"
    },
    "hidden": true
   },
   "outputs": [],
   "source": [
    "feature_1 = [0.551, 0.503]\n",
    "feature_2 = [0.50, 0.396]\n",
    "\n",
    "ytd_average = pd.DataFrame(columns = pre_match)\n",
    "\n",
    "ytd_average['second_serves_return_points_won_%'] = feature_1\n",
    "ytd_average['break_point_convert_%'] = feature_2"
   ]
  },
  {
   "cell_type": "markdown",
   "metadata": {
    "heading_collapsed": true,
    "hidden": true
   },
   "source": [
    "#### Previous H2H Accumulated Statistics"
   ]
  },
  {
   "cell_type": "markdown",
   "metadata": {
    "hidden": true
   },
   "source": [
    "This section aims to account for both players' performance when they face each other in previous head-to-head matches prior to the match. This dataframe would capture the match dynamic to be expected in this match."
   ]
  },
  {
   "cell_type": "code",
   "execution_count": null,
   "metadata": {
    "hidden": true
   },
   "outputs": [],
   "source": [
    "df_djokovic = df_match[df_match['slug'] == 'd643']\n",
    "df_federer = df_match[df_match['slug'] == 'f324']\n",
    "\n",
    "df_djokovic.reset_index(drop = True, inplace = True)\n",
    "df_federer.reset_index(drop = True, inplace = True)"
   ]
  },
  {
   "cell_type": "code",
   "execution_count": null,
   "metadata": {
    "hidden": true
   },
   "outputs": [],
   "source": [
    "# Filter only djokovic-federer match\n",
    "for i in range(0,len(df_djokovic)):\n",
    "    if 'f324' in df_djokovic['match_id'][i]:\n",
    "        pass\n",
    "    else:\n",
    "        df_djokovic.drop(i, inplace = True)\n",
    "        \n",
    "# Filter only federer-djokovic match\n",
    "for i in range(0,len(df_federer)):\n",
    "    if 'd643' in df_federer['match_id'][i]:\n",
    "        pass\n",
    "    else:\n",
    "        df_federer.drop(i, inplace = True)\n",
    "        \n",
    "# Remove the only other match they played in 2019\n",
    "df_djokovic = df_djokovic[df_djokovic['match_id'] != '2019-605-MS016-1-10-f324-d643']\n",
    "df_federer = df_federer[df_federer['match_id'] != '2019-605-MS016-1-10-f324-d643']"
   ]
  },
  {
   "cell_type": "code",
   "execution_count": null,
   "metadata": {
    "hidden": true
   },
   "outputs": [],
   "source": [
    "# Extract raw stats required to compute statistics\n",
    "\n",
    "raw_stats = ['second_serve_return_won', 'second_serve_return_total',\n",
    "            'break_points_converted', 'break_points_return_total']\n",
    "\n",
    "df_djokovic = df_djokovic[raw_stats]\n",
    "df_federer = df_federer[raw_stats]"
   ]
  },
  {
   "cell_type": "code",
   "execution_count": null,
   "metadata": {
    "hidden": true
   },
   "outputs": [],
   "source": [
    "djokovic_1 = df_djokovic.sum()[0] / df_djokovic.sum()[1]\n",
    "djokovic_2 = df_djokovic.sum()[2] / df_djokovic.sum()[3]\n",
    "\n",
    "federer_1 = df_federer.sum()[0] / df_federer.sum()[1]\n",
    "federer_2 = df_federer.sum()[2] / df_federer.sum()[3]\n",
    "\n",
    "feature_1 = list([djokovic_1, federer_1])\n",
    "feature_2 = list([djokovic_2, federer_2])"
   ]
  },
  {
   "cell_type": "code",
   "execution_count": null,
   "metadata": {
    "hidden": true
   },
   "outputs": [],
   "source": [
    "h2h_average = pd.DataFrame(columns = pre_match)\n",
    "\n",
    "h2h_average['second_serves_return_points_won_%'] = feature_1\n",
    "h2h_average['break_point_convert_%'] = feature_2"
   ]
  },
  {
   "cell_type": "markdown",
   "metadata": {
    "heading_collapsed": true,
    "hidden": true
   },
   "source": [
    "#### Full Match Statistics"
   ]
  },
  {
   "cell_type": "markdown",
   "metadata": {
    "hidden": true
   },
   "source": [
    "This dataframe consists of 2 lines of data describing the player's individual full match statistics. Player 0 is Novak Djokovic and Player 1 is Roger Federer."
   ]
  },
  {
   "cell_type": "code",
   "execution_count": null,
   "metadata": {
    "hidden": true
   },
   "outputs": [],
   "source": [
    "df_full_match = df_wim_2019_final[match_analysis]"
   ]
  },
  {
   "cell_type": "markdown",
   "metadata": {
    "heading_collapsed": true,
    "hidden": true
   },
   "source": [
    "#### Individual Set Statistics"
   ]
  },
  {
   "cell_type": "markdown",
   "metadata": {
    "hidden": true
   },
   "source": [
    "This dataset aims to capture the performance of both players by individual set during the match. Each set is represented as a row."
   ]
  },
  {
   "cell_type": "code",
   "execution_count": null,
   "metadata": {
    "hidden": true
   },
   "outputs": [],
   "source": [
    "df_djokovic_individual_stats = pd.DataFrame(columns = match_analysis)\n",
    "\n",
    "df_djokovic_individual_stats['first_serves_points_won_%']        = [0.88, 0.27, 0.78, 0.80, 0.74]\n",
    "df_djokovic_individual_stats['second_serves_points_won_%']       = [0.52, 0.33, 0.69, 0.30, 0.43]\n",
    "df_djokovic_individual_stats['break_point_save_%']               = [1.00, 0.25, 1.00, 0.00, 0.60]\n",
    "df_djokovic_individual_stats['first_serves_return_points_won_%'] = [0.25, 0.00, 0.13, 0.24, 0.27]\n",
    "df_djokovic_individual_stats['break_point_convert_%']            = [0.00, 0.00, 0.00, 0.50, 0.33]\n",
    "df_djokovic_individual_stats['break_points_return_total']        = [0.00, 0.00, 0.00, 2.00, 6.00]\n",
    "\n",
    "df_federer_individual_stats = pd.DataFrame(columns = match_analysis)\n",
    "\n",
    "df_federer_individual_stats['first_serves_points_won_%']        = [0.75, 1.00, 0.88, 0.76, 0.73]\n",
    "df_federer_individual_stats['second_serves_points_won_%']       = [0.54, 0.33, 0.67, 0.54, 0.50]\n",
    "df_federer_individual_stats['break_point_save_%']               = [0.00, 0.00, 0.00, 0.50, 0.67]\n",
    "df_federer_individual_stats['first_serves_return_points_won_%'] = [0.12, 0.73, 0.22, 0.20, 0.26]\n",
    "df_federer_individual_stats['break_point_convert_%']            = [0.00, 0.75, 0.00, 1.00, 0.40]\n",
    "df_federer_individual_stats['break_points_return_total'] "
   ]
  },
  {
   "cell_type": "markdown",
   "metadata": {
    "heading_collapsed": true,
    "hidden": true
   },
   "source": [
    "#### Cumulative Over Set Statistics"
   ]
  },
  {
   "cell_type": "markdown",
   "metadata": {
    "hidden": true
   },
   "source": [
    "This section aims to capture the cumulative performance as the match progresses each set, each row will describe the cumulative statistics at the conclusion of each set."
   ]
  },
  {
   "cell_type": "code",
   "execution_count": null,
   "metadata": {
    "hidden": true
   },
   "outputs": [],
   "source": [
    "df_djokovic_cumulative_stats = pd.DataFrame(columns = match_analysis)\n",
    "\n",
    "df_djokovic_cumulative_stats['first_serves_points_won_%']        = [0.88, 0.694, 0.73, 0.7435, 0.743]\n",
    "df_djokovic_cumulative_stats['second_serves_points_won_%']       = [0.52, 0.466, 0.535, 0.4905, 0.47]\n",
    "df_djokovic_cumulative_stats['break_point_save_%']               = [1.00, 0.4, 0.5, 0.375, 0.46]\n",
    "df_djokovic_cumulative_stats['first_serves_return_points_won_%'] = [0.25, 0.189, 0.164, 0.179, 0.21]\n",
    "df_djokovic_cumulative_stats['break_point_convert_%']            = [0.00, 0.00, 0.00, 0.50, 0.375]\n",
    "df_djokovic_cumulative_stats['break_points_return_total']        = [0.00, 0.00, 0.00, 2.00, 8.00]\n",
    "\n",
    "df_federer_cumulative_stats = pd.DataFrame(columns = match_analysis)\n",
    "\n",
    "df_federer_cumulative_stats['first_serves_points_won_%']        = [0.75, 0.811, 0.836, 0.821, 0.79]\n",
    "df_federer_cumulative_stats['second_serves_points_won_%']       = [0.54, 0.455, 0.516, 0.523, 0.51]\n",
    "df_federer_cumulative_stats['break_point_save_%']               = [0.00, 0.00, 0.00, 0.50, 0.625]\n",
    "df_federer_cumulative_stats['first_serves_return_points_won_%'] = [0.12, 0.306, 0.27, 0.256, 0.26]\n",
    "df_federer_cumulative_stats['break_point_convert_%']            = [0.00, 0.6, 0.5, 0.625, 0.54]\n",
    "df_federer_cumulative_stats['break_points_return_total']"
   ]
  },
  {
   "cell_type": "markdown",
   "metadata": {
    "heading_collapsed": true,
    "hidden": true
   },
   "source": [
    "### Case Study "
   ]
  },
  {
   "cell_type": "markdown",
   "metadata": {
    "heading_collapsed": true,
    "hidden": true
   },
   "source": [
    "#### Prediction Model (XGBoost with Validation AUC: 76.73 %)"
   ]
  },
  {
   "cell_type": "markdown",
   "metadata": {
    "hidden": true
   },
   "source": [
    "As requested, we have prepared 3 sets of data for this case study:\n",
    "* <code> tourney_average </code> : This data describes both players' performance across first 6 matches leading up to the final\n",
    "* <code> ytd_average     </code> : This data describes both players' performance from the year 2019 up until the final\n",
    "* <code> h2h_average     </code> : This data describes both players' performance from all the past head-to-head matches\n",
    "\n",
    "\n",
    "* Player 0 = Novak Djokovic\n",
    "* Player 1 = Roger Federer"
   ]
  },
  {
   "cell_type": "markdown",
   "metadata": {
    "hidden": true
   },
   "source": [
    "First we look at the prediction on the tourney average:"
   ]
  },
  {
   "cell_type": "code",
   "execution_count": null,
   "metadata": {
    "hidden": true
   },
   "outputs": [],
   "source": [
    "prediction.predict(tourney_average)"
   ]
  },
  {
   "cell_type": "code",
   "execution_count": null,
   "metadata": {
    "hidden": true
   },
   "outputs": [],
   "source": [
    "prediction.predict_proba(tourney_average)"
   ]
  },
  {
   "cell_type": "markdown",
   "metadata": {
    "hidden": true
   },
   "source": [
    "As this is the accumulated statistics from their first 6 wins of the tournament, the .predict method becomes trivial as they are obviously expected to win with the statistics collected from their wins. \n",
    "\n",
    "However, more information can be obtained from the .predict_proba method as we can see who had played better during their first 6 matches before the final. As shown above, we can see Federer being more dominant in his wins, with his statistics describing a __77.31 %__ match win rate compared to Djokovic's __71.14 %__.\n",
    "\n",
    "This becomes more impressive when taken into account that Federer had also face harder opponents on his run to the final compared to Djokovic.\n",
    "\n",
    "__Paths To Final:__\n",
    "\n",
    "| Rounds |       Novak Djokovic       |      Roger Federer     |\n",
    "|:------:|:--------------------------:|:----------------------:|\n",
    "|   R1   |    Philipp Kohlschreiber   |      Lloyd Harris      |\n",
    "|   R2   |         Denis Kudla        |       Jay Clarke       |\n",
    "|   R3   |       Hubert Hurkacz       |   Lucas Pouille [27]   |\n",
    "|   R4   |         Ugo Humbert        | Matteo Berrettini [17] |\n",
    "|   QF   |      David Goffin [21]     |    Kei Nishikori [8]   |\n",
    "|   SF   | Roberto Bautista-Agut [23] |    Rafael Nadal [3]    |\n",
    "\n",
    "Federer had faced 4 seeded players and 2 top 10 players (including Rafael Nadal) while Djokovic had not faced any top 20 players before the final. \n",
    "\n",
    "Using this dataset as a prediction for the match would give Federer an edge of 2 to 4 % against Djokovic.\n",
    "\n",
    "Next, we look at the prediction based on their Year-to-Date statistics prior to this final."
   ]
  },
  {
   "cell_type": "code",
   "execution_count": null,
   "metadata": {
    "hidden": true
   },
   "outputs": [],
   "source": [
    "prediction.predict(ytd_average)"
   ]
  },
  {
   "cell_type": "code",
   "execution_count": null,
   "metadata": {
    "hidden": true
   },
   "outputs": [],
   "source": [
    "prediction.predict_proba(ytd_average)"
   ]
  },
  {
   "cell_type": "markdown",
   "metadata": {
    "hidden": true
   },
   "source": [
    "Prior to this match, Federer had accumulated 32 Wins and 4 Losses (88.89 %) in 2019 while Djokovic had accumulated 28 Wins and 6 Losses (82.35 %). With this information, the .predict method once again becomes trivial as they both had a successful season at 80 + % win rate. \n",
    "\n",
    "However, we can see some interesting figures when we look at the .predict_proba method. Though Federer had a more successful season with higher win rate, Djokovic actually had been more dominant with his game on-court throughout the year, his average match stats gives him a __67.03 %__ of winning any match while Federer had __55.12 %__, indicating less dominant wins in the year compared to Djokovic.\n",
    "\n",
    "Based on this dataset, we would expect Djokovic to win the final with an edge of 5-10 % over Federer.\n",
    "\n",
    "Finally, we look at their previous head-to-head records to better capture their contrasting playing style and the match dynamic when the two of them face each other."
   ]
  },
  {
   "cell_type": "code",
   "execution_count": null,
   "metadata": {
    "hidden": true
   },
   "outputs": [],
   "source": [
    "prediction.predict(h2h_average)"
   ]
  },
  {
   "cell_type": "code",
   "execution_count": null,
   "metadata": {
    "hidden": true
   },
   "outputs": [],
   "source": [
    "prediction.predict_proba(h2h_average)"
   ]
  },
  {
   "cell_type": "markdown",
   "metadata": {
    "hidden": true
   },
   "source": [
    "Before this match, Djokovic held a 25-22 winning record over Federer.\n",
    "\n",
    "With the .predict method, we can see that both players bring a good level of tennis when they face each other, as both compiled statistics are capable of winning matches based on the model. \n",
    "\n",
    "Next, we look at the .predict_proba results, we can see that Federer stats had been more dominant than Djokovic in their past matches, at __60.23 %__ against Djokovic's __51.04 %__. This is a relative dominance ratio of 54:46 in favor to Federer. This is an interesting statistic as Djokovic held a 25-22 winning head-to-head against Federer. \n",
    "\n",
    "*This may be due to the matches earlier in their career when Federer was at his prime while Djokovic is still struggling to challenge Federer or Nadal.*\n",
    "\n",
    "Using this model, Federer would be expected to win the final with an edge of 5-10%. However, this is the least accurate model of the 3 as we are taking into account matches from 2006 - 2018 between them, with no additional bias given to the recent matches, as there had been a dynamic switch during the time period."
   ]
  },
  {
   "cell_type": "markdown",
   "metadata": {
    "heading_collapsed": true,
    "hidden": true
   },
   "source": [
    "#### Analysis Model (AdaBoost with Validation AUC: 92.60 %)"
   ]
  },
  {
   "cell_type": "markdown",
   "metadata": {
    "hidden": true
   },
   "source": [
    "As requested, we have prepared 3 sets of data for this case study:\n",
    "* <code> df_full_match                </code> : This data describes both players' performance during the final\n",
    "* <code> df_djokovic_individual_stats </code> : This data describes djokovic's performance in each of the 5 sets played\n",
    "* <code> df_federer_individual_stats </code>  : This data describes federer's performance in each of the 5 sets played\n",
    "* <code> df_djokovic_cumulative_stats </code> : This data describes djokovic's performance cumulatively at end of each set\n",
    "* <code> df_federer_cumulative_stats </code>  : This data describes federer's performance cumulatively at end of each set\n",
    "\n",
    "\n",
    "* Player 0 = Novak Djokovic\n",
    "* Player 1 = Roger Federer\n",
    "\n",
    "First, we look at the full match stats."
   ]
  },
  {
   "cell_type": "code",
   "execution_count": null,
   "metadata": {
    "hidden": true
   },
   "outputs": [],
   "source": [
    "analysis.predict(df_full_match)"
   ]
  },
  {
   "cell_type": "code",
   "execution_count": null,
   "metadata": {
    "hidden": true
   },
   "outputs": [],
   "source": [
    "analysis.predict_proba(df_full_match)"
   ]
  },
  {
   "cell_type": "markdown",
   "metadata": {
    "hidden": true
   },
   "source": [
    "The analysis model that we built predicted a win for Federer based on the full match stats, which perhaps deservedly so as Federer was the better player throughout the whole match, won 14 more points than Djokovic and had 2 match points on his own serve but failed to convert in the final set. This would be a false prediction by the analysis model but it does give insights into the relative performance and which player's performance is more deserving for victory. \n",
    "\n",
    "When we look at the win probability for each player, we can see the model predicted a 49.42 % chance of winning for Djokovic and a 51.56 % chance of winning for Federer, which translates to a relative win rate of 51 % to 49 % in favor of Federer. Therefore, Federer did play better than Djokovic and would have probably won the match any other day, but the model shows that Djokovic did not play terrible but was about 4 % below Federer's level on the day. The difference was Djokovic increased his level when it comes to pressure points like facing Federer's break points and match points opportunities. This helped him stay in the match until the 5th set despite playing at a lower level than Federer, we will look into a more detailed set-by-set analysis now.\n",
    "\n",
    "__Final Score:__\n",
    "- __Set 1: Djokovic won 7-6(5)__\n",
    "- __Set 2: Federer won 6-1__\n",
    "- __Set 3: Djokovic won 7-6(4)__\n",
    "- __Set 4: Federer won 6-4__\n",
    "- __Set 5: Djokovic won 13-12(3)__"
   ]
  },
  {
   "cell_type": "code",
   "execution_count": null,
   "metadata": {
    "hidden": true
   },
   "outputs": [],
   "source": [
    "# Individual Set Outcome Prediction\n",
    "print(f\"Djokovic prediction on each set:{analysis.predict(df_djokovic_individual_stats)}\")\n",
    "print(f\"Federer prediction on each set: {analysis.predict(df_federer_individual_stats)}\")\n",
    "print(\"\")\n",
    "\n",
    "# Chance of Winning in Eact Set by Djokovic\n",
    "print(\"Djokovic Chance of Winning in Each Set\")\n",
    "for i in range(0, len(analysis.predict_proba(df_djokovic_individual_stats))):\n",
    "    print(f\"Set {str(1 + i)}: {round(analysis.predict_proba(df_djokovic_individual_stats)[i][1] * 100, 2)} %\")\n",
    "    \n",
    "print(\"\")\n",
    "\n",
    "# Chance of Winning in Eact Set by Federer\n",
    "print(\"Federer Chance of Winning in Each Set\")\n",
    "for i in range(0, len(analysis.predict_proba(df_federer_individual_stats))):\n",
    "    print(f\"Set {str(1 + i)}: {round(analysis.predict_proba(df_federer_individual_stats)[i][1] * 100, 2)} %\")\n",
    "\n",
    "print(\"\")\n",
    "\n",
    "# Break Point Chances by Both Players\n",
    "print (f\"Number of Break Point Opportunities:\\n\")\n",
    "\n",
    "for i in range(0, len(df_djokovic_individual_stats['break_points_return_total'])):\n",
    "    print (f\"Set {1 + i}: Djokovic   {df_djokovic_individual_stats['break_points_return_total'][i]}      Federer   {df_federer_individual_stats['break_points_return_total'][i]}\")\n",
    "\n",
    "print(\"-----------------------------------------\")\n",
    "print(f\"Total: Djokovic   {df_djokovic_individual_stats['break_points_return_total'].sum()}      Federer  {df_federer_individual_stats['break_points_return_total'].sum()}\")"
   ]
  },
  {
   "cell_type": "markdown",
   "metadata": {
    "hidden": true
   },
   "source": [
    "As we conducted an initial analysis on ~100k matches on Section 3 of this document, no player had ever won a match without breaking opponent's serve from 1990-2019. It is theoretically possible but highly improbable as the statistics shows, but assuming they played a normal Best-of-3 Sets match, Djokovic would have been the only player in 2 decades to accomplish that feat. Djokovic had 0 break point opportunities in the first 3 sets as compared to Federer's 6, but ended the set 3 with a 2-1 lead in sets, winning the first and third set via tiebreakers.\n",
    "\n",
    "As we can see from the predict function above, based on their performance, Federer was forecasted to win the first 3 sets while Djokovic was forecasted to lose all 3 sets. Most tennis speculators think Federer lost the match in the 5th set when he led 8:7 in games and 40:15 in points with 2 match points on his serve, but in reality Federer lost his match in 1st and 3rd set where he played significantly better than Djokovic in the 2 sets but failed to convert his break points to capitalize on his superior performance over djokovic, and partially due to Djokovic stepping up his game in crucial moments to win all 3 tiebreakers that led him to the victory.\n",
    "\n",
    "When we look at the win probability of each player in each set, we can see fluctuating performance from Djokovic and a consistent performance from Federer before falling in set 4 and 5. This is not surprising as Federer was turning 38 years old in a month during that match and Djokovic was 6 years younger than him, thus giving Djokovic an advantage as the matches went over 3-4 hours as he had better physical endurance.\n",
    "\n",
    "When we look at the final set, we can see that the model predicted both players to lose, with a probability of winning at 49.04 % for Djokovic and 49.64 % for Federer, signifying that both player's performance are not worthy of winning, but it also shows that both players are playing at a similar level, hence the game went on to the 12-12 in games, requiring a final set tiebreaker to decide the winner. \n",
    "\n",
    "Though they played at a similar level in the final set, Djokovic's final set performance was his personal 2nd best set in terms of level of play, while Federer's final set performance was his personal 2nd worst set, indicating Djokovic improved his performance after set 3 and Federer's level falling gradually after set 3. We will try to investigate this further in our next analysis, which looks at the cumulative performance at the conclusion of each set."
   ]
  },
  {
   "cell_type": "code",
   "execution_count": null,
   "metadata": {
    "hidden": true
   },
   "outputs": [],
   "source": [
    "# Calculating relative performance between 2 players\n",
    "\n",
    "djo_cumulative_performance = []\n",
    "fed_cumulative_performance = []\n",
    "for i in range(0, len(analysis.predict_proba(df_djokovic_cumulative_stats))):\n",
    "    djo_cumulative_performance.append(analysis.predict_proba(df_djokovic_cumulative_stats)[i][1])\n",
    "    fed_cumulative_performance.append(analysis.predict_proba(df_federer_cumulative_stats)[i][1])\n",
    "\n",
    "djo_relative_performance = [0.5]\n",
    "fed_relative_performance = [0.5]\n",
    "for i in range(0, len(djo_cumulative_performance)):\n",
    "    djo_relative_performance.append(round(djo_cumulative_performance[i] / (djo_cumulative_performance[i] + fed_cumulative_performance[i]), 2))\n",
    "    fed_relative_performance.append(round(fed_cumulative_performance[i] / (djo_cumulative_performance[i] + fed_cumulative_performance[i]), 2))\n",
    "\n",
    "\n",
    "# Plot 2 lines displaying momentum and performance change during the 5 sets\n",
    "sns.lineplot(x=range(0,6), y=djo_relative_performance)\n",
    "sns.lineplot(x=range(0,6), y=fed_relative_performance)\n",
    "plt.rcParams.update({'font.size': 20})\n",
    "plt.rcParams['figure.figsize'] = (18,18)\n",
    "plt.legend(['Djokovic', 'Federer'])\n",
    "plt.title(\"Momentum Shift in Wimbledon 2019 Final\")\n",
    "plt.xlabel(\"Sets\")\n",
    "plt.ylabel(\"Relative Performance\")"
   ]
  },
  {
   "cell_type": "markdown",
   "metadata": {
    "hidden": true
   },
   "source": [
    "Here, we can see the shift in their relative performance from start of the match to the end, showing that Federer gradually increase his dominance over Djokovic from the first point to the end of set 2, with the peak at 57% - 43 % in relative performance in favor of Federer, a staggering 14 % edge over Djokovic. \n",
    "\n",
    "After set 2, Federer's relative performance against Djokovic dipped slightly in set 3 and continued to drop further in set 4 and 5, but statistically remain the superior player throughout the whole match from first point to the last point."
   ]
  },
  {
   "cell_type": "markdown",
   "metadata": {
    "heading_collapsed": true,
    "hidden": true
   },
   "source": [
    "#### Improvements"
   ]
  },
  {
   "cell_type": "code",
   "execution_count": null,
   "metadata": {
    "hidden": true
   },
   "outputs": [],
   "source": [
    "# Load djokovic full match stats\n",
    "df_djo_improve = df_full_match.drop(85168)\n",
    "\n",
    "# Improvement rate\n",
    "rate = 1.1\n",
    "baseline = round(analysis.predict_proba(df_djo_improve)[0][1] * 100, 2)\n",
    "print(f\"Original chance of winning full match: {baseline} %\\n\")\n",
    "\n",
    "# Analyze which feature most beneficial for increasing chance of winning\n",
    "for i in df_djo_improve.columns:\n",
    "    df_djo_improve = df_full_match.drop(85168)    # Reset values for comparison\n",
    "    df_djo_improve[i] = df_djo_improve[i] * rate\n",
    "    prediction = round(analysis.predict_proba(df_djo_improve)[0][1] * 100, 2)\n",
    "    print(f\"{i}: Chance of winning improved by {round((prediction - baseline), 2)} %\")"
   ]
  },
  {
   "cell_type": "markdown",
   "metadata": {
    "hidden": true
   },
   "source": [
    "As we can see from the output, Djokovic would benefit most from improving the first serves points won %. By improving that feature alone by 10 %, Djokovic would gain 0.55 % more chance of winning the match. If all 6 features were improved by 10 %, Djokovic would gain 1.43 % more chance of winning the match."
   ]
  },
  {
   "cell_type": "code",
   "execution_count": null,
   "metadata": {
    "hidden": true
   },
   "outputs": [],
   "source": [
    "# Load federer full match stats\n",
    "df_fed_improve = df_full_match.drop(64598)\n",
    "\n",
    "# Improvement rate\n",
    "rate = 1.1\n",
    "baseline = round(analysis.predict_proba(df_fed_improve)[0][1] * 100, 2)\n",
    "print(f\"Original chance of winning full match: {baseline} %\\n\")\n",
    "\n",
    "# Analyze which feature most beneficial for increasing chance of winning\n",
    "for i in df_fed_improve.columns:\n",
    "    df_fed_improve = df_full_match.drop(64598)    # Reset values for comparison\n",
    "    df_fed_improve[i] = df_fed_improve[i] * rate\n",
    "    prediction = round(analysis.predict_proba(df_fed_improve)[0][1] * 100, 2)\n",
    "    print(f\"{i}: Chance of winning improved by {round((prediction - baseline), 2)} %\")"
   ]
  },
  {
   "cell_type": "markdown",
   "metadata": {
    "hidden": true
   },
   "source": [
    "Likewise, Federer would benefit most by improving the first serves points won %. By improving that feature alone by 10 %, Federer would gain 0.53 % more chance of winning the match. If all 6 features were improved by 10 %, Federer would gain 1.31 % more chance of winning the match."
   ]
  },
  {
   "cell_type": "markdown",
   "metadata": {
    "heading_collapsed": true,
    "hidden": true
   },
   "source": [
    "### Summary & Recommendation"
   ]
  },
  {
   "cell_type": "markdown",
   "metadata": {
    "hidden": true
   },
   "source": [
    "__Facts & Findings:__\n",
    "1. Final Score: Djokovic 7-6(5) 1-6 7-6(4) 4-6 13-12(3) Federer\n",
    "2. Federer performed better in every statistics overall:\n",
    "    * Won 14 more total points (218 - 204)\n",
    "    * Higher Service Points Won % (68 % - 64 %)\n",
    "    * Higher Return Points Won % (36 % - 32 %)\n",
    "    * 5 more break point opportunities (13 - 8)\n",
    "    * Converted 4 more break points (7 - 3)\n",
    "    * Higher break point conversion rate (54 % - 38 %)\n",
    "    * Higher break point save rate (63 % - 46 %) \n",
    "3. Djokovic led by 2 sets to 1 without having a break point opportunity\n",
    "    * Theoretically won a BO3 match without breaking opponent's serve (Never happened in a single match from 1990 - 2019)    \n",
    "4. Djokovic won the match despite winning 14 less points in total\n",
    "    * Total % of matches where winners won with a point deficit: 4.58 %    \n",
    "5. Pre-match prediction model results:\n",
    "    * **Tournament Average: Federer with a 52.08 % chance of winning**\n",
    "    * **Year-To-Date      : Djokovic with a 54.87 % chance of winning**\n",
    "    * **Head-to-Head      : Federer with a 54.13 % chance of winning**\n",
    "    - *Head-to-head model not as reliable as tournament average and year-to-date data as it consists of data from 2006 - 2018 with no recency bias*\n",
    "6. Post-match analysis model results:\n",
    "    * **Set 1     : Federer with a 53.22 % chance of winning**\n",
    "    * **Set 2     : Federer with a 59.06 % chance of winning**\n",
    "    * **Set 3     : Federer with a 53.88 % chance of winning**\n",
    "    * **Set 4     : Djokovic with a 52.76 % chance of winning**\n",
    "    * **Set 5     : Federer with a 50.30 % chance of winning**\n",
    "    * **Full Match: Federer with a 51.06 % chance of winning**\n",
    "7. Recommendation For Improvements:\n",
    "    * **Based on the model, player would benefit most by improving win rate on the first serves point**"
   ]
  }
 ],
 "metadata": {
  "kernelspec": {
   "display_name": "Python 3",
   "language": "python",
   "name": "python3"
  },
  "language_info": {
   "codemirror_mode": {
    "name": "ipython",
    "version": 3
   },
   "file_extension": ".py",
   "mimetype": "text/x-python",
   "name": "python",
   "nbconvert_exporter": "python",
   "pygments_lexer": "ipython3",
   "version": "3.7.4"
  },
  "toc": {
   "base_numbering": 1,
   "nav_menu": {},
   "number_sections": true,
   "sideBar": true,
   "skip_h1_title": false,
   "title_cell": "Table of Contents",
   "title_sidebar": "Contents",
   "toc_cell": false,
   "toc_position": {},
   "toc_section_display": true,
   "toc_window_display": false
  }
 },
 "nbformat": 4,
 "nbformat_minor": 2
}
