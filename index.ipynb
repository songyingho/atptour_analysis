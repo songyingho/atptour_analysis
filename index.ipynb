{
 "cells": [
  {
   "cell_type": "markdown",
   "metadata": {
    "heading_collapsed": true
   },
   "source": [
    "# Import Libraries"
   ]
  },
  {
   "cell_type": "code",
   "execution_count": null,
   "metadata": {
    "ExecuteTime": {
     "start_time": "2020-05-15T13:59:27.103Z"
    },
    "hidden": true
   },
   "outputs": [],
   "source": [
    "import matplotlib.pyplot as plt\n",
    "import numpy as np\n",
    "import pandas as pd\n",
    "import seaborn as sns\n",
    "%matplotlib inline\n",
    "sns.set_style(\"darkgrid\")\n",
    "\n",
    "from IPython.display import Image\n",
    "from pydotplus import graph_from_dot_data\n",
    "from sklearn import metrics\n",
    "\n",
    "from sklearn.ensemble import RandomForestClassifier\n",
    "from sklearn.ensemble import AdaBoostClassifier\n",
    "\n",
    "from sklearn.linear_model import LogisticRegression\n",
    "\n",
    "from sklearn.metrics import accuracy_score\n",
    "from sklearn.metrics import confusion_matrix\n",
    "from sklearn.metrics import roc_curve\n",
    "from sklearn.metrics import auc\n",
    "from sklearn.metrics import roc_auc_score\n",
    "\n",
    "from sklearn.model_selection import cross_val_score\n",
    "from sklearn.model_selection import GridSearchCV\n",
    "from sklearn.model_selection import KFold\n",
    "from sklearn.model_selection import train_test_split\n",
    "\n",
    "from sklearn.preprocessing import OneHotEncoder\n",
    "from sklearn.preprocessing import StandardScaler\n",
    "from sklearn.preprocessing import MinMaxScaler\n",
    "\n",
    "from sklearn.tree import DecisionTreeClassifier\n",
    "from sklearn.tree import export_graphviz\n",
    "\n",
    "from statsmodels.stats.outliers_influence import variance_inflation_factor\n",
    "\n",
    "from xgboost import XGBClassifier\n",
    "\n",
    "import joblib\n",
    "\n",
    "pd.set_option('display.max_columns', 50)\n",
    "pd.set_option('display.max_rows', 500)\n",
    "plt.rcParams['figure.figsize'] = (30,30)\n",
    "\n",
    "import warnings\n",
    "warnings.filterwarnings(\"ignore\")"
   ]
  },
  {
   "cell_type": "markdown",
   "metadata": {
    "heading_collapsed": true
   },
   "source": [
    "# User Test Function"
   ]
  },
  {
   "cell_type": "markdown",
   "metadata": {
    "hidden": true
   },
   "source": [
    "Run the following 2 codes to have a test on the functions created:"
   ]
  },
  {
   "cell_type": "code",
   "execution_count": null,
   "metadata": {
    "ExecuteTime": {
     "end_time": "2020-05-10T14:22:08.107749Z",
     "start_time": "2020-05-10T14:22:08.008325Z"
    },
    "hidden": true
   },
   "outputs": [],
   "source": [
    "from user_test import user_test"
   ]
  },
  {
   "cell_type": "code",
   "execution_count": null,
   "metadata": {
    "ExecuteTime": {
     "end_time": "2020-05-10T14:23:07.042098Z",
     "start_time": "2020-05-10T14:23:02.753940Z"
    },
    "hidden": true,
    "scrolled": true
   },
   "outputs": [],
   "source": [
    "user_test()"
   ]
  },
  {
   "cell_type": "markdown",
   "metadata": {},
   "source": [
    "# Summary of Project "
   ]
  },
  {
   "cell_type": "markdown",
   "metadata": {
    "heading_collapsed": true
   },
   "source": [
    "## Data Collection & Transformation"
   ]
  },
  {
   "cell_type": "markdown",
   "metadata": {
    "heading_collapsed": true
   },
   "source": [
    "## Clustering"
   ]
  },
  {
   "cell_type": "markdown",
   "metadata": {
    "heading_collapsed": true
   },
   "source": [
    "## Classification"
   ]
  },
  {
   "cell_type": "markdown",
   "metadata": {},
   "source": [
    "## Case Study"
   ]
  },
  {
   "cell_type": "markdown",
   "metadata": {
    "ExecuteTime": {
     "end_time": "2020-05-14T15:40:46.324197Z",
     "start_time": "2020-05-14T15:40:46.309205Z"
    }
   },
   "source": [
    "We will conduct the case study in 2 parts, the first part is the pre-match prediction and the second part is the post-match analysis.\n",
    "\n",
    "__Djokovic beats Federer in Wimbledon 2019 Final over 5 sets in 4 hours and 57 minutes__\n",
    "\n",
    "__Final Score: Djokovic 7-6(5) 1-6 7-6(4) 4-6 13-12(3) Federer__\n",
    "\n",
    "--------------------------------------------------------------------------------------------------------------\n",
    "\n",
    "The pre-match prediction model uses only 2 metrics: \n",
    "* __second_serves_return_points_won_%__\n",
    "* __break_point_convert_%__\n",
    "\n",
    "For this case study, we will use the following pre-match statistics available to us:\n",
    "* __Tournament Average across first 6 matches before final__\n",
    "* __YTD (2019) Player Statistics__\n",
    "* __Previous H2H Accumulated Statistics prior to the match__\n",
    "\n",
    "--------------------------------------------------------------------------------------------------------------\n",
    "\n",
    "The match analysis model uses 6 metrics:\n",
    "* __first_serves_points_won_%__\n",
    "* __second_serves_points_won_%__\n",
    "* __break_point_save_%__\n",
    "* __first_serves_return_points_won_%__\n",
    "* __break_point_convert_%__\n",
    "* __break_points_return_total__\n",
    "\n",
    "For this case study, we will use the following match statistics available to us:\n",
    "* __Full Match Statistics__\n",
    "* __Individual Sets Statistics__\n",
    "* __Cumulative Win Probability over 5 sets__"
   ]
  },
  {
   "cell_type": "markdown",
   "metadata": {},
   "source": [
    "### Extract Trained Models "
   ]
  },
  {
   "cell_type": "code",
   "execution_count": null,
   "metadata": {
    "ExecuteTime": {
     "start_time": "2020-05-15T13:59:31.721Z"
    }
   },
   "outputs": [],
   "source": [
    "# Load the trained models\n",
    "prediction = joblib.load('prediction.pkl')  # for pre-match prediction\n",
    "\n",
    "analysis = joblib.load('analysis.pkl')      # for match analysis"
   ]
  },
  {
   "cell_type": "markdown",
   "metadata": {},
   "source": [
    "### Data Preparation"
   ]
  },
  {
   "cell_type": "code",
   "execution_count": null,
   "metadata": {
    "ExecuteTime": {
     "start_time": "2020-05-15T13:59:53.071Z"
    }
   },
   "outputs": [],
   "source": [
    "# Load main dataset on matches\n",
    "df_match = pd.read_csv('index_csv/clean_df_v3.0.csv')"
   ]
  },
  {
   "cell_type": "code",
   "execution_count": null,
   "metadata": {},
   "outputs": [],
   "source": [
    "# Load case study file\n",
    "df_wim_2019_final = df_match[df_match['match_id'] == '2019-540-MS001-10-1-d643-f324']\n",
    "\n",
    "# Remove from matches data\n",
    "df_match = df_match[df_match['match_id'] != '2019-540-MS001-10-1-d643-f324']\n",
    "df_match.reset_index(drop = True, inplace = True)"
   ]
  },
  {
   "cell_type": "code",
   "execution_count": null,
   "metadata": {},
   "outputs": [],
   "source": [
    "# Define features required for each analysis\n",
    "pre_match = ['second_serves_return_points_won_%', 'break_point_convert_%']\n",
    "\n",
    "match_analysis = ['first_serves_points_won_%', 'second_serves_points_won_%', 'break_point_save_%',\n",
    "                  'first_serves_return_points_won_%', 'break_point_convert_%', 'break_points_return_total']"
   ]
  },
  {
   "cell_type": "markdown",
   "metadata": {},
   "source": [
    "#### Tournament Performance"
   ]
  },
  {
   "cell_type": "markdown",
   "metadata": {},
   "source": [
    "Here we wil extract the 6 matches for both players, Novak Djokovic and Roger Federer, leading up to the final. We will calculate the performance of the 2 features required by the model from the first 6 matches, which would account for their form going into the final."
   ]
  },
  {
   "cell_type": "code",
   "execution_count": null,
   "metadata": {
    "ExecuteTime": {
     "end_time": "2020-05-17T14:15:36.468746Z",
     "start_time": "2020-05-17T14:15:36.328467Z"
    }
   },
   "outputs": [],
   "source": [
    "# Extract the 6 matches that both players played before final\n",
    "\n",
    "df_2019 = df_match[df_match['year'] == 2019]\n",
    "df_wim_2019 = df_2019[df_2019['tourney_slug'] == 'wimbledon']\n",
    "\n",
    "df_djokovic = df_wim_2019[df_wim_2019['slug'] == 'd643']\n",
    "df_federer = df_wim_2019[df_wim_2019['slug'] == 'f324']"
   ]
  },
  {
   "cell_type": "code",
   "execution_count": null,
   "metadata": {},
   "outputs": [],
   "source": [
    "# Extract raw stats required to compute statistics\n",
    "\n",
    "raw_stats = ['second_serve_return_won', 'second_serve_return_total',\n",
    "            'break_points_converted', 'break_points_return_total']\n",
    "\n",
    "df_djokovic = df_djokovic[raw_stats]\n",
    "df_federer = df_federer[raw_stats]"
   ]
  },
  {
   "cell_type": "code",
   "execution_count": null,
   "metadata": {},
   "outputs": [],
   "source": [
    "djokovic_1 = df_djokovic.sum()[0] / df_djokovic.sum()[1]\n",
    "djokovic_2 = df_djokovic.sum()[2] / df_djokovic.sum()[3]\n",
    "\n",
    "federer_1 = df_federer.sum()[0] / df_federer.sum()[1]\n",
    "federer_2 = df_federer.sum()[2] / df_federer.sum()[3]\n",
    "\n",
    "feature_1 = list([djokovic_1, federer_1])\n",
    "feature_2 = list([djokovic_2, federer_2])"
   ]
  },
  {
   "cell_type": "code",
   "execution_count": null,
   "metadata": {},
   "outputs": [],
   "source": [
    "tourney_average = pd.DataFrame(columns = pre_match)\n",
    "\n",
    "tourney_average['second_serves_return_points_won_%'] = feature_1\n",
    "tourney_average['break_point_convert_%'] = feature_2"
   ]
  },
  {
   "cell_type": "markdown",
   "metadata": {},
   "source": [
    "#### YTD Player Statistics (01 Jan 2019 - 13 July 2019)"
   ]
  },
  {
   "cell_type": "markdown",
   "metadata": {},
   "source": [
    "YTD Player Statistics from __1/1/2019 - 13/07/2019__\n",
    "\n",
    "Wimbledon Final Date: __14/07/2019__\n",
    "\n",
    "Extracted from: \n",
    "- Djokovic: https://www.ultimatetennisstatistics.com/playerProfile?playerId=4920\n",
    "- Federer: https://www.ultimatetennisstatistics.com/playerProfile?playerId=3819"
   ]
  },
  {
   "cell_type": "code",
   "execution_count": null,
   "metadata": {
    "ExecuteTime": {
     "end_time": "2020-05-17T14:17:00.386950Z",
     "start_time": "2020-05-17T14:17:00.287005Z"
    }
   },
   "outputs": [],
   "source": [
    "feature_1 = [0.551, 0.503]\n",
    "feature_2 = [0.50, 0.396]\n",
    "\n",
    "ytd_average = pd.DataFrame(columns = pre_match)\n",
    "\n",
    "ytd_average['second_serves_return_points_won_%'] = feature_1\n",
    "ytd_average['break_point_convert_%'] = feature_2"
   ]
  },
  {
   "cell_type": "markdown",
   "metadata": {},
   "source": [
    "#### Previous H2H Accumulated Statistics"
   ]
  },
  {
   "cell_type": "markdown",
   "metadata": {},
   "source": [
    "This section aims to account for both players' performance when they face each other in previous head-to-head matches prior to the match. This dataframe would capture the match dynamic to be expected in this match."
   ]
  },
  {
   "cell_type": "code",
   "execution_count": null,
   "metadata": {},
   "outputs": [],
   "source": [
    "df_djokovic = df_match[df_match['slug'] == 'd643']\n",
    "df_federer = df_match[df_match['slug'] == 'f324']\n",
    "\n",
    "df_djokovic.reset_index(drop = True, inplace = True)\n",
    "df_federer.reset_index(drop = True, inplace = True)"
   ]
  },
  {
   "cell_type": "code",
   "execution_count": null,
   "metadata": {},
   "outputs": [],
   "source": [
    "# Filter only djokovic-federer match\n",
    "for i in range(0,len(df_djokovic)):\n",
    "    if 'f324' in df_djokovic['match_id'][i]:\n",
    "        pass\n",
    "    else:\n",
    "        df_djokovic.drop(i, inplace = True)\n",
    "        \n",
    "# Filter only federer-djokovic match\n",
    "for i in range(0,len(df_federer)):\n",
    "    if 'd643' in df_federer['match_id'][i]:\n",
    "        pass\n",
    "    else:\n",
    "        df_federer.drop(i, inplace = True)\n",
    "        \n",
    "# Remove the only other match they played in 2019\n",
    "df_djokovic = df_djokovic[df_djokovic['match_id'] != '2019-605-MS016-1-10-f324-d643']\n",
    "df_federer = df_federer[df_federer['match_id'] != '2019-605-MS016-1-10-f324-d643']"
   ]
  },
  {
   "cell_type": "code",
   "execution_count": null,
   "metadata": {},
   "outputs": [],
   "source": [
    "# Extract raw stats required to compute statistics\n",
    "\n",
    "raw_stats = ['second_serve_return_won', 'second_serve_return_total',\n",
    "            'break_points_converted', 'break_points_return_total']\n",
    "\n",
    "df_djokovic = df_djokovic[raw_stats]\n",
    "df_federer = df_federer[raw_stats]"
   ]
  },
  {
   "cell_type": "code",
   "execution_count": null,
   "metadata": {},
   "outputs": [],
   "source": [
    "djokovic_1 = df_djokovic.sum()[0] / df_djokovic.sum()[1]\n",
    "djokovic_2 = df_djokovic.sum()[2] / df_djokovic.sum()[3]\n",
    "\n",
    "federer_1 = df_federer.sum()[0] / df_federer.sum()[1]\n",
    "federer_2 = df_federer.sum()[2] / df_federer.sum()[3]\n",
    "\n",
    "feature_1 = list([djokovic_1, federer_1])\n",
    "feature_2 = list([djokovic_2, federer_2])"
   ]
  },
  {
   "cell_type": "code",
   "execution_count": null,
   "metadata": {},
   "outputs": [],
   "source": [
    "h2h_average = pd.DataFrame(columns = pre_match)\n",
    "\n",
    "h2h_average['second_serves_return_points_won_%'] = feature_1\n",
    "h2h_average['break_point_convert_%'] = feature_2"
   ]
  },
  {
   "cell_type": "markdown",
   "metadata": {},
   "source": [
    "#### Full Match Statistics"
   ]
  },
  {
   "cell_type": "markdown",
   "metadata": {},
   "source": [
    "This dataframe consists of 2 lines of data describing the player's individual full match statistics. Player 0 is Novak Djokovic and Player 1 is Roger Federer."
   ]
  },
  {
   "cell_type": "code",
   "execution_count": null,
   "metadata": {},
   "outputs": [],
   "source": [
    "df_full_match = df_wim_2019_final[match_analysis]"
   ]
  },
  {
   "cell_type": "markdown",
   "metadata": {},
   "source": [
    "#### Individual Set Statistics"
   ]
  },
  {
   "cell_type": "markdown",
   "metadata": {},
   "source": [
    "This dataset aims to capture the performance of both players by individual set during the match. Each set is represented as a row."
   ]
  },
  {
   "cell_type": "code",
   "execution_count": null,
   "metadata": {},
   "outputs": [],
   "source": [
    "df_djokovic_individual_stats = pd.DataFrame(columns = match_analysis)\n",
    "\n",
    "df_djokovic_individual_stats['first_serves_points_won_%']        = [0.88, 0.27, 0.78, 0.80, 0.74]\n",
    "df_djokovic_individual_stats['second_serves_points_won_%']       = [0.52, 0.33, 0.69, 0.30, 0.43]\n",
    "df_djokovic_individual_stats['break_point_save_%']               = [1.00, 0.25, 1.00, 0.00, 0.60]\n",
    "df_djokovic_individual_stats['first_serves_return_points_won_%'] = [0.25, 0.00, 0.13, 0.24, 0.27]\n",
    "df_djokovic_individual_stats['break_point_convert_%']            = [0.00, 0.00, 0.00, 0.50, 0.33]\n",
    "df_djokovic_individual_stats['break_points_return_total']        = [0.00, 0.00, 0.00, 2.00, 6.00]\n",
    "\n",
    "df_federer_individual_stats = pd.DataFrame(columns = match_analysis)\n",
    "\n",
    "df_federer_individual_stats['first_serves_points_won_%']        = [0.75, 1.00, 0.88, 0.76, 0.73]\n",
    "df_federer_individual_stats['second_serves_points_won_%']       = [0.54, 0.33, 0.67, 0.54, 0.50]\n",
    "df_federer_individual_stats['break_point_save_%']               = [0.00, 0.00, 0.00, 0.50, 0.67]\n",
    "df_federer_individual_stats['first_serves_return_points_won_%'] = [0.12, 0.73, 0.22, 0.20, 0.26]\n",
    "df_federer_individual_stats['break_point_convert_%']            = [0.00, 0.75, 0.00, 1.00, 0.40]\n",
    "df_federer_individual_stats['break_points_return_total'] "
   ]
  },
  {
   "cell_type": "markdown",
   "metadata": {},
   "source": [
    "#### Cumulative Over Set Statistics"
   ]
  },
  {
   "cell_type": "markdown",
   "metadata": {},
   "source": [
    "This section aims to capture the cumulative performance as the match progresses each set, each row will describe the cumulative statistics at the conclusion of each set."
   ]
  },
  {
   "cell_type": "code",
   "execution_count": null,
   "metadata": {},
   "outputs": [],
   "source": [
    "df_djokovic_cumulative_stats = pd.DataFrame(columns = match_analysis)\n",
    "\n",
    "df_djokovic_cumulative_stats['first_serves_points_won_%']        = [0.88, 0.694, 0.73, 0.7435, 0.743]\n",
    "df_djokovic_cumulative_stats['second_serves_points_won_%']       = [0.52, 0.466, 0.535, 0.4905, 0.47]\n",
    "df_djokovic_cumulative_stats['break_point_save_%']               = [1.00, 0.4, 0.5, 0.375, 0.46]\n",
    "df_djokovic_cumulative_stats['first_serves_return_points_won_%'] = [0.25, 0.189, 0.164, 0.179, 0.21]\n",
    "df_djokovic_cumulative_stats['break_point_convert_%']            = [0.00, 0.00, 0.00, 0.50, 0.375]\n",
    "df_djokovic_cumulative_stats['break_points_return_total']        = [0.00, 0.00, 0.00, 2.00, 8.00]\n",
    "\n",
    "df_federer_cumulative_stats = pd.DataFrame(columns = match_analysis)\n",
    "\n",
    "df_federer_cumulative_stats['first_serves_points_won_%']        = [0.75, 0.811, 0.836, 0.821, 0.79]\n",
    "df_federer_cumulative_stats['second_serves_points_won_%']       = [0.54, 0.455, 0.516, 0.523, 0.51]\n",
    "df_federer_cumulative_stats['break_point_save_%']               = [0.00, 0.00, 0.00, 0.50, 0.625]\n",
    "df_federer_cumulative_stats['first_serves_return_points_won_%'] = [0.12, 0.306, 0.27, 0.256, 0.26]\n",
    "df_federer_cumulative_stats['break_point_convert_%']            = [0.00, 0.6, 0.5, 0.625, 0.54]\n",
    "df_federer_cumulative_stats['break_points_return_total']"
   ]
  }
 ],
 "metadata": {
  "kernelspec": {
   "display_name": "Python 3",
   "language": "python",
   "name": "python3"
  },
  "language_info": {
   "codemirror_mode": {
    "name": "ipython",
    "version": 3
   },
   "file_extension": ".py",
   "mimetype": "text/x-python",
   "name": "python",
   "nbconvert_exporter": "python",
   "pygments_lexer": "ipython3",
   "version": "3.7.4"
  },
  "toc": {
   "base_numbering": 1,
   "nav_menu": {},
   "number_sections": true,
   "sideBar": true,
   "skip_h1_title": false,
   "title_cell": "Table of Contents",
   "title_sidebar": "Contents",
   "toc_cell": false,
   "toc_position": {},
   "toc_section_display": true,
   "toc_window_display": false
  }
 },
 "nbformat": 4,
 "nbformat_minor": 2
}
