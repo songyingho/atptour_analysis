{
 "cells": [
  {
   "cell_type": "code",
   "execution_count": 60,
   "metadata": {
    "ExecuteTime": {
     "end_time": "2020-04-03T16:19:40.002626Z",
     "start_time": "2020-04-03T16:19:39.996631Z"
    }
   },
   "outputs": [],
   "source": [
    "import pandas as pd"
   ]
  },
  {
   "cell_type": "code",
   "execution_count": 61,
   "metadata": {
    "ExecuteTime": {
     "end_time": "2020-04-03T16:19:41.005043Z",
     "start_time": "2020-04-03T16:19:40.193490Z"
    }
   },
   "outputs": [],
   "source": [
    "df90 = pd.read_csv('match_scores_1990-1999.csv',header = None)\n",
    "df00 = pd.read_csv('match_scores_2000-2009.csv',header = None)\n",
    "df10 = pd.read_csv('match_scores_2010-2019.csv',header = None)\n",
    "\n",
    "list_of_df = [df90,df00,df10]\n",
    "df = pd.concat(list_of_df,sort = False)"
   ]
  },
  {
   "cell_type": "code",
   "execution_count": 62,
   "metadata": {
    "ExecuteTime": {
     "end_time": "2020-04-03T16:19:41.012004Z",
     "start_time": "2020-04-03T16:19:41.007016Z"
    }
   },
   "outputs": [],
   "source": [
    "header = [\"tourney_year_id\", \"tourney_order\", \"tourney_name\", \"tourney_slug\", \"tourney_url_suffix\",\n",
    "          \"start_date\", \"start_year\", \"start_month\", \"start_day\", \"end_date\", \"end_year\", \"end_month\",\n",
    "          \"end_day\", \"currency\", \"prize_money\", \"match_index\", \"tourney_round_name\", \"round_order\",\n",
    "          \"match_order\", \"winner_name\", \"slug\", \"player_id\", \"loser_name\", \"loser_player_id\",\n",
    "          \"loser_slug\", \"winner_seed\", \"loser_seed\", \"match_score_tiebreaks\", \"winner_sets_won\", \"loser_sets_won\",\n",
    "          \"winner_games_won\", \"loser_games_won\", \"winner_tiebreaks_won\", \"loser_tiebreaks_won\", \"match_id\", \n",
    "          \"match_stats_url_suffix\"]\n",
    "\n",
    "df.columns = header"
   ]
  },
  {
   "cell_type": "code",
   "execution_count": 63,
   "metadata": {
    "ExecuteTime": {
     "end_time": "2020-04-03T16:19:41.233919Z",
     "start_time": "2020-04-03T16:19:41.013996Z"
    }
   },
   "outputs": [],
   "source": [
    "to_drop = [\"tourney_year_id\", \"tourney_order\", \"tourney_name\", \"tourney_slug\", \"tourney_url_suffix\",\n",
    "          \"start_date\", \"start_year\", \"start_month\", \"start_day\", \"end_date\", \"end_year\", \"end_month\",\n",
    "          \"end_day\", \"currency\", \"prize_money\", \"match_index\", \"tourney_round_name\", \"round_order\",\n",
    "          \"match_order\", \"winner_name\", \"loser_name\", \"loser_player_id\",\n",
    "          \"loser_slug\", \"winner_seed\", \"loser_seed\", \"match_score_tiebreaks\", \"winner_sets_won\", \"loser_sets_won\",\n",
    "          \"winner_games_won\", \"loser_games_won\", \"winner_tiebreaks_won\", \"loser_tiebreaks_won\", \"match_id\", \n",
    "          \"match_stats_url_suffix\"]\n",
    "\n",
    "df.drop(to_drop, axis = 1, inplace = True)"
   ]
  },
  {
   "cell_type": "code",
   "execution_count": 64,
   "metadata": {
    "ExecuteTime": {
     "end_time": "2020-04-03T16:19:41.287886Z",
     "start_time": "2020-04-03T16:19:41.236916Z"
    }
   },
   "outputs": [],
   "source": [
    "df.drop_duplicates(inplace = True)\n",
    "\n",
    "df.reset_index(drop = True, inplace = True)"
   ]
  },
  {
   "cell_type": "code",
   "execution_count": 65,
   "metadata": {
    "ExecuteTime": {
     "end_time": "2020-04-03T16:19:44.502437Z",
     "start_time": "2020-04-03T16:19:44.490444Z"
    }
   },
   "outputs": [],
   "source": [
    "df.to_csv('slug_id_pairings.csv', index = False)"
   ]
  }
 ],
 "metadata": {
  "kernelspec": {
   "display_name": "Python 3",
   "language": "python",
   "name": "python3"
  },
  "language_info": {
   "codemirror_mode": {
    "name": "ipython",
    "version": 3
   },
   "file_extension": ".py",
   "mimetype": "text/x-python",
   "name": "python",
   "nbconvert_exporter": "python",
   "pygments_lexer": "ipython3",
   "version": "3.7.4"
  },
  "toc": {
   "base_numbering": 1,
   "nav_menu": {},
   "number_sections": true,
   "sideBar": true,
   "skip_h1_title": false,
   "title_cell": "Table of Contents",
   "title_sidebar": "Contents",
   "toc_cell": false,
   "toc_position": {},
   "toc_section_display": true,
   "toc_window_display": false
  }
 },
 "nbformat": 4,
 "nbformat_minor": 2
}
