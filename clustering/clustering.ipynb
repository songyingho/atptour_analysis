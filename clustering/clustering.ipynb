{
 "cells": [
  {
   "cell_type": "markdown",
   "metadata": {},
   "source": [
    "# Importing Libraries"
   ]
  },
  {
   "cell_type": "code",
   "execution_count": 359,
   "metadata": {
    "ExecuteTime": {
     "end_time": "2020-04-08T11:58:33.818925Z",
     "start_time": "2020-04-08T11:58:33.806932Z"
    }
   },
   "outputs": [],
   "source": [
    "import numpy as np\n",
    "import pandas as pd\n",
    "pd.set_option('display.max_columns', 100)\n",
    "\n",
    "from sklearn import metrics\n",
    "from sklearn.cluster import KMeans\n",
    "from sklearn.preprocessing import LabelEncoder\n",
    "from sklearn.preprocessing import MinMaxScaler\n",
    "from sklearn.decomposition import PCA\n",
    "\n",
    "from scipy.spatial.distance import cdist\n",
    "\n",
    "import seaborn as sns\n",
    "import matplotlib.pyplot as plt\n",
    "%matplotlib inline\n",
    "sns.set_style(\"darkgrid\")\n",
    "\n",
    "import warnings\n",
    "warnings.filterwarnings(\"ignore\")"
   ]
  },
  {
   "cell_type": "markdown",
   "metadata": {
    "heading_collapsed": true
   },
   "source": [
    "# Data Cleaning"
   ]
  },
  {
   "cell_type": "markdown",
   "metadata": {
    "hidden": true
   },
   "source": [
    "This section aims to prepare the player statistics data required for clustering. This was not included in the main data cleaning folder as optimization for the ideal clustering model may require various testing, which includes addition or deletion of features, hence the original csv was untouched prior to this notebook to ensure no data leakage and convenience for any alteration during testing phase."
   ]
  },
  {
   "cell_type": "code",
   "execution_count": 281,
   "metadata": {
    "ExecuteTime": {
     "end_time": "2020-04-08T11:40:39.744091Z",
     "start_time": "2020-04-08T11:40:39.734098Z"
    },
    "hidden": true
   },
   "outputs": [],
   "source": [
    "df = pd.read_csv('player_stats_1990-2019.csv')"
   ]
  },
  {
   "cell_type": "code",
   "execution_count": 282,
   "metadata": {
    "ExecuteTime": {
     "end_time": "2020-04-08T11:40:39.919186Z",
     "start_time": "2020-04-08T11:40:39.900198Z"
    },
    "hidden": true
   },
   "outputs": [
    {
     "data": {
      "text/plain": [
       "slug                                   0\n",
       "player_id                              0\n",
       "first_serve_perc                       0\n",
       "first_serve_points_won_perc            0\n",
       "second_serve_points_won_perc           0\n",
       "first_serve_return_points_won_perc     0\n",
       "second_serve_return_points_won_perc    0\n",
       "break_points_saved_perc                0\n",
       "break_points_converted_perc            0\n",
       "service_games_won_perc                 0\n",
       "service_points_won_perc                0\n",
       "return_games_won_perc                  0\n",
       "return_points_won_perc                 0\n",
       "dtype: int64"
      ]
     },
     "execution_count": 282,
     "metadata": {},
     "output_type": "execute_result"
    }
   ],
   "source": [
    "# Check for missing values\n",
    "df.isna().sum()"
   ]
  },
  {
   "cell_type": "code",
   "execution_count": 283,
   "metadata": {
    "ExecuteTime": {
     "end_time": "2020-04-08T11:40:40.209607Z",
     "start_time": "2020-04-08T11:40:40.198614Z"
    },
    "hidden": true
   },
   "outputs": [],
   "source": [
    "# Convert all percentages into 0.xx\n",
    "for i in df.columns[2:]:\n",
    "    df[i] = df[i].map(lambda x: x/100)"
   ]
  },
  {
   "cell_type": "markdown",
   "metadata": {
    "heading_collapsed": true,
    "hidden": true
   },
   "source": [
    "## Scaling Functions"
   ]
  },
  {
   "cell_type": "code",
   "execution_count": 5,
   "metadata": {
    "ExecuteTime": {
     "end_time": "2020-04-08T10:10:19.274020Z",
     "start_time": "2020-04-08T10:10:19.269023Z"
    },
    "hidden": true
   },
   "outputs": [],
   "source": [
    "# Use MinMaxScaler to normalize data\n",
    "def df_to_array_scaled(df):\n",
    "    X = np.array(df)\n",
    "\n",
    "    scaler = MinMaxScaler()\n",
    "    X_scaled = scaler.fit_transform(X)\n",
    "    \n",
    "    return X_scaled\n",
    "\n",
    "def df_scaled(df):\n",
    "    normalized_df = (df-df.mean())/df.std()\n",
    "    return normalized_df"
   ]
  },
  {
   "cell_type": "markdown",
   "metadata": {
    "heading_collapsed": true
   },
   "source": [
    "# Feature Engineering & Selection"
   ]
  },
  {
   "cell_type": "markdown",
   "metadata": {
    "hidden": true
   },
   "source": [
    "To optimize for clustering performance, we will conduct various experiments in this section by carefully selecting features to be added or removed for testing. \n",
    "\n",
    "For K-Means Clustering, we will only be tuning for n_clusters in this section. Subsequently, we will optimize for other hyperparameters like init, max_iter and algorithm on the finalized features.\n",
    "\n",
    "Silhouette and Calinski-Harabasz Score will be used for model evaluation.\n",
    "* Silhouette Score measures the similarity between elements within own cluster compared to other clusters\n",
    "* Calinski-Harabasz Score\n",
    "\n",
    "__Test Schedule__\n",
    "\n",
    "* __Test 1: All Initial Features__\n",
    "* __Test 2: Service-Return Ratios__\n",
    "* __Test 3: Break Point Percentages__\n",
    "* __Test 4: First Serves Performance__\n",
    "* __Test 5: Second Serve & Return Performance__"
   ]
  },
  {
   "cell_type": "markdown",
   "metadata": {
    "heading_collapsed": true,
    "hidden": true
   },
   "source": [
    "## Functions"
   ]
  },
  {
   "cell_type": "code",
   "execution_count": 198,
   "metadata": {
    "ExecuteTime": {
     "end_time": "2020-04-08T11:32:06.309218Z",
     "start_time": "2020-04-08T11:32:06.301223Z"
    },
    "hidden": true
   },
   "outputs": [],
   "source": [
    "def elbow_plot(df, k_min = 1, k_max = 20):\n",
    "\n",
    "    # k means determine k\n",
    "    distortions = []\n",
    "    K = range(k_min,k_max)\n",
    "    for k in K:\n",
    "        kmeanModel = KMeans(n_clusters=k)\n",
    "        kmeanModel.fit(df)\n",
    "        distortions.append(sum(np.min(cdist(df, kmeanModel.cluster_centers_, 'euclidean'), axis=1)) / df.shape[0])\n",
    "\n",
    "    # Plot the elbow\n",
    "    plt.plot(K, distortions, 'bx-')\n",
    "    plt.xlabel('k')\n",
    "    plt.ylabel('Distortion')\n",
    "    plt.title('The Elbow Method showing the optimal k')\n",
    "    plt.figure(figsize=(20,10))\n",
    "    plt.show()"
   ]
  },
  {
   "cell_type": "markdown",
   "metadata": {
    "heading_collapsed": true,
    "hidden": true
   },
   "source": [
    "## Test 1: All Initial Features"
   ]
  },
  {
   "cell_type": "code",
   "execution_count": 284,
   "metadata": {
    "ExecuteTime": {
     "end_time": "2020-04-08T11:40:43.731038Z",
     "start_time": "2020-04-08T11:40:43.727029Z"
    },
    "hidden": true
   },
   "outputs": [],
   "source": [
    "df_test1 = df.drop(['slug', 'player_id'], axis = 1)"
   ]
  },
  {
   "cell_type": "code",
   "execution_count": 285,
   "metadata": {
    "ExecuteTime": {
     "end_time": "2020-04-08T11:40:43.937151Z",
     "start_time": "2020-04-08T11:40:43.896160Z"
    },
    "hidden": true
   },
   "outputs": [
    {
     "data": {
      "text/plain": [
       "KMeans(algorithm='auto', copy_x=True, init='k-means++', max_iter=300,\n",
       "       n_clusters=2, n_init=10, n_jobs=None, precompute_distances='auto',\n",
       "       random_state=None, tol=0.0001, verbose=0)"
      ]
     },
     "execution_count": 285,
     "metadata": {},
     "output_type": "execute_result"
    }
   ],
   "source": [
    "k_means1 = KMeans(n_clusters=2)\n",
    "k_means1.fit(df_test1)"
   ]
  },
  {
   "cell_type": "code",
   "execution_count": 286,
   "metadata": {
    "ExecuteTime": {
     "end_time": "2020-04-08T11:40:44.077168Z",
     "start_time": "2020-04-08T11:40:44.060181Z"
    },
    "hidden": true
   },
   "outputs": [
    {
     "name": "stdout",
     "output_type": "stream",
     "text": [
      "Silhouette Score: 0.28102095428409163\n",
      "Calinski-Harabasz Score: 230.51082967354807\n"
     ]
    }
   ],
   "source": [
    "labels1 = k_means1.labels_\n",
    "\n",
    "print(f\"Silhouette Score: {metrics.silhouette_score(df_test1, labels1, metric='euclidean')}\")\n",
    "print(f\"Calinski-Harabasz Score: {metrics.calinski_harabasz_score(df_test1, labels1)}\")  "
   ]
  },
  {
   "cell_type": "markdown",
   "metadata": {
    "heading_collapsed": true,
    "hidden": true
   },
   "source": [
    "## Test 2: Service-Return Ratios"
   ]
  },
  {
   "cell_type": "code",
   "execution_count": 287,
   "metadata": {
    "ExecuteTime": {
     "end_time": "2020-04-08T11:40:44.861916Z",
     "start_time": "2020-04-08T11:40:44.855921Z"
    },
    "hidden": true
   },
   "outputs": [],
   "source": [
    "df.drop(['slug', 'player_id'], axis = 1, inplace = True)"
   ]
  },
  {
   "cell_type": "code",
   "execution_count": 288,
   "metadata": {
    "ExecuteTime": {
     "end_time": "2020-04-08T11:40:45.204166Z",
     "start_time": "2020-04-08T11:40:45.106183Z"
    },
    "hidden": true
   },
   "outputs": [],
   "source": [
    "# Create new columns for ratios\n",
    "df['service_return_games_ratio'] = np.nan\n",
    "df['service_return_points_ratio'] = np.nan\n",
    "\n",
    "# Apply formula to populate both columns\n",
    "for i in range(0, len(df)):\n",
    "    df['service_return_games_ratio'][i] = \\\n",
    "    df['service_games_won_perc'][i] / df['return_games_won_perc'][i]\n",
    "    \n",
    "    df['service_return_points_ratio'][i] = \\\n",
    "    df['service_points_won_perc'][i] / df['return_points_won_perc'][i]"
   ]
  },
  {
   "cell_type": "code",
   "execution_count": 289,
   "metadata": {
    "ExecuteTime": {
     "end_time": "2020-04-08T11:40:45.708468Z",
     "start_time": "2020-04-08T11:40:45.703471Z"
    },
    "hidden": true
   },
   "outputs": [],
   "source": [
    "# Drop other columns\n",
    "df_test2 = df.drop(df.columns[:-2], axis = 1)"
   ]
  },
  {
   "cell_type": "code",
   "execution_count": 246,
   "metadata": {
    "ExecuteTime": {
     "end_time": "2020-04-08T11:35:58.512783Z",
     "start_time": "2020-04-08T11:35:57.310471Z"
    },
    "hidden": true
   },
   "outputs": [
    {
     "data": {
      "image/png": "[encoded data removed]",
      "text/plain": [
       "<Figure size 432x288 with 1 Axes>"
      ]
     },
     "metadata": {},
     "output_type": "display_data"
    },
    {
     "data": {
      "text/plain": [
       "<Figure size 1440x720 with 0 Axes>"
      ]
     },
     "metadata": {},
     "output_type": "display_data"
    }
   ],
   "source": [
    "elbow_plot(df_test2)"
   ]
  },
  {
   "cell_type": "code",
   "execution_count": 247,
   "metadata": {
    "ExecuteTime": {
     "end_time": "2020-04-08T11:36:01.005753Z",
     "start_time": "2020-04-08T11:36:00.964793Z"
    },
    "hidden": true
   },
   "outputs": [
    {
     "data": {
      "text/plain": [
       "KMeans(algorithm='auto', copy_x=True, init='k-means++', max_iter=300,\n",
       "       n_clusters=2, n_init=10, n_jobs=None, precompute_distances='auto',\n",
       "       random_state=42, tol=0.0001, verbose=0)"
      ]
     },
     "execution_count": 247,
     "metadata": {},
     "output_type": "execute_result"
    }
   ],
   "source": [
    "k_means2 = KMeans(n_clusters=2, random_state = 42)\n",
    "k_means2.fit(df_test2)"
   ]
  },
  {
   "cell_type": "code",
   "execution_count": 248,
   "metadata": {
    "ExecuteTime": {
     "end_time": "2020-04-08T11:36:01.603940Z",
     "start_time": "2020-04-08T11:36:01.585951Z"
    },
    "hidden": true,
    "scrolled": false
   },
   "outputs": [
    {
     "name": "stdout",
     "output_type": "stream",
     "text": [
      "Silhouette Score: 0.621306464783077\n",
      "Calinski-Harabasz Score: 618.4429791660715\n"
     ]
    }
   ],
   "source": [
    "labels2 = k_means2.labels_\n",
    "\n",
    "print(f\"Silhouette Score: {metrics.silhouette_score(df_test2, labels2, metric='euclidean')}\")\n",
    "print(f\"Calinski-Harabasz Score: {metrics.calinski_harabasz_score(df_test2, labels2)}\")  "
   ]
  },
  {
   "cell_type": "code",
   "execution_count": 249,
   "metadata": {
    "ExecuteTime": {
     "end_time": "2020-04-08T11:36:04.244124Z",
     "start_time": "2020-04-08T11:36:04.238143Z"
    },
    "hidden": true
   },
   "outputs": [],
   "source": [
    "# Assigning labels\n",
    "df_test2['group'] = k_means2.predict(df_test2)"
   ]
  },
  {
   "cell_type": "code",
   "execution_count": 250,
   "metadata": {
    "ExecuteTime": {
     "end_time": "2020-04-08T11:36:05.066721Z",
     "start_time": "2020-04-08T11:36:04.695931Z"
    },
    "hidden": true,
    "scrolled": true
   },
   "outputs": [
    {
     "data": {
      "text/plain": [
       "<matplotlib.axes._subplots.AxesSubplot at 0x24bfe8b6408>"
      ]
     },
     "execution_count": 250,
     "metadata": {},
     "output_type": "execute_result"
    },
    {
     "data": {
      "image/png": "[encoded data removed]",
      "text/plain": [
       "<Figure size 432x288 with 1 Axes>"
      ]
     },
     "metadata": {},
     "output_type": "display_data"
    }
   ],
   "source": [
    "sns.scatterplot(y = df_test2[df_test2.columns[0]], x= df_test2[df_test2.columns[1]], hue = 'group', data = df_test2)"
   ]
  },
  {
   "cell_type": "markdown",
   "metadata": {
    "hidden": true
   },
   "source": [
    "### Experimenting with MinMaxScaler"
   ]
  },
  {
   "cell_type": "code",
   "execution_count": 263,
   "metadata": {
    "ExecuteTime": {
     "end_time": "2020-04-08T11:38:50.559359Z",
     "start_time": "2020-04-08T11:38:50.539374Z"
    },
    "hidden": true
   },
   "outputs": [
    {
     "data": {
      "text/plain": [
       "KMeans(algorithm='auto', copy_x=True, init='k-means++', max_iter=300,\n",
       "       n_clusters=2, n_init=10, n_jobs=None, precompute_distances='auto',\n",
       "       random_state=None, tol=0.0001, verbose=0)"
      ]
     },
     "execution_count": 263,
     "metadata": {},
     "output_type": "execute_result"
    }
   ],
   "source": [
    "df_test2_1 = df_to_array_scaled(df_test2)\n",
    "\n",
    "k_means2_1 = KMeans(n_clusters=2)\n",
    "k_means2_1.fit(df_test2_1)"
   ]
  },
  {
   "cell_type": "code",
   "execution_count": 264,
   "metadata": {
    "ExecuteTime": {
     "end_time": "2020-04-08T11:38:50.835333Z",
     "start_time": "2020-04-08T11:38:50.816358Z"
    },
    "hidden": true,
    "scrolled": false
   },
   "outputs": [
    {
     "name": "stdout",
     "output_type": "stream",
     "text": [
      "Silhouette Score: 0.8778753457486103\n",
      "Calinski-Harabasz Score: 5703.9270553442375\n"
     ]
    }
   ],
   "source": [
    "labels2_1 = k_means2_1.labels_\n",
    "\n",
    "print(f\"Silhouette Score: {metrics.silhouette_score(df_test2_1, labels2_1, metric='euclidean')}\")\n",
    "print(f\"Calinski-Harabasz Score: {metrics.calinski_harabasz_score(df_test2_1, labels2_1)}\")  "
   ]
  },
  {
   "cell_type": "code",
   "execution_count": 261,
   "metadata": {
    "ExecuteTime": {
     "end_time": "2020-04-08T11:38:42.104022Z",
     "start_time": "2020-04-08T11:38:42.100024Z"
    },
    "hidden": true
   },
   "outputs": [],
   "source": [
    "# Assigning labels\n",
    "df_test2_1['group'] = k_means2_1.predict(df_test2_1)"
   ]
  },
  {
   "cell_type": "markdown",
   "metadata": {
    "heading_collapsed": true,
    "hidden": true
   },
   "source": [
    "### PCA"
   ]
  },
  {
   "cell_type": "code",
   "execution_count": 219,
   "metadata": {
    "ExecuteTime": {
     "end_time": "2020-04-08T11:33:21.536698Z",
     "start_time": "2020-04-08T11:33:21.529702Z"
    },
    "hidden": true
   },
   "outputs": [],
   "source": [
    "pca = PCA(n_components = 2)\n",
    "transformed = pca.fit_transform(df_test2_1)"
   ]
  },
  {
   "cell_type": "code",
   "execution_count": 220,
   "metadata": {
    "ExecuteTime": {
     "end_time": "2020-04-08T11:33:21.836031Z",
     "start_time": "2020-04-08T11:33:21.831049Z"
    },
    "hidden": true
   },
   "outputs": [
    {
     "data": {
      "text/plain": [
       "array([0.94583743, 0.03254037])"
      ]
     },
     "execution_count": 220,
     "metadata": {},
     "output_type": "execute_result"
    }
   ],
   "source": [
    "pca.explained_variance_ratio_"
   ]
  },
  {
   "cell_type": "code",
   "execution_count": 221,
   "metadata": {
    "ExecuteTime": {
     "end_time": "2020-04-08T11:33:22.563233Z",
     "start_time": "2020-04-08T11:33:22.559249Z"
    },
    "hidden": true
   },
   "outputs": [],
   "source": [
    "pca_df = pd.DataFrame(transformed, columns = ['PC1', 'PC2'])\n",
    "pca_df.head()\n",
    "\n",
    "df_test9 = pca_df"
   ]
  },
  {
   "cell_type": "code",
   "execution_count": 222,
   "metadata": {
    "ExecuteTime": {
     "end_time": "2020-04-08T11:33:23.189093Z",
     "start_time": "2020-04-08T11:33:23.160108Z"
    },
    "hidden": true
   },
   "outputs": [
    {
     "data": {
      "text/plain": [
       "KMeans(algorithm='auto', copy_x=True, init='k-means++', max_iter=300,\n",
       "       n_clusters=2, n_init=10, n_jobs=None, precompute_distances='auto',\n",
       "       random_state=None, tol=0.0001, verbose=0)"
      ]
     },
     "execution_count": 222,
     "metadata": {},
     "output_type": "execute_result"
    }
   ],
   "source": [
    "k_means9 = KMeans(n_clusters=2)\n",
    "k_means9.fit(df_test9)"
   ]
  },
  {
   "cell_type": "code",
   "execution_count": 223,
   "metadata": {
    "ExecuteTime": {
     "end_time": "2020-04-08T11:33:23.653883Z",
     "start_time": "2020-04-08T11:33:23.635897Z"
    },
    "hidden": true
   },
   "outputs": [
    {
     "name": "stdout",
     "output_type": "stream",
     "text": [
      "Silhouette Score: 0.6383563544849882\n",
      "Calinski-Harabasz Score: 719.5530762976385\n"
     ]
    }
   ],
   "source": [
    "labels9 = k_means9.labels_\n",
    "\n",
    "print(f\"Silhouette Score: {metrics.silhouette_score(df_test9, labels9, metric='euclidean')}\")\n",
    "print(f\"Calinski-Harabasz Score: {metrics.calinski_harabasz_score(df_test9, labels9)}\")  "
   ]
  },
  {
   "cell_type": "markdown",
   "metadata": {
    "heading_collapsed": true,
    "hidden": true
   },
   "source": [
    "## Test 3: Break Point Percentages"
   ]
  },
  {
   "cell_type": "markdown",
   "metadata": {
    "hidden": true
   },
   "source": [
    "This model will be useful for differentiating players' performances under break point pressure"
   ]
  },
  {
   "cell_type": "code",
   "execution_count": 17,
   "metadata": {
    "ExecuteTime": {
     "end_time": "2020-04-06T09:49:20.234654Z",
     "start_time": "2020-04-06T09:49:20.153680Z"
    },
    "hidden": true
   },
   "outputs": [],
   "source": [
    "to_drop = []\n",
    "for i in df.columns:\n",
    "    if i.startswith('break_') == False:\n",
    "        to_drop.append(i)\n",
    "\n",
    "df_test3 = df.drop(to_drop, axis = 1)"
   ]
  },
  {
   "cell_type": "code",
   "execution_count": 18,
   "metadata": {
    "ExecuteTime": {
     "end_time": "2020-04-06T09:49:20.356566Z",
     "start_time": "2020-04-06T09:49:20.237633Z"
    },
    "hidden": true
   },
   "outputs": [
    {
     "data": {
      "text/plain": [
       "KMeans(algorithm='auto', copy_x=True, init='k-means++', max_iter=300,\n",
       "       n_clusters=2, n_init=10, n_jobs=None, precompute_distances='auto',\n",
       "       random_state=None, tol=0.0001, verbose=0)"
      ]
     },
     "execution_count": 18,
     "metadata": {},
     "output_type": "execute_result"
    }
   ],
   "source": [
    "k_means3 = KMeans(n_clusters=2)\n",
    "k_means3.fit(df_test3)"
   ]
  },
  {
   "cell_type": "code",
   "execution_count": 19,
   "metadata": {
    "ExecuteTime": {
     "end_time": "2020-04-06T09:49:20.394851Z",
     "start_time": "2020-04-06T09:49:20.358564Z"
    },
    "hidden": true
   },
   "outputs": [
    {
     "name": "stdout",
     "output_type": "stream",
     "text": [
      "Silhouette Score: 0.3610367400865022\n",
      "Calinski-Harabasz Score: 298.62980302474796\n"
     ]
    }
   ],
   "source": [
    "labels3 = k_means3.labels_\n",
    "\n",
    "print(f\"Silhouette Score: {metrics.silhouette_score(df_test3, labels3, metric='euclidean')}\")\n",
    "print(f\"Calinski-Harabasz Score: {metrics.calinski_harabasz_score(df_test3, labels3)}\") "
   ]
  },
  {
   "cell_type": "markdown",
   "metadata": {
    "heading_collapsed": true,
    "hidden": true
   },
   "source": [
    "## Test 4: First Serves Performance"
   ]
  },
  {
   "cell_type": "code",
   "execution_count": 20,
   "metadata": {
    "ExecuteTime": {
     "end_time": "2020-04-06T09:49:20.437824Z",
     "start_time": "2020-04-06T09:49:20.395849Z"
    },
    "hidden": true
   },
   "outputs": [],
   "source": [
    "df_test4 = df.drop(df.columns[:2], axis = 1)\n",
    "df_test4.drop(df_test4.columns[2:], axis = 1, inplace = True)"
   ]
  },
  {
   "cell_type": "code",
   "execution_count": 21,
   "metadata": {
    "ExecuteTime": {
     "end_time": "2020-04-06T09:49:20.517780Z",
     "start_time": "2020-04-06T09:49:20.438824Z"
    },
    "hidden": true
   },
   "outputs": [
    {
     "data": {
      "text/plain": [
       "KMeans(algorithm='auto', copy_x=True, init='k-means++', max_iter=300,\n",
       "       n_clusters=2, n_init=10, n_jobs=None, precompute_distances='auto',\n",
       "       random_state=None, tol=0.0001, verbose=0)"
      ]
     },
     "execution_count": 21,
     "metadata": {},
     "output_type": "execute_result"
    }
   ],
   "source": [
    "k_means4 = KMeans(n_clusters=2)\n",
    "k_means4.fit(df_test4)"
   ]
  },
  {
   "cell_type": "code",
   "execution_count": 22,
   "metadata": {
    "ExecuteTime": {
     "end_time": "2020-04-06T09:49:20.568749Z",
     "start_time": "2020-04-06T09:49:20.518779Z"
    },
    "hidden": true
   },
   "outputs": [
    {
     "name": "stdout",
     "output_type": "stream",
     "text": [
      "Silhouette Score: 0.37831820805789584\n",
      "Calinski-Harabasz Score: 371.347970346151\n"
     ]
    }
   ],
   "source": [
    "labels4 = k_means4.labels_\n",
    "\n",
    "print(f\"Silhouette Score: {metrics.silhouette_score(df_test4, labels4, metric='euclidean')}\")\n",
    "print(f\"Calinski-Harabasz Score: {metrics.calinski_harabasz_score(df_test4, labels4)}\") "
   ]
  },
  {
   "cell_type": "markdown",
   "metadata": {
    "heading_collapsed": true,
    "hidden": true
   },
   "source": [
    "## Test 5: Second Serve & Return Performance"
   ]
  },
  {
   "cell_type": "markdown",
   "metadata": {
    "hidden": true
   },
   "source": [
    "This model will be useful to differentiate players' performance under pressure as they or their opponent missed the first serve, hence giving the receving player an increased chance of winning the point."
   ]
  },
  {
   "cell_type": "code",
   "execution_count": 168,
   "metadata": {
    "ExecuteTime": {
     "end_time": "2020-04-08T11:27:27.381626Z",
     "start_time": "2020-04-08T11:27:27.292692Z"
    },
    "hidden": true
   },
   "outputs": [],
   "source": [
    "to_drop = []\n",
    "for i in df.columns:\n",
    "    if i.startswith('second_') == False:\n",
    "        to_drop.append(i)\n",
    "\n",
    "df_test5 = df.drop(to_drop, axis = 1)"
   ]
  },
  {
   "cell_type": "code",
   "execution_count": 169,
   "metadata": {
    "ExecuteTime": {
     "end_time": "2020-04-08T11:27:27.965463Z",
     "start_time": "2020-04-08T11:27:27.925501Z"
    },
    "hidden": true
   },
   "outputs": [
    {
     "data": {
      "text/plain": [
       "KMeans(algorithm='auto', copy_x=True, init='k-means++', max_iter=300,\n",
       "       n_clusters=2, n_init=10, n_jobs=None, precompute_distances='auto',\n",
       "       random_state=None, tol=0.0001, verbose=0)"
      ]
     },
     "execution_count": 169,
     "metadata": {},
     "output_type": "execute_result"
    }
   ],
   "source": [
    "k_means5 = KMeans(n_clusters=2)\n",
    "k_means5.fit(df_test5)"
   ]
  },
  {
   "cell_type": "code",
   "execution_count": 170,
   "metadata": {
    "ExecuteTime": {
     "end_time": "2020-04-08T11:27:28.595271Z",
     "start_time": "2020-04-08T11:27:28.579297Z"
    },
    "hidden": true,
    "scrolled": true
   },
   "outputs": [
    {
     "name": "stdout",
     "output_type": "stream",
     "text": [
      "Silhouette Score: 0.3436695015585933\n",
      "Calinski-Harabasz Score: 283.66349255499136\n"
     ]
    }
   ],
   "source": [
    "labels5 = k_means5.labels_\n",
    "\n",
    "print(f\"Silhouette Score: {metrics.silhouette_score(df_test5, labels5, metric='euclidean')}\")\n",
    "print(f\"Calinski-Harabasz Score: {metrics.calinski_harabasz_score(df_test5, labels5)}\")"
   ]
  },
  {
   "cell_type": "markdown",
   "metadata": {
    "heading_collapsed": true,
    "hidden": true
   },
   "source": [
    "## Test 6: Pressure Point Metrics (Combining Test 3 & 5)"
   ]
  },
  {
   "cell_type": "code",
   "execution_count": 26,
   "metadata": {
    "ExecuteTime": {
     "end_time": "2020-04-06T09:49:20.775632Z",
     "start_time": "2020-04-06T09:49:20.744649Z"
    },
    "hidden": true
   },
   "outputs": [],
   "source": [
    "to_drop = []\n",
    "for i in df.columns:\n",
    "    if i.startswith('second_') == True:\n",
    "        pass\n",
    "    elif i.startswith('break_') == True:\n",
    "        pass\n",
    "    else:\n",
    "        to_drop.append(i)\n",
    "\n",
    "df_test6 = df.drop(to_drop, axis = 1)"
   ]
  },
  {
   "cell_type": "code",
   "execution_count": 27,
   "metadata": {
    "ExecuteTime": {
     "end_time": "2020-04-06T09:49:20.878571Z",
     "start_time": "2020-04-06T09:49:20.777630Z"
    },
    "hidden": true
   },
   "outputs": [
    {
     "data": {
      "text/plain": [
       "KMeans(algorithm='auto', copy_x=True, init='k-means++', max_iter=300,\n",
       "       n_clusters=2, n_init=10, n_jobs=None, precompute_distances='auto',\n",
       "       random_state=None, tol=0.0001, verbose=0)"
      ]
     },
     "execution_count": 27,
     "metadata": {},
     "output_type": "execute_result"
    }
   ],
   "source": [
    "k_means6 = KMeans(n_clusters=2)\n",
    "k_means6.fit(df_test6)"
   ]
  },
  {
   "cell_type": "code",
   "execution_count": 28,
   "metadata": {
    "ExecuteTime": {
     "end_time": "2020-04-06T09:49:20.900559Z",
     "start_time": "2020-04-06T09:49:20.880571Z"
    },
    "hidden": true
   },
   "outputs": [
    {
     "name": "stdout",
     "output_type": "stream",
     "text": [
      "Silhouette Score: 0.2957354053761005\n",
      "Calinski-Harabasz Score: 227.89203941904358\n"
     ]
    }
   ],
   "source": [
    "labels6 = k_means6.labels_\n",
    "\n",
    "print(f\"Silhouette Score: {metrics.silhouette_score(df_test6, labels6, metric='euclidean')}\")\n",
    "print(f\"Calinski-Harabasz Score: {metrics.calinski_harabasz_score(df_test6, labels6)}\")"
   ]
  },
  {
   "cell_type": "markdown",
   "metadata": {
    "heading_collapsed": true,
    "hidden": true
   },
   "source": [
    "## Test 7: Interaction of Serve and Return Metrics"
   ]
  },
  {
   "cell_type": "markdown",
   "metadata": {
    "heading_collapsed": true,
    "hidden": true
   },
   "source": [
    "### Test 7.1: Average of First & Second Serve & Return Metrics"
   ]
  },
  {
   "cell_type": "markdown",
   "metadata": {
    "hidden": true
   },
   "source": [
    "<code>serve_average</code> = <code>(first_serve_points_won_perc + second_serve_points_won_perc)</code> / 2\n",
    "\n",
    "<code>return_average</code> = <code>(first_serve_return_points_won_perc + second_serve_return_points_won_perc)</code> / 2"
   ]
  },
  {
   "cell_type": "code",
   "execution_count": 290,
   "metadata": {
    "ExecuteTime": {
     "end_time": "2020-04-08T11:40:57.290235Z",
     "start_time": "2020-04-08T11:40:57.187252Z"
    },
    "hidden": true
   },
   "outputs": [],
   "source": [
    "df['serve_average'] = np.nan\n",
    "df['return_average'] = np.nan\n",
    "\n",
    "for i in range(0, len(df)):\n",
    "    df['serve_average'][i] = \\\n",
    "    (df['first_serve_points_won_perc'][i] + df['second_serve_points_won_perc'][i]) / 2\n",
    "    \n",
    "    df['return_average'][i] = \\\n",
    "    (df['first_serve_return_points_won_perc'][i] / df['second_serve_return_points_won_perc'][i]) / 2"
   ]
  },
  {
   "cell_type": "code",
   "execution_count": 291,
   "metadata": {
    "ExecuteTime": {
     "end_time": "2020-04-08T11:40:57.382151Z",
     "start_time": "2020-04-08T11:40:57.377162Z"
    },
    "hidden": true
   },
   "outputs": [],
   "source": [
    "df_test7_1 = df.drop(df.columns[:-2], axis = 1)"
   ]
  },
  {
   "cell_type": "code",
   "execution_count": 292,
   "metadata": {
    "ExecuteTime": {
     "end_time": "2020-04-08T11:40:57.607025Z",
     "start_time": "2020-04-08T11:40:57.572049Z"
    },
    "hidden": true
   },
   "outputs": [
    {
     "data": {
      "text/plain": [
       "KMeans(algorithm='auto', copy_x=True, init='k-means++', max_iter=300,\n",
       "       n_clusters=2, n_init=10, n_jobs=None, precompute_distances='auto',\n",
       "       random_state=None, tol=0.0001, verbose=0)"
      ]
     },
     "execution_count": 292,
     "metadata": {},
     "output_type": "execute_result"
    }
   ],
   "source": [
    "k_means7_1 = KMeans(n_clusters=2)\n",
    "k_means7_1.fit(df_test7_1)"
   ]
  },
  {
   "cell_type": "code",
   "execution_count": 293,
   "metadata": {
    "ExecuteTime": {
     "end_time": "2020-04-08T11:40:57.832991Z",
     "start_time": "2020-04-08T11:40:57.814003Z"
    },
    "hidden": true
   },
   "outputs": [
    {
     "name": "stdout",
     "output_type": "stream",
     "text": [
      "Silhouette Score: 0.39748846184391884\n",
      "Calinski-Harabasz Score: 416.66919543203323\n"
     ]
    }
   ],
   "source": [
    "labels7_1 = k_means7_1.labels_\n",
    "\n",
    "print(f\"Silhouette Score: {metrics.silhouette_score(df_test7_1, labels7_1, metric='euclidean')}\")\n",
    "print(f\"Calinski-Harabasz Score: {metrics.calinski_harabasz_score(df_test7_1, labels7_1)}\")  "
   ]
  },
  {
   "cell_type": "markdown",
   "metadata": {
    "heading_collapsed": true,
    "hidden": true
   },
   "source": [
    "### Test 7.2: Product of First & Second Serve & Return Metrics"
   ]
  },
  {
   "cell_type": "code",
   "execution_count": 294,
   "metadata": {
    "ExecuteTime": {
     "end_time": "2020-04-08T11:40:58.525000Z",
     "start_time": "2020-04-08T11:40:58.424018Z"
    },
    "hidden": true
   },
   "outputs": [],
   "source": [
    "df['serve_product'] = np.nan\n",
    "df['return_product'] = np.nan\n",
    "\n",
    "for i in range(0, len(df)):\n",
    "    df['serve_product'][i] = \\\n",
    "    df['first_serve_points_won_perc'][i] * df['second_serve_points_won_perc'][i]\n",
    "    \n",
    "    df['return_product'][i] = \\\n",
    "    df['first_serve_return_points_won_perc'][i] * df['second_serve_return_points_won_perc'][i]"
   ]
  },
  {
   "cell_type": "code",
   "execution_count": 295,
   "metadata": {
    "ExecuteTime": {
     "end_time": "2020-04-08T11:40:58.645955Z",
     "start_time": "2020-04-08T11:40:58.641969Z"
    },
    "hidden": true
   },
   "outputs": [],
   "source": [
    "df_test7_2 = df.drop(df.columns[:-2], axis = 1)"
   ]
  },
  {
   "cell_type": "code",
   "execution_count": 296,
   "metadata": {
    "ExecuteTime": {
     "end_time": "2020-04-08T11:40:58.899924Z",
     "start_time": "2020-04-08T11:40:58.858930Z"
    },
    "hidden": true
   },
   "outputs": [
    {
     "data": {
      "text/plain": [
       "KMeans(algorithm='auto', copy_x=True, init='k-means++', max_iter=300,\n",
       "       n_clusters=2, n_init=10, n_jobs=None, precompute_distances='auto',\n",
       "       random_state=None, tol=0.0001, verbose=0)"
      ]
     },
     "execution_count": 296,
     "metadata": {},
     "output_type": "execute_result"
    }
   ],
   "source": [
    "k_means7_2 = KMeans(n_clusters=2)\n",
    "k_means7_2.fit(df_test7_2)"
   ]
  },
  {
   "cell_type": "code",
   "execution_count": 297,
   "metadata": {
    "ExecuteTime": {
     "end_time": "2020-04-08T11:40:59.073805Z",
     "start_time": "2020-04-08T11:40:59.057844Z"
    },
    "hidden": true
   },
   "outputs": [
    {
     "name": "stdout",
     "output_type": "stream",
     "text": [
      "Silhouette Score: 0.40603808498649485\n",
      "Calinski-Harabasz Score: 419.16083398919454\n"
     ]
    }
   ],
   "source": [
    "labels7_2 = k_means7_2.labels_\n",
    "\n",
    "print(f\"Silhouette Score: {metrics.silhouette_score(df_test7_2, labels7_2, metric='euclidean')}\")\n",
    "print(f\"Calinski-Harabasz Score: {metrics.calinski_harabasz_score(df_test7_2, labels7_2)}\")"
   ]
  },
  {
   "cell_type": "markdown",
   "metadata": {
    "heading_collapsed": true,
    "hidden": true
   },
   "source": [
    "## Test 8: Add Serve:Return Product Metrics Ratio to Test 2"
   ]
  },
  {
   "cell_type": "markdown",
   "metadata": {
    "hidden": true
   },
   "source": [
    "Adding another Serve-to-Return Ratio to our best performing model (Test 2: Service-Return Ratio) so far. \n",
    "\n",
    "*Note: Test 2 did not use any features used to populate the product interaction metrics*"
   ]
  },
  {
   "cell_type": "code",
   "execution_count": 298,
   "metadata": {
    "ExecuteTime": {
     "end_time": "2020-04-08T11:40:59.975416Z",
     "start_time": "2020-04-08T11:40:59.969420Z"
    },
    "hidden": true
   },
   "outputs": [],
   "source": [
    "df_test8 = df.drop(df.columns[:13], axis = 1)\n",
    "\n",
    "to_drop = ['serve_average', 'return_average']\n",
    "df_test8.drop(to_drop, axis = 1, inplace = True)"
   ]
  },
  {
   "cell_type": "code",
   "execution_count": 299,
   "metadata": {
    "ExecuteTime": {
     "end_time": "2020-04-08T11:41:00.394759Z",
     "start_time": "2020-04-08T11:41:00.359780Z"
    },
    "hidden": true
   },
   "outputs": [
    {
     "data": {
      "text/plain": [
       "KMeans(algorithm='auto', copy_x=True, init='k-means++', max_iter=300,\n",
       "       n_clusters=2, n_init=10, n_jobs=None, precompute_distances='auto',\n",
       "       random_state=None, tol=0.0001, verbose=0)"
      ]
     },
     "execution_count": 299,
     "metadata": {},
     "output_type": "execute_result"
    }
   ],
   "source": [
    "k_means8 = KMeans(n_clusters=2)\n",
    "k_means8.fit(df_test8)"
   ]
  },
  {
   "cell_type": "code",
   "execution_count": 300,
   "metadata": {
    "ExecuteTime": {
     "end_time": "2020-04-08T11:41:00.716646Z",
     "start_time": "2020-04-08T11:41:00.696661Z"
    },
    "hidden": true
   },
   "outputs": [
    {
     "name": "stdout",
     "output_type": "stream",
     "text": [
      "Silhouette Score: 0.40603808498649485\n",
      "Calinski-Harabasz Score: 419.16083398919454\n"
     ]
    }
   ],
   "source": [
    "labels8 = k_means8.labels_\n",
    "\n",
    "print(f\"Silhouette Score: {metrics.silhouette_score(df_test8, labels8, metric='euclidean')}\")\n",
    "print(f\"Calinski-Harabasz Score: {metrics.calinski_harabasz_score(df_test8, labels8)}\")"
   ]
  },
  {
   "cell_type": "markdown",
   "metadata": {},
   "source": [
    "# Principle Component Analysis (PCA)"
   ]
  },
  {
   "cell_type": "code",
   "execution_count": 352,
   "metadata": {
    "ExecuteTime": {
     "end_time": "2020-04-08T11:48:35.007572Z",
     "start_time": "2020-04-08T11:48:34.980576Z"
    }
   },
   "outputs": [],
   "source": [
    "# Reload & Clean Original CSV\n",
    "\n",
    "df = pd.read_csv('player_stats_1990-2019.csv')\n",
    "\n",
    "# Check for missing values\n",
    "df.isna().sum()\n",
    "\n",
    "# Convert all percentages into 0.xx\n",
    "for i in df.columns[2:]:\n",
    "    df[i] = df[i].map(lambda x: x/100)"
   ]
  },
  {
   "cell_type": "markdown",
   "metadata": {
    "heading_collapsed": true
   },
   "source": [
    "## Multicollinearity "
   ]
  },
  {
   "cell_type": "code",
   "execution_count": 353,
   "metadata": {
    "ExecuteTime": {
     "end_time": "2020-04-08T11:48:35.355609Z",
     "start_time": "2020-04-08T11:48:35.347612Z"
    },
    "hidden": true
   },
   "outputs": [],
   "source": [
    "df.drop(['slug', 'player_id'], axis = 1, inplace = True)"
   ]
  },
  {
   "cell_type": "code",
   "execution_count": 354,
   "metadata": {
    "ExecuteTime": {
     "end_time": "2020-04-08T11:48:35.670772Z",
     "start_time": "2020-04-08T11:48:35.540830Z"
    },
    "hidden": true,
    "scrolled": true
   },
   "outputs": [
    {
     "data": {
      "text/html": [
       "<style  type=\"text/css\" >\n",
       "    #T_e1123ef0_798e_11ea_b927_485ab6c46f1arow0_col0 {\n",
       "            background-color:  #b40426;\n",
       "            color:  #f1f1f1;\n",
       "        }    #T_e1123ef0_798e_11ea_b927_485ab6c46f1arow0_col1 {\n",
       "            background-color:  #3e51c5;\n",
       "            color:  #f1f1f1;\n",
       "        }    #T_e1123ef0_798e_11ea_b927_485ab6c46f1arow0_col2 {\n",
       "            background-color:  #80a3fa;\n",
       "            color:  #000000;\n",
       "        }    #T_e1123ef0_798e_11ea_b927_485ab6c46f1arow0_col3 {\n",
       "            background-color:  #b2ccfb;\n",
       "            color:  #000000;\n",
       "        }    #T_e1123ef0_798e_11ea_b927_485ab6c46f1arow0_col4 {\n",
       "            background-color:  #a2c1ff;\n",
       "            color:  #000000;\n",
       "        }    #T_e1123ef0_798e_11ea_b927_485ab6c46f1arow0_col5 {\n",
       "            background-color:  #8db0fe;\n",
       "            color:  #000000;\n",
       "        }    #T_e1123ef0_798e_11ea_b927_485ab6c46f1arow0_col6 {\n",
       "            background-color:  #93b5fe;\n",
       "            color:  #000000;\n",
       "        }    #T_e1123ef0_798e_11ea_b927_485ab6c46f1arow0_col7 {\n",
       "            background-color:  #8badfd;\n",
       "            color:  #000000;\n",
       "        }    #T_e1123ef0_798e_11ea_b927_485ab6c46f1arow0_col8 {\n",
       "            background-color:  #93b5fe;\n",
       "            color:  #000000;\n",
       "        }    #T_e1123ef0_798e_11ea_b927_485ab6c46f1arow0_col9 {\n",
       "            background-color:  #aec9fc;\n",
       "            color:  #000000;\n",
       "        }    #T_e1123ef0_798e_11ea_b927_485ab6c46f1arow0_col10 {\n",
       "            background-color:  #a9c6fd;\n",
       "            color:  #000000;\n",
       "        }    #T_e1123ef0_798e_11ea_b927_485ab6c46f1arow1_col0 {\n",
       "            background-color:  #3b4cc0;\n",
       "            color:  #f1f1f1;\n",
       "        }    #T_e1123ef0_798e_11ea_b927_485ab6c46f1arow1_col1 {\n",
       "            background-color:  #b40426;\n",
       "            color:  #f1f1f1;\n",
       "        }    #T_e1123ef0_798e_11ea_b927_485ab6c46f1arow1_col2 {\n",
       "            background-color:  #b6cefa;\n",
       "            color:  #000000;\n",
       "        }    #T_e1123ef0_798e_11ea_b927_485ab6c46f1arow1_col3 {\n",
       "            background-color:  #3b4cc0;\n",
       "            color:  #f1f1f1;\n",
       "        }    #T_e1123ef0_798e_11ea_b927_485ab6c46f1arow1_col4 {\n",
       "            background-color:  #3b4cc0;\n",
       "            color:  #f1f1f1;\n",
       "        }    #T_e1123ef0_798e_11ea_b927_485ab6c46f1arow1_col5 {\n",
       "            background-color:  #f08a6c;\n",
       "            color:  #000000;\n",
       "        }    #T_e1123ef0_798e_11ea_b927_485ab6c46f1arow1_col6 {\n",
       "            background-color:  #3b4cc0;\n",
       "            color:  #f1f1f1;\n",
       "        }    #T_e1123ef0_798e_11ea_b927_485ab6c46f1arow1_col7 {\n",
       "            background-color:  #d44e41;\n",
       "            color:  #000000;\n",
       "        }    #T_e1123ef0_798e_11ea_b927_485ab6c46f1arow1_col8 {\n",
       "            background-color:  #d44e41;\n",
       "            color:  #000000;\n",
       "        }    #T_e1123ef0_798e_11ea_b927_485ab6c46f1arow1_col9 {\n",
       "            background-color:  #3b4cc0;\n",
       "            color:  #f1f1f1;\n",
       "        }    #T_e1123ef0_798e_11ea_b927_485ab6c46f1arow1_col10 {\n",
       "            background-color:  #3b4cc0;\n",
       "            color:  #f1f1f1;\n",
       "        }    #T_e1123ef0_798e_11ea_b927_485ab6c46f1arow2_col0 {\n",
       "            background-color:  #bed2f6;\n",
       "            color:  #000000;\n",
       "        }    #T_e1123ef0_798e_11ea_b927_485ab6c46f1arow2_col1 {\n",
       "            background-color:  #e2dad5;\n",
       "            color:  #000000;\n",
       "        }    #T_e1123ef0_798e_11ea_b927_485ab6c46f1arow2_col2 {\n",
       "            background-color:  #b40426;\n",
       "            color:  #f1f1f1;\n",
       "        }    #T_e1123ef0_798e_11ea_b927_485ab6c46f1arow2_col3 {\n",
       "            background-color:  #89acfd;\n",
       "            color:  #000000;\n",
       "        }    #T_e1123ef0_798e_11ea_b927_485ab6c46f1arow2_col4 {\n",
       "            background-color:  #98b9ff;\n",
       "            color:  #000000;\n",
       "        }    #T_e1123ef0_798e_11ea_b927_485ab6c46f1arow2_col5 {\n",
       "            background-color:  #f7ba9f;\n",
       "            color:  #000000;\n",
       "        }    #T_e1123ef0_798e_11ea_b927_485ab6c46f1arow2_col6 {\n",
       "            background-color:  #8db0fe;\n",
       "            color:  #000000;\n",
       "        }    #T_e1123ef0_798e_11ea_b927_485ab6c46f1arow2_col7 {\n",
       "            background-color:  #f59d7e;\n",
       "            color:  #000000;\n",
       "        }    #T_e1123ef0_798e_11ea_b927_485ab6c46f1arow2_col8 {\n",
       "            background-color:  #f49a7b;\n",
       "            color:  #000000;\n",
       "        }    #T_e1123ef0_798e_11ea_b927_485ab6c46f1arow2_col9 {\n",
       "            background-color:  #9bbcff;\n",
       "            color:  #000000;\n",
       "        }    #T_e1123ef0_798e_11ea_b927_485ab6c46f1arow2_col10 {\n",
       "            background-color:  #90b2fe;\n",
       "            color:  #000000;\n",
       "        }    #T_e1123ef0_798e_11ea_b927_485ab6c46f1arow3_col0 {\n",
       "            background-color:  #afcafc;\n",
       "            color:  #000000;\n",
       "        }    #T_e1123ef0_798e_11ea_b927_485ab6c46f1arow3_col1 {\n",
       "            background-color:  #3b4cc0;\n",
       "            color:  #f1f1f1;\n",
       "        }    #T_e1123ef0_798e_11ea_b927_485ab6c46f1arow3_col2 {\n",
       "            background-color:  #3b4cc0;\n",
       "            color:  #f1f1f1;\n",
       "        }    #T_e1123ef0_798e_11ea_b927_485ab6c46f1arow3_col3 {\n",
       "            background-color:  #b40426;\n",
       "            color:  #f1f1f1;\n",
       "        }    #T_e1123ef0_798e_11ea_b927_485ab6c46f1arow3_col4 {\n",
       "            background-color:  #ea7b60;\n",
       "            color:  #000000;\n",
       "        }    #T_e1123ef0_798e_11ea_b927_485ab6c46f1arow3_col5 {\n",
       "            background-color:  #3b4cc0;\n",
       "            color:  #f1f1f1;\n",
       "        }    #T_e1123ef0_798e_11ea_b927_485ab6c46f1arow3_col6 {\n",
       "            background-color:  #e9785d;\n",
       "            color:  #000000;\n",
       "        }    #T_e1123ef0_798e_11ea_b927_485ab6c46f1arow3_col7 {\n",
       "            background-color:  #3b4cc0;\n",
       "            color:  #f1f1f1;\n",
       "        }    #T_e1123ef0_798e_11ea_b927_485ab6c46f1arow3_col8 {\n",
       "            background-color:  #3b4cc0;\n",
       "            color:  #f1f1f1;\n",
       "        }    #T_e1123ef0_798e_11ea_b927_485ab6c46f1arow3_col9 {\n",
       "            background-color:  #c83836;\n",
       "            color:  #f1f1f1;\n",
       "        }    #T_e1123ef0_798e_11ea_b927_485ab6c46f1arow3_col10 {\n",
       "            background-color:  #c53334;\n",
       "            color:  #f1f1f1;\n",
       "        }    #T_e1123ef0_798e_11ea_b927_485ab6c46f1arow4_col0 {\n",
       "            background-color:  #a6c4fe;\n",
       "            color:  #000000;\n",
       "        }    #T_e1123ef0_798e_11ea_b927_485ab6c46f1arow4_col1 {\n",
       "            background-color:  #4358cb;\n",
       "            color:  #f1f1f1;\n",
       "        }    #T_e1123ef0_798e_11ea_b927_485ab6c46f1arow4_col2 {\n",
       "            background-color:  #5470de;\n",
       "            color:  #000000;\n",
       "        }    #T_e1123ef0_798e_11ea_b927_485ab6c46f1arow4_col3 {\n",
       "            background-color:  #e97a5f;\n",
       "            color:  #000000;\n",
       "        }    #T_e1123ef0_798e_11ea_b927_485ab6c46f1arow4_col4 {\n",
       "            background-color:  #b40426;\n",
       "            color:  #f1f1f1;\n",
       "        }    #T_e1123ef0_798e_11ea_b927_485ab6c46f1arow4_col5 {\n",
       "            background-color:  #485fd1;\n",
       "            color:  #f1f1f1;\n",
       "        }    #T_e1123ef0_798e_11ea_b927_485ab6c46f1arow4_col6 {\n",
       "            background-color:  #e7745b;\n",
       "            color:  #000000;\n",
       "        }    #T_e1123ef0_798e_11ea_b927_485ab6c46f1arow4_col7 {\n",
       "            background-color:  #4a63d3;\n",
       "            color:  #f1f1f1;\n",
       "        }    #T_e1123ef0_798e_11ea_b927_485ab6c46f1arow4_col8 {\n",
       "            background-color:  #485fd1;\n",
       "            color:  #f1f1f1;\n",
       "        }    #T_e1123ef0_798e_11ea_b927_485ab6c46f1arow4_col9 {\n",
       "            background-color:  #cb3e38;\n",
       "            color:  #f1f1f1;\n",
       "        }    #T_e1123ef0_798e_11ea_b927_485ab6c46f1arow4_col10 {\n",
       "            background-color:  #ca3b37;\n",
       "            color:  #f1f1f1;\n",
       "        }    #T_e1123ef0_798e_11ea_b927_485ab6c46f1arow5_col0 {\n",
       "            background-color:  #9bbcff;\n",
       "            color:  #000000;\n",
       "        }    #T_e1123ef0_798e_11ea_b927_485ab6c46f1arow5_col1 {\n",
       "            background-color:  #ed8366;\n",
       "            color:  #000000;\n",
       "        }    #T_e1123ef0_798e_11ea_b927_485ab6c46f1arow5_col2 {\n",
       "            background-color:  #efcfbf;\n",
       "            color:  #000000;\n",
       "        }    #T_e1123ef0_798e_11ea_b927_485ab6c46f1arow5_col3 {\n",
       "            background-color:  #4f69d9;\n",
       "            color:  #000000;\n",
       "        }    #T_e1123ef0_798e_11ea_b927_485ab6c46f1arow5_col4 {\n",
       "            background-color:  #536edd;\n",
       "            color:  #000000;\n",
       "        }    #T_e1123ef0_798e_11ea_b927_485ab6c46f1arow5_col5 {\n",
       "            background-color:  #b40426;\n",
       "            color:  #f1f1f1;\n",
       "        }    #T_e1123ef0_798e_11ea_b927_485ab6c46f1arow5_col6 {\n",
       "            background-color:  #4358cb;\n",
       "            color:  #f1f1f1;\n",
       "        }    #T_e1123ef0_798e_11ea_b927_485ab6c46f1arow5_col7 {\n",
       "            background-color:  #d75445;\n",
       "            color:  #000000;\n",
       "        }    #T_e1123ef0_798e_11ea_b927_485ab6c46f1arow5_col8 {\n",
       "            background-color:  #de614d;\n",
       "            color:  #000000;\n",
       "        }    #T_e1123ef0_798e_11ea_b927_485ab6c46f1arow5_col9 {\n",
       "            background-color:  #536edd;\n",
       "            color:  #000000;\n",
       "        }    #T_e1123ef0_798e_11ea_b927_485ab6c46f1arow5_col10 {\n",
       "            background-color:  #4e68d8;\n",
       "            color:  #000000;\n",
       "        }    #T_e1123ef0_798e_11ea_b927_485ab6c46f1arow6_col0 {\n",
       "            background-color:  #9bbcff;\n",
       "            color:  #000000;\n",
       "        }    #T_e1123ef0_798e_11ea_b927_485ab6c46f1arow6_col1 {\n",
       "            background-color:  #485fd1;\n",
       "            color:  #f1f1f1;\n",
       "        }    #T_e1123ef0_798e_11ea_b927_485ab6c46f1arow6_col2 {\n",
       "            background-color:  #4b64d5;\n",
       "            color:  #f1f1f1;\n",
       "        }    #T_e1123ef0_798e_11ea_b927_485ab6c46f1arow6_col3 {\n",
       "            background-color:  #e7745b;\n",
       "            color:  #000000;\n",
       "        }    #T_e1123ef0_798e_11ea_b927_485ab6c46f1arow6_col4 {\n",
       "            background-color:  #e7745b;\n",
       "            color:  #000000;\n",
       "        }    #T_e1123ef0_798e_11ea_b927_485ab6c46f1arow6_col5 {\n",
       "            background-color:  #3c4ec2;\n",
       "            color:  #f1f1f1;\n",
       "        }    #T_e1123ef0_798e_11ea_b927_485ab6c46f1arow6_col6 {\n",
       "            background-color:  #b40426;\n",
       "            color:  #f1f1f1;\n",
       "        }    #T_e1123ef0_798e_11ea_b927_485ab6c46f1arow6_col7 {\n",
       "            background-color:  #485fd1;\n",
       "            color:  #f1f1f1;\n",
       "        }    #T_e1123ef0_798e_11ea_b927_485ab6c46f1arow6_col8 {\n",
       "            background-color:  #465ecf;\n",
       "            color:  #f1f1f1;\n",
       "        }    #T_e1123ef0_798e_11ea_b927_485ab6c46f1arow6_col9 {\n",
       "            background-color:  #d65244;\n",
       "            color:  #000000;\n",
       "        }    #T_e1123ef0_798e_11ea_b927_485ab6c46f1arow6_col10 {\n",
       "            background-color:  #df634e;\n",
       "            color:  #000000;\n",
       "        }    #T_e1123ef0_798e_11ea_b927_485ab6c46f1arow7_col0 {\n",
       "            background-color:  #90b2fe;\n",
       "            color:  #000000;\n",
       "        }    #T_e1123ef0_798e_11ea_b927_485ab6c46f1arow7_col1 {\n",
       "            background-color:  #d24b40;\n",
       "            color:  #f1f1f1;\n",
       "        }    #T_e1123ef0_798e_11ea_b927_485ab6c46f1arow7_col2 {\n",
       "            background-color:  #f7b79b;\n",
       "            color:  #000000;\n",
       "        }    #T_e1123ef0_798e_11ea_b927_485ab6c46f1arow7_col3 {\n",
       "            background-color:  #445acc;\n",
       "            color:  #f1f1f1;\n",
       "        }    #T_e1123ef0_798e_11ea_b927_485ab6c46f1arow7_col4 {\n",
       "            background-color:  #4b64d5;\n",
       "            color:  #f1f1f1;\n",
       "        }    #T_e1123ef0_798e_11ea_b927_485ab6c46f1arow7_col5 {\n",
       "            background-color:  #d85646;\n",
       "            color:  #000000;\n",
       "        }    #T_e1123ef0_798e_11ea_b927_485ab6c46f1arow7_col6 {\n",
       "            background-color:  #455cce;\n",
       "            color:  #f1f1f1;\n",
       "        }    #T_e1123ef0_798e_11ea_b927_485ab6c46f1arow7_col7 {\n",
       "            background-color:  #b40426;\n",
       "            color:  #f1f1f1;\n",
       "        }    #T_e1123ef0_798e_11ea_b927_485ab6c46f1arow7_col8 {\n",
       "            background-color:  #b8122a;\n",
       "            color:  #f1f1f1;\n",
       "        }    #T_e1123ef0_798e_11ea_b927_485ab6c46f1arow7_col9 {\n",
       "            background-color:  #4a63d3;\n",
       "            color:  #f1f1f1;\n",
       "        }    #T_e1123ef0_798e_11ea_b927_485ab6c46f1arow7_col10 {\n",
       "            background-color:  #455cce;\n",
       "            color:  #f1f1f1;\n",
       "        }    #T_e1123ef0_798e_11ea_b927_485ab6c46f1arow8_col0 {\n",
       "            background-color:  #97b8ff;\n",
       "            color:  #000000;\n",
       "        }    #T_e1123ef0_798e_11ea_b927_485ab6c46f1arow8_col1 {\n",
       "            background-color:  #d44e41;\n",
       "            color:  #000000;\n",
       "        }    #T_e1123ef0_798e_11ea_b927_485ab6c46f1arow8_col2 {\n",
       "            background-color:  #f7b497;\n",
       "            color:  #000000;\n",
       "        }    #T_e1123ef0_798e_11ea_b927_485ab6c46f1arow8_col3 {\n",
       "            background-color:  #4257c9;\n",
       "            color:  #f1f1f1;\n",
       "        }    #T_e1123ef0_798e_11ea_b927_485ab6c46f1arow8_col4 {\n",
       "            background-color:  #465ecf;\n",
       "            color:  #f1f1f1;\n",
       "        }    #T_e1123ef0_798e_11ea_b927_485ab6c46f1arow8_col5 {\n",
       "            background-color:  #df634e;\n",
       "            color:  #000000;\n",
       "        }    #T_e1123ef0_798e_11ea_b927_485ab6c46f1arow8_col6 {\n",
       "            background-color:  #4055c8;\n",
       "            color:  #f1f1f1;\n",
       "        }    #T_e1123ef0_798e_11ea_b927_485ab6c46f1arow8_col7 {\n",
       "            background-color:  #b8122a;\n",
       "            color:  #f1f1f1;\n",
       "        }    #T_e1123ef0_798e_11ea_b927_485ab6c46f1arow8_col8 {\n",
       "            background-color:  #b40426;\n",
       "            color:  #f1f1f1;\n",
       "        }    #T_e1123ef0_798e_11ea_b927_485ab6c46f1arow8_col9 {\n",
       "            background-color:  #465ecf;\n",
       "            color:  #f1f1f1;\n",
       "        }    #T_e1123ef0_798e_11ea_b927_485ab6c46f1arow8_col10 {\n",
       "            background-color:  #4257c9;\n",
       "            color:  #f1f1f1;\n",
       "        }    #T_e1123ef0_798e_11ea_b927_485ab6c46f1arow9_col0 {\n",
       "            background-color:  #aac7fd;\n",
       "            color:  #000000;\n",
       "        }    #T_e1123ef0_798e_11ea_b927_485ab6c46f1arow9_col1 {\n",
       "            background-color:  #3b4cc0;\n",
       "            color:  #f1f1f1;\n",
       "        }    #T_e1123ef0_798e_11ea_b927_485ab6c46f1arow9_col2 {\n",
       "            background-color:  #4e68d8;\n",
       "            color:  #000000;\n",
       "        }    #T_e1123ef0_798e_11ea_b927_485ab6c46f1arow9_col3 {\n",
       "            background-color:  #c83836;\n",
       "            color:  #f1f1f1;\n",
       "        }    #T_e1123ef0_798e_11ea_b927_485ab6c46f1arow9_col4 {\n",
       "            background-color:  #cb3e38;\n",
       "            color:  #f1f1f1;\n",
       "        }    #T_e1123ef0_798e_11ea_b927_485ab6c46f1arow9_col5 {\n",
       "            background-color:  #3f53c6;\n",
       "            color:  #f1f1f1;\n",
       "        }    #T_e1123ef0_798e_11ea_b927_485ab6c46f1arow9_col6 {\n",
       "            background-color:  #d75445;\n",
       "            color:  #000000;\n",
       "        }    #T_e1123ef0_798e_11ea_b927_485ab6c46f1arow9_col7 {\n",
       "            background-color:  #3f53c6;\n",
       "            color:  #f1f1f1;\n",
       "        }    #T_e1123ef0_798e_11ea_b927_485ab6c46f1arow9_col8 {\n",
       "            background-color:  #3e51c5;\n",
       "            color:  #f1f1f1;\n",
       "        }    #T_e1123ef0_798e_11ea_b927_485ab6c46f1arow9_col9 {\n",
       "            background-color:  #b40426;\n",
       "            color:  #f1f1f1;\n",
       "        }    #T_e1123ef0_798e_11ea_b927_485ab6c46f1arow9_col10 {\n",
       "            background-color:  #ba162b;\n",
       "            color:  #f1f1f1;\n",
       "        }    #T_e1123ef0_798e_11ea_b927_485ab6c46f1arow10_col0 {\n",
       "            background-color:  #a5c3fe;\n",
       "            color:  #000000;\n",
       "        }    #T_e1123ef0_798e_11ea_b927_485ab6c46f1arow10_col1 {\n",
       "            background-color:  #3b4cc0;\n",
       "            color:  #f1f1f1;\n",
       "        }    #T_e1123ef0_798e_11ea_b927_485ab6c46f1arow10_col2 {\n",
       "            background-color:  #4257c9;\n",
       "            color:  #f1f1f1;\n",
       "        }    #T_e1123ef0_798e_11ea_b927_485ab6c46f1arow10_col3 {\n",
       "            background-color:  #c53334;\n",
       "            color:  #f1f1f1;\n",
       "        }    #T_e1123ef0_798e_11ea_b927_485ab6c46f1arow10_col4 {\n",
       "            background-color:  #cb3e38;\n",
       "            color:  #f1f1f1;\n",
       "        }    #T_e1123ef0_798e_11ea_b927_485ab6c46f1arow10_col5 {\n",
       "            background-color:  #3b4cc0;\n",
       "            color:  #f1f1f1;\n",
       "        }    #T_e1123ef0_798e_11ea_b927_485ab6c46f1arow10_col6 {\n",
       "            background-color:  #e0654f;\n",
       "            color:  #000000;\n",
       "        }    #T_e1123ef0_798e_11ea_b927_485ab6c46f1arow10_col7 {\n",
       "            background-color:  #3b4cc0;\n",
       "            color:  #f1f1f1;\n",
       "        }    #T_e1123ef0_798e_11ea_b927_485ab6c46f1arow10_col8 {\n",
       "            background-color:  #3b4cc0;\n",
       "            color:  #f1f1f1;\n",
       "        }    #T_e1123ef0_798e_11ea_b927_485ab6c46f1arow10_col9 {\n",
       "            background-color:  #ba162b;\n",
       "            color:  #f1f1f1;\n",
       "        }    #T_e1123ef0_798e_11ea_b927_485ab6c46f1arow10_col10 {\n",
       "            background-color:  #b40426;\n",
       "            color:  #f1f1f1;\n",
       "        }</style><table id=\"T_e1123ef0_798e_11ea_b927_485ab6c46f1a\" ><thead>    <tr>        <th class=\"blank level0\" ></th>        <th class=\"col_heading level0 col0\" >first_serve_perc</th>        <th class=\"col_heading level0 col1\" >first_serve_points_won_perc</th>        <th class=\"col_heading level0 col2\" >second_serve_points_won_perc</th>        <th class=\"col_heading level0 col3\" >first_serve_return_points_won_perc</th>        <th class=\"col_heading level0 col4\" >second_serve_return_points_won_perc</th>        <th class=\"col_heading level0 col5\" >break_points_saved_perc</th>        <th class=\"col_heading level0 col6\" >break_points_converted_perc</th>        <th class=\"col_heading level0 col7\" >service_games_won_perc</th>        <th class=\"col_heading level0 col8\" >service_points_won_perc</th>        <th class=\"col_heading level0 col9\" >return_games_won_perc</th>        <th class=\"col_heading level0 col10\" >return_points_won_perc</th>    </tr></thead><tbody>\n",
       "                <tr>\n",
       "                        <th id=\"T_e1123ef0_798e_11ea_b927_485ab6c46f1alevel0_row0\" class=\"row_heading level0 row0\" >first_serve_perc</th>\n",
       "                        <td id=\"T_e1123ef0_798e_11ea_b927_485ab6c46f1arow0_col0\" class=\"data row0 col0\" >1</td>\n",
       "                        <td id=\"T_e1123ef0_798e_11ea_b927_485ab6c46f1arow0_col1\" class=\"data row0 col1\" >-0.386574</td>\n",
       "                        <td id=\"T_e1123ef0_798e_11ea_b927_485ab6c46f1arow0_col2\" class=\"data row0 col2\" >0.15769</td>\n",
       "                        <td id=\"T_e1123ef0_798e_11ea_b927_485ab6c46f1arow0_col3\" class=\"data row0 col3\" >0.095719</td>\n",
       "                        <td id=\"T_e1123ef0_798e_11ea_b927_485ab6c46f1arow0_col4\" class=\"data row0 col4\" >0.0607791</td>\n",
       "                        <td id=\"T_e1123ef0_798e_11ea_b927_485ab6c46f1arow0_col5\" class=\"data row0 col5\" >0.01667</td>\n",
       "                        <td id=\"T_e1123ef0_798e_11ea_b927_485ab6c46f1arow0_col6\" class=\"data row0 col6\" >0.0143383</td>\n",
       "                        <td id=\"T_e1123ef0_798e_11ea_b927_485ab6c46f1arow0_col7\" class=\"data row0 col7\" >-0.0244171</td>\n",
       "                        <td id=\"T_e1123ef0_798e_11ea_b927_485ab6c46f1arow0_col8\" class=\"data row0 col8\" >-0.00184803</td>\n",
       "                        <td id=\"T_e1123ef0_798e_11ea_b927_485ab6c46f1arow0_col9\" class=\"data row0 col9\" >0.0781367</td>\n",
       "                        <td id=\"T_e1123ef0_798e_11ea_b927_485ab6c46f1arow0_col10\" class=\"data row0 col10\" >0.0557335</td>\n",
       "            </tr>\n",
       "            <tr>\n",
       "                        <th id=\"T_e1123ef0_798e_11ea_b927_485ab6c46f1alevel0_row1\" class=\"row_heading level0 row1\" >first_serve_points_won_perc</th>\n",
       "                        <td id=\"T_e1123ef0_798e_11ea_b927_485ab6c46f1arow1_col0\" class=\"data row1 col0\" >-0.386574</td>\n",
       "                        <td id=\"T_e1123ef0_798e_11ea_b927_485ab6c46f1arow1_col1\" class=\"data row1 col1\" >1</td>\n",
       "                        <td id=\"T_e1123ef0_798e_11ea_b927_485ab6c46f1arow1_col2\" class=\"data row1 col2\" >0.327865</td>\n",
       "                        <td id=\"T_e1123ef0_798e_11ea_b927_485ab6c46f1arow1_col3\" class=\"data row1 col3\" >-0.405206</td>\n",
       "                        <td id=\"T_e1123ef0_798e_11ea_b927_485ab6c46f1arow1_col4\" class=\"data row1 col4\" >-0.363319</td>\n",
       "                        <td id=\"T_e1123ef0_798e_11ea_b927_485ab6c46f1arow1_col5\" class=\"data row1 col5\" >0.720326</td>\n",
       "                        <td id=\"T_e1123ef0_798e_11ea_b927_485ab6c46f1arow1_col6\" class=\"data row1 col6\" >-0.346011</td>\n",
       "                        <td id=\"T_e1123ef0_798e_11ea_b927_485ab6c46f1arow1_col7\" class=\"data row1 col7\" >0.876645</td>\n",
       "                        <td id=\"T_e1123ef0_798e_11ea_b927_485ab6c46f1arow1_col8\" class=\"data row1 col8\" >0.873002</td>\n",
       "                        <td id=\"T_e1123ef0_798e_11ea_b927_485ab6c46f1arow1_col9\" class=\"data row1 col9\" >-0.406316</td>\n",
       "                        <td id=\"T_e1123ef0_798e_11ea_b927_485ab6c46f1arow1_col10\" class=\"data row1 col10\" >-0.407132</td>\n",
       "            </tr>\n",
       "            <tr>\n",
       "                        <th id=\"T_e1123ef0_798e_11ea_b927_485ab6c46f1alevel0_row2\" class=\"row_heading level0 row2\" >second_serve_points_won_perc</th>\n",
       "                        <td id=\"T_e1123ef0_798e_11ea_b927_485ab6c46f1arow2_col0\" class=\"data row2 col0\" >0.15769</td>\n",
       "                        <td id=\"T_e1123ef0_798e_11ea_b927_485ab6c46f1arow2_col1\" class=\"data row2 col1\" >0.327865</td>\n",
       "                        <td id=\"T_e1123ef0_798e_11ea_b927_485ab6c46f1arow2_col2\" class=\"data row2 col2\" >1</td>\n",
       "                        <td id=\"T_e1123ef0_798e_11ea_b927_485ab6c46f1arow2_col3\" class=\"data row2 col3\" >-0.0681602</td>\n",
       "                        <td id=\"T_e1123ef0_798e_11ea_b927_485ab6c46f1arow2_col4\" class=\"data row2 col4\" >0.0226514</td>\n",
       "                        <td id=\"T_e1123ef0_798e_11ea_b927_485ab6c46f1arow2_col5\" class=\"data row2 col5\" >0.550621</td>\n",
       "                        <td id=\"T_e1123ef0_798e_11ea_b927_485ab6c46f1arow2_col6\" class=\"data row2 col6\" >-0.00777407</td>\n",
       "                        <td id=\"T_e1123ef0_798e_11ea_b927_485ab6c46f1arow2_col7\" class=\"data row2 col7\" >0.648911</td>\n",
       "                        <td id=\"T_e1123ef0_798e_11ea_b927_485ab6c46f1arow2_col8\" class=\"data row2 col8\" >0.656156</td>\n",
       "                        <td id=\"T_e1123ef0_798e_11ea_b927_485ab6c46f1arow2_col9\" class=\"data row2 col9\" >0.000331591</td>\n",
       "                        <td id=\"T_e1123ef0_798e_11ea_b927_485ab6c46f1arow2_col10\" class=\"data row2 col10\" >-0.0403915</td>\n",
       "            </tr>\n",
       "            <tr>\n",
       "                        <th id=\"T_e1123ef0_798e_11ea_b927_485ab6c46f1alevel0_row3\" class=\"row_heading level0 row3\" >first_serve_return_points_won_perc</th>\n",
       "                        <td id=\"T_e1123ef0_798e_11ea_b927_485ab6c46f1arow3_col0\" class=\"data row3 col0\" >0.095719</td>\n",
       "                        <td id=\"T_e1123ef0_798e_11ea_b927_485ab6c46f1arow3_col1\" class=\"data row3 col1\" >-0.405206</td>\n",
       "                        <td id=\"T_e1123ef0_798e_11ea_b927_485ab6c46f1arow3_col2\" class=\"data row3 col2\" >-0.0681602</td>\n",
       "                        <td id=\"T_e1123ef0_798e_11ea_b927_485ab6c46f1arow3_col3\" class=\"data row3 col3\" >1</td>\n",
       "                        <td id=\"T_e1123ef0_798e_11ea_b927_485ab6c46f1arow3_col4\" class=\"data row3 col4\" >0.752849</td>\n",
       "                        <td id=\"T_e1123ef0_798e_11ea_b927_485ab6c46f1arow3_col5\" class=\"data row3 col5\" >-0.310354</td>\n",
       "                        <td id=\"T_e1123ef0_798e_11ea_b927_485ab6c46f1arow3_col6\" class=\"data row3 col6\" >0.765809</td>\n",
       "                        <td id=\"T_e1123ef0_798e_11ea_b927_485ab6c46f1arow3_col7\" class=\"data row3 col7\" >-0.357253</td>\n",
       "                        <td id=\"T_e1123ef0_798e_11ea_b927_485ab6c46f1arow3_col8\" class=\"data row3 col8\" >-0.367817</td>\n",
       "                        <td id=\"T_e1123ef0_798e_11ea_b927_485ab6c46f1arow3_col9\" class=\"data row3 col9\" >0.922549</td>\n",
       "                        <td id=\"T_e1123ef0_798e_11ea_b927_485ab6c46f1arow3_col10\" class=\"data row3 col10\" >0.929948</td>\n",
       "            </tr>\n",
       "            <tr>\n",
       "                        <th id=\"T_e1123ef0_798e_11ea_b927_485ab6c46f1alevel0_row4\" class=\"row_heading level0 row4\" >second_serve_return_points_won_perc</th>\n",
       "                        <td id=\"T_e1123ef0_798e_11ea_b927_485ab6c46f1arow4_col0\" class=\"data row4 col0\" >0.0607791</td>\n",
       "                        <td id=\"T_e1123ef0_798e_11ea_b927_485ab6c46f1arow4_col1\" class=\"data row4 col1\" >-0.363319</td>\n",
       "                        <td id=\"T_e1123ef0_798e_11ea_b927_485ab6c46f1arow4_col2\" class=\"data row4 col2\" >0.0226514</td>\n",
       "                        <td id=\"T_e1123ef0_798e_11ea_b927_485ab6c46f1arow4_col3\" class=\"data row4 col3\" >0.752849</td>\n",
       "                        <td id=\"T_e1123ef0_798e_11ea_b927_485ab6c46f1arow4_col4\" class=\"data row4 col4\" >1</td>\n",
       "                        <td id=\"T_e1123ef0_798e_11ea_b927_485ab6c46f1arow4_col5\" class=\"data row4 col5\" >-0.255199</td>\n",
       "                        <td id=\"T_e1123ef0_798e_11ea_b927_485ab6c46f1arow4_col6\" class=\"data row4 col6\" >0.775494</td>\n",
       "                        <td id=\"T_e1123ef0_798e_11ea_b927_485ab6c46f1arow4_col7\" class=\"data row4 col7\" >-0.286044</td>\n",
       "                        <td id=\"T_e1123ef0_798e_11ea_b927_485ab6c46f1arow4_col8\" class=\"data row4 col8\" >-0.309523</td>\n",
       "                        <td id=\"T_e1123ef0_798e_11ea_b927_485ab6c46f1arow4_col9\" class=\"data row4 col9\" >0.910777</td>\n",
       "                        <td id=\"T_e1123ef0_798e_11ea_b927_485ab6c46f1arow4_col10\" class=\"data row4 col10\" >0.913773</td>\n",
       "            </tr>\n",
       "            <tr>\n",
       "                        <th id=\"T_e1123ef0_798e_11ea_b927_485ab6c46f1alevel0_row5\" class=\"row_heading level0 row5\" >break_points_saved_perc</th>\n",
       "                        <td id=\"T_e1123ef0_798e_11ea_b927_485ab6c46f1arow5_col0\" class=\"data row5 col0\" >0.01667</td>\n",
       "                        <td id=\"T_e1123ef0_798e_11ea_b927_485ab6c46f1arow5_col1\" class=\"data row5 col1\" >0.720326</td>\n",
       "                        <td id=\"T_e1123ef0_798e_11ea_b927_485ab6c46f1arow5_col2\" class=\"data row5 col2\" >0.550621</td>\n",
       "                        <td id=\"T_e1123ef0_798e_11ea_b927_485ab6c46f1arow5_col3\" class=\"data row5 col3\" >-0.310354</td>\n",
       "                        <td id=\"T_e1123ef0_798e_11ea_b927_485ab6c46f1arow5_col4\" class=\"data row5 col4\" >-0.255199</td>\n",
       "                        <td id=\"T_e1123ef0_798e_11ea_b927_485ab6c46f1arow5_col5\" class=\"data row5 col5\" >1</td>\n",
       "                        <td id=\"T_e1123ef0_798e_11ea_b927_485ab6c46f1arow5_col6\" class=\"data row5 col6\" >-0.305365</td>\n",
       "                        <td id=\"T_e1123ef0_798e_11ea_b927_485ab6c46f1arow5_col7\" class=\"data row5 col7\" >0.857108</td>\n",
       "                        <td id=\"T_e1123ef0_798e_11ea_b927_485ab6c46f1arow5_col8\" class=\"data row5 col8\" >0.8265</td>\n",
       "                        <td id=\"T_e1123ef0_798e_11ea_b927_485ab6c46f1arow5_col9\" class=\"data row5 col9\" >-0.292818</td>\n",
       "                        <td id=\"T_e1123ef0_798e_11ea_b927_485ab6c46f1arow5_col10\" class=\"data row5 col10\" >-0.313839</td>\n",
       "            </tr>\n",
       "            <tr>\n",
       "                        <th id=\"T_e1123ef0_798e_11ea_b927_485ab6c46f1alevel0_row6\" class=\"row_heading level0 row6\" >break_points_converted_perc</th>\n",
       "                        <td id=\"T_e1123ef0_798e_11ea_b927_485ab6c46f1arow6_col0\" class=\"data row6 col0\" >0.0143383</td>\n",
       "                        <td id=\"T_e1123ef0_798e_11ea_b927_485ab6c46f1arow6_col1\" class=\"data row6 col1\" >-0.346011</td>\n",
       "                        <td id=\"T_e1123ef0_798e_11ea_b927_485ab6c46f1arow6_col2\" class=\"data row6 col2\" >-0.00777407</td>\n",
       "                        <td id=\"T_e1123ef0_798e_11ea_b927_485ab6c46f1arow6_col3\" class=\"data row6 col3\" >0.765809</td>\n",
       "                        <td id=\"T_e1123ef0_798e_11ea_b927_485ab6c46f1arow6_col4\" class=\"data row6 col4\" >0.775494</td>\n",
       "                        <td id=\"T_e1123ef0_798e_11ea_b927_485ab6c46f1arow6_col5\" class=\"data row6 col5\" >-0.305365</td>\n",
       "                        <td id=\"T_e1123ef0_798e_11ea_b927_485ab6c46f1arow6_col6\" class=\"data row6 col6\" >1</td>\n",
       "                        <td id=\"T_e1123ef0_798e_11ea_b927_485ab6c46f1arow6_col7\" class=\"data row6 col7\" >-0.298424</td>\n",
       "                        <td id=\"T_e1123ef0_798e_11ea_b927_485ab6c46f1arow6_col8\" class=\"data row6 col8\" >-0.315164</td>\n",
       "                        <td id=\"T_e1123ef0_798e_11ea_b927_485ab6c46f1arow6_col9\" class=\"data row6 col9\" >0.860509</td>\n",
       "                        <td id=\"T_e1123ef0_798e_11ea_b927_485ab6c46f1arow6_col10\" class=\"data row6 col10\" >0.816219</td>\n",
       "            </tr>\n",
       "            <tr>\n",
       "                        <th id=\"T_e1123ef0_798e_11ea_b927_485ab6c46f1alevel0_row7\" class=\"row_heading level0 row7\" >service_games_won_perc</th>\n",
       "                        <td id=\"T_e1123ef0_798e_11ea_b927_485ab6c46f1arow7_col0\" class=\"data row7 col0\" >-0.0244171</td>\n",
       "                        <td id=\"T_e1123ef0_798e_11ea_b927_485ab6c46f1arow7_col1\" class=\"data row7 col1\" >0.876645</td>\n",
       "                        <td id=\"T_e1123ef0_798e_11ea_b927_485ab6c46f1arow7_col2\" class=\"data row7 col2\" >0.648911</td>\n",
       "                        <td id=\"T_e1123ef0_798e_11ea_b927_485ab6c46f1arow7_col3\" class=\"data row7 col3\" >-0.357253</td>\n",
       "                        <td id=\"T_e1123ef0_798e_11ea_b927_485ab6c46f1arow7_col4\" class=\"data row7 col4\" >-0.286044</td>\n",
       "                        <td id=\"T_e1123ef0_798e_11ea_b927_485ab6c46f1arow7_col5\" class=\"data row7 col5\" >0.857108</td>\n",
       "                        <td id=\"T_e1123ef0_798e_11ea_b927_485ab6c46f1arow7_col6\" class=\"data row7 col6\" >-0.298424</td>\n",
       "                        <td id=\"T_e1123ef0_798e_11ea_b927_485ab6c46f1arow7_col7\" class=\"data row7 col7\" >1</td>\n",
       "                        <td id=\"T_e1123ef0_798e_11ea_b927_485ab6c46f1arow7_col8\" class=\"data row7 col8\" >0.98196</td>\n",
       "                        <td id=\"T_e1123ef0_798e_11ea_b927_485ab6c46f1arow7_col9\" class=\"data row7 col9\" >-0.334712</td>\n",
       "                        <td id=\"T_e1123ef0_798e_11ea_b927_485ab6c46f1arow7_col10\" class=\"data row7 col10\" >-0.352896</td>\n",
       "            </tr>\n",
       "            <tr>\n",
       "                        <th id=\"T_e1123ef0_798e_11ea_b927_485ab6c46f1alevel0_row8\" class=\"row_heading level0 row8\" >service_points_won_perc</th>\n",
       "                        <td id=\"T_e1123ef0_798e_11ea_b927_485ab6c46f1arow8_col0\" class=\"data row8 col0\" >-0.00184803</td>\n",
       "                        <td id=\"T_e1123ef0_798e_11ea_b927_485ab6c46f1arow8_col1\" class=\"data row8 col1\" >0.873002</td>\n",
       "                        <td id=\"T_e1123ef0_798e_11ea_b927_485ab6c46f1arow8_col2\" class=\"data row8 col2\" >0.656156</td>\n",
       "                        <td id=\"T_e1123ef0_798e_11ea_b927_485ab6c46f1arow8_col3\" class=\"data row8 col3\" >-0.367817</td>\n",
       "                        <td id=\"T_e1123ef0_798e_11ea_b927_485ab6c46f1arow8_col4\" class=\"data row8 col4\" >-0.309523</td>\n",
       "                        <td id=\"T_e1123ef0_798e_11ea_b927_485ab6c46f1arow8_col5\" class=\"data row8 col5\" >0.8265</td>\n",
       "                        <td id=\"T_e1123ef0_798e_11ea_b927_485ab6c46f1arow8_col6\" class=\"data row8 col6\" >-0.315164</td>\n",
       "                        <td id=\"T_e1123ef0_798e_11ea_b927_485ab6c46f1arow8_col7\" class=\"data row8 col7\" >0.98196</td>\n",
       "                        <td id=\"T_e1123ef0_798e_11ea_b927_485ab6c46f1arow8_col8\" class=\"data row8 col8\" >1</td>\n",
       "                        <td id=\"T_e1123ef0_798e_11ea_b927_485ab6c46f1arow8_col9\" class=\"data row8 col9\" >-0.351258</td>\n",
       "                        <td id=\"T_e1123ef0_798e_11ea_b927_485ab6c46f1arow8_col10\" class=\"data row8 col10\" >-0.370865</td>\n",
       "            </tr>\n",
       "            <tr>\n",
       "                        <th id=\"T_e1123ef0_798e_11ea_b927_485ab6c46f1alevel0_row9\" class=\"row_heading level0 row9\" >return_games_won_perc</th>\n",
       "                        <td id=\"T_e1123ef0_798e_11ea_b927_485ab6c46f1arow9_col0\" class=\"data row9 col0\" >0.0781367</td>\n",
       "                        <td id=\"T_e1123ef0_798e_11ea_b927_485ab6c46f1arow9_col1\" class=\"data row9 col1\" >-0.406316</td>\n",
       "                        <td id=\"T_e1123ef0_798e_11ea_b927_485ab6c46f1arow9_col2\" class=\"data row9 col2\" >0.000331591</td>\n",
       "                        <td id=\"T_e1123ef0_798e_11ea_b927_485ab6c46f1arow9_col3\" class=\"data row9 col3\" >0.922549</td>\n",
       "                        <td id=\"T_e1123ef0_798e_11ea_b927_485ab6c46f1arow9_col4\" class=\"data row9 col4\" >0.910777</td>\n",
       "                        <td id=\"T_e1123ef0_798e_11ea_b927_485ab6c46f1arow9_col5\" class=\"data row9 col5\" >-0.292818</td>\n",
       "                        <td id=\"T_e1123ef0_798e_11ea_b927_485ab6c46f1arow9_col6\" class=\"data row9 col6\" >0.860509</td>\n",
       "                        <td id=\"T_e1123ef0_798e_11ea_b927_485ab6c46f1arow9_col7\" class=\"data row9 col7\" >-0.334712</td>\n",
       "                        <td id=\"T_e1123ef0_798e_11ea_b927_485ab6c46f1arow9_col8\" class=\"data row9 col8\" >-0.351258</td>\n",
       "                        <td id=\"T_e1123ef0_798e_11ea_b927_485ab6c46f1arow9_col9\" class=\"data row9 col9\" >1</td>\n",
       "                        <td id=\"T_e1123ef0_798e_11ea_b927_485ab6c46f1arow9_col10\" class=\"data row9 col10\" >0.977476</td>\n",
       "            </tr>\n",
       "            <tr>\n",
       "                        <th id=\"T_e1123ef0_798e_11ea_b927_485ab6c46f1alevel0_row10\" class=\"row_heading level0 row10\" >return_points_won_perc</th>\n",
       "                        <td id=\"T_e1123ef0_798e_11ea_b927_485ab6c46f1arow10_col0\" class=\"data row10 col0\" >0.0557335</td>\n",
       "                        <td id=\"T_e1123ef0_798e_11ea_b927_485ab6c46f1arow10_col1\" class=\"data row10 col1\" >-0.407132</td>\n",
       "                        <td id=\"T_e1123ef0_798e_11ea_b927_485ab6c46f1arow10_col2\" class=\"data row10 col2\" >-0.0403915</td>\n",
       "                        <td id=\"T_e1123ef0_798e_11ea_b927_485ab6c46f1arow10_col3\" class=\"data row10 col3\" >0.929948</td>\n",
       "                        <td id=\"T_e1123ef0_798e_11ea_b927_485ab6c46f1arow10_col4\" class=\"data row10 col4\" >0.913773</td>\n",
       "                        <td id=\"T_e1123ef0_798e_11ea_b927_485ab6c46f1arow10_col5\" class=\"data row10 col5\" >-0.313839</td>\n",
       "                        <td id=\"T_e1123ef0_798e_11ea_b927_485ab6c46f1arow10_col6\" class=\"data row10 col6\" >0.816219</td>\n",
       "                        <td id=\"T_e1123ef0_798e_11ea_b927_485ab6c46f1arow10_col7\" class=\"data row10 col7\" >-0.352896</td>\n",
       "                        <td id=\"T_e1123ef0_798e_11ea_b927_485ab6c46f1arow10_col8\" class=\"data row10 col8\" >-0.370865</td>\n",
       "                        <td id=\"T_e1123ef0_798e_11ea_b927_485ab6c46f1arow10_col9\" class=\"data row10 col9\" >0.977476</td>\n",
       "                        <td id=\"T_e1123ef0_798e_11ea_b927_485ab6c46f1arow10_col10\" class=\"data row10 col10\" >1</td>\n",
       "            </tr>\n",
       "    </tbody></table>"
      ],
      "text/plain": [
       "<pandas.io.formats.style.Styler at 0x24b80f39448>"
      ]
     },
     "execution_count": 354,
     "metadata": {},
     "output_type": "execute_result"
    }
   ],
   "source": [
    "corr = df.corr()\n",
    "corr.style.background_gradient(cmap='coolwarm')"
   ]
  },
  {
   "cell_type": "code",
   "execution_count": 355,
   "metadata": {
    "ExecuteTime": {
     "end_time": "2020-04-08T11:48:35.800691Z",
     "start_time": "2020-04-08T11:48:35.797680Z"
    },
    "hidden": true
   },
   "outputs": [],
   "source": [
    "must_keep = ['service_games_won_perc', 'return_games_won_perc', \n",
    "             'second_serve_points_won_perc', 'second_serve_return_points_won_perc',\n",
    "            'break_points_saved_perc', 'break_points_converted_perc']\n",
    "to_drop = ['service_points_won_perc', 'return_points_won_perc',\n",
    "          'first_serve_points_won_perc', 'first_serve_return_points_won_perc',\n",
    "          'first_serve_perc']"
   ]
  },
  {
   "cell_type": "code",
   "execution_count": 356,
   "metadata": {
    "ExecuteTime": {
     "end_time": "2020-04-08T11:48:36.200703Z",
     "start_time": "2020-04-08T11:48:36.196687Z"
    },
    "hidden": true
   },
   "outputs": [],
   "source": [
    "df.drop(to_drop, axis = 1, inplace = True)"
   ]
  },
  {
   "cell_type": "code",
   "execution_count": 357,
   "metadata": {
    "ExecuteTime": {
     "end_time": "2020-04-08T11:48:36.566243Z",
     "start_time": "2020-04-08T11:48:36.541244Z"
    },
    "hidden": true,
    "scrolled": true
   },
   "outputs": [
    {
     "data": {
      "text/html": [
       "<style  type=\"text/css\" >\n",
       "    #T_e19b579c_798e_11ea_80d6_485ab6c46f1arow0_col0 {\n",
       "            background-color:  #b40426;\n",
       "            color:  #f1f1f1;\n",
       "        }    #T_e19b579c_798e_11ea_80d6_485ab6c46f1arow0_col1 {\n",
       "            background-color:  #89acfd;\n",
       "            color:  #000000;\n",
       "        }    #T_e19b579c_798e_11ea_80d6_485ab6c46f1arow0_col2 {\n",
       "            background-color:  #f7bca1;\n",
       "            color:  #000000;\n",
       "        }    #T_e19b579c_798e_11ea_80d6_485ab6c46f1arow0_col3 {\n",
       "            background-color:  #85a8fc;\n",
       "            color:  #000000;\n",
       "        }    #T_e19b579c_798e_11ea_80d6_485ab6c46f1arow0_col4 {\n",
       "            background-color:  #f59f80;\n",
       "            color:  #000000;\n",
       "        }    #T_e19b579c_798e_11ea_80d6_485ab6c46f1arow0_col5 {\n",
       "            background-color:  #8db0fe;\n",
       "            color:  #000000;\n",
       "        }    #T_e19b579c_798e_11ea_80d6_485ab6c46f1arow1_col0 {\n",
       "            background-color:  #4358cb;\n",
       "            color:  #f1f1f1;\n",
       "        }    #T_e19b579c_798e_11ea_80d6_485ab6c46f1arow1_col1 {\n",
       "            background-color:  #b40426;\n",
       "            color:  #f1f1f1;\n",
       "        }    #T_e19b579c_798e_11ea_80d6_485ab6c46f1arow1_col2 {\n",
       "            background-color:  #455cce;\n",
       "            color:  #f1f1f1;\n",
       "        }    #T_e19b579c_798e_11ea_80d6_485ab6c46f1arow1_col3 {\n",
       "            background-color:  #e9785d;\n",
       "            color:  #000000;\n",
       "        }    #T_e19b579c_798e_11ea_80d6_485ab6c46f1arow1_col4 {\n",
       "            background-color:  #455cce;\n",
       "            color:  #f1f1f1;\n",
       "        }    #T_e19b579c_798e_11ea_80d6_485ab6c46f1arow1_col5 {\n",
       "            background-color:  #cc403a;\n",
       "            color:  #f1f1f1;\n",
       "        }    #T_e19b579c_798e_11ea_80d6_485ab6c46f1arow2_col0 {\n",
       "            background-color:  #ead5c9;\n",
       "            color:  #000000;\n",
       "        }    #T_e19b579c_798e_11ea_80d6_485ab6c46f1arow2_col1 {\n",
       "            background-color:  #4257c9;\n",
       "            color:  #f1f1f1;\n",
       "        }    #T_e19b579c_798e_11ea_80d6_485ab6c46f1arow2_col2 {\n",
       "            background-color:  #b40426;\n",
       "            color:  #f1f1f1;\n",
       "        }    #T_e19b579c_798e_11ea_80d6_485ab6c46f1arow2_col3 {\n",
       "            background-color:  #3b4cc0;\n",
       "            color:  #f1f1f1;\n",
       "        }    #T_e19b579c_798e_11ea_80d6_485ab6c46f1arow2_col4 {\n",
       "            background-color:  #d85646;\n",
       "            color:  #000000;\n",
       "        }    #T_e19b579c_798e_11ea_80d6_485ab6c46f1arow2_col5 {\n",
       "            background-color:  #445acc;\n",
       "            color:  #f1f1f1;\n",
       "        }    #T_e19b579c_798e_11ea_80d6_485ab6c46f1arow3_col0 {\n",
       "            background-color:  #3b4cc0;\n",
       "            color:  #f1f1f1;\n",
       "        }    #T_e19b579c_798e_11ea_80d6_485ab6c46f1arow3_col1 {\n",
       "            background-color:  #e9785d;\n",
       "            color:  #000000;\n",
       "        }    #T_e19b579c_798e_11ea_80d6_485ab6c46f1arow3_col2 {\n",
       "            background-color:  #3b4cc0;\n",
       "            color:  #f1f1f1;\n",
       "        }    #T_e19b579c_798e_11ea_80d6_485ab6c46f1arow3_col3 {\n",
       "            background-color:  #b40426;\n",
       "            color:  #f1f1f1;\n",
       "        }    #T_e19b579c_798e_11ea_80d6_485ab6c46f1arow3_col4 {\n",
       "            background-color:  #4257c9;\n",
       "            color:  #f1f1f1;\n",
       "        }    #T_e19b579c_798e_11ea_80d6_485ab6c46f1arow3_col5 {\n",
       "            background-color:  #d75445;\n",
       "            color:  #000000;\n",
       "        }    #T_e19b579c_798e_11ea_80d6_485ab6c46f1arow4_col0 {\n",
       "            background-color:  #f6bda2;\n",
       "            color:  #000000;\n",
       "        }    #T_e19b579c_798e_11ea_80d6_485ab6c46f1arow4_col1 {\n",
       "            background-color:  #3b4cc0;\n",
       "            color:  #f1f1f1;\n",
       "        }    #T_e19b579c_798e_11ea_80d6_485ab6c46f1arow4_col2 {\n",
       "            background-color:  #d95847;\n",
       "            color:  #000000;\n",
       "        }    #T_e19b579c_798e_11ea_80d6_485ab6c46f1arow4_col3 {\n",
       "            background-color:  #3c4ec2;\n",
       "            color:  #f1f1f1;\n",
       "        }    #T_e19b579c_798e_11ea_80d6_485ab6c46f1arow4_col4 {\n",
       "            background-color:  #b40426;\n",
       "            color:  #f1f1f1;\n",
       "        }    #T_e19b579c_798e_11ea_80d6_485ab6c46f1arow4_col5 {\n",
       "            background-color:  #3b4cc0;\n",
       "            color:  #f1f1f1;\n",
       "        }    #T_e19b579c_798e_11ea_80d6_485ab6c46f1arow5_col0 {\n",
       "            background-color:  #3d50c3;\n",
       "            color:  #f1f1f1;\n",
       "        }    #T_e19b579c_798e_11ea_80d6_485ab6c46f1arow5_col1 {\n",
       "            background-color:  #cc403a;\n",
       "            color:  #f1f1f1;\n",
       "        }    #T_e19b579c_798e_11ea_80d6_485ab6c46f1arow5_col2 {\n",
       "            background-color:  #3d50c3;\n",
       "            color:  #f1f1f1;\n",
       "        }    #T_e19b579c_798e_11ea_80d6_485ab6c46f1arow5_col3 {\n",
       "            background-color:  #d85646;\n",
       "            color:  #000000;\n",
       "        }    #T_e19b579c_798e_11ea_80d6_485ab6c46f1arow5_col4 {\n",
       "            background-color:  #3b4cc0;\n",
       "            color:  #f1f1f1;\n",
       "        }    #T_e19b579c_798e_11ea_80d6_485ab6c46f1arow5_col5 {\n",
       "            background-color:  #b40426;\n",
       "            color:  #f1f1f1;\n",
       "        }</style><table id=\"T_e19b579c_798e_11ea_80d6_485ab6c46f1a\" ><thead>    <tr>        <th class=\"blank level0\" ></th>        <th class=\"col_heading level0 col0\" >second_serve_points_won_perc</th>        <th class=\"col_heading level0 col1\" >second_serve_return_points_won_perc</th>        <th class=\"col_heading level0 col2\" >break_points_saved_perc</th>        <th class=\"col_heading level0 col3\" >break_points_converted_perc</th>        <th class=\"col_heading level0 col4\" >service_games_won_perc</th>        <th class=\"col_heading level0 col5\" >return_games_won_perc</th>    </tr></thead><tbody>\n",
       "                <tr>\n",
       "                        <th id=\"T_e19b579c_798e_11ea_80d6_485ab6c46f1alevel0_row0\" class=\"row_heading level0 row0\" >second_serve_points_won_perc</th>\n",
       "                        <td id=\"T_e19b579c_798e_11ea_80d6_485ab6c46f1arow0_col0\" class=\"data row0 col0\" >1</td>\n",
       "                        <td id=\"T_e19b579c_798e_11ea_80d6_485ab6c46f1arow0_col1\" class=\"data row0 col1\" >0.0226514</td>\n",
       "                        <td id=\"T_e19b579c_798e_11ea_80d6_485ab6c46f1arow0_col2\" class=\"data row0 col2\" >0.550621</td>\n",
       "                        <td id=\"T_e19b579c_798e_11ea_80d6_485ab6c46f1arow0_col3\" class=\"data row0 col3\" >-0.00777407</td>\n",
       "                        <td id=\"T_e19b579c_798e_11ea_80d6_485ab6c46f1arow0_col4\" class=\"data row0 col4\" >0.648911</td>\n",
       "                        <td id=\"T_e19b579c_798e_11ea_80d6_485ab6c46f1arow0_col5\" class=\"data row0 col5\" >0.000331591</td>\n",
       "            </tr>\n",
       "            <tr>\n",
       "                        <th id=\"T_e19b579c_798e_11ea_80d6_485ab6c46f1alevel0_row1\" class=\"row_heading level0 row1\" >second_serve_return_points_won_perc</th>\n",
       "                        <td id=\"T_e19b579c_798e_11ea_80d6_485ab6c46f1arow1_col0\" class=\"data row1 col0\" >0.0226514</td>\n",
       "                        <td id=\"T_e19b579c_798e_11ea_80d6_485ab6c46f1arow1_col1\" class=\"data row1 col1\" >1</td>\n",
       "                        <td id=\"T_e19b579c_798e_11ea_80d6_485ab6c46f1arow1_col2\" class=\"data row1 col2\" >-0.255199</td>\n",
       "                        <td id=\"T_e19b579c_798e_11ea_80d6_485ab6c46f1arow1_col3\" class=\"data row1 col3\" >0.775494</td>\n",
       "                        <td id=\"T_e19b579c_798e_11ea_80d6_485ab6c46f1arow1_col4\" class=\"data row1 col4\" >-0.286044</td>\n",
       "                        <td id=\"T_e19b579c_798e_11ea_80d6_485ab6c46f1arow1_col5\" class=\"data row1 col5\" >0.910777</td>\n",
       "            </tr>\n",
       "            <tr>\n",
       "                        <th id=\"T_e19b579c_798e_11ea_80d6_485ab6c46f1alevel0_row2\" class=\"row_heading level0 row2\" >break_points_saved_perc</th>\n",
       "                        <td id=\"T_e19b579c_798e_11ea_80d6_485ab6c46f1arow2_col0\" class=\"data row2 col0\" >0.550621</td>\n",
       "                        <td id=\"T_e19b579c_798e_11ea_80d6_485ab6c46f1arow2_col1\" class=\"data row2 col1\" >-0.255199</td>\n",
       "                        <td id=\"T_e19b579c_798e_11ea_80d6_485ab6c46f1arow2_col2\" class=\"data row2 col2\" >1</td>\n",
       "                        <td id=\"T_e19b579c_798e_11ea_80d6_485ab6c46f1arow2_col3\" class=\"data row2 col3\" >-0.305365</td>\n",
       "                        <td id=\"T_e19b579c_798e_11ea_80d6_485ab6c46f1arow2_col4\" class=\"data row2 col4\" >0.857108</td>\n",
       "                        <td id=\"T_e19b579c_798e_11ea_80d6_485ab6c46f1arow2_col5\" class=\"data row2 col5\" >-0.292818</td>\n",
       "            </tr>\n",
       "            <tr>\n",
       "                        <th id=\"T_e19b579c_798e_11ea_80d6_485ab6c46f1alevel0_row3\" class=\"row_heading level0 row3\" >break_points_converted_perc</th>\n",
       "                        <td id=\"T_e19b579c_798e_11ea_80d6_485ab6c46f1arow3_col0\" class=\"data row3 col0\" >-0.00777407</td>\n",
       "                        <td id=\"T_e19b579c_798e_11ea_80d6_485ab6c46f1arow3_col1\" class=\"data row3 col1\" >0.775494</td>\n",
       "                        <td id=\"T_e19b579c_798e_11ea_80d6_485ab6c46f1arow3_col2\" class=\"data row3 col2\" >-0.305365</td>\n",
       "                        <td id=\"T_e19b579c_798e_11ea_80d6_485ab6c46f1arow3_col3\" class=\"data row3 col3\" >1</td>\n",
       "                        <td id=\"T_e19b579c_798e_11ea_80d6_485ab6c46f1arow3_col4\" class=\"data row3 col4\" >-0.298424</td>\n",
       "                        <td id=\"T_e19b579c_798e_11ea_80d6_485ab6c46f1arow3_col5\" class=\"data row3 col5\" >0.860509</td>\n",
       "            </tr>\n",
       "            <tr>\n",
       "                        <th id=\"T_e19b579c_798e_11ea_80d6_485ab6c46f1alevel0_row4\" class=\"row_heading level0 row4\" >service_games_won_perc</th>\n",
       "                        <td id=\"T_e19b579c_798e_11ea_80d6_485ab6c46f1arow4_col0\" class=\"data row4 col0\" >0.648911</td>\n",
       "                        <td id=\"T_e19b579c_798e_11ea_80d6_485ab6c46f1arow4_col1\" class=\"data row4 col1\" >-0.286044</td>\n",
       "                        <td id=\"T_e19b579c_798e_11ea_80d6_485ab6c46f1arow4_col2\" class=\"data row4 col2\" >0.857108</td>\n",
       "                        <td id=\"T_e19b579c_798e_11ea_80d6_485ab6c46f1arow4_col3\" class=\"data row4 col3\" >-0.298424</td>\n",
       "                        <td id=\"T_e19b579c_798e_11ea_80d6_485ab6c46f1arow4_col4\" class=\"data row4 col4\" >1</td>\n",
       "                        <td id=\"T_e19b579c_798e_11ea_80d6_485ab6c46f1arow4_col5\" class=\"data row4 col5\" >-0.334712</td>\n",
       "            </tr>\n",
       "            <tr>\n",
       "                        <th id=\"T_e19b579c_798e_11ea_80d6_485ab6c46f1alevel0_row5\" class=\"row_heading level0 row5\" >return_games_won_perc</th>\n",
       "                        <td id=\"T_e19b579c_798e_11ea_80d6_485ab6c46f1arow5_col0\" class=\"data row5 col0\" >0.000331591</td>\n",
       "                        <td id=\"T_e19b579c_798e_11ea_80d6_485ab6c46f1arow5_col1\" class=\"data row5 col1\" >0.910777</td>\n",
       "                        <td id=\"T_e19b579c_798e_11ea_80d6_485ab6c46f1arow5_col2\" class=\"data row5 col2\" >-0.292818</td>\n",
       "                        <td id=\"T_e19b579c_798e_11ea_80d6_485ab6c46f1arow5_col3\" class=\"data row5 col3\" >0.860509</td>\n",
       "                        <td id=\"T_e19b579c_798e_11ea_80d6_485ab6c46f1arow5_col4\" class=\"data row5 col4\" >-0.334712</td>\n",
       "                        <td id=\"T_e19b579c_798e_11ea_80d6_485ab6c46f1arow5_col5\" class=\"data row5 col5\" >1</td>\n",
       "            </tr>\n",
       "    </tbody></table>"
      ],
      "text/plain": [
       "<pandas.io.formats.style.Styler at 0x24b80f20f08>"
      ]
     },
     "execution_count": 357,
     "metadata": {},
     "output_type": "execute_result"
    }
   ],
   "source": [
    "corr = df.corr()\n",
    "corr.style.background_gradient(cmap='coolwarm')"
   ]
  },
  {
   "cell_type": "markdown",
   "metadata": {
    "heading_collapsed": true
   },
   "source": [
    "## Dimension Reduction"
   ]
  },
  {
   "cell_type": "code",
   "execution_count": 358,
   "metadata": {
    "ExecuteTime": {
     "end_time": "2020-04-08T11:48:38.418825Z",
     "start_time": "2020-04-08T11:48:38.412829Z"
    },
    "hidden": true
   },
   "outputs": [],
   "source": [
    "pca = PCA(n_components = 2)\n",
    "transformed = pca.fit_transform(df)"
   ]
  },
  {
   "cell_type": "code",
   "execution_count": 308,
   "metadata": {
    "ExecuteTime": {
     "end_time": "2020-04-08T11:41:52.647525Z",
     "start_time": "2020-04-08T11:41:52.642528Z"
    },
    "hidden": true
   },
   "outputs": [
    {
     "data": {
      "text/plain": [
       "array([0.59364305, 0.31373575])"
      ]
     },
     "execution_count": 308,
     "metadata": {},
     "output_type": "execute_result"
    }
   ],
   "source": [
    "pca.explained_variance_ratio_"
   ]
  },
  {
   "cell_type": "code",
   "execution_count": 309,
   "metadata": {
    "ExecuteTime": {
     "end_time": "2020-04-08T11:41:53.483236Z",
     "start_time": "2020-04-08T11:41:53.477240Z"
    },
    "hidden": true
   },
   "outputs": [
    {
     "data": {
      "text/plain": [
       "0.9073787945347586"
      ]
     },
     "execution_count": 309,
     "metadata": {},
     "output_type": "execute_result"
    }
   ],
   "source": [
    "pca.explained_variance_ratio_.sum()"
   ]
  },
  {
   "cell_type": "code",
   "execution_count": 310,
   "metadata": {
    "ExecuteTime": {
     "end_time": "2020-04-08T11:41:59.507248Z",
     "start_time": "2020-04-08T11:41:59.497255Z"
    },
    "hidden": true
   },
   "outputs": [
    {
     "data": {
      "text/html": [
       "<div>\n",
       "<style scoped>\n",
       "    .dataframe tbody tr th:only-of-type {\n",
       "        vertical-align: middle;\n",
       "    }\n",
       "\n",
       "    .dataframe tbody tr th {\n",
       "        vertical-align: top;\n",
       "    }\n",
       "\n",
       "    .dataframe thead th {\n",
       "        text-align: right;\n",
       "    }\n",
       "</style>\n",
       "<table border=\"1\" class=\"dataframe\">\n",
       "  <thead>\n",
       "    <tr style=\"text-align: right;\">\n",
       "      <th></th>\n",
       "      <th>PC1</th>\n",
       "      <th>PC2</th>\n",
       "    </tr>\n",
       "  </thead>\n",
       "  <tbody>\n",
       "    <tr>\n",
       "      <td>0</td>\n",
       "      <td>0.072680</td>\n",
       "      <td>0.151586</td>\n",
       "    </tr>\n",
       "    <tr>\n",
       "      <td>1</td>\n",
       "      <td>-0.008368</td>\n",
       "      <td>0.198511</td>\n",
       "    </tr>\n",
       "    <tr>\n",
       "      <td>2</td>\n",
       "      <td>-0.002521</td>\n",
       "      <td>0.175113</td>\n",
       "    </tr>\n",
       "    <tr>\n",
       "      <td>3</td>\n",
       "      <td>-0.068861</td>\n",
       "      <td>0.097522</td>\n",
       "    </tr>\n",
       "    <tr>\n",
       "      <td>4</td>\n",
       "      <td>-0.039391</td>\n",
       "      <td>0.135329</td>\n",
       "    </tr>\n",
       "  </tbody>\n",
       "</table>\n",
       "</div>"
      ],
      "text/plain": [
       "        PC1       PC2\n",
       "0  0.072680  0.151586\n",
       "1 -0.008368  0.198511\n",
       "2 -0.002521  0.175113\n",
       "3 -0.068861  0.097522\n",
       "4 -0.039391  0.135329"
      ]
     },
     "execution_count": 310,
     "metadata": {},
     "output_type": "execute_result"
    }
   ],
   "source": [
    "pca_df = pd.DataFrame(transformed, columns = ['PC1', 'PC2'])\n",
    "pca_df.head()"
   ]
  },
  {
   "cell_type": "code",
   "execution_count": 311,
   "metadata": {
    "ExecuteTime": {
     "end_time": "2020-04-08T11:42:01.218986Z",
     "start_time": "2020-04-08T11:42:01.213990Z"
    },
    "hidden": true
   },
   "outputs": [
    {
     "data": {
      "text/plain": [
       "array([0.59364305, 0.90737879])"
      ]
     },
     "execution_count": 311,
     "metadata": {},
     "output_type": "execute_result"
    }
   ],
   "source": [
    "np.cumsum(pca.explained_variance_ratio_)"
   ]
  },
  {
   "cell_type": "markdown",
   "metadata": {},
   "source": [
    "# Final Model (Incomplete Section)"
   ]
  },
  {
   "cell_type": "code",
   "execution_count": 365,
   "metadata": {
    "ExecuteTime": {
     "end_time": "2020-04-08T12:00:12.220714Z",
     "start_time": "2020-04-08T12:00:12.200727Z"
    }
   },
   "outputs": [],
   "source": [
    "# Reload & Clean Original CSV\n",
    "\n",
    "df = pd.read_csv('player_stats_1990-2019.csv')\n",
    "\n",
    "# Check for missing values\n",
    "df.isna().sum()\n",
    "\n",
    "# Convert all percentages into 0.xx\n",
    "for i in df.columns[2:]:\n",
    "    df[i] = df[i].map(lambda x: x/100)\n",
    "    \n",
    "# Save player information\n",
    "df_index = df.drop(df.columns[2:], axis= 1)"
   ]
  },
  {
   "cell_type": "code",
   "execution_count": 366,
   "metadata": {
    "ExecuteTime": {
     "end_time": "2020-04-08T12:01:27.286545Z",
     "start_time": "2020-04-08T12:01:27.180580Z"
    }
   },
   "outputs": [],
   "source": [
    "df.drop(['slug', 'player_id'], axis = 1, inplace = True)\n",
    "\n",
    "# Create new columns for ratios\n",
    "df['service_return_games_ratio'] = np.nan\n",
    "df['service_return_points_ratio'] = np.nan\n",
    "\n",
    "# Apply formula to populate both columns\n",
    "for i in range(0, len(df)):\n",
    "    df['service_return_games_ratio'][i] = \\\n",
    "    df['service_games_won_perc'][i] / df['return_games_won_perc'][i]\n",
    "    \n",
    "    df['service_return_points_ratio'][i] = \\\n",
    "    df['service_points_won_perc'][i] / df['return_points_won_perc'][i]\n",
    "\n",
    "# Drop other columns\n",
    "df_test2 = df.drop(df.columns[:-2], axis = 1)"
   ]
  },
  {
   "cell_type": "code",
   "execution_count": 367,
   "metadata": {
    "ExecuteTime": {
     "end_time": "2020-04-08T12:01:35.633113Z",
     "start_time": "2020-04-08T12:01:35.595151Z"
    },
    "scrolled": true
   },
   "outputs": [
    {
     "data": {
      "text/plain": [
       "KMeans(algorithm='auto', copy_x=True, init='k-means++', max_iter=300,\n",
       "       n_clusters=2, n_init=10, n_jobs=None, precompute_distances='auto',\n",
       "       random_state=42, tol=0.0001, verbose=0)"
      ]
     },
     "execution_count": 367,
     "metadata": {},
     "output_type": "execute_result"
    }
   ],
   "source": [
    "k_means2 = KMeans(n_clusters=2, random_state = 42)\n",
    "k_means2.fit(df_test2)"
   ]
  },
  {
   "cell_type": "code",
   "execution_count": 368,
   "metadata": {
    "ExecuteTime": {
     "end_time": "2020-04-08T12:01:36.339596Z",
     "start_time": "2020-04-08T12:01:36.323606Z"
    }
   },
   "outputs": [
    {
     "name": "stdout",
     "output_type": "stream",
     "text": [
      "Silhouette Score: 0.621306464783077\n",
      "Calinski-Harabasz Score: 618.4429791660715\n"
     ]
    }
   ],
   "source": [
    "labels2 = k_means2.labels_\n",
    "\n",
    "print(f\"Silhouette Score: {metrics.silhouette_score(df_test2, labels2, metric='euclidean')}\")\n",
    "print(f\"Calinski-Harabasz Score: {metrics.calinski_harabasz_score(df_test2, labels2)}\")  "
   ]
  },
  {
   "cell_type": "markdown",
   "metadata": {
    "heading_collapsed": true
   },
   "source": [
    "## Min-Max Scaled"
   ]
  },
  {
   "cell_type": "code",
   "execution_count": 371,
   "metadata": {
    "ExecuteTime": {
     "end_time": "2020-04-08T12:02:05.161509Z",
     "start_time": "2020-04-08T12:02:05.140510Z"
    },
    "hidden": true
   },
   "outputs": [
    {
     "data": {
      "text/plain": [
       "KMeans(algorithm='auto', copy_x=True, init='k-means++', max_iter=300,\n",
       "       n_clusters=2, n_init=10, n_jobs=None, precompute_distances='auto',\n",
       "       random_state=None, tol=0.0001, verbose=0)"
      ]
     },
     "execution_count": 371,
     "metadata": {},
     "output_type": "execute_result"
    }
   ],
   "source": [
    "df_test2_1 = df_to_array_scaled(df_test2)\n",
    "\n",
    "k_means2_1 = KMeans(n_clusters=2)\n",
    "k_means2_1.fit(df_test2_1)"
   ]
  },
  {
   "cell_type": "code",
   "execution_count": 372,
   "metadata": {
    "ExecuteTime": {
     "end_time": "2020-04-08T12:03:01.108323Z",
     "start_time": "2020-04-08T12:03:01.090338Z"
    },
    "hidden": true,
    "scrolled": true
   },
   "outputs": [
    {
     "name": "stdout",
     "output_type": "stream",
     "text": [
      "Silhouette Score: 0.8778753457486103\n",
      "Calinski-Harabasz Score: 5703.9270553442375\n"
     ]
    }
   ],
   "source": [
    "labels2_1 = k_means2_1.labels_\n",
    "\n",
    "print(f\"Silhouette Score: {metrics.silhouette_score(df_test2_1, labels2_1, metric='euclidean')}\")\n",
    "print(f\"Calinski-Harabasz Score: {metrics.calinski_harabasz_score(df_test2_1, labels2_1)}\")"
   ]
  },
  {
   "cell_type": "code",
   "execution_count": 375,
   "metadata": {
    "ExecuteTime": {
     "end_time": "2020-04-08T12:08:38.421147Z",
     "start_time": "2020-04-08T12:08:38.417137Z"
    },
    "hidden": true
   },
   "outputs": [],
   "source": [
    "# Convert array back to dataframe\n",
    "df_final = pd.DataFrame(df_test2_1, columns = ['service_return_games_ratio', 'service_return_points_ratio'])"
   ]
  },
  {
   "cell_type": "code",
   "execution_count": 377,
   "metadata": {
    "ExecuteTime": {
     "end_time": "2020-04-08T12:09:00.510159Z",
     "start_time": "2020-04-08T12:09:00.504162Z"
    },
    "hidden": true
   },
   "outputs": [],
   "source": [
    "# Assigning labels\n",
    "df_final['group'] = k_means2_1.predict(df_test2_1)"
   ]
  },
  {
   "cell_type": "code",
   "execution_count": 378,
   "metadata": {
    "ExecuteTime": {
     "end_time": "2020-04-08T12:09:12.178485Z",
     "start_time": "2020-04-08T12:09:12.163499Z"
    },
    "hidden": true
   },
   "outputs": [
    {
     "data": {
      "text/html": [
       "<div>\n",
       "<style scoped>\n",
       "    .dataframe tbody tr th:only-of-type {\n",
       "        vertical-align: middle;\n",
       "    }\n",
       "\n",
       "    .dataframe tbody tr th {\n",
       "        vertical-align: top;\n",
       "    }\n",
       "\n",
       "    .dataframe thead th {\n",
       "        text-align: right;\n",
       "    }\n",
       "</style>\n",
       "<table border=\"1\" class=\"dataframe\">\n",
       "  <thead>\n",
       "    <tr style=\"text-align: right;\">\n",
       "      <th></th>\n",
       "      <th>service_return_games_ratio</th>\n",
       "      <th>service_return_points_ratio</th>\n",
       "      <th>group</th>\n",
       "    </tr>\n",
       "  </thead>\n",
       "  <tbody>\n",
       "    <tr>\n",
       "      <td>0</td>\n",
       "      <td>0.160751</td>\n",
       "      <td>0.327103</td>\n",
       "      <td>0</td>\n",
       "    </tr>\n",
       "    <tr>\n",
       "      <td>1</td>\n",
       "      <td>0.067823</td>\n",
       "      <td>0.205607</td>\n",
       "      <td>0</td>\n",
       "    </tr>\n",
       "    <tr>\n",
       "      <td>2</td>\n",
       "      <td>0.086980</td>\n",
       "      <td>0.205607</td>\n",
       "      <td>0</td>\n",
       "    </tr>\n",
       "    <tr>\n",
       "      <td>3</td>\n",
       "      <td>0.066214</td>\n",
       "      <td>0.130841</td>\n",
       "      <td>0</td>\n",
       "    </tr>\n",
       "    <tr>\n",
       "      <td>4</td>\n",
       "      <td>0.071833</td>\n",
       "      <td>0.168224</td>\n",
       "      <td>0</td>\n",
       "    </tr>\n",
       "    <tr>\n",
       "      <td>...</td>\n",
       "      <td>...</td>\n",
       "      <td>...</td>\n",
       "      <td>...</td>\n",
       "    </tr>\n",
       "    <tr>\n",
       "      <td>483</td>\n",
       "      <td>0.267406</td>\n",
       "      <td>0.315558</td>\n",
       "      <td>0</td>\n",
       "    </tr>\n",
       "    <tr>\n",
       "      <td>484</td>\n",
       "      <td>0.694370</td>\n",
       "      <td>0.548689</td>\n",
       "      <td>1</td>\n",
       "    </tr>\n",
       "    <tr>\n",
       "      <td>485</td>\n",
       "      <td>0.197552</td>\n",
       "      <td>0.239875</td>\n",
       "      <td>0</td>\n",
       "    </tr>\n",
       "    <tr>\n",
       "      <td>486</td>\n",
       "      <td>0.222941</td>\n",
       "      <td>0.370717</td>\n",
       "      <td>0</td>\n",
       "    </tr>\n",
       "    <tr>\n",
       "      <td>487</td>\n",
       "      <td>0.279682</td>\n",
       "      <td>0.343925</td>\n",
       "      <td>0</td>\n",
       "    </tr>\n",
       "  </tbody>\n",
       "</table>\n",
       "<p>488 rows × 3 columns</p>\n",
       "</div>"
      ],
      "text/plain": [
       "     service_return_games_ratio  service_return_points_ratio  group\n",
       "0                      0.160751                     0.327103      0\n",
       "1                      0.067823                     0.205607      0\n",
       "2                      0.086980                     0.205607      0\n",
       "3                      0.066214                     0.130841      0\n",
       "4                      0.071833                     0.168224      0\n",
       "..                          ...                          ...    ...\n",
       "483                    0.267406                     0.315558      0\n",
       "484                    0.694370                     0.548689      1\n",
       "485                    0.197552                     0.239875      0\n",
       "486                    0.222941                     0.370717      0\n",
       "487                    0.279682                     0.343925      0\n",
       "\n",
       "[488 rows x 3 columns]"
      ]
     },
     "execution_count": 378,
     "metadata": {},
     "output_type": "execute_result"
    }
   ],
   "source": [
    "df_final"
   ]
  },
  {
   "cell_type": "code",
   "execution_count": 382,
   "metadata": {
    "ExecuteTime": {
     "end_time": "2020-04-08T12:09:30.438978Z",
     "start_time": "2020-04-08T12:09:30.430998Z"
    },
    "hidden": true
   },
   "outputs": [
    {
     "data": {
      "text/plain": [
       "0    387\n",
       "1    101\n",
       "Name: group, dtype: int64"
      ]
     },
     "execution_count": 382,
     "metadata": {},
     "output_type": "execute_result"
    }
   ],
   "source": [
    "df_final['group'].value_counts()"
   ]
  },
  {
   "cell_type": "code",
   "execution_count": 383,
   "metadata": {
    "ExecuteTime": {
     "end_time": "2020-04-08T12:10:17.801110Z",
     "start_time": "2020-04-08T12:10:17.445300Z"
    },
    "hidden": true
   },
   "outputs": [
    {
     "data": {
      "text/plain": [
       "<matplotlib.axes._subplots.AxesSubplot at 0x24b80e59848>"
      ]
     },
     "execution_count": 383,
     "metadata": {},
     "output_type": "execute_result"
    },
    {
     "data": {
      "image/png": "[encoded data removed]",
      "text/plain": [
       "<Figure size 432x288 with 1 Axes>"
      ]
     },
     "metadata": {},
     "output_type": "display_data"
    }
   ],
   "source": [
    "sns.scatterplot(y = df_test2[df_test2.columns[0]], x= df_test2[df_test2.columns[1]], hue = 'group', data = df_test2)"
   ]
  },
  {
   "cell_type": "code",
   "execution_count": null,
   "metadata": {
    "hidden": true
   },
   "outputs": [],
   "source": []
  }
 ],
 "metadata": {
  "kernelspec": {
   "display_name": "Python 3",
   "language": "python",
   "name": "python3"
  },
  "language_info": {
   "codemirror_mode": {
    "name": "ipython",
    "version": 3
   },
   "file_extension": ".py",
   "mimetype": "text/x-python",
   "name": "python",
   "nbconvert_exporter": "python",
   "pygments_lexer": "ipython3",
   "version": "3.7.4"
  },
  "toc": {
   "base_numbering": 1,
   "nav_menu": {},
   "number_sections": true,
   "sideBar": true,
   "skip_h1_title": false,
   "title_cell": "Table of Contents",
   "title_sidebar": "Contents",
   "toc_cell": false,
   "toc_position": {},
   "toc_section_display": true,
   "toc_window_display": false
  }
 },
 "nbformat": 4,
 "nbformat_minor": 2
}
